{
 "cells": [
  {
   "cell_type": "markdown",
   "metadata": {},
   "source": [
    "<font size=\"+12\"><center>\n",
    "    MVPA analysis: SVM\n",
    "</font></center>\n",
    "\n",
    "Author:\n",
    "Egor Ananyev"
   ]
  },
  {
   "cell_type": "markdown",
   "metadata": {
    "toc-hr-collapsed": true
   },
   "source": [
    "# Preparation"
   ]
  },
  {
   "cell_type": "markdown",
   "metadata": {},
   "source": [
    "## Loading packages"
   ]
  },
  {
   "cell_type": "code",
   "execution_count": 74,
   "metadata": {},
   "outputs": [],
   "source": [
    "%matplotlib qt\n",
    "import numpy as np\n",
    "import matplotlib.pyplot as plt\n",
    "import mne\n",
    "import pandas as pd\n",
    "import os"
   ]
  },
  {
   "cell_type": "code",
   "execution_count": 75,
   "metadata": {},
   "outputs": [],
   "source": [
    "mne.set_log_level('warning')  # less verbose output"
   ]
  },
  {
   "cell_type": "markdown",
   "metadata": {},
   "source": [
    "## Setting parameters"
   ]
  },
  {
   "cell_type": "code",
   "execution_count": 76,
   "metadata": {},
   "outputs": [],
   "source": [
    "interactive = False  # Whether to render interactive figures such as channel plots\n",
    "# ...should be set to True on first pass\n",
    "\n",
    "debug = False\n",
    "\n",
    "cur_subj = 1\n",
    "numof_runs = 7"
   ]
  },
  {
   "cell_type": "markdown",
   "metadata": {},
   "source": [
    "## Loading evoked data"
   ]
  },
  {
   "cell_type": "code",
   "execution_count": 77,
   "metadata": {},
   "outputs": [
    {
     "name": "stdout",
     "output_type": "stream",
     "text": [
      "E:\\meg\\derivatives\\meg_derivatives\\sub-01\\ses-meg\\meg\\sub-01_ses-meg_experimental_run-01_proc-sss_epo.fif\n",
      "E:\\meg\\derivatives\\meg_derivatives\\sub-01\\ses-meg\\meg\\sub-01_ses-meg_experimental_run-02_proc-sss_epo.fif\n",
      "E:\\meg\\derivatives\\meg_derivatives\\sub-01\\ses-meg\\meg\\sub-01_ses-meg_experimental_run-03_proc-sss_epo.fif\n",
      "E:\\meg\\derivatives\\meg_derivatives\\sub-01\\ses-meg\\meg\\sub-01_ses-meg_experimental_run-04_proc-sss_epo.fif\n",
      "E:\\meg\\derivatives\\meg_derivatives\\sub-01\\ses-meg\\meg\\sub-01_ses-meg_experimental_run-05_proc-sss_epo.fif\n",
      "E:\\meg\\derivatives\\meg_derivatives\\sub-01\\ses-meg\\meg\\sub-01_ses-meg_experimental_run-06_proc-sss_epo.fif\n",
      "E:\\meg\\derivatives\\meg_derivatives\\sub-01\\ses-meg\\meg\\sub-01_ses-meg_experimental_run-07_proc-sss_epo.fif\n"
     ]
    }
   ],
   "source": [
    "# data_path = os.path.expanduser(\"C:\\\\Users\\\\egora\\\\Downloads\\\\meg\\\\\")\n",
    "data_path = os.path.expanduser('E:\\\\meg\\\\')\n",
    "\n",
    "cur_subj_str = str(cur_subj).zfill(2)\n",
    "\n",
    "epochs_list = []\n",
    "\n",
    "for cur_run in range(numof_runs):\n",
    "    cur_run_str = str(cur_run+1).zfill(2)\n",
    "    fname = os.path.join(data_path,\n",
    "                             'derivatives\\\\meg_derivatives\\\\sub-' + cur_subj_str + '\\\\ses-meg\\\\meg\\\\sub-' + \\\n",
    "                             cur_subj_str + '_ses-meg_experimental_run-' + cur_run_str + '_proc-sss_epo.fif')\n",
    "    print(fname)\n",
    "    epochs_run = mne.read_epochs(fname)\n",
    "    # example append: https://www.programcreek.com/python/example/92634/mne.Epochs\n",
    "    epochs_list.append(epochs_run)"
   ]
  },
  {
   "cell_type": "code",
   "execution_count": 78,
   "metadata": {},
   "outputs": [
    {
     "name": "stdout",
     "output_type": "stream",
     "text": [
      "<Transform  |  MEG device->head>\n",
      "[[ 0.99762779 -0.05008168 -0.04722238  0.00244267]\n",
      " [ 0.04592873  0.99529868 -0.08526584 -0.02767636]\n",
      " [ 0.05127066  0.08289474  0.99523813  0.04869793]\n",
      " [ 0.          0.          0.          1.        ]]\n",
      "<Transform  |  MEG device->head>\n",
      "[[ 0.99810284 -0.04287035 -0.0441924   0.0025069 ]\n",
      " [ 0.04004742  0.99721628 -0.06289711 -0.02748199]\n",
      " [ 0.0467658   0.06100798  0.99704117  0.05019899]\n",
      " [ 0.          0.          0.          1.        ]]\n",
      "<Transform  |  MEG device->head>\n",
      "[[ 0.99834144 -0.03760644 -0.04358925  0.00234504]\n",
      " [ 0.03564318  0.99835205 -0.04497451 -0.02764969]\n",
      " [ 0.04520874  0.04334626  0.99803674  0.05217394]\n",
      " [ 0.          0.          0.          1.        ]]\n",
      "<Transform  |  MEG device->head>\n",
      "[[ 0.99837339 -0.03827842 -0.04224655  0.00280504]\n",
      " [ 0.03683717  0.99872935 -0.03438213 -0.02761227]\n",
      " [ 0.04350897  0.03276998  0.99851513  0.05331092]\n",
      " [ 0.          0.          0.          1.        ]]\n",
      "<Transform  |  MEG device->head>\n",
      "[[ 0.99817234 -0.0388386  -0.04629396  0.00263781]\n",
      " [ 0.03757726  0.99890643 -0.02781229 -0.02745434]\n",
      " [ 0.04732353  0.02602187  0.99854046  0.0538833 ]\n",
      " [ 0.          0.          0.          1.        ]]\n",
      "<Transform  |  MEG device->head>\n",
      "[[ 0.99820471 -0.0393086  -0.04519101  0.002793  ]\n",
      " [ 0.0381976   0.99895275 -0.02519105 -0.02741794]\n",
      " [ 0.0461339   0.02341964  0.9986608   0.05414942]\n",
      " [ 0.          0.          0.          1.        ]]\n",
      "<Transform  |  MEG device->head>\n",
      "[[ 0.99855602 -0.03288364 -0.0424805   0.00265998]\n",
      " [ 0.03193986  0.99923182 -0.02270794 -0.02764696]\n",
      " [ 0.04319458  0.02131832  0.99883926  0.05456957]\n",
      " [ 0.          0.          0.          1.        ]]\n"
     ]
    }
   ],
   "source": [
    "for i in range(len(epochs_list)):\n",
    "    print(epochs_list[i].info['dev_head_t'])"
   ]
  },
  {
   "cell_type": "code",
   "execution_count": 79,
   "metadata": {},
   "outputs": [
    {
     "data": {
      "text/plain": [
       "<Info | 28 non-empty fields\n",
       "    acq_pars : str | 25272 items\n",
       "    bads : list | 0 items\n",
       "    ch_names : list | EOG001, EOG002, MEG0111, MEG0112, MEG0113, MEG0121, ...\n",
       "    chs : list | 308 items (EOG: 2, MAG: 102, GRAD: 204)\n",
       "    comps : list | 0 items\n",
       "    custom_ref_applied : bool | False\n",
       "    description : str | 34 items\n",
       "    dev_head_t : Transform | 3 items\n",
       "    dig : Digitization | 149 items (3 Cardinal, 4 HPI, 142 Extra)\n",
       "    events : list | 2 items\n",
       "    experimenter : str | 17 items\n",
       "    file_id : dict | 4 items\n",
       "    gantry_angle : float | 68.0\n",
       "    highpass : float | 0.10000000149011612 Hz\n",
       "    hpi_meas : list | 1 items\n",
       "    hpi_results : list | 1 items\n",
       "    hpi_subsystem : dict | 2 items\n",
       "    line_freq : float | 50.0\n",
       "    lowpass : float | 80.0 Hz\n",
       "    meas_date : tuple | 2020-02-05 07:22:14 GMT\n",
       "    meas_id : dict | 4 items\n",
       "    nchan : int | 308\n",
       "    proc_history : list | 2 items\n",
       "    proj_id : ndarray | 1 items\n",
       "    proj_name : str | 24 items\n",
       "    projs : list | 0 items\n",
       "    sfreq : float | 300.0 Hz\n",
       "    subject_info : dict | 8 items\n",
       "    acq_stim : NoneType\n",
       "    ctf_head_t : NoneType\n",
       "    dev_ctf_t : NoneType\n",
       "    device_info : NoneType\n",
       "    helium_info : NoneType\n",
       "    kit_system_id : NoneType\n",
       "    utc_offset : NoneType\n",
       "    xplotter_layout : NoneType\n",
       ">"
      ]
     },
     "execution_count": 79,
     "metadata": {},
     "output_type": "execute_result"
    }
   ],
   "source": [
    "epochs_list[0].info"
   ]
  },
  {
   "cell_type": "code",
   "execution_count": 80,
   "metadata": {},
   "outputs": [],
   "source": [
    "# epochs = mne.epochs.concatenate_epochs(epochs_list)  # this won't work until the epochs have the same head position coordinates"
   ]
  },
  {
   "cell_type": "markdown",
   "metadata": {},
   "source": [
    "The path to store MVPA-related data and visualization."
   ]
  },
  {
   "cell_type": "code",
   "execution_count": 81,
   "metadata": {},
   "outputs": [],
   "source": [
    "mvpa_path = os.path.join(data_path, 'derivatives\\\\meg_derivatives\\\\sub-' + cur_subj_str + '\\\\ses-meg\\\\meg-mvpa\\\\')\n",
    "mvpa_fname = os.path.join(mvpa_path, 'sub-' + cur_subj_str + '_run-' + cur_run_str)"
   ]
  },
  {
   "cell_type": "markdown",
   "metadata": {},
   "source": [
    "## Examining raw data"
   ]
  },
  {
   "cell_type": "code",
   "execution_count": 82,
   "metadata": {},
   "outputs": [],
   "source": [
    "%matplotlib qt\n",
    "if interactive:\n",
    "    raw.plot()"
   ]
  },
  {
   "cell_type": "code",
   "execution_count": 83,
   "metadata": {},
   "outputs": [
    {
     "data": {
      "image/png": "[encoded data removed]",
      "text/plain": [
       "<Figure size 432x288 with 1 Axes>"
      ]
     },
     "metadata": {
      "needs_background": "light"
     },
     "output_type": "display_data"
    }
   ],
   "source": [
    "%matplotlib inline\n",
    "epochs_list[0].plot_drop_log();"
   ]
  },
  {
   "cell_type": "markdown",
   "metadata": {},
   "source": [
    "# Support Vector Machines"
   ]
  },
  {
   "cell_type": "code",
   "execution_count": 84,
   "metadata": {},
   "outputs": [],
   "source": [
    "from sklearn import svm"
   ]
  },
  {
   "cell_type": "markdown",
   "metadata": {},
   "source": [
    "## Logic of SVM-based classification"
   ]
  },
  {
   "cell_type": "code",
   "execution_count": 85,
   "metadata": {},
   "outputs": [
    {
     "data": {
      "text/plain": [
       "array([1])"
      ]
     },
     "execution_count": 85,
     "metadata": {},
     "output_type": "execute_result"
    }
   ],
   "source": [
    "## In principle (from https://scikit-learn.org/stable/modules/svm.html):\n",
    "X = [[0, 0], [1, 1], [2, 2]]  # channel measurements [n_features] on all but one trial [n_samples] at time t\n",
    "y = [0, 1, 1]                 # stimulus orientation with length [n_samples]\n",
    "clf = svm.LinearSVC()         # linear Support Vector Classification\n",
    "clf.fit(X, y)                 # model fitting\n",
    "clf.predict([[3, 3]])         # model testing on the remaining trial at time t"
   ]
  },
  {
   "cell_type": "code",
   "execution_count": 86,
   "metadata": {},
   "outputs": [
    {
     "data": {
      "text/plain": [
       "(3, 2)"
      ]
     },
     "execution_count": 86,
     "metadata": {},
     "output_type": "execute_result"
    }
   ],
   "source": [
    "np.shape(X)  # array of size [n_samples, n_features]"
   ]
  },
  {
   "cell_type": "markdown",
   "metadata": {},
   "source": [
    "## Assuming independent _t_"
   ]
  },
  {
   "cell_type": "markdown",
   "metadata": {},
   "source": [
    "## Setting up routine for time _t_"
   ]
  },
  {
   "cell_type": "code",
   "execution_count": 112,
   "metadata": {},
   "outputs": [],
   "source": [
    "epochs = epochs_list[0]  # TEMP\n",
    "epochs = epochs.pick_types(meg=True)"
   ]
  },
  {
   "cell_type": "code",
   "execution_count": 113,
   "metadata": {},
   "outputs": [
    {
     "name": "stdout",
     "output_type": "stream",
     "text": [
      "(271,)\n"
     ]
    }
   ],
   "source": [
    "all_times = np.round(epochs.times * 1000).astype(int)\n",
    "# print(all_times)\n",
    "print(np.shape(all_times))"
   ]
  },
  {
   "cell_type": "code",
   "execution_count": 114,
   "metadata": {},
   "outputs": [],
   "source": [
    "all_durs = [1, 2, 3, 4]\n",
    "all_conts = [17, 33, 50, 100]"
   ]
  },
  {
   "cell_type": "code",
   "execution_count": 60,
   "metadata": {},
   "outputs": [],
   "source": [
    "def run_svm(numof_epochs_, X_, y_):\n",
    "    preds = []\n",
    "    for cur_test_epoch in range(numof_epochs_):\n",
    "        test_epoch = [X_[cur_test_epoch, :]]\n",
    "        test_class = y_[cur_test_epoch]\n",
    "        train_epochs = X_[np.arange(numof_epochs_)!=cur_test_epoch, :]\n",
    "        train_classes = y_[np.arange(numof_epochs_)!=cur_test_epoch]\n",
    "        clf = svm.LinearSVC()\n",
    "        clf.fit(train_epochs, train_classes)\n",
    "        preds.append(clf.predict(test_epoch).item(0))\n",
    "    acc_ = sum(y_ == np.array(preds)) / numof_epochs_\n",
    "    return acc_"
   ]
  },
  {
   "cell_type": "code",
   "execution_count": 144,
   "metadata": {},
   "outputs": [],
   "source": [
    "def iter_times(all_times_, epochs_df_, cur_cond_str_, numof_epochs_):\n",
    "    acc_ = []\n",
    "    for t in all_times_:\n",
    "        X_right = epochs_df_.loc[('right/'+cur_cond_str_, slice(None), t), :].values\n",
    "        X_left = epochs_df_.loc[('left/'+cur_cond_str_, slice(None), t), :].values\n",
    "        X = np.concatenate((X_right, X_left))\n",
    "    #     print(np.shape(X))\n",
    "        y = np.concatenate((np.repeat(1, len(X_right)), np.repeat(0, len(X_left))))\n",
    "    #     print(np.shape(y))\n",
    "        acc_.append(run_svm(numof_epochs_, X, y))\n",
    "    return acc_"
   ]
  },
  {
   "cell_type": "code",
   "execution_count": 145,
   "metadata": {},
   "outputs": [
    {
     "data": {
      "text/html": [
       "<div>\n",
       "<style scoped>\n",
       "    .dataframe tbody tr th:only-of-type {\n",
       "        vertical-align: middle;\n",
       "    }\n",
       "\n",
       "    .dataframe tbody tr th {\n",
       "        vertical-align: top;\n",
       "    }\n",
       "\n",
       "    .dataframe thead th {\n",
       "        text-align: right;\n",
       "    }\n",
       "</style>\n",
       "<table border=\"1\" class=\"dataframe\">\n",
       "  <thead>\n",
       "    <tr style=\"text-align: right;\">\n",
       "      <th></th>\n",
       "      <th></th>\n",
       "      <th>-300</th>\n",
       "      <th>-297</th>\n",
       "      <th>-293</th>\n",
       "      <th>-290</th>\n",
       "      <th>-287</th>\n",
       "      <th>-283</th>\n",
       "      <th>-280</th>\n",
       "      <th>-277</th>\n",
       "      <th>-273</th>\n",
       "      <th>-270</th>\n",
       "      <th>...</th>\n",
       "      <th>570</th>\n",
       "      <th>573</th>\n",
       "      <th>577</th>\n",
       "      <th>580</th>\n",
       "      <th>583</th>\n",
       "      <th>587</th>\n",
       "      <th>590</th>\n",
       "      <th>593</th>\n",
       "      <th>597</th>\n",
       "      <th>600</th>\n",
       "    </tr>\n",
       "    <tr>\n",
       "      <th>dur</th>\n",
       "      <th>cont</th>\n",
       "      <th></th>\n",
       "      <th></th>\n",
       "      <th></th>\n",
       "      <th></th>\n",
       "      <th></th>\n",
       "      <th></th>\n",
       "      <th></th>\n",
       "      <th></th>\n",
       "      <th></th>\n",
       "      <th></th>\n",
       "      <th></th>\n",
       "      <th></th>\n",
       "      <th></th>\n",
       "      <th></th>\n",
       "      <th></th>\n",
       "      <th></th>\n",
       "      <th></th>\n",
       "      <th></th>\n",
       "      <th></th>\n",
       "      <th></th>\n",
       "      <th></th>\n",
       "    </tr>\n",
       "  </thead>\n",
       "  <tbody>\n",
       "    <tr>\n",
       "      <th rowspan=\"4\" valign=\"top\">1</th>\n",
       "      <th>17</th>\n",
       "      <td>0.0</td>\n",
       "      <td>0.0</td>\n",
       "      <td>0.0</td>\n",
       "      <td>0.0</td>\n",
       "      <td>0.0</td>\n",
       "      <td>0.0</td>\n",
       "      <td>0.0</td>\n",
       "      <td>0.0</td>\n",
       "      <td>0.0</td>\n",
       "      <td>0.0</td>\n",
       "      <td>...</td>\n",
       "      <td>0.0</td>\n",
       "      <td>0.0</td>\n",
       "      <td>0.0</td>\n",
       "      <td>0.0</td>\n",
       "      <td>0.0</td>\n",
       "      <td>0.0</td>\n",
       "      <td>0.0</td>\n",
       "      <td>0.0</td>\n",
       "      <td>0.0</td>\n",
       "      <td>0.0</td>\n",
       "    </tr>\n",
       "    <tr>\n",
       "      <th>33</th>\n",
       "      <td>0.0</td>\n",
       "      <td>0.0</td>\n",
       "      <td>0.0</td>\n",
       "      <td>0.0</td>\n",
       "      <td>0.0</td>\n",
       "      <td>0.0</td>\n",
       "      <td>0.0</td>\n",
       "      <td>0.0</td>\n",
       "      <td>0.0</td>\n",
       "      <td>0.0</td>\n",
       "      <td>...</td>\n",
       "      <td>0.0</td>\n",
       "      <td>0.0</td>\n",
       "      <td>0.0</td>\n",
       "      <td>0.0</td>\n",
       "      <td>0.0</td>\n",
       "      <td>0.0</td>\n",
       "      <td>0.0</td>\n",
       "      <td>0.0</td>\n",
       "      <td>0.0</td>\n",
       "      <td>0.0</td>\n",
       "    </tr>\n",
       "    <tr>\n",
       "      <th>50</th>\n",
       "      <td>0.0</td>\n",
       "      <td>0.0</td>\n",
       "      <td>0.0</td>\n",
       "      <td>0.0</td>\n",
       "      <td>0.0</td>\n",
       "      <td>0.0</td>\n",
       "      <td>0.0</td>\n",
       "      <td>0.0</td>\n",
       "      <td>0.0</td>\n",
       "      <td>0.0</td>\n",
       "      <td>...</td>\n",
       "      <td>0.0</td>\n",
       "      <td>0.0</td>\n",
       "      <td>0.0</td>\n",
       "      <td>0.0</td>\n",
       "      <td>0.0</td>\n",
       "      <td>0.0</td>\n",
       "      <td>0.0</td>\n",
       "      <td>0.0</td>\n",
       "      <td>0.0</td>\n",
       "      <td>0.0</td>\n",
       "    </tr>\n",
       "    <tr>\n",
       "      <th>100</th>\n",
       "      <td>0.0</td>\n",
       "      <td>0.0</td>\n",
       "      <td>0.0</td>\n",
       "      <td>0.0</td>\n",
       "      <td>0.0</td>\n",
       "      <td>0.0</td>\n",
       "      <td>0.0</td>\n",
       "      <td>0.0</td>\n",
       "      <td>0.0</td>\n",
       "      <td>0.0</td>\n",
       "      <td>...</td>\n",
       "      <td>0.0</td>\n",
       "      <td>0.0</td>\n",
       "      <td>0.0</td>\n",
       "      <td>0.0</td>\n",
       "      <td>0.0</td>\n",
       "      <td>0.0</td>\n",
       "      <td>0.0</td>\n",
       "      <td>0.0</td>\n",
       "      <td>0.0</td>\n",
       "      <td>0.0</td>\n",
       "    </tr>\n",
       "    <tr>\n",
       "      <th>2</th>\n",
       "      <th>17</th>\n",
       "      <td>0.0</td>\n",
       "      <td>0.0</td>\n",
       "      <td>0.0</td>\n",
       "      <td>0.0</td>\n",
       "      <td>0.0</td>\n",
       "      <td>0.0</td>\n",
       "      <td>0.0</td>\n",
       "      <td>0.0</td>\n",
       "      <td>0.0</td>\n",
       "      <td>0.0</td>\n",
       "      <td>...</td>\n",
       "      <td>0.0</td>\n",
       "      <td>0.0</td>\n",
       "      <td>0.0</td>\n",
       "      <td>0.0</td>\n",
       "      <td>0.0</td>\n",
       "      <td>0.0</td>\n",
       "      <td>0.0</td>\n",
       "      <td>0.0</td>\n",
       "      <td>0.0</td>\n",
       "      <td>0.0</td>\n",
       "    </tr>\n",
       "  </tbody>\n",
       "</table>\n",
       "<p>5 rows × 271 columns</p>\n",
       "</div>"
      ],
      "text/plain": [
       "          -300  -297  -293  -290  -287  -283  -280  -277  -273  -270  ...  \\\n",
       "dur cont                                                              ...   \n",
       "1   17     0.0   0.0   0.0   0.0   0.0   0.0   0.0   0.0   0.0   0.0  ...   \n",
       "    33     0.0   0.0   0.0   0.0   0.0   0.0   0.0   0.0   0.0   0.0  ...   \n",
       "    50     0.0   0.0   0.0   0.0   0.0   0.0   0.0   0.0   0.0   0.0  ...   \n",
       "    100    0.0   0.0   0.0   0.0   0.0   0.0   0.0   0.0   0.0   0.0  ...   \n",
       "2   17     0.0   0.0   0.0   0.0   0.0   0.0   0.0   0.0   0.0   0.0  ...   \n",
       "\n",
       "           570   573   577   580   583   587   590   593   597   600  \n",
       "dur cont                                                              \n",
       "1   17     0.0   0.0   0.0   0.0   0.0   0.0   0.0   0.0   0.0   0.0  \n",
       "    33     0.0   0.0   0.0   0.0   0.0   0.0   0.0   0.0   0.0   0.0  \n",
       "    50     0.0   0.0   0.0   0.0   0.0   0.0   0.0   0.0   0.0   0.0  \n",
       "    100    0.0   0.0   0.0   0.0   0.0   0.0   0.0   0.0   0.0   0.0  \n",
       "2   17     0.0   0.0   0.0   0.0   0.0   0.0   0.0   0.0   0.0   0.0  \n",
       "\n",
       "[5 rows x 271 columns]"
      ]
     },
     "execution_count": 145,
     "metadata": {},
     "output_type": "execute_result"
    }
   ],
   "source": [
    "acc_index = pd.MultiIndex.from_product([all_durs, all_conts], names=['dur', 'cont'])\n",
    "acc = pd.DataFrame(np.zeros((len(all_durs)*len(all_conts), len(all_times))),\n",
    "                   index=acc_index, columns=all_times)\n",
    "acc.head()"
   ]
  },
  {
   "cell_type": "code",
   "execution_count": 147,
   "metadata": {},
   "outputs": [],
   "source": [
    "for cur_dur in range(len(all_durs)):\n",
    "    for cur_cont in range(len(all_conts)):\n",
    "        cur_cond_str = 'dur' + str(all_durs[cur_dur]) + '/' + 'cont' + \\\n",
    "                       str(all_conts[cur_cont]).zfill(3)\n",
    "#         print(cur_cond_str)\n",
    "        epochs_subset = epochs[cur_cond_str];\n",
    "#         print(epochs_subset)\n",
    "        numof_epochs = len(epochs_subset)\n",
    "#         print(numof_epochs)\n",
    "        epochs_df = epochs_subset.to_data_frame()\n",
    "#         print(epochs_df.iloc[:,0:4].head());\n",
    "#         print(epochs_df.columns.values[0:21])\n",
    "        cur_acc = iter_times(all_times, epochs_df, cur_cond_str, numof_epochs)\n",
    "#         print(cur_acc)\n",
    "        acc.loc[(all_durs[cur_dur], all_conts[cur_cont]), :] = cur_acc"
   ]
  },
  {
   "cell_type": "code",
   "execution_count": 71,
   "metadata": {},
   "outputs": [
    {
     "data": {
      "image/png": "[encoded data removed]",
      "text/plain": [
       "<Figure size 1152x216 with 1 Axes>"
      ]
     },
     "metadata": {
      "needs_background": "light"
     },
     "output_type": "display_data"
    }
   ],
   "source": [
    "%matplotlib inline\n",
    "plt.figure(figsize=(16, 3))\n",
    "plt.plot(epochs.times, np.array(acc).T);\n",
    "# plt.savefig(qc_fname + '_light-sensors.pdf')"
   ]
  },
  {
   "cell_type": "markdown",
   "metadata": {},
   "source": [
    "## Applying the routine to all _t_"
   ]
  },
  {
   "cell_type": "markdown",
   "metadata": {},
   "source": [
    "# P.S."
   ]
  },
  {
   "cell_type": "code",
   "execution_count": 62,
   "metadata": {},
   "outputs": [
    {
     "name": "stdout",
     "output_type": "stream",
     "text": [
      "Using matplotlib backend: Qt5Agg\n"
     ]
    }
   ],
   "source": [
    "%matplotlib\n",
    "%matplotlib qt"
   ]
  },
  {
   "cell_type": "code",
   "execution_count": 63,
   "metadata": {},
   "outputs": [],
   "source": [
    "interactive = True"
   ]
  },
  {
   "cell_type": "code",
   "execution_count": null,
   "metadata": {},
   "outputs": [],
   "source": []
  }
 ],
 "metadata": {
  "kernelspec": {
   "display_name": "Python 3",
   "language": "python",
   "name": "python3"
  },
  "language_info": {
   "codemirror_mode": {
    "name": "ipython",
    "version": 3
   },
   "file_extension": ".py",
   "mimetype": "text/x-python",
   "name": "python",
   "nbconvert_exporter": "python",
   "pygments_lexer": "ipython3",
   "version": "3.8.1"
  },
  "toc-autonumbering": true,
  "widgets": {
   "state": {},
   "version": "1.1.2"
  }
 },
 "nbformat": 4,
 "nbformat_minor": 4
}
