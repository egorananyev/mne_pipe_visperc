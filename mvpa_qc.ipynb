{
 "cells": [
  {
   "cell_type": "markdown",
   "metadata": {},
   "source": [
    "# MVPA analysis: Preprocessing and quality control\n",
    "\n",
    "`\n",
    "Authors:\n",
    "Egor Ananyev\n",
    "Jit Wei Ang Aaron\n",
    "`\n",
    "\n",
    "`\n",
    "Based on the code by:\n",
    "Alexandre Gramfort\n",
    "Denis A. Engemann\n",
    "`"
   ]
  },
  {
   "cell_type": "code",
   "execution_count": 115,
   "metadata": {},
   "outputs": [],
   "source": [
    "%matplotlib qt\n",
    "import numpy as np\n",
    "import matplotlib.pyplot as plt\n",
    "import mne\n",
    "import pandas as pd\n",
    "import os"
   ]
  },
  {
   "cell_type": "code",
   "execution_count": 16,
   "metadata": {},
   "outputs": [],
   "source": [
    "mne.set_log_level('warning')  # less verbose output"
   ]
  },
  {
   "cell_type": "markdown",
   "metadata": {},
   "source": [
    "## Important parameters"
   ]
  },
  {
   "cell_type": "code",
   "execution_count": 212,
   "metadata": {},
   "outputs": [],
   "source": [
    "cur_subj = 1\n",
    "cur_run = 1\n",
    "\n",
    "interactive = False  # Whether to render interactive figures such as channel plots\n",
    "debug = False"
   ]
  },
  {
   "cell_type": "markdown",
   "metadata": {},
   "source": [
    "## Access raw data"
   ]
  },
  {
   "cell_type": "code",
   "execution_count": 18,
   "metadata": {},
   "outputs": [],
   "source": [
    "data_path = os.path.expanduser(\"C:\\\\Users\\\\egora\\\\Downloads\\\\meg\\\\\")\n",
    "\n",
    "cur_subj_str = str(cur_subj).zfill(2)\n",
    "cur_run_str = str(cur_run).zfill(2)\n",
    "\n",
    "raw_fname = os.path.join(data_path,\n",
    "                         'derivatives\\\\meg_derivatives\\\\' + 'sub-' + cur_subj_str + '\\\\ses-meg\\\\meg\\\\' + 'sub-' + \\\n",
    "                         cur_subj_str + '_ses-meg_experimental_run-' + cur_run_str + '_proc-sss_raw.fif')"
   ]
  },
  {
   "cell_type": "code",
   "execution_count": 19,
   "metadata": {},
   "outputs": [
    {
     "name": "stdout",
     "output_type": "stream",
     "text": [
      "C:\\Users\\egora\\Downloads\\meg\\derivatives\\meg_derivatives\\sub-01\\ses-meg\\meg\\sub-01_ses-meg_experimental_run-01_proc-sss_raw.fif\n"
     ]
    }
   ],
   "source": [
    "print(raw_fname)"
   ]
  },
  {
   "cell_type": "code",
   "execution_count": 20,
   "metadata": {},
   "outputs": [
    {
     "name": "stdout",
     "output_type": "stream",
     "text": [
      " Volume in drive C is Acer\n",
      " Volume Serial Number is FAD5-0445\n",
      "\n",
      " Directory of C:\\Users\\egora\\Downloads\\meg\\derivatives\\meg_derivatives\\sub-01\\ses-meg\\meg\n",
      "\n",
      "2020-02-05  15:59       362,181,396 sub-01_ses-meg_experimental_run-01_proc-sss_raw.fif\n",
      "               1 File(s)    362,181,396 bytes\n",
      "               0 Dir(s)  81,886,552,064 bytes free\n"
     ]
    }
   ],
   "source": [
    "ls $raw_fname"
   ]
  },
  {
   "cell_type": "markdown",
   "metadata": {},
   "source": [
    "Read data from file:"
   ]
  },
  {
   "cell_type": "code",
   "execution_count": 21,
   "metadata": {},
   "outputs": [
    {
     "name": "stdout",
     "output_type": "stream",
     "text": [
      "<Raw  |  sub-01_ses-meg_experimental_run-01_proc-sss_raw.fif, n_channels x n_times : 327 x 290000 (290.0 sec), ~5.5 MB, data not loaded>\n"
     ]
    }
   ],
   "source": [
    "raw = mne.io.read_raw_fif(raw_fname, preload=False)\n",
    "print(raw)"
   ]
  },
  {
   "cell_type": "code",
   "execution_count": 22,
   "metadata": {},
   "outputs": [
    {
     "name": "stdout",
     "output_type": "stream",
     "text": [
      "1580887334\n",
      "<Info | 28 non-empty fields\n",
      "    acq_pars : str | 25272 items\n",
      "    bads : list | 0 items\n",
      "    ch_names : list | EOG001, EOG002, ECG003, MEG0111, MEG0112, MEG0113, ...\n",
      "    chs : list | 327 items (EOG: 2, ECG: 1, MAG: 102, GRAD: 204, MISC: 1, STIM: 7, SYST: 1, CHPI: 9)\n",
      "    comps : list | 0 items\n",
      "    custom_ref_applied : bool | False\n",
      "    description : str | 34 items\n",
      "    dev_head_t : Transform | 3 items\n",
      "    dig : Digitization | 149 items (3 Cardinal, 4 HPI, 142 Extra)\n",
      "    events : list | 1 items\n",
      "    experimenter : str | 17 items\n",
      "    file_id : dict | 4 items\n",
      "    gantry_angle : float | 68.0\n",
      "    highpass : float | 0.10000000149011612 Hz\n",
      "    hpi_meas : list | 1 items\n",
      "    hpi_results : list | 1 items\n",
      "    hpi_subsystem : dict | 2 items\n",
      "    line_freq : float | 50.0\n",
      "    lowpass : float | 330.0 Hz\n",
      "    meas_date : tuple | 1970-01-01 00:00:00 GMT\n",
      "    meas_id : dict | 4 items\n",
      "    nchan : int | 327\n",
      "    proc_history : list | 1 items\n",
      "    proj_id : ndarray | 1 items\n",
      "    proj_name : str | 24 items\n",
      "    projs : list | 0 items\n",
      "    sfreq : float | 1000.0 Hz\n",
      "    subject_info : dict | 8 items\n",
      "    acq_stim : NoneType\n",
      "    ctf_head_t : NoneType\n",
      "    dev_ctf_t : NoneType\n",
      "    device_info : NoneType\n",
      "    helium_info : NoneType\n",
      "    kit_system_id : NoneType\n",
      "    utc_offset : NoneType\n",
      "    xplotter_layout : NoneType\n",
      ">\n"
     ]
    }
   ],
   "source": [
    "print(raw.info)"
   ]
  },
  {
   "cell_type": "code",
   "execution_count": 23,
   "metadata": {},
   "outputs": [
    {
     "data": {
      "text/plain": [
       "1000.0"
      ]
     },
     "execution_count": 23,
     "metadata": {},
     "output_type": "execute_result"
    }
   ],
   "source": [
    "raw.info['sfreq']  # Sampling frequency"
   ]
  },
  {
   "cell_type": "code",
   "execution_count": 24,
   "metadata": {},
   "outputs": [
    {
     "data": {
      "text/plain": [
       "50.0"
      ]
     },
     "execution_count": 24,
     "metadata": {},
     "output_type": "execute_result"
    }
   ],
   "source": [
    "raw.info['line_freq']"
   ]
  },
  {
   "cell_type": "markdown",
   "metadata": {},
   "source": [
    "The powerline frequency. 50 Hz in Sg; 60 Hz in Taiwan."
   ]
  },
  {
   "cell_type": "code",
   "execution_count": 25,
   "metadata": {},
   "outputs": [
    {
     "data": {
      "text/plain": [
       "Text(0.5, 0.98, 'Sensor Positions')"
      ]
     },
     "execution_count": 25,
     "metadata": {},
     "output_type": "execute_result"
    },
    {
     "data": {
      "image/png": "[encoded data removed]",
      "text/plain": [
       "<Figure size 720x360 with 2 Axes>"
      ]
     },
     "metadata": {},
     "output_type": "display_data"
    }
   ],
   "source": [
    "%matplotlib inline\n",
    "fig, (left, right) = plt.subplots(ncols=2, figsize=(10, 5))\n",
    "raw.plot_sensors(kind='topomap', ch_type='grad', axes=left, show=False);\n",
    "left.set_title('Gradiometers')\n",
    "raw.plot_sensors(kind='topomap', ch_type='mag', axes=right, show=False);\n",
    "right.set_title('Magnetometers')\n",
    "fig.suptitle('Sensor Positions')"
   ]
  },
  {
   "cell_type": "markdown",
   "metadata": {},
   "source": [
    "### "
   ]
  },
  {
   "cell_type": "code",
   "execution_count": 35,
   "metadata": {},
   "outputs": [],
   "source": [
    "if interactive:\n",
    "    %matplotlib qt\n",
    "    raw.plot()"
   ]
  },
  {
   "cell_type": "markdown",
   "metadata": {},
   "source": [
    "## Timing correction"
   ]
  },
  {
   "cell_type": "code",
   "execution_count": 100,
   "metadata": {},
   "outputs": [
    {
     "data": {
      "text/plain": [
       "[<matplotlib.lines.Line2D at 0x1b15c2a9c88>]"
      ]
     },
     "execution_count": 100,
     "metadata": {},
     "output_type": "execute_result"
    },
    {
     "data": {
      "image/png": "[encoded data removed]",
      "text/plain": [
       "<Figure size 1152x216 with 1 Axes>"
      ]
     },
     "metadata": {
      "needs_background": "light"
     },
     "output_type": "display_data"
    }
   ],
   "source": [
    "%matplotlib inline\n",
    "light_sensor = raw.get_data(picks='MISC001')\n",
    "plt.figure(figsize=(16, 3))\n",
    "plt.plot(raw.times, light_sensor.T)"
   ]
  },
  {
   "cell_type": "code",
   "execution_count": 97,
   "metadata": {},
   "outputs": [
    {
     "name": "stdout",
     "output_type": "stream",
     "text": [
      "min ~ 0.000\n",
      "max ~ 0.030\n"
     ]
    }
   ],
   "source": [
    "print('min ~ ' + '{0:.3f}'.format(np.min(light_sensor)))\n",
    "print('max ~ ' + '{0:.3f}'.format(np.max(light_sensor)))"
   ]
  },
  {
   "cell_type": "markdown",
   "metadata": {},
   "source": [
    "Based on the above, a light threshold of ~ 0.016 sounds reasonable:"
   ]
  },
  {
   "cell_type": "code",
   "execution_count": 101,
   "metadata": {},
   "outputs": [
    {
     "data": {
      "text/plain": [
       "[<matplotlib.lines.Line2D at 0x1b161179f08>]"
      ]
     },
     "execution_count": 101,
     "metadata": {},
     "output_type": "execute_result"
    },
    {
     "data": {
      "image/png": "[encoded data removed]",
      "text/plain": [
       "<Figure size 1152x216 with 1 Axes>"
      ]
     },
     "metadata": {
      "needs_background": "light"
     },
     "output_type": "display_data"
    }
   ],
   "source": [
    "light_thresh = 0.016\n",
    "too_bright = 0.025\n",
    "light_sensor_thresholded = light_sensor\n",
    "light_sensor_thresholded[light_sensor > too_bright] = 0  # this deals with the initial and final non-experimental period\n",
    "light_sensor_thresholded[light_sensor < light_thresh] = 0\n",
    "light_sensor_thresholded[light_sensor >= light_thresh] = 1\n",
    "plt.figure(figsize=(16, 3))\n",
    "plt.plot(raw.times, light_sensor_thresholded.T)"
   ]
  },
  {
   "cell_type": "markdown",
   "metadata": {},
   "source": [
    "### Example data before correction"
   ]
  },
  {
   "cell_type": "code",
   "execution_count": 102,
   "metadata": {},
   "outputs": [
    {
     "name": "stdout",
     "output_type": "stream",
     "text": [
      "(327, 5000)\n",
      "(5000,)\n"
     ]
    }
   ],
   "source": [
    "# Taking an excerpt from the data from 245 to 250 s:\n",
    "start, stop = int(245 * raw.info['sfreq']), int(250 * raw.info['sfreq'])\n",
    "data_excerpt, times = raw[:, start:stop]  # fetch all channels and the first 10 time points\n",
    "print(data_excerpt.shape)  # should be 5000 samples at sfreq = 1000 Hz\n",
    "print(times.shape)"
   ]
  },
  {
   "cell_type": "code",
   "execution_count": 111,
   "metadata": {},
   "outputs": [
    {
     "data": {
      "text/plain": [
       "[<matplotlib.lines.Line2D at 0x1b162b8ef08>]"
      ]
     },
     "execution_count": 111,
     "metadata": {},
     "output_type": "execute_result"
    },
    {
     "data": {
      "image/png": "[encoded data removed]",
      "text/plain": [
       "<Figure size 720x216 with 1 Axes>"
      ]
     },
     "metadata": {
      "needs_background": "light"
     },
     "output_type": "display_data"
    }
   ],
   "source": [
    "plt.figure(figsize=(10,3))\n",
    "plt.plot(raw.times[start:stop], light_sensor_thresholded.T[start:stop])\n",
    "trigger_channel_excerpt = raw.get_data(picks='STI101', start=start, stop=stop) - 2048\n",
    "plt.plot(raw.times[start:stop], trigger_channel_excerpt.T)"
   ]
  },
  {
   "cell_type": "markdown",
   "metadata": {},
   "source": [
    "### Preparing the timing correction"
   ]
  },
  {
   "cell_type": "markdown",
   "metadata": {},
   "source": [
    "Instead of applying timing correction per se, I modify the light sensor channel (MISC001) to carry trigger information and use this instead of STI101."
   ]
  },
  {
   "cell_type": "code",
   "execution_count": 218,
   "metadata": {},
   "outputs": [
    {
     "name": "stdout",
     "output_type": "stream",
     "text": [
      "Taking samples 0 to 290000\n"
     ]
    }
   ],
   "source": [
    "trigger_channel = raw.get_data(picks='STI101') - 2048\n",
    "trigger_channel[trigger_channel == 1] = 0\n",
    "start = 0\n",
    "stop = len(trigger_channel[0])\n",
    "print('Taking samples ' + str(start) + ' to ' + str(stop))"
   ]
  },
  {
   "cell_type": "code",
   "execution_count": 219,
   "metadata": {},
   "outputs": [],
   "source": [
    "# number of trials is the number of triggers == 1, but for now, I'll hardcode:\n",
    "numof_trials = 192"
   ]
  },
  {
   "cell_type": "markdown",
   "metadata": {},
   "source": [
    "### Logic of light-sensor indexing"
   ]
  },
  {
   "cell_type": "markdown",
   "metadata": {},
   "source": [
    "This is just a demonstration of how the light sensor timestamps are identified."
   ]
  },
  {
   "cell_type": "code",
   "execution_count": 220,
   "metadata": {},
   "outputs": [
    {
     "name": "stdout",
     "output_type": "stream",
     "text": [
      "the first instance of light sensor above threshold: 25627\n"
     ]
    }
   ],
   "source": [
    "new_start = np.min(np.where(light_sensor_thresholded[0, :] == 1))\n",
    "print('the first instance of light sensor above threshold: ' + str(new_start))"
   ]
  },
  {
   "cell_type": "code",
   "execution_count": 221,
   "metadata": {},
   "outputs": [
    {
     "name": "stdout",
     "output_type": "stream",
     "text": [
      "thresh light value prior to blip start = 0.0\n",
      "thresh light value at blip start = 1.0\n"
     ]
    }
   ],
   "source": [
    "print('thresh light value prior to blip start = ' + str(light_sensor_thresholded[0, new_start-1]))\n",
    "print('thresh light value at blip start = ' + str(light_sensor_thresholded[0, new_start]))"
   ]
  },
  {
   "cell_type": "code",
   "execution_count": 222,
   "metadata": {},
   "outputs": [
    {
     "name": "stdout",
     "output_type": "stream",
     "text": [
      "12\n"
     ]
    }
   ],
   "source": [
    "blip_dur = np.min(np.where(light_sensor_thresholded[0, new_start:stop] == 0))\n",
    "print(blip_dur)  # duration of the light sensory == 1 blip"
   ]
  },
  {
   "cell_type": "code",
   "execution_count": 223,
   "metadata": {},
   "outputs": [
    {
     "name": "stdout",
     "output_type": "stream",
     "text": [
      "thresh light value prior to blip end = 1.0\n",
      "thresh light value at blip start = 0.0\n"
     ]
    }
   ],
   "source": [
    "print('thresh light value prior to blip end = ' + str(light_sensor_thresholded[0, new_start+blip_dur-1]))\n",
    "print('thresh light value at blip start = ' + str(light_sensor_thresholded[0, new_start+blip_dur]))"
   ]
  },
  {
   "cell_type": "markdown",
   "metadata": {},
   "source": [
    "### Identifying light sensor timestamps & quantifying the mismatch"
   ]
  },
  {
   "cell_type": "code",
   "execution_count": 224,
   "metadata": {},
   "outputs": [],
   "source": [
    "trigger_samples = pd.DataFrame(data = {'STI_sample': np.repeat(0, numof_trials),\n",
    "                                       'LS_sample': np.repeat(0, numof_trials),\n",
    "                                       'LS_dur': np.repeat(0, numof_trials),\n",
    "                                       'sample_mismatch': np.repeat(0, numof_trials)})\n",
    "# print(trigger_samples)"
   ]
  },
  {
   "cell_type": "code",
   "execution_count": 225,
   "metadata": {},
   "outputs": [],
   "source": [
    "start = 0\n",
    "for cur_trial in range(numof_trials):\n",
    "    stim_sample = start + np.min(np.where(trigger_channel[0, start:stop] > 0))\n",
    "    trigger_samples.at[cur_trial, 'STI_sample'] = stim_sample\n",
    "    light_sample = start + np.min(np.where(light_sensor_thresholded[0, start:stop] == 1))\n",
    "    trigger_samples.at[cur_trial, 'LS_sample'] = light_sample\n",
    "    blip_dur = np.min(np.where(light_sensor_thresholded[0, light_sample:stop] == 0))\n",
    "    trigger_samples.at[cur_trial, 'LS_dur'] = blip_dur\n",
    "    trigger_samples.at[cur_trial, 'sample_mismatch'] = light_sample - stim_sample\n",
    "    start = light_sample + blip_dur + 1\n",
    "    if debug:\n",
    "        print('=============================================')\n",
    "        print('stim_sample = ' + str(stim_sample))\n",
    "        print('light_sample = ' + str(light_sample))\n",
    "        print('blip_dur = ' + str(blip_dur))\n",
    "        print('mismatch = ' + str(light_sample - stim_sample))\n",
    "        print(start)"
   ]
  },
  {
   "cell_type": "code",
   "execution_count": 226,
   "metadata": {},
   "outputs": [
    {
     "name": "stdout",
     "output_type": "stream",
     "text": [
      "     STI_sample  LS_sample  LS_dur  sample_mismatch\n",
      "0         25522      25627      12              105\n",
      "1         26806      26912      45              106\n",
      "2         28089      28197      62              108\n",
      "3         29389      29499      29              110\n",
      "4         30656      30767      46              111\n",
      "..          ...        ...     ...              ...\n",
      "187      276427     276542      28              115\n",
      "188      277676     277793      12              117\n",
      "189      278944     279062      45              118\n",
      "190      280277     280397      62              120\n",
      "191      281562     281665      46              103\n",
      "\n",
      "[192 rows x 4 columns]\n"
     ]
    }
   ],
   "source": [
    "print(trigger_samples)  # STI = stimulus channel; LS = light sensor channel"
   ]
  },
  {
   "cell_type": "code",
   "execution_count": 227,
   "metadata": {},
   "outputs": [
    {
     "data": {
      "text/plain": [
       "count    192.000000\n",
       "mean     111.817708\n",
       "std        5.108570\n",
       "min      101.000000\n",
       "25%      107.000000\n",
       "50%      112.000000\n",
       "75%      116.000000\n",
       "max      121.000000\n",
       "Name: sample_mismatch, dtype: float64"
      ]
     },
     "execution_count": 227,
     "metadata": {},
     "output_type": "execute_result"
    }
   ],
   "source": [
    "trigger_samples['sample_mismatch'].describe()"
   ]
  },
  {
   "cell_type": "markdown",
   "metadata": {},
   "source": [
    "The range (in samples) of temporal mismatch between the light sensor and the triggers:"
   ]
  },
  {
   "cell_type": "code",
   "execution_count": 228,
   "metadata": {},
   "outputs": [
    {
     "name": "stdout",
     "output_type": "stream",
     "text": [
      "20\n"
     ]
    }
   ],
   "source": [
    "print(np.max(trigger_samples['sample_mismatch']) - \n",
    "      np.min(trigger_samples['sample_mismatch']))"
   ]
  },
  {
   "cell_type": "code",
   "execution_count": null,
   "metadata": {},
   "outputs": [],
   "source": []
  }
 ],
 "metadata": {
  "kernelspec": {
   "display_name": "Python 3",
   "language": "python",
   "name": "python3"
  },
  "language_info": {
   "codemirror_mode": {
    "name": "ipython",
    "version": 3
   },
   "file_extension": ".py",
   "mimetype": "text/x-python",
   "name": "python",
   "nbconvert_exporter": "python",
   "pygments_lexer": "ipython3",
   "version": "3.7.5"
  },
  "widgets": {
   "state": {},
   "version": "1.1.2"
  }
 },
 "nbformat": 4,
 "nbformat_minor": 4
}
