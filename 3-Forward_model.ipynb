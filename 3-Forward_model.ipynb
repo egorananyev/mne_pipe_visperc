{
 "cells": [
  {
   "cell_type": "markdown",
   "metadata": {},
   "source": [
    "# Create a forward operator and display sensitivity maps\n",
    "\n",
    "`\n",
    "Authors: Eric Larson <larson.eric.d@gmail.com>\n",
    "         Denis Engemann <denis.engemann@gmail.com>\n",
    "         Alex Gramfort <alexandre.gramfort@inria.fr>\n",
    "`\n",
    "\n",
    "License: BSD (3-clause)"
   ]
  },
  {
   "cell_type": "markdown",
   "metadata": {},
   "source": [
    "First setup some paths. We will use the MNE sample data."
   ]
  },
  {
   "cell_type": "code",
   "execution_count": null,
   "metadata": {},
   "outputs": [],
   "source": [
    "%matplotlib qt\n",
    "import matplotlib.pyplot as plt\n",
    "\n",
    "import os\n",
    "import mne\n",
    "\n",
    "# Change the following path to where the folder ds000117-practical is on your disk\n",
    "data_path = os.path.expanduser(\"~/work/data/ds000117-practical/\")\n",
    "\n",
    "raw_fname = os.path.join(data_path,\n",
    "    'derivatives/meg_derivatives/sub-01/ses-meg/meg/sub-01_ses-meg_task-facerecognition_run-01_proc-sss_meg.fif')"
   ]
  },
  {
   "cell_type": "code",
   "execution_count": null,
   "metadata": {},
   "outputs": [],
   "source": [
    "from IPython.display import Image\n",
    "from mayavi import mlab"
   ]
  },
  {
   "cell_type": "code",
   "execution_count": null,
   "metadata": {},
   "outputs": [],
   "source": [
    "# to check that things work:\n",
    "# mlab.test_contour3d()"
   ]
  },
  {
   "cell_type": "markdown",
   "metadata": {},
   "source": [
    "# Computing the forward operator\n",
    "\n",
    "To compute a forward operator we need:\n",
    "\n",
    "   - a ``-trans.fif`` file that contains the coregistration info\n",
    "   - a source space\n",
    "   - the BEM surfaces"
   ]
  },
  {
   "cell_type": "markdown",
   "metadata": {},
   "source": [
    "## Compute and visualize BEM surfaces\n",
    "\n",
    "Computing the BEM surfaces requires FreeSurfer and makes use of either of the two following command line tools:\n",
    "\n",
    "[mne watershed_bem](http://martinos.org/mne/dev/generated/commands.html#mne-watershed-bem)\n",
    "\n",
    "[mne flash_bem](http://martinos.org/mne/dev/generated/commands.html#mne-flash-bem)\n",
    "\n",
    "or directly by calling the functions\n",
    "\n",
    "https://mne.tools/stable/generated/mne.bem.make_watershed_bem.html\n",
    "https://mne.tools/stable/generated/mne.bem.make_flash_bem.html\n",
    "\n",
    "Here, we'll assume it's already computed. It takes a few minutes per subject.\n",
    "\n",
    "So, let's first look at the BEM surfaces.\n",
    "\n",
    "For EEG we use 3 layers (inner skull, outer skull, and skin), while for MEG 1 layer (inner skull) is enough.\n",
    "\n",
    "To compute the BEM we'll need to use freesurfer.\n",
    "You can get it at https://surfer.nmr.mgh.harvard.edu/fswiki/DownloadAndInstall#Download\n",
    "if you are on mac or linux but you can also use a virtual machine on Windows. See\n",
    "https://surfer.nmr.mgh.harvard.edu/fswiki/Installation/FreeSurferVirtualImage\n",
    "\n",
    "To get it in this dataset I did in terminal after setting the SUBJECTS_DIR properly:\n",
    "\n",
    "    mne watershed_bem -s sub-01 --overwrite\n",
    "    mne make_scalp_surfaces -s sub-01 --force --overwrite"
   ]
  },
  {
   "cell_type": "code",
   "execution_count": null,
   "metadata": {},
   "outputs": [],
   "source": [
    "t1_fname = os.path.join(data_path, 'derivatives/freesurfer-reconall/sub-01/mri/T1.mgz')"
   ]
  },
  {
   "cell_type": "code",
   "execution_count": null,
   "metadata": {},
   "outputs": [],
   "source": [
    "from nilearn import plotting\n",
    "plotting.plot_anat(t1_fname);\n",
    "plt.show()"
   ]
  },
  {
   "cell_type": "code",
   "execution_count": null,
   "metadata": {},
   "outputs": [],
   "source": [
    "subjects_dir = os.path.join(data_path, 'derivatives/freesurfer-reconall/')"
   ]
  },
  {
   "cell_type": "code",
   "execution_count": null,
   "metadata": {},
   "outputs": [],
   "source": [
    "mne.viz.plot_bem(subject='sub-01', subjects_dir=subjects_dir,\n",
    "                 orientation='coronal');"
   ]
  },
  {
   "cell_type": "code",
   "execution_count": null,
   "metadata": {},
   "outputs": [],
   "source": [
    "mne.gui.coregistration(subject='sub-01', subjects_dir=subjects_dir, inst=raw_fname);"
   ]
  },
  {
   "cell_type": "markdown",
   "metadata": {},
   "source": [
    "### Visualizing the coregistration\n",
    "\n",
    "The coregistration is the operation that allows to position the head and the sensors in a common coordinate system. In the MNE software, the transformation to align the head and the sensors in stored in a so called *trans* file. It is a FIF file that ends with `-trans.fif`. It can be obtained with ``mne_analyze`` (Unix tools), ``mne.gui.coregistration`` (in Python) or mrilab if you're using a Neuromag system.\n",
    "\n",
    "For the Python version, see https://mne.tools/dev/generated/mne.gui.coregistration.html\n",
    "\n",
    "Here, we assume the coregistration is done, so we just visually check the alignment with the following code."
   ]
  },
  {
   "cell_type": "code",
   "execution_count": null,
   "metadata": {},
   "outputs": [],
   "source": [
    "trans_fname = os.path.join(data_path,\n",
    "    'derivatives/meg_derivatives/sub-01/ses-meg/meg/sub-01-trans.fif')\n",
    "info = mne.io.read_info(raw_fname)\n",
    "fig = mne.viz.plot_alignment(info, trans_fname, subject='sub-01', dig=True,\n",
    "                             subjects_dir=subjects_dir, verbose=True);"
   ]
  },
  {
   "cell_type": "code",
   "execution_count": null,
   "metadata": {},
   "outputs": [],
   "source": [
    "mlab.close('all')"
   ]
  },
  {
   "cell_type": "markdown",
   "metadata": {},
   "source": [
    "## Compute Source Space\n",
    "\n",
    "The source space defines the position of the candidate source locations.\n",
    "\n",
    "The following code computes such a source space with an OCT-6 resolution."
   ]
  },
  {
   "cell_type": "code",
   "execution_count": null,
   "metadata": {},
   "outputs": [],
   "source": [
    "mne.set_log_level('WARNING')\n",
    "subject = 'sub-01'\n",
    "src = mne.setup_source_space(subject, spacing='oct6',\n",
    "                             subjects_dir=subjects_dir,\n",
    "                             add_dist=False)"
   ]
  },
  {
   "cell_type": "code",
   "execution_count": null,
   "metadata": {},
   "outputs": [],
   "source": [
    "src"
   ]
  },
  {
   "cell_type": "markdown",
   "metadata": {},
   "source": [
    "``src`` contains two parts, one for the left hemisphere (4098 locations) and one for the right hemisphere (4098 locations)."
   ]
  },
  {
   "cell_type": "code",
   "execution_count": null,
   "metadata": {},
   "outputs": [],
   "source": [
    "fig = mne.viz.plot_alignment(info, trans_fname, subject=subject, dig=False, src=src,\n",
    "                             subjects_dir=subjects_dir, verbose=True, meg=False,\n",
    "                             eeg=False);"
   ]
  },
  {
   "cell_type": "code",
   "execution_count": null,
   "metadata": {},
   "outputs": [],
   "source": [
    "mne.viz.plot_alignment(info, trans_fname, subject=subject,\n",
    "                       src=src, subjects_dir=subjects_dir, dig=True,\n",
    "                       surfaces=['head-dense', 'white'], coord_frame='meg')"
   ]
  },
  {
   "cell_type": "code",
   "execution_count": null,
   "metadata": {},
   "outputs": [],
   "source": [
    "mlab.close()"
   ]
  },
  {
   "cell_type": "markdown",
   "metadata": {},
   "source": [
    "### Compute forward solution\n",
    "\n",
    "We can now compute the forward solution.\n",
    "\n",
    "To reduce computational load, we'll just compute a single layer BEM\n",
    "(just inner skull) that can then be used for MEG (not EEG)."
   ]
  },
  {
   "cell_type": "code",
   "execution_count": null,
   "metadata": {},
   "outputs": [],
   "source": [
    "conductivity = (0.3,)  # for single layer\n",
    "# conductivity = (0.3, 0.006, 0.3)  # for three layers\n",
    "model = mne.make_bem_model(subject=subject, ico=4,\n",
    "                           conductivity=conductivity,\n",
    "                           subjects_dir=subjects_dir)\n",
    "bem = mne.make_bem_solution(model)"
   ]
  },
  {
   "cell_type": "code",
   "execution_count": null,
   "metadata": {},
   "outputs": [],
   "source": [
    "bem_fname = os.path.join(data_path,\n",
    "    'derivatives/meg_derivatives/sub-01/ses-meg/meg/sub-01-bem.fif')\n",
    "mne.bem.write_bem_solution(bem_fname, bem)"
   ]
  },
  {
   "cell_type": "code",
   "execution_count": null,
   "metadata": {},
   "outputs": [],
   "source": [
    "fwd = mne.make_forward_solution(raw_fname, trans=trans_fname,\n",
    "                                src=src, bem=bem,\n",
    "                                meg=True, # include MEG channels\n",
    "                                eeg=False, # include EEG channels\n",
    "                                mindist=5.0, # ignore sources <= 5mm from inner skull\n",
    "                                n_jobs=1) # number of jobs to run in parallel"
   ]
  },
  {
   "cell_type": "code",
   "execution_count": null,
   "metadata": {},
   "outputs": [],
   "source": [
    "fwd_fname = os.path.join(data_path,\n",
    "    'derivatives/meg_derivatives/sub-01/ses-meg/meg/sub-01-meg-fwd.fif')\n",
    "mne.write_forward_solution(fwd_fname, fwd, overwrite=True)"
   ]
  },
  {
   "cell_type": "markdown",
   "metadata": {},
   "source": [
    "Or read the EEG/MEG file from disk"
   ]
  },
  {
   "cell_type": "code",
   "execution_count": null,
   "metadata": {},
   "outputs": [],
   "source": [
    "fwd = mne.read_forward_solution(fwd_fname)"
   ]
  },
  {
   "cell_type": "code",
   "execution_count": null,
   "metadata": {},
   "outputs": [],
   "source": [
    "fwd"
   ]
  },
  {
   "cell_type": "markdown",
   "metadata": {},
   "source": [
    "Convert to surface orientation for cortically constrained inverse modeling:"
   ]
  },
  {
   "cell_type": "code",
   "execution_count": null,
   "metadata": {},
   "outputs": [],
   "source": [
    "fwd = mne.convert_forward_solution(fwd, surf_ori=True)\n",
    "leadfield = fwd['sol']['data']\n",
    "print(\"Leadfield size : %d sensors x %d dipoles\" % leadfield.shape)"
   ]
  },
  {
   "cell_type": "markdown",
   "metadata": {},
   "source": [
    "Compute sensitivity maps for gradiometers"
   ]
  },
  {
   "cell_type": "code",
   "execution_count": null,
   "metadata": {},
   "outputs": [],
   "source": [
    "sens_map = mne.sensitivity_map(fwd, ch_type='grad', mode='fixed')"
   ]
  },
  {
   "cell_type": "markdown",
   "metadata": {},
   "source": [
    "# Show gain matrix a.k.a. leadfield matrix with sensitivy map"
   ]
  },
  {
   "cell_type": "code",
   "execution_count": null,
   "metadata": {},
   "outputs": [],
   "source": [
    "import matplotlib.pyplot as plt\n",
    "\n",
    "picks = mne.pick_types(fwd['info'], meg='grad', eeg=False)\n",
    "\n",
    "im = plt.imshow(leadfield[picks, :500], origin='lower', aspect='auto', cmap='RdBu_r')\n",
    "plt.xlabel('sources')\n",
    "plt.ylabel('sensors')\n",
    "plt.title('Lead field matrix for Gradiometers', fontsize=14)\n",
    "plt.colorbar(cmap='RdBu_r')"
   ]
  },
  {
   "cell_type": "code",
   "execution_count": null,
   "metadata": {},
   "outputs": [],
   "source": [
    "plt.figure()\n",
    "plt.hist(sens_map.data.ravel(), bins=20, label='Gradiometers',\n",
    "          color='c')\n",
    "plt.legend()\n",
    "plt.title('Normal orientation sensitivity')\n",
    "plt.xlabel('sensitivity')\n",
    "plt.ylabel('count');"
   ]
  },
  {
   "cell_type": "markdown",
   "metadata": {},
   "source": [
    "Let's view in 3D:"
   ]
  },
  {
   "cell_type": "code",
   "execution_count": null,
   "metadata": {},
   "outputs": [],
   "source": [
    "# enable correct backend for 3d plotting\n",
    "clim = dict(kind='percent', lims=(0.0, 50, 99), smoothing_steps=3)  # let's see single dipoles\n",
    "brain = sens_map.plot(subject=subject, time_label='GRAD sensitivity',\n",
    "                      subjects_dir=subjects_dir, clim=clim, smoothing_steps=8);\n",
    "view = 'lat'\n",
    "brain.show_view(view)\n",
    "brain.save_image('sensitivity_map_grad_%s.jpg' % view)\n",
    "Image(filename='sensitivity_map_grad_%s.jpg' % view, width=400)"
   ]
  },
  {
   "cell_type": "markdown",
   "metadata": {},
   "source": [
    "<div class=\"alert alert-success\">\n",
    "    <b>EXERCISE</b>:\n",
    "     <ul>\n",
    "      <li>Compute and plot the sensitivity maps for magnetometers and compare it with the gradiometers. </li>\n",
    "      <li>Can you justify the claims that MEG is not sensitive to radial sources?</li>     \n",
    "      <li>Try changing the `mode` parameter in `mne.sensitivity_map` and see how fixed or free orientation forward operator change the pictures. Comment.</li>\n",
    "    </ul>\n",
    "</div>"
   ]
  },
  {
   "cell_type": "code",
   "execution_count": null,
   "metadata": {},
   "outputs": [],
   "source": []
  }
 ],
 "metadata": {
  "kernelspec": {
   "display_name": "Python 3",
   "language": "python",
   "name": "python3"
  },
  "language_info": {
   "codemirror_mode": {
    "name": "ipython",
    "version": 3
   },
   "file_extension": ".py",
   "mimetype": "text/x-python",
   "name": "python",
   "nbconvert_exporter": "python",
   "pygments_lexer": "ipython3",
   "version": "3.7.5"
  }
 },
 "nbformat": 4,
 "nbformat_minor": 1
}
