{
 "cells": [
  {
   "cell_type": "markdown",
   "metadata": {},
   "source": [
    "\n",
    "# Source localization with single dipole fit\n",
    "\n",
    "\n",
    "The aim of this lecture is to show you how to do sequential and\n",
    "fixed dipole fitting with MNE-Python."
   ]
  },
  {
   "cell_type": "code",
   "execution_count": 1,
   "metadata": {},
   "outputs": [],
   "source": [
    "%matplotlib qt\n",
    "import matplotlib.pyplot as plt\n",
    "\n",
    "import os\n",
    "import numpy as np\n",
    "import mne\n",
    "\n",
    "mne.set_log_level('WARNING')\n",
    "\n",
    "# Change the following path to where the folder ds000117-practical is on your disk\n",
    "data_path = os.path.expanduser(\"~\\\\Downloads\\\\meeg\\\\ds000117-practical\\\\\")  # this works and is user-independent\n",
    "\n",
    "raw_fname = os.path.join(data_path,\n",
    "    'derivatives\\\\meg_derivatives\\\\sub-01\\\\ses-meg\\\\meg\\\\sub-01_ses-meg_task-facerecognition_run-01_proc-sss_meg.fif')\n",
    "\n",
    "epochs_fname = raw_fname.replace('_meg.fif', '-epo.fif')"
   ]
  },
  {
   "cell_type": "code",
   "execution_count": 10,
   "metadata": {},
   "outputs": [],
   "source": [
    "subjects_dir = os.path.join(data_path, 'derivatives\\\\freesurfer-reconall\\\\')\n",
    "subject = 'sub-01'\n",
    "trans_fname = os.path.join(data_path,\n",
    "    'derivatives\\\\meg_derivatives\\\\sub-01\\\\ses-meg\\\\meg\\\\sub-01-trans.fif')\n",
    "bem_fname = os.path.join(data_path,\n",
    "    'derivatives\\\\meg_derivatives\\\\sub-01\\\\ses-meg\\\\meg\\\\sub-01-bem.fif')\n",
    "#fname_surf_lh = os.path.join(subjects_dir, subject, 'surf', 'lh.white')"
   ]
  },
  {
   "cell_type": "markdown",
   "metadata": {},
   "source": [
    "<div class=\"alert alert-success\">\n",
    "    <b>EXERCISE</b>:\n",
    "     <ul>\n",
    "      <li>Check that the head geometry and sensor alignment is correct</li>\n",
    "    </ul>\n",
    "</div>\n",
    "\n",
    "You will need to use the `mne.viz.plot_alignment` function that can take as input a `bem` parameter of type `ConductorModel`"
   ]
  },
  {
   "cell_type": "code",
   "execution_count": 11,
   "metadata": {},
   "outputs": [
    {
     "data": {
      "text/plain": [
       "<ConductorModel  |  BEM (1 layer)>"
      ]
     },
     "execution_count": 11,
     "metadata": {},
     "output_type": "execute_result"
    }
   ],
   "source": [
    "bem = mne.bem.read_bem_solution(bem_fname)\n",
    "bem"
   ]
  },
  {
   "cell_type": "code",
   "execution_count": 12,
   "metadata": {},
   "outputs": [
    {
     "name": "stdout",
     "output_type": "stream",
     "text": [
      "Could not find the surface for head in the provided BEM model, looking in the subject directory.\n",
      "Using outer_skin.surf for head surface.\n",
      "Getting helmet for system 306m\n"
     ]
    }
   ],
   "source": [
    "# TODO\n",
    "info = mne.io.read_info(epochs_fname)\n",
    "fig = mne.viz.plot_alignment(info, trans_fname, subject=subject, dig=True,\n",
    "                             subjects_dir=subjects_dir, bem=bem, verbose=True);"
   ]
  },
  {
   "cell_type": "markdown",
   "metadata": {},
   "source": [
    "## Let's localize the N170m (using MEG only) using dipole fitting"
   ]
  },
  {
   "cell_type": "code",
   "execution_count": 13,
   "metadata": {},
   "outputs": [],
   "source": [
    "epochs = mne.read_epochs(epochs_fname)"
   ]
  },
  {
   "cell_type": "code",
   "execution_count": 14,
   "metadata": {},
   "outputs": [
    {
     "data": {
      "text/plain": [
       "<EpochsFIF  |   144 events (all good), -0.5 - 2 sec, baseline [-0.2, 0], ~259.9 MB, data loaded,\n",
       " 'face/famous/first': 24\n",
       " 'face/famous/immediate': 10\n",
       " 'face/famous/long': 14\n",
       " 'face/unfamiliar/first': 25\n",
       " 'face/unfamiliar/immediate': 11\n",
       " 'face/unfamiliar/long': 10\n",
       " 'scrambled/first': 25\n",
       " 'scrambled/immediate': 14\n",
       " 'scrambled/long': 11>"
      ]
     },
     "execution_count": 14,
     "metadata": {},
     "output_type": "execute_result"
    }
   ],
   "source": [
    "epochs.pick_types(meg=True, eeg=False)"
   ]
  },
  {
   "cell_type": "code",
   "execution_count": 43,
   "metadata": {},
   "outputs": [],
   "source": [
    "cov = mne.compute_covariance(epochs, rank='info')  ## tmax = \"the end time for baseline\", which is 0 (defined in <epochs>)"
   ]
  },
  {
   "cell_type": "code",
   "execution_count": 45,
   "metadata": {},
   "outputs": [
    {
     "data": {
      "text/plain": [
       "<Covariance  |  size : 306 x 306, n_samples : 108144, data : [[ 1.15947527e-23  4.29511821e-24  2.28686851e-25 ...  3.43366826e-24\n",
       "   4.61773660e-25  1.14859436e-25]\n",
       " [ 4.29511821e-24  1.76799058e-23  1.48342486e-25 ...  5.00592768e-24\n",
       "  -4.47451934e-25  1.77299127e-25]\n",
       " [ 2.28686851e-25  1.48342486e-25  3.00107667e-26 ...  3.40605402e-25\n",
       "   9.40284008e-26  6.93747958e-27]\n",
       " ...\n",
       " [ 3.43366826e-24  5.00592768e-24  3.40605402e-25 ...  3.84771054e-23\n",
       "   4.86696597e-24  8.02671470e-26]\n",
       " [ 4.61773660e-25 -4.47451934e-25  9.40284008e-26 ...  4.86696597e-24\n",
       "   1.64282201e-23  4.27698983e-26]\n",
       " [ 1.14859436e-25  1.77299127e-25  6.93747958e-27 ...  8.02671470e-26\n",
       "   4.27698983e-26  2.64156381e-26]]>"
      ]
     },
     "execution_count": 45,
     "metadata": {},
     "output_type": "execute_result"
    }
   ],
   "source": [
    "cov"
   ]
  },
  {
   "cell_type": "code",
   "execution_count": 16,
   "metadata": {},
   "outputs": [],
   "source": [
    "evoked_face = epochs['face'].average()\n",
    "evoked_scrambled = epochs['scrambled'].average()"
   ]
  },
  {
   "cell_type": "code",
   "execution_count": 46,
   "metadata": {},
   "outputs": [],
   "source": [
    "contrast = mne.combine_evoked([evoked_face, evoked_scrambled], [0.5, -0.5])\n",
    "contrast.crop(None, 0.2)\n",
    "contrast.plot();"
   ]
  },
  {
   "cell_type": "code",
   "execution_count": 38,
   "metadata": {},
   "outputs": [
    {
     "name": "stdout",
     "output_type": "stream",
     "text": [
      "<Dipole  |  n_times : 4, tmin : 0.050, tmax : 0.060>\n"
     ]
    }
   ],
   "source": [
    "# Fit a dipole using a sequential (time-varying position and orientation) fit\n",
    "contrast_crop = contrast.copy().crop(0.05, 0.06)\n",
    "dip, residual = mne.fit_dipole(contrast_crop, cov, bem_fname,\n",
    "                               trans_fname)\n",
    "print(dip)"
   ]
  },
  {
   "cell_type": "code",
   "execution_count": 39,
   "metadata": {},
   "outputs": [
    {
     "name": "stdout",
     "output_type": "stream",
     "text": [
      "[25.13976224 25.506638   25.23810197 22.42646327]\n"
     ]
    }
   ],
   "source": [
    "# Look at our result\n",
    "print(dip.gof)"
   ]
  },
  {
   "cell_type": "code",
   "execution_count": 40,
   "metadata": {},
   "outputs": [],
   "source": [
    "dip.plot_locations(subject=subject, trans=trans_fname,\n",
    "                   subjects_dir=subjects_dir, mode='orthoview');"
   ]
  },
  {
   "cell_type": "markdown",
   "metadata": {},
   "source": [
    "<div class=\"alert alert-success\">\n",
    "    <b>EXERCISE</b>:\n",
    "     <ul>\n",
    "      <li>Try to improve the dipole fit by using a subselection of channels [0] </li>\n",
    "      <li>What is the improvement in max GOF from using a subselection of channels?</li>     \n",
    "      <li>Should you also try to maximize GOF?</li>\n",
    "    </ul>\n",
    "</div>\n",
    "\n",
    "Tips and tricks:\n",
    "\n",
    "   - [0] Subselect channels (think about ``mne.read_selection(...)``, ``evoked.pick_channels(...)``)"
   ]
  },
  {
   "cell_type": "markdown",
   "metadata": {},
   "source": [
    "Trying the same with EEG enabled doesn't seem to do the trick, because <epochs> only has MEG sensors."
   ]
  },
  {
   "cell_type": "code",
   "execution_count": 31,
   "metadata": {},
   "outputs": [
    {
     "name": "stderr",
     "output_type": "stream",
     "text": [
      "<ipython-input-31-df7a1766e896>:6: RuntimeWarning: Projection vector \"EOG-planar--0.200-0.200-PCA-01\" has magnitude 0.71 (should be unity), applying projector with 102/204 of the original channels available may be dangerous, consider recomputing and adding projection vectors for channels that are eventually used. If this is intentional, consider using info.normalize_proj()\n",
      "  cov, bem_fname, trans_fname)\n",
      "<ipython-input-31-df7a1766e896>:6: RuntimeWarning: Projection vector \"EOG-planar--0.200-0.200-PCA-02\" has magnitude 0.84 (should be unity), applying projector with 102/204 of the original channels available may be dangerous, consider recomputing and adding projection vectors for channels that are eventually used. If this is intentional, consider using info.normalize_proj()\n",
      "  cov, bem_fname, trans_fname)\n",
      "<ipython-input-31-df7a1766e896>:6: RuntimeWarning: Projection vector \"EOG-planar--0.200-0.200-PCA-03\" has magnitude 0.72 (should be unity), applying projector with 102/204 of the original channels available may be dangerous, consider recomputing and adding projection vectors for channels that are eventually used. If this is intentional, consider using info.normalize_proj()\n",
      "  cov, bem_fname, trans_fname)\n",
      "<ipython-input-31-df7a1766e896>:6: RuntimeWarning: Projection vector \"EOG-axial--0.200-0.200-PCA-01\" has magnitude 0.70 (should be unity), applying projector with 51/102 of the original channels available may be dangerous, consider recomputing and adding projection vectors for channels that are eventually used. If this is intentional, consider using info.normalize_proj()\n",
      "  cov, bem_fname, trans_fname)\n",
      "<ipython-input-31-df7a1766e896>:6: RuntimeWarning: Projection vector \"EOG-axial--0.200-0.200-PCA-02\" has magnitude 0.71 (should be unity), applying projector with 51/102 of the original channels available may be dangerous, consider recomputing and adding projection vectors for channels that are eventually used. If this is intentional, consider using info.normalize_proj()\n",
      "  cov, bem_fname, trans_fname)\n",
      "<ipython-input-31-df7a1766e896>:6: RuntimeWarning: Projection vector \"EOG-axial--0.200-0.200-PCA-03\" has magnitude 0.89 (should be unity), applying projector with 51/102 of the original channels available may be dangerous, consider recomputing and adding projection vectors for channels that are eventually used. If this is intentional, consider using info.normalize_proj()\n",
      "  cov, bem_fname, trans_fname)\n",
      "<ipython-input-31-df7a1766e896>:6: RuntimeWarning: Projection vector \"ECG-planar--0.200-0.400-PCA-01\" has magnitude 0.82 (should be unity), applying projector with 102/204 of the original channels available may be dangerous, consider recomputing and adding projection vectors for channels that are eventually used. If this is intentional, consider using info.normalize_proj()\n",
      "  cov, bem_fname, trans_fname)\n",
      "<ipython-input-31-df7a1766e896>:6: RuntimeWarning: Projection vector \"ECG-planar--0.200-0.400-PCA-02\" has magnitude 0.73 (should be unity), applying projector with 102/204 of the original channels available may be dangerous, consider recomputing and adding projection vectors for channels that are eventually used. If this is intentional, consider using info.normalize_proj()\n",
      "  cov, bem_fname, trans_fname)\n",
      "<ipython-input-31-df7a1766e896>:6: RuntimeWarning: Projection vector \"ECG-planar--0.200-0.400-PCA-03\" has magnitude 0.71 (should be unity), applying projector with 102/204 of the original channels available may be dangerous, consider recomputing and adding projection vectors for channels that are eventually used. If this is intentional, consider using info.normalize_proj()\n",
      "  cov, bem_fname, trans_fname)\n",
      "<ipython-input-31-df7a1766e896>:6: RuntimeWarning: Projection vector \"ECG-axial--0.200-0.400-PCA-01\" has magnitude 0.63 (should be unity), applying projector with 51/102 of the original channels available may be dangerous, consider recomputing and adding projection vectors for channels that are eventually used. If this is intentional, consider using info.normalize_proj()\n",
      "  cov, bem_fname, trans_fname)\n",
      "<ipython-input-31-df7a1766e896>:6: RuntimeWarning: Projection vector \"ECG-axial--0.200-0.400-PCA-02\" has magnitude 0.77 (should be unity), applying projector with 51/102 of the original channels available may be dangerous, consider recomputing and adding projection vectors for channels that are eventually used. If this is intentional, consider using info.normalize_proj()\n",
      "  cov, bem_fname, trans_fname)\n",
      "<ipython-input-31-df7a1766e896>:6: RuntimeWarning: Projection vector \"ECG-axial--0.200-0.400-PCA-03\" has magnitude 0.75 (should be unity), applying projector with 51/102 of the original channels available may be dangerous, consider recomputing and adding projection vectors for channels that are eventually used. If this is intentional, consider using info.normalize_proj()\n",
      "  cov, bem_fname, trans_fname)\n",
      "<ipython-input-31-df7a1766e896>:6: RuntimeWarning: Projection vector \"EOG-planar--0.200-0.200-PCA-01\" has magnitude 0.71 (should be unity), applying projector with 102/204 of the original channels available may be dangerous, consider recomputing and adding projection vectors for channels that are eventually used. If this is intentional, consider using info.normalize_proj()\n",
      "  cov, bem_fname, trans_fname)\n",
      "<ipython-input-31-df7a1766e896>:6: RuntimeWarning: Projection vector \"EOG-planar--0.200-0.200-PCA-02\" has magnitude 0.84 (should be unity), applying projector with 102/204 of the original channels available may be dangerous, consider recomputing and adding projection vectors for channels that are eventually used. If this is intentional, consider using info.normalize_proj()\n",
      "  cov, bem_fname, trans_fname)\n",
      "<ipython-input-31-df7a1766e896>:6: RuntimeWarning: Projection vector \"EOG-planar--0.200-0.200-PCA-03\" has magnitude 0.72 (should be unity), applying projector with 102/204 of the original channels available may be dangerous, consider recomputing and adding projection vectors for channels that are eventually used. If this is intentional, consider using info.normalize_proj()\n",
      "  cov, bem_fname, trans_fname)\n",
      "<ipython-input-31-df7a1766e896>:6: RuntimeWarning: Projection vector \"EOG-axial--0.200-0.200-PCA-01\" has magnitude 0.70 (should be unity), applying projector with 51/102 of the original channels available may be dangerous, consider recomputing and adding projection vectors for channels that are eventually used. If this is intentional, consider using info.normalize_proj()\n",
      "  cov, bem_fname, trans_fname)\n",
      "<ipython-input-31-df7a1766e896>:6: RuntimeWarning: Projection vector \"EOG-axial--0.200-0.200-PCA-02\" has magnitude 0.71 (should be unity), applying projector with 51/102 of the original channels available may be dangerous, consider recomputing and adding projection vectors for channels that are eventually used. If this is intentional, consider using info.normalize_proj()\n",
      "  cov, bem_fname, trans_fname)\n",
      "<ipython-input-31-df7a1766e896>:6: RuntimeWarning: Projection vector \"EOG-axial--0.200-0.200-PCA-03\" has magnitude 0.89 (should be unity), applying projector with 51/102 of the original channels available may be dangerous, consider recomputing and adding projection vectors for channels that are eventually used. If this is intentional, consider using info.normalize_proj()\n",
      "  cov, bem_fname, trans_fname)\n",
      "<ipython-input-31-df7a1766e896>:6: RuntimeWarning: Projection vector \"ECG-planar--0.200-0.400-PCA-01\" has magnitude 0.82 (should be unity), applying projector with 102/204 of the original channels available may be dangerous, consider recomputing and adding projection vectors for channels that are eventually used. If this is intentional, consider using info.normalize_proj()\n",
      "  cov, bem_fname, trans_fname)\n",
      "<ipython-input-31-df7a1766e896>:6: RuntimeWarning: Projection vector \"ECG-planar--0.200-0.400-PCA-02\" has magnitude 0.73 (should be unity), applying projector with 102/204 of the original channels available may be dangerous, consider recomputing and adding projection vectors for channels that are eventually used. If this is intentional, consider using info.normalize_proj()\n",
      "  cov, bem_fname, trans_fname)\n",
      "<ipython-input-31-df7a1766e896>:6: RuntimeWarning: Projection vector \"ECG-planar--0.200-0.400-PCA-03\" has magnitude 0.71 (should be unity), applying projector with 102/204 of the original channels available may be dangerous, consider recomputing and adding projection vectors for channels that are eventually used. If this is intentional, consider using info.normalize_proj()\n",
      "  cov, bem_fname, trans_fname)\n",
      "<ipython-input-31-df7a1766e896>:6: RuntimeWarning: Projection vector \"ECG-axial--0.200-0.400-PCA-01\" has magnitude 0.63 (should be unity), applying projector with 51/102 of the original channels available may be dangerous, consider recomputing and adding projection vectors for channels that are eventually used. If this is intentional, consider using info.normalize_proj()\n",
      "  cov, bem_fname, trans_fname)\n",
      "<ipython-input-31-df7a1766e896>:6: RuntimeWarning: Projection vector \"ECG-axial--0.200-0.400-PCA-02\" has magnitude 0.77 (should be unity), applying projector with 51/102 of the original channels available may be dangerous, consider recomputing and adding projection vectors for channels that are eventually used. If this is intentional, consider using info.normalize_proj()\n",
      "  cov, bem_fname, trans_fname)\n",
      "<ipython-input-31-df7a1766e896>:6: RuntimeWarning: Projection vector \"ECG-axial--0.200-0.400-PCA-03\" has magnitude 0.75 (should be unity), applying projector with 51/102 of the original channels available may be dangerous, consider recomputing and adding projection vectors for channels that are eventually used. If this is intentional, consider using info.normalize_proj()\n",
      "  cov, bem_fname, trans_fname)\n",
      "<ipython-input-31-df7a1766e896>:6: RuntimeWarning: Projection vector \"EOG-planar--0.200-0.200-PCA-01\" has magnitude 0.71 (should be unity), applying projector with 102/204 of the original channels available may be dangerous, consider recomputing and adding projection vectors for channels that are eventually used. If this is intentional, consider using info.normalize_proj()\n",
      "  cov, bem_fname, trans_fname)\n",
      "<ipython-input-31-df7a1766e896>:6: RuntimeWarning: Projection vector \"EOG-planar--0.200-0.200-PCA-02\" has magnitude 0.84 (should be unity), applying projector with 102/204 of the original channels available may be dangerous, consider recomputing and adding projection vectors for channels that are eventually used. If this is intentional, consider using info.normalize_proj()\n",
      "  cov, bem_fname, trans_fname)\n",
      "<ipython-input-31-df7a1766e896>:6: RuntimeWarning: Projection vector \"EOG-planar--0.200-0.200-PCA-03\" has magnitude 0.72 (should be unity), applying projector with 102/204 of the original channels available may be dangerous, consider recomputing and adding projection vectors for channels that are eventually used. If this is intentional, consider using info.normalize_proj()\n",
      "  cov, bem_fname, trans_fname)\n",
      "<ipython-input-31-df7a1766e896>:6: RuntimeWarning: Projection vector \"EOG-axial--0.200-0.200-PCA-01\" has magnitude 0.70 (should be unity), applying projector with 51/102 of the original channels available may be dangerous, consider recomputing and adding projection vectors for channels that are eventually used. If this is intentional, consider using info.normalize_proj()\n",
      "  cov, bem_fname, trans_fname)\n",
      "<ipython-input-31-df7a1766e896>:6: RuntimeWarning: Projection vector \"EOG-axial--0.200-0.200-PCA-02\" has magnitude 0.71 (should be unity), applying projector with 51/102 of the original channels available may be dangerous, consider recomputing and adding projection vectors for channels that are eventually used. If this is intentional, consider using info.normalize_proj()\n",
      "  cov, bem_fname, trans_fname)\n",
      "<ipython-input-31-df7a1766e896>:6: RuntimeWarning: Projection vector \"EOG-axial--0.200-0.200-PCA-03\" has magnitude 0.89 (should be unity), applying projector with 51/102 of the original channels available may be dangerous, consider recomputing and adding projection vectors for channels that are eventually used. If this is intentional, consider using info.normalize_proj()\n",
      "  cov, bem_fname, trans_fname)\n",
      "<ipython-input-31-df7a1766e896>:6: RuntimeWarning: Projection vector \"ECG-planar--0.200-0.400-PCA-01\" has magnitude 0.82 (should be unity), applying projector with 102/204 of the original channels available may be dangerous, consider recomputing and adding projection vectors for channels that are eventually used. If this is intentional, consider using info.normalize_proj()\n",
      "  cov, bem_fname, trans_fname)\n",
      "<ipython-input-31-df7a1766e896>:6: RuntimeWarning: Projection vector \"ECG-planar--0.200-0.400-PCA-02\" has magnitude 0.73 (should be unity), applying projector with 102/204 of the original channels available may be dangerous, consider recomputing and adding projection vectors for channels that are eventually used. If this is intentional, consider using info.normalize_proj()\n",
      "  cov, bem_fname, trans_fname)\n",
      "<ipython-input-31-df7a1766e896>:6: RuntimeWarning: Projection vector \"ECG-planar--0.200-0.400-PCA-03\" has magnitude 0.71 (should be unity), applying projector with 102/204 of the original channels available may be dangerous, consider recomputing and adding projection vectors for channels that are eventually used. If this is intentional, consider using info.normalize_proj()\n",
      "  cov, bem_fname, trans_fname)\n",
      "<ipython-input-31-df7a1766e896>:6: RuntimeWarning: Projection vector \"ECG-axial--0.200-0.400-PCA-01\" has magnitude 0.63 (should be unity), applying projector with 51/102 of the original channels available may be dangerous, consider recomputing and adding projection vectors for channels that are eventually used. If this is intentional, consider using info.normalize_proj()\n",
      "  cov, bem_fname, trans_fname)\n",
      "<ipython-input-31-df7a1766e896>:6: RuntimeWarning: Projection vector \"ECG-axial--0.200-0.400-PCA-02\" has magnitude 0.77 (should be unity), applying projector with 51/102 of the original channels available may be dangerous, consider recomputing and adding projection vectors for channels that are eventually used. If this is intentional, consider using info.normalize_proj()\n",
      "  cov, bem_fname, trans_fname)\n",
      "<ipython-input-31-df7a1766e896>:6: RuntimeWarning: Projection vector \"ECG-axial--0.200-0.400-PCA-03\" has magnitude 0.75 (should be unity), applying projector with 51/102 of the original channels available may be dangerous, consider recomputing and adding projection vectors for channels that are eventually used. If this is intentional, consider using info.normalize_proj()\n",
      "  cov, bem_fname, trans_fname)\n",
      "<ipython-input-31-df7a1766e896>:6: RuntimeWarning: Projection vector \"EOG-planar--0.200-0.200-PCA-01\" has magnitude 0.71 (should be unity), applying projector with 102/204 of the original channels available may be dangerous, consider recomputing and adding projection vectors for channels that are eventually used. If this is intentional, consider using info.normalize_proj()\n",
      "  cov, bem_fname, trans_fname)\n",
      "<ipython-input-31-df7a1766e896>:6: RuntimeWarning: Projection vector \"EOG-planar--0.200-0.200-PCA-02\" has magnitude 0.84 (should be unity), applying projector with 102/204 of the original channels available may be dangerous, consider recomputing and adding projection vectors for channels that are eventually used. If this is intentional, consider using info.normalize_proj()\n",
      "  cov, bem_fname, trans_fname)\n",
      "<ipython-input-31-df7a1766e896>:6: RuntimeWarning: Projection vector \"EOG-planar--0.200-0.200-PCA-03\" has magnitude 0.72 (should be unity), applying projector with 102/204 of the original channels available may be dangerous, consider recomputing and adding projection vectors for channels that are eventually used. If this is intentional, consider using info.normalize_proj()\n",
      "  cov, bem_fname, trans_fname)\n",
      "<ipython-input-31-df7a1766e896>:6: RuntimeWarning: Projection vector \"EOG-axial--0.200-0.200-PCA-01\" has magnitude 0.70 (should be unity), applying projector with 51/102 of the original channels available may be dangerous, consider recomputing and adding projection vectors for channels that are eventually used. If this is intentional, consider using info.normalize_proj()\n",
      "  cov, bem_fname, trans_fname)\n",
      "<ipython-input-31-df7a1766e896>:6: RuntimeWarning: Projection vector \"EOG-axial--0.200-0.200-PCA-02\" has magnitude 0.71 (should be unity), applying projector with 51/102 of the original channels available may be dangerous, consider recomputing and adding projection vectors for channels that are eventually used. If this is intentional, consider using info.normalize_proj()\n",
      "  cov, bem_fname, trans_fname)\n",
      "<ipython-input-31-df7a1766e896>:6: RuntimeWarning: Projection vector \"EOG-axial--0.200-0.200-PCA-03\" has magnitude 0.89 (should be unity), applying projector with 51/102 of the original channels available may be dangerous, consider recomputing and adding projection vectors for channels that are eventually used. If this is intentional, consider using info.normalize_proj()\n",
      "  cov, bem_fname, trans_fname)\n",
      "<ipython-input-31-df7a1766e896>:6: RuntimeWarning: Projection vector \"ECG-planar--0.200-0.400-PCA-01\" has magnitude 0.82 (should be unity), applying projector with 102/204 of the original channels available may be dangerous, consider recomputing and adding projection vectors for channels that are eventually used. If this is intentional, consider using info.normalize_proj()\n",
      "  cov, bem_fname, trans_fname)\n",
      "<ipython-input-31-df7a1766e896>:6: RuntimeWarning: Projection vector \"ECG-planar--0.200-0.400-PCA-02\" has magnitude 0.73 (should be unity), applying projector with 102/204 of the original channels available may be dangerous, consider recomputing and adding projection vectors for channels that are eventually used. If this is intentional, consider using info.normalize_proj()\n",
      "  cov, bem_fname, trans_fname)\n",
      "<ipython-input-31-df7a1766e896>:6: RuntimeWarning: Projection vector \"ECG-planar--0.200-0.400-PCA-03\" has magnitude 0.71 (should be unity), applying projector with 102/204 of the original channels available may be dangerous, consider recomputing and adding projection vectors for channels that are eventually used. If this is intentional, consider using info.normalize_proj()\n",
      "  cov, bem_fname, trans_fname)\n",
      "<ipython-input-31-df7a1766e896>:6: RuntimeWarning: Projection vector \"ECG-axial--0.200-0.400-PCA-01\" has magnitude 0.63 (should be unity), applying projector with 51/102 of the original channels available may be dangerous, consider recomputing and adding projection vectors for channels that are eventually used. If this is intentional, consider using info.normalize_proj()\n",
      "  cov, bem_fname, trans_fname)\n",
      "<ipython-input-31-df7a1766e896>:6: RuntimeWarning: Projection vector \"ECG-axial--0.200-0.400-PCA-02\" has magnitude 0.77 (should be unity), applying projector with 51/102 of the original channels available may be dangerous, consider recomputing and adding projection vectors for channels that are eventually used. If this is intentional, consider using info.normalize_proj()\n",
      "  cov, bem_fname, trans_fname)\n",
      "<ipython-input-31-df7a1766e896>:6: RuntimeWarning: Projection vector \"ECG-axial--0.200-0.400-PCA-03\" has magnitude 0.75 (should be unity), applying projector with 51/102 of the original channels available may be dangerous, consider recomputing and adding projection vectors for channels that are eventually used. If this is intentional, consider using info.normalize_proj()\n",
      "  cov, bem_fname, trans_fname)\n"
     ]
    },
    {
     "name": "stdout",
     "output_type": "stream",
     "text": [
      "<Dipole  |  n_times : 6, tmin : 0.173, tmax : 0.190>\n"
     ]
    }
   ],
   "source": [
    "# TODO\n",
    "selection = mne.read_selection('Left', info=contrast.info)\n",
    "# Fit a dipole using a sequential (time-varying position and orientation) fit\n",
    "dip, residual = \\\n",
    "    mne.fit_dipole(contrast_crop.copy().pick_channels(selection),\n",
    "                   cov, bem_fname, trans_fname)\n",
    "print(dip)"
   ]
  },
  {
   "cell_type": "code",
   "execution_count": 32,
   "metadata": {},
   "outputs": [
    {
     "name": "stdout",
     "output_type": "stream",
     "text": [
      "[33.77001166 40.24123163 40.96372156 30.0573477  34.03894796 54.24222316]\n"
     ]
    }
   ],
   "source": [
    "print(dip.gof)"
   ]
  },
  {
   "cell_type": "code",
   "execution_count": 33,
   "metadata": {},
   "outputs": [],
   "source": [
    "dip.plot_locations(subject=subject, trans=trans_fname,\n",
    "                   subjects_dir=subjects_dir, mode='orthoview');"
   ]
  }
 ],
 "metadata": {
  "kernelspec": {
   "display_name": "Python 3",
   "language": "python",
   "name": "python3"
  },
  "language_info": {
   "codemirror_mode": {
    "name": "ipython",
    "version": 3
   },
   "file_extension": ".py",
   "mimetype": "text/x-python",
   "name": "python",
   "nbconvert_exporter": "python",
   "pygments_lexer": "ipython3",
   "version": "3.7.5"
  }
 },
 "nbformat": 4,
 "nbformat_minor": 4
}
