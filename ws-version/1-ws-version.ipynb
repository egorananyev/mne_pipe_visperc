{
 "cells": [
  {
   "cell_type": "markdown",
   "metadata": {},
   "source": [
    "# MNE : From raw data to epochs and evoked responses (ERF/ERP)\n",
    "\n",
    "`\n",
    "Authors:\n",
    "Alexandre Gramfort\n",
    "Denis A. Engemann\n",
    "`"
   ]
  },
  {
   "cell_type": "code",
   "execution_count": 1,
   "metadata": {},
   "outputs": [],
   "source": [
    "%matplotlib qt\n",
    "import numpy as np\n",
    "import matplotlib\n",
    "matplotlib.use(\"Qt5Agg\")\n",
    "import matplotlib as mpl\n",
    "import matplotlib.pyplot as plt"
   ]
  },
  {
   "cell_type": "markdown",
   "metadata": {},
   "source": [
    "First, load the mne package:"
   ]
  },
  {
   "cell_type": "code",
   "execution_count": 2,
   "metadata": {},
   "outputs": [],
   "source": [
    "import mne"
   ]
  },
  {
   "cell_type": "markdown",
   "metadata": {},
   "source": [
    "We set the log-level to 'warning' so the output is less verbose"
   ]
  },
  {
   "cell_type": "code",
   "execution_count": 3,
   "metadata": {},
   "outputs": [],
   "source": [
    "mne.set_log_level('warning')"
   ]
  },
  {
   "cell_type": "markdown",
   "metadata": {},
   "source": [
    "### Remember if you need help just ask... the machine"
   ]
  },
  {
   "cell_type": "code",
   "execution_count": 4,
   "metadata": {},
   "outputs": [],
   "source": [
    "mne.pick_types?"
   ]
  },
  {
   "cell_type": "markdown",
   "metadata": {},
   "source": [
    "## Access raw data"
   ]
  },
  {
   "cell_type": "markdown",
   "metadata": {},
   "source": [
    "You should have downloaded the `ds000117-practical` folder."
   ]
  },
  {
   "cell_type": "code",
   "execution_count": 5,
   "metadata": {},
   "outputs": [],
   "source": [
    "import os\n",
    "\n",
    "# Change the following path to where the folder ds000117-practical is on your disk\n",
    "data_path = os.path.expanduser(\"/mnt/c/Users/Egor/Downloads/MEEG/ds000117-practical/\")\n",
    "\n",
    "raw_fname = os.path.join(data_path,\n",
    "    'derivatives/meg_derivatives/sub-01/ses-meg/meg/sub-01_ses-meg_task-facerecognition_run-01_proc-sss_meg.fif')"
   ]
  },
  {
   "cell_type": "code",
   "execution_count": 6,
   "metadata": {},
   "outputs": [
    {
     "name": "stdout",
     "output_type": "stream",
     "text": [
      "/mnt/c/Users/Egor/Downloads/MEEG/ds000117-practical/derivatives/meg_derivatives/sub-01/ses-meg/meg/sub-01_ses-meg_task-facerecognition_run-01_proc-sss_meg.fif\n"
     ]
    }
   ],
   "source": [
    "print(raw_fname)"
   ]
  },
  {
   "cell_type": "markdown",
   "metadata": {},
   "source": [
    "Read data from file:"
   ]
  },
  {
   "cell_type": "code",
   "execution_count": 7,
   "metadata": {},
   "outputs": [],
   "source": [
    "mne.io.read_raw_fif?"
   ]
  },
  {
   "cell_type": "code",
   "execution_count": 8,
   "metadata": {},
   "outputs": [
    {
     "name": "stdout",
     "output_type": "stream",
     "text": [
      "<Raw  |  sub-01_ses-meg_task-facerecognition_run-01_proc-sss_meg.fif, n_channels x n_times : 404 x 540100 (491.0 sec), ~7.4 MB, data not loaded>\n"
     ]
    }
   ],
   "source": [
    "raw = mne.io.read_raw_fif(raw_fname, preload=False)\n",
    "print(raw)"
   ]
  },
  {
   "cell_type": "markdown",
   "metadata": {},
   "source": [
    "Note the `preload=False` which states that no data is actually in memory.\n",
    "\n",
    "For general info on importing MEG see:\n",
    "https://mne.tools/stable/auto_tutorials/io/plot_10_reading_meg_data.html\n",
    "or EEG see:\n",
    "https://mne.tools/stable/auto_tutorials/io/plot_20_reading_eeg_data.html\n",
    "\n",
    "Now let's look at the measurement info. It will give details about:\n",
    "\n",
    "   - sampling rate\n",
    "   - filtering parameters\n",
    "   - available channel types\n",
    "   - bad channels\n",
    "   - etc."
   ]
  },
  {
   "cell_type": "code",
   "execution_count": 9,
   "metadata": {},
   "outputs": [
    {
     "data": {
      "text/plain": [
       "'0.19.2'"
      ]
     },
     "execution_count": 9,
     "metadata": {},
     "output_type": "execute_result"
    }
   ],
   "source": [
    "mne.__version__"
   ]
  },
  {
   "cell_type": "code",
   "execution_count": 10,
   "metadata": {},
   "outputs": [
    {
     "name": "stdout",
     "output_type": "stream",
     "text": [
      "<Info | 27 non-empty fields\n",
      "    acq_pars : str | 21833 items\n",
      "    bads : list | 0 items\n",
      "    ch_names : list | MEG0113, MEG0112, MEG0111, MEG0122, MEG0123, MEG0121, ...\n",
      "    chs : list | 404 items (GRAD: 204, MAG: 102, EEG: 74, STIM: 3, MISC: 12, CHPI: 9)\n",
      "    comps : list | 0 items\n",
      "    custom_ref_applied : bool | False\n",
      "    description : str | 36 items\n",
      "    dev_head_t : Transform | 3 items\n",
      "    dig : Digitization | 137 items (3 Cardinal, 5 HPI, 75 EEG, 54 Extra)\n",
      "    events : list | 1 items\n",
      "    experimenter : str | 3 items\n",
      "    file_id : dict | 4 items\n",
      "    highpass : float | 0.0 Hz\n",
      "    hpi_meas : list | 1 items\n",
      "    hpi_results : list | 1 items\n",
      "    hpi_subsystem : dict | 2 items\n",
      "    line_freq : float | 50.0\n",
      "    lowpass : float | 356.3999938964844 Hz\n",
      "    meas_date : tuple | 1941-03-22 11:04:14 GMT\n",
      "    meas_id : dict | 4 items\n",
      "    nchan : int | 404\n",
      "    proc_history : list | 1 items\n",
      "    proj_id : ndarray | 1 items\n",
      "    proj_name : str | 11 items\n",
      "    projs : list | 0 items\n",
      "    sfreq : float | 1100.0 Hz\n",
      "    subject_info : dict | 2 items\n",
      "    acq_stim : NoneType\n",
      "    ctf_head_t : NoneType\n",
      "    dev_ctf_t : NoneType\n",
      "    device_info : NoneType\n",
      "    gantry_angle : NoneType\n",
      "    helium_info : NoneType\n",
      "    kit_system_id : NoneType\n",
      "    utc_offset : NoneType\n",
      "    xplotter_layout : NoneType\n",
      ">\n"
     ]
    }
   ],
   "source": [
    "print(raw.info)\n",
    "# CHPI = continuous head positioning"
   ]
  },
  {
   "cell_type": "markdown",
   "metadata": {},
   "source": [
    "<div class=\"alert alert-success\">\n",
    "    <b>Exercise</b>:\n",
    "     <ul>\n",
    "    <li>How many channels do you have for each type of sensors?</li>\n",
    "    <li>What is the sampling frequency?</li>\n",
    "    <li>Have the data been filtered?</li>\n",
    "    <li>What is the frequency of the line noise?</li>\n",
    "    <li>Is there any bad channel?</li>\n",
    "    </ul>\n",
    "</div>"
   ]
  },
  {
   "cell_type": "markdown",
   "metadata": {},
   "source": [
    "INSERT ANSWERS HERE"
   ]
  },
  {
   "cell_type": "markdown",
   "metadata": {},
   "source": [
    "raw.info is just a dictionary:"
   ]
  },
  {
   "cell_type": "code",
   "execution_count": 11,
   "metadata": {},
   "outputs": [
    {
     "data": {
      "text/plain": [
       "True"
      ]
     },
     "execution_count": 11,
     "metadata": {},
     "output_type": "execute_result"
    }
   ],
   "source": [
    "isinstance(raw.info, dict)"
   ]
  },
  {
   "cell_type": "markdown",
   "metadata": {},
   "source": [
    "So we can access its elements this way:"
   ]
  },
  {
   "cell_type": "code",
   "execution_count": 12,
   "metadata": {},
   "outputs": [
    {
     "data": {
      "text/plain": [
       "1100.0"
      ]
     },
     "execution_count": 12,
     "metadata": {},
     "output_type": "execute_result"
    }
   ],
   "source": [
    "raw.info['sfreq']  # Sampling frequency"
   ]
  },
  {
   "cell_type": "code",
   "execution_count": 13,
   "metadata": {},
   "outputs": [
    {
     "data": {
      "text/plain": [
       "[]"
      ]
     },
     "execution_count": 13,
     "metadata": {},
     "output_type": "execute_result"
    }
   ],
   "source": [
    "raw.info['bads']  # list of marked bad channels"
   ]
  },
  {
   "cell_type": "markdown",
   "metadata": {},
   "source": [
    "Next let's see what channels are present. It is available via the `raw.ch_names` attribute."
   ]
  },
  {
   "cell_type": "code",
   "execution_count": 14,
   "metadata": {},
   "outputs": [
    {
     "data": {
      "text/plain": [
       "['MEG0113',\n",
       " 'MEG0112',\n",
       " 'MEG0111',\n",
       " 'MEG0122',\n",
       " 'MEG0123',\n",
       " 'MEG0121',\n",
       " 'MEG0132',\n",
       " 'MEG0133',\n",
       " 'MEG0131',\n",
       " 'MEG0143']"
      ]
     },
     "execution_count": 14,
     "metadata": {},
     "output_type": "execute_result"
    }
   ],
   "source": [
    "raw.ch_names[:10]\n",
    "# this is a standard list"
   ]
  },
  {
   "cell_type": "markdown",
   "metadata": {},
   "source": [
    "You can index it as a list"
   ]
  },
  {
   "cell_type": "code",
   "execution_count": 15,
   "metadata": {},
   "outputs": [
    {
     "data": {
      "text/plain": [
       "'MEG0432'"
      ]
     },
     "execution_count": 15,
     "metadata": {},
     "output_type": "execute_result"
    }
   ],
   "source": [
    "raw.ch_names[42]"
   ]
  },
  {
   "cell_type": "markdown",
   "metadata": {},
   "source": [
    "Channel type of a specific channel"
   ]
  },
  {
   "cell_type": "code",
   "execution_count": 16,
   "metadata": {},
   "outputs": [
    {
     "name": "stdout",
     "output_type": "stream",
     "text": [
      "Channel #75 is of type: grad\n",
      "Channel #320 is of type: eeg\n"
     ]
    }
   ],
   "source": [
    "channel_type = mne.io.pick.channel_type(raw.info, 75)\n",
    "print('Channel #75 is of type:', channel_type)\n",
    "\n",
    "channel_type = mne.io.pick.channel_type(raw.info, 320)\n",
    "print('Channel #320 is of type:', channel_type)"
   ]
  },
  {
   "cell_type": "markdown",
   "metadata": {},
   "source": [
    "Info contains all the details about the sensors (type, locations, coordinate frame etc.)"
   ]
  },
  {
   "cell_type": "code",
   "execution_count": 17,
   "metadata": {},
   "outputs": [
    {
     "data": {
      "text/plain": [
       "404"
      ]
     },
     "execution_count": 17,
     "metadata": {},
     "output_type": "execute_result"
    }
   ],
   "source": [
    "len(raw.info['chs'])"
   ]
  },
  {
   "cell_type": "code",
   "execution_count": 18,
   "metadata": {},
   "outputs": [
    {
     "data": {
      "text/plain": [
       "list"
      ]
     },
     "execution_count": 18,
     "metadata": {},
     "output_type": "execute_result"
    }
   ],
   "source": [
    "type(raw.info['chs'])"
   ]
  },
  {
   "cell_type": "code",
   "execution_count": 19,
   "metadata": {},
   "outputs": [
    {
     "data": {
      "text/plain": [
       "{'scanno': 1,\n",
       " 'logno': 113,\n",
       " 'kind': 1,\n",
       " 'range': 1.9073486328125e-05,\n",
       " 'cal': 3.250000046861601e-09,\n",
       " 'coil_type': 3012,\n",
       " 'loc': array([-0.1066    ,  0.0464    , -0.0604    , -0.01532829,  0.00619847,\n",
       "        -0.99986327, -0.18597366, -0.98255992, -0.00331254, -0.98243302,\n",
       "         0.185894  ,  0.016216  ]),\n",
       " 'unit': 201,\n",
       " 'unit_mul': 0,\n",
       " 'ch_name': 'MEG0113',\n",
       " 'coord_frame': 1 (FIFFV_COORD_DEVICE)}"
      ]
     },
     "execution_count": 19,
     "metadata": {},
     "output_type": "execute_result"
    }
   ],
   "source": [
    "raw.info['chs'][0]"
   ]
  },
  {
   "cell_type": "markdown",
   "metadata": {},
   "source": [
    "Twelve values for a single location: this also has orientation. \"Flattened values from a transformation.\""
   ]
  },
  {
   "cell_type": "code",
   "execution_count": 20,
   "metadata": {},
   "outputs": [
    {
     "data": {
      "text/plain": [
       "{'scanno': 331,\n",
       " 'logno': 25,\n",
       " 'kind': 2,\n",
       " 'range': 0.00030517578125,\n",
       " 'cal': 0.00019999999494757503,\n",
       " 'coil_type': 1,\n",
       " 'loc': array([ 5.63842431e-02,  3.68367434e-02,  9.40217227e-02,  8.26010015e-04,\n",
       "         1.14762366e-01, -2.10680366e-02,  0.00000000e+00,  1.00000000e+00,\n",
       "         0.00000000e+00,  0.00000000e+00,  0.00000000e+00,  1.00000000e+00]),\n",
       " 'unit': 107,\n",
       " 'unit_mul': 0,\n",
       " 'ch_name': 'EEG025',\n",
       " 'coord_frame': 4 (FIFFV_COORD_HEAD)}"
      ]
     },
     "execution_count": 20,
     "metadata": {},
     "output_type": "execute_result"
    }
   ],
   "source": [
    "raw.info['chs'][330]"
   ]
  },
  {
   "cell_type": "markdown",
   "metadata": {},
   "source": [
    "EEG has six values: differences of potentials = location of the sensor and the location of the reference."
   ]
  },
  {
   "cell_type": "code",
   "execution_count": 21,
   "metadata": {},
   "outputs": [],
   "source": [
    "raw.plot_sensors(kind='topomap', ch_type='grad');"
   ]
  },
  {
   "cell_type": "code",
   "execution_count": 22,
   "metadata": {},
   "outputs": [],
   "source": [
    "raw.plot_sensors(kind='topomap', ch_type='eeg');"
   ]
  },
  {
   "cell_type": "markdown",
   "metadata": {},
   "source": [
    "### Setting channel types\n",
    "\n",
    "Some channels are wrongly defined as EEG in the file. 2 of these are EOG (EEG061 and EEG062) and EEG063 is actually an ECG channel. EEG064 was recording but not connected to anything, so we'll not make it `'misc'`. We will now set the channel types. This will be useful for automatic artifact rejection."
   ]
  },
  {
   "cell_type": "code",
   "execution_count": 23,
   "metadata": {},
   "outputs": [],
   "source": [
    "raw.set_channel_types?"
   ]
  },
  {
   "cell_type": "code",
   "execution_count": 24,
   "metadata": {},
   "outputs": [],
   "source": [
    "raw.set_channel_types({'EEG061': 'eog',\n",
    "                       'EEG062': 'eog',\n",
    "                       'EEG063': 'ecg',\n",
    "                       'EEG064': 'misc'})  # EEG064 free-floating el.\n",
    "\n",
    "raw.rename_channels({'EEG061': 'EOG061',\n",
    "                     'EEG062': 'EOG062',\n",
    "                     'EEG063': 'ECG063'})"
   ]
  },
  {
   "cell_type": "code",
   "execution_count": 25,
   "metadata": {},
   "outputs": [
    {
     "data": {
      "text/plain": [
       "['MEG0113',\n",
       " 'MEG0112',\n",
       " 'MEG0111',\n",
       " 'MEG0122',\n",
       " 'MEG0123',\n",
       " 'MEG0121',\n",
       " 'MEG0132',\n",
       " 'MEG0133',\n",
       " 'MEG0131',\n",
       " 'MEG0143',\n",
       " 'MEG0142',\n",
       " 'MEG0141',\n",
       " 'MEG0213',\n",
       " 'MEG0212',\n",
       " 'MEG0211',\n",
       " 'MEG0222',\n",
       " 'MEG0223',\n",
       " 'MEG0221',\n",
       " 'MEG0232',\n",
       " 'MEG0233',\n",
       " 'MEG0231',\n",
       " 'MEG0243',\n",
       " 'MEG0242',\n",
       " 'MEG0241',\n",
       " 'MEG0313',\n",
       " 'MEG0312',\n",
       " 'MEG0311',\n",
       " 'MEG0322',\n",
       " 'MEG0323',\n",
       " 'MEG0321',\n",
       " 'MEG0333',\n",
       " 'MEG0332',\n",
       " 'MEG0331',\n",
       " 'MEG0343',\n",
       " 'MEG0342',\n",
       " 'MEG0341',\n",
       " 'MEG0413',\n",
       " 'MEG0412',\n",
       " 'MEG0411',\n",
       " 'MEG0422',\n",
       " 'MEG0423',\n",
       " 'MEG0421',\n",
       " 'MEG0432',\n",
       " 'MEG0433',\n",
       " 'MEG0431',\n",
       " 'MEG0443',\n",
       " 'MEG0442',\n",
       " 'MEG0441',\n",
       " 'MEG0513',\n",
       " 'MEG0512',\n",
       " 'MEG0511',\n",
       " 'MEG0523',\n",
       " 'MEG0522',\n",
       " 'MEG0521',\n",
       " 'MEG0532',\n",
       " 'MEG0533',\n",
       " 'MEG0531',\n",
       " 'MEG0542',\n",
       " 'MEG0543',\n",
       " 'MEG0541',\n",
       " 'MEG0613',\n",
       " 'MEG0612',\n",
       " 'MEG0611',\n",
       " 'MEG0622',\n",
       " 'MEG0623',\n",
       " 'MEG0621',\n",
       " 'MEG0633',\n",
       " 'MEG0632',\n",
       " 'MEG0631',\n",
       " 'MEG0642',\n",
       " 'MEG0643',\n",
       " 'MEG0641',\n",
       " 'MEG0713',\n",
       " 'MEG0712',\n",
       " 'MEG0711',\n",
       " 'MEG0723',\n",
       " 'MEG0722',\n",
       " 'MEG0721',\n",
       " 'MEG0733',\n",
       " 'MEG0732',\n",
       " 'MEG0731',\n",
       " 'MEG0743',\n",
       " 'MEG0742',\n",
       " 'MEG0741',\n",
       " 'MEG0813',\n",
       " 'MEG0812',\n",
       " 'MEG0811',\n",
       " 'MEG0822',\n",
       " 'MEG0823',\n",
       " 'MEG0821',\n",
       " 'MEG0913',\n",
       " 'MEG0912',\n",
       " 'MEG0911',\n",
       " 'MEG0923',\n",
       " 'MEG0922',\n",
       " 'MEG0921',\n",
       " 'MEG0932',\n",
       " 'MEG0933',\n",
       " 'MEG0931',\n",
       " 'MEG0942',\n",
       " 'MEG0943',\n",
       " 'MEG0941',\n",
       " 'MEG1013',\n",
       " 'MEG1012',\n",
       " 'MEG1011',\n",
       " 'MEG1023',\n",
       " 'MEG1022',\n",
       " 'MEG1021',\n",
       " 'MEG1032',\n",
       " 'MEG1033',\n",
       " 'MEG1031',\n",
       " 'MEG1043',\n",
       " 'MEG1042',\n",
       " 'MEG1041',\n",
       " 'MEG1112',\n",
       " 'MEG1113',\n",
       " 'MEG1111',\n",
       " 'MEG1123',\n",
       " 'MEG1122',\n",
       " 'MEG1121',\n",
       " 'MEG1133',\n",
       " 'MEG1132',\n",
       " 'MEG1131',\n",
       " 'MEG1142',\n",
       " 'MEG1143',\n",
       " 'MEG1141',\n",
       " 'MEG1213',\n",
       " 'MEG1212',\n",
       " 'MEG1211',\n",
       " 'MEG1223',\n",
       " 'MEG1222',\n",
       " 'MEG1221',\n",
       " 'MEG1232',\n",
       " 'MEG1233',\n",
       " 'MEG1231',\n",
       " 'MEG1243',\n",
       " 'MEG1242',\n",
       " 'MEG1241',\n",
       " 'MEG1312',\n",
       " 'MEG1313',\n",
       " 'MEG1311',\n",
       " 'MEG1323',\n",
       " 'MEG1322',\n",
       " 'MEG1321',\n",
       " 'MEG1333',\n",
       " 'MEG1332',\n",
       " 'MEG1331',\n",
       " 'MEG1342',\n",
       " 'MEG1343',\n",
       " 'MEG1341',\n",
       " 'MEG1412',\n",
       " 'MEG1413',\n",
       " 'MEG1411',\n",
       " 'MEG1423',\n",
       " 'MEG1422',\n",
       " 'MEG1421',\n",
       " 'MEG1433',\n",
       " 'MEG1432',\n",
       " 'MEG1431',\n",
       " 'MEG1442',\n",
       " 'MEG1443',\n",
       " 'MEG1441',\n",
       " 'MEG1512',\n",
       " 'MEG1513',\n",
       " 'MEG1511',\n",
       " 'MEG1522',\n",
       " 'MEG1523',\n",
       " 'MEG1521',\n",
       " 'MEG1533',\n",
       " 'MEG1532',\n",
       " 'MEG1531',\n",
       " 'MEG1543',\n",
       " 'MEG1542',\n",
       " 'MEG1541',\n",
       " 'MEG1613',\n",
       " 'MEG1612',\n",
       " 'MEG1611',\n",
       " 'MEG1622',\n",
       " 'MEG1623',\n",
       " 'MEG1621',\n",
       " 'MEG1632',\n",
       " 'MEG1633',\n",
       " 'MEG1631',\n",
       " 'MEG1643',\n",
       " 'MEG1642',\n",
       " 'MEG1641',\n",
       " 'MEG1713',\n",
       " 'MEG1712',\n",
       " 'MEG1711',\n",
       " 'MEG1722',\n",
       " 'MEG1723',\n",
       " 'MEG1721',\n",
       " 'MEG1732',\n",
       " 'MEG1733',\n",
       " 'MEG1731',\n",
       " 'MEG1743',\n",
       " 'MEG1742',\n",
       " 'MEG1741',\n",
       " 'MEG1813',\n",
       " 'MEG1812',\n",
       " 'MEG1811',\n",
       " 'MEG1822',\n",
       " 'MEG1823',\n",
       " 'MEG1821',\n",
       " 'MEG1832',\n",
       " 'MEG1833',\n",
       " 'MEG1831',\n",
       " 'MEG1843',\n",
       " 'MEG1842',\n",
       " 'MEG1841',\n",
       " 'MEG1912',\n",
       " 'MEG1913',\n",
       " 'MEG1911',\n",
       " 'MEG1923',\n",
       " 'MEG1922',\n",
       " 'MEG1921',\n",
       " 'MEG1932',\n",
       " 'MEG1933',\n",
       " 'MEG1931',\n",
       " 'MEG1943',\n",
       " 'MEG1942',\n",
       " 'MEG1941',\n",
       " 'MEG2013',\n",
       " 'MEG2012',\n",
       " 'MEG2011',\n",
       " 'MEG2023',\n",
       " 'MEG2022',\n",
       " 'MEG2021',\n",
       " 'MEG2032',\n",
       " 'MEG2033',\n",
       " 'MEG2031',\n",
       " 'MEG2042',\n",
       " 'MEG2043',\n",
       " 'MEG2041',\n",
       " 'MEG2113',\n",
       " 'MEG2112',\n",
       " 'MEG2111',\n",
       " 'MEG2122',\n",
       " 'MEG2123',\n",
       " 'MEG2121',\n",
       " 'MEG2133',\n",
       " 'MEG2132',\n",
       " 'MEG2131',\n",
       " 'MEG2143',\n",
       " 'MEG2142',\n",
       " 'MEG2141',\n",
       " 'MEG2212',\n",
       " 'MEG2213',\n",
       " 'MEG2211',\n",
       " 'MEG2223',\n",
       " 'MEG2222',\n",
       " 'MEG2221',\n",
       " 'MEG2233',\n",
       " 'MEG2232',\n",
       " 'MEG2231',\n",
       " 'MEG2242',\n",
       " 'MEG2243',\n",
       " 'MEG2241',\n",
       " 'MEG2312',\n",
       " 'MEG2313',\n",
       " 'MEG2311',\n",
       " 'MEG2323',\n",
       " 'MEG2322',\n",
       " 'MEG2321',\n",
       " 'MEG2332',\n",
       " 'MEG2333',\n",
       " 'MEG2331',\n",
       " 'MEG2343',\n",
       " 'MEG2342',\n",
       " 'MEG2341',\n",
       " 'MEG2412',\n",
       " 'MEG2413',\n",
       " 'MEG2411',\n",
       " 'MEG2423',\n",
       " 'MEG2422',\n",
       " 'MEG2421',\n",
       " 'MEG2433',\n",
       " 'MEG2432',\n",
       " 'MEG2431',\n",
       " 'MEG2442',\n",
       " 'MEG2443',\n",
       " 'MEG2441',\n",
       " 'MEG2512',\n",
       " 'MEG2513',\n",
       " 'MEG2511',\n",
       " 'MEG2522',\n",
       " 'MEG2523',\n",
       " 'MEG2521',\n",
       " 'MEG2533',\n",
       " 'MEG2532',\n",
       " 'MEG2531',\n",
       " 'MEG2543',\n",
       " 'MEG2542',\n",
       " 'MEG2541',\n",
       " 'MEG2612',\n",
       " 'MEG2613',\n",
       " 'MEG2611',\n",
       " 'MEG2623',\n",
       " 'MEG2622',\n",
       " 'MEG2621',\n",
       " 'MEG2633',\n",
       " 'MEG2632',\n",
       " 'MEG2631',\n",
       " 'MEG2642',\n",
       " 'MEG2643',\n",
       " 'MEG2641',\n",
       " 'EEG001',\n",
       " 'EEG002',\n",
       " 'EEG003',\n",
       " 'EEG004',\n",
       " 'EEG005',\n",
       " 'EEG006',\n",
       " 'EEG007',\n",
       " 'EEG008',\n",
       " 'EEG009',\n",
       " 'EEG010',\n",
       " 'EEG011',\n",
       " 'EEG012',\n",
       " 'EEG013',\n",
       " 'EEG014',\n",
       " 'EEG015',\n",
       " 'EEG016',\n",
       " 'EEG017',\n",
       " 'EEG018',\n",
       " 'EEG019',\n",
       " 'EEG020',\n",
       " 'EEG021',\n",
       " 'EEG022',\n",
       " 'EEG023',\n",
       " 'EEG024',\n",
       " 'EEG025',\n",
       " 'EEG026',\n",
       " 'EEG027',\n",
       " 'EEG028',\n",
       " 'EEG029',\n",
       " 'EEG030',\n",
       " 'EEG031',\n",
       " 'EEG032',\n",
       " 'EEG033',\n",
       " 'EEG034',\n",
       " 'EEG035',\n",
       " 'EEG036',\n",
       " 'EEG037',\n",
       " 'EEG038',\n",
       " 'EEG039',\n",
       " 'EEG040',\n",
       " 'EEG041',\n",
       " 'EEG042',\n",
       " 'EEG043',\n",
       " 'EEG044',\n",
       " 'EEG045',\n",
       " 'EEG046',\n",
       " 'EEG047',\n",
       " 'EEG048',\n",
       " 'EEG049',\n",
       " 'EEG050',\n",
       " 'EEG051',\n",
       " 'EEG052',\n",
       " 'EEG053',\n",
       " 'EEG054',\n",
       " 'EEG055',\n",
       " 'EEG056',\n",
       " 'EEG057',\n",
       " 'EEG058',\n",
       " 'EEG059',\n",
       " 'EEG060',\n",
       " 'EOG061',\n",
       " 'EOG062',\n",
       " 'ECG063',\n",
       " 'EEG064',\n",
       " 'EEG065',\n",
       " 'EEG066',\n",
       " 'EEG067',\n",
       " 'EEG068',\n",
       " 'EEG069',\n",
       " 'EEG070',\n",
       " 'EEG071',\n",
       " 'EEG072',\n",
       " 'EEG073',\n",
       " 'EEG074',\n",
       " 'STI101',\n",
       " 'STI201',\n",
       " 'STI301',\n",
       " 'MISC201',\n",
       " 'MISC202',\n",
       " 'MISC203',\n",
       " 'MISC204',\n",
       " 'MISC205',\n",
       " 'MISC206',\n",
       " 'MISC301',\n",
       " 'MISC302',\n",
       " 'MISC303',\n",
       " 'MISC304',\n",
       " 'MISC305',\n",
       " 'MISC306',\n",
       " 'CHPI001',\n",
       " 'CHPI002',\n",
       " 'CHPI003',\n",
       " 'CHPI004',\n",
       " 'CHPI005',\n",
       " 'CHPI006',\n",
       " 'CHPI007',\n",
       " 'CHPI008',\n",
       " 'CHPI009']"
      ]
     },
     "execution_count": 25,
     "metadata": {},
     "output_type": "execute_result"
    }
   ],
   "source": [
    "raw.ch_names"
   ]
  },
  {
   "cell_type": "markdown",
   "metadata": {},
   "source": [
    "## Accessing the data\n",
    "\n",
    "To access the data just use the [] syntax as to access any element of a list, dict etc."
   ]
  },
  {
   "cell_type": "code",
   "execution_count": 26,
   "metadata": {},
   "outputs": [
    {
     "name": "stdout",
     "output_type": "stream",
     "text": [
      "(404, 10)\n",
      "(10,)\n"
     ]
    }
   ],
   "source": [
    "start, stop = 0, 10\n",
    "data, times = raw[:, start:stop]  # fetch all channels and the first 10 time points\n",
    "print(data.shape)\n",
    "print(times.shape)"
   ]
  },
  {
   "cell_type": "code",
   "execution_count": 27,
   "metadata": {},
   "outputs": [
    {
     "data": {
      "text/plain": [
       "array([0.        , 0.00090909, 0.00181818, 0.00272727, 0.00363636,\n",
       "       0.00454545, 0.00545455, 0.00636364, 0.00727273, 0.00818182])"
      ]
     },
     "execution_count": 27,
     "metadata": {},
     "output_type": "execute_result"
    }
   ],
   "source": [
    "times  # always starts at 0 by convention"
   ]
  },
  {
   "cell_type": "markdown",
   "metadata": {},
   "source": [
    "Note that `raw[]` returns both the data and the times array."
   ]
  },
  {
   "cell_type": "markdown",
   "metadata": {},
   "source": [
    "# Resampling the data\n",
    "\n",
    "We will now change the sampling frequency of the data to speed up the computations."
   ]
  },
  {
   "cell_type": "code",
   "execution_count": 28,
   "metadata": {},
   "outputs": [
    {
     "data": {
      "text/plain": [
       "<Raw  |  sub-01_ses-meg_task-facerecognition_run-01_proc-sss_meg.fif, n_channels x n_times : 404 x 147300 (491.0 sec), ~461.4 MB, data loaded>"
      ]
     },
     "execution_count": 28,
     "metadata": {},
     "output_type": "execute_result"
    }
   ],
   "source": [
    "raw.load_data()  # it is required to load data in memory\n",
    "raw.resample(300)"
   ]
  },
  {
   "cell_type": "markdown",
   "metadata": {},
   "source": [
    "And let's remove the unecessary channels"
   ]
  },
  {
   "cell_type": "code",
   "execution_count": 29,
   "metadata": {},
   "outputs": [],
   "source": [
    "raw.drop_channels?"
   ]
  },
  {
   "cell_type": "code",
   "execution_count": 30,
   "metadata": {},
   "outputs": [],
   "source": [
    "to_drop = ['STI201', 'STI301', 'MISC201', 'MISC202', 'MISC203',\n",
    "           'MISC204', 'MISC205', 'MISC206', 'MISC301', 'MISC302',\n",
    "           'MISC303', 'MISC304', 'MISC305', 'MISC306', 'CHPI001',\n",
    "           'CHPI002', 'CHPI003', 'CHPI004', 'CHPI005', 'CHPI006',\n",
    "           'CHPI007', 'CHPI008', 'CHPI009']"
   ]
  },
  {
   "cell_type": "code",
   "execution_count": 31,
   "metadata": {},
   "outputs": [
    {
     "data": {
      "text/plain": [
       "<Raw  |  sub-01_ses-meg_task-facerecognition_run-01_proc-sss_meg.fif, n_channels x n_times : 381 x 147300 (491.0 sec), ~435.5 MB, data loaded>"
      ]
     },
     "execution_count": 31,
     "metadata": {},
     "output_type": "execute_result"
    }
   ],
   "source": [
    "raw.drop_channels(to_drop)"
   ]
  },
  {
   "cell_type": "code",
   "execution_count": 32,
   "metadata": {},
   "outputs": [
    {
     "data": {
      "text/plain": [
       "<Info | 27 non-empty fields\n",
       "    acq_pars : str | 21833 items\n",
       "    bads : list | 0 items\n",
       "    ch_names : list | MEG0113, MEG0112, MEG0111, MEG0122, MEG0123, MEG0121, ...\n",
       "    chs : list | 381 items (GRAD: 204, MAG: 102, EEG: 70, EOG: 2, ECG: 1, MISC: 1, STIM: 1)\n",
       "    comps : list | 0 items\n",
       "    custom_ref_applied : bool | False\n",
       "    description : str | 36 items\n",
       "    dev_head_t : Transform | 3 items\n",
       "    dig : Digitization | 137 items (3 Cardinal, 5 HPI, 75 EEG, 54 Extra)\n",
       "    events : list | 1 items\n",
       "    experimenter : str | 3 items\n",
       "    file_id : dict | 4 items\n",
       "    highpass : float | 0.0 Hz\n",
       "    hpi_meas : list | 1 items\n",
       "    hpi_results : list | 1 items\n",
       "    hpi_subsystem : dict | 2 items\n",
       "    line_freq : float | 50.0\n",
       "    lowpass : float | 150.0 Hz\n",
       "    meas_date : tuple | 1941-03-22 11:04:14 GMT\n",
       "    meas_id : dict | 4 items\n",
       "    nchan : int | 381\n",
       "    proc_history : list | 1 items\n",
       "    proj_id : ndarray | 1 items\n",
       "    proj_name : str | 11 items\n",
       "    projs : list | 0 items\n",
       "    sfreq : float | 300.0 Hz\n",
       "    subject_info : dict | 2 items\n",
       "    acq_stim : NoneType\n",
       "    ctf_head_t : NoneType\n",
       "    dev_ctf_t : NoneType\n",
       "    device_info : NoneType\n",
       "    gantry_angle : NoneType\n",
       "    helium_info : NoneType\n",
       "    kit_system_id : NoneType\n",
       "    utc_offset : NoneType\n",
       "    xplotter_layout : NoneType\n",
       ">"
      ]
     },
     "execution_count": 32,
     "metadata": {},
     "output_type": "execute_result"
    }
   ],
   "source": [
    "raw.info"
   ]
  },
  {
   "cell_type": "markdown",
   "metadata": {},
   "source": [
    "# Visualizing raw data\n",
    "\n",
    "See https://mne.tools/0.16/auto_tutorials/plot_visualize_raw.html\n",
    "for more details.\n",
    "\n",
    "Let's look at how to:\n",
    "- browse data\n",
    "- turn On/Off the PCA/SSP projections\n",
    "- mark bad segments to obtained annotations\n",
    "- group channel by types\n",
    "- group channel by location"
   ]
  },
  {
   "cell_type": "code",
   "execution_count": 33,
   "metadata": {},
   "outputs": [],
   "source": [
    "raw.plot?"
   ]
  },
  {
   "cell_type": "code",
   "execution_count": 34,
   "metadata": {},
   "outputs": [],
   "source": [
    "%matplotlib qt\n",
    "\n",
    "raw.plot();"
   ]
  },
  {
   "cell_type": "markdown",
   "metadata": {},
   "source": [
    "<div class=\"alert alert-success\">\n",
    "    <b>Exercise</b>:\n",
    "     <ul>\n",
    "    <li>Do you see any bad channel?</li>\n",
    "    <li>Do you see any bad segment of data?</li>\n",
    "    <li>Do you see any more then EOG blinks?</li>\n",
    "    </ul>\n",
    "</div>"
   ]
  },
  {
   "cell_type": "markdown",
   "metadata": {},
   "source": [
    "### Filtering"
   ]
  },
  {
   "cell_type": "code",
   "execution_count": 35,
   "metadata": {},
   "outputs": [],
   "source": [
    "raw.filter?"
   ]
  },
  {
   "cell_type": "markdown",
   "metadata": {},
   "source": [
    "<div class=\"alert alert-success\">\n",
    "    <b>Exercise</b>:\n",
    "     <ul>\n",
    "    <li>Filter the raw data between 0Hz and 40Hz.</li>\n",
    "    </ul>\n",
    "</div>"
   ]
  },
  {
   "cell_type": "code",
   "execution_count": 36,
   "metadata": {},
   "outputs": [
    {
     "data": {
      "text/plain": [
       "(1, 15000)"
      ]
     },
     "execution_count": 36,
     "metadata": {},
     "output_type": "execute_result"
    }
   ],
   "source": [
    "# TODO\n",
    "\n",
    "start = 0\n",
    "stop = int(50 * raw.info['sfreq'])\n",
    "data = raw.get_data('STI101', start=start, stop=stop)\n",
    "data.shape"
   ]
  },
  {
   "cell_type": "markdown",
   "metadata": {},
   "source": [
    "<div class=\"alert alert-success\">\n",
    "    <b>Exercise</b>:\n",
    "     <ul>\n",
    "    <li>Plot the 10 first seconds of stimulation channel just using matplotlib.</li>\n",
    "    </ul>\n",
    "</div>\n",
    "\n",
    "Tips:\n",
    "\n",
    "- Pick the stim channel using `mne.pick_types`\n",
    "- Get the data for this channel\n",
    "- Plot it using `plt.plot`"
   ]
  },
  {
   "cell_type": "code",
   "execution_count": 37,
   "metadata": {},
   "outputs": [
    {
     "data": {
      "text/plain": [
       "(15000,)"
      ]
     },
     "execution_count": 37,
     "metadata": {},
     "output_type": "execute_result"
    }
   ],
   "source": [
    "# TODO\n",
    "\n",
    "raw.times[start:stop].shape"
   ]
  },
  {
   "cell_type": "code",
   "execution_count": 38,
   "metadata": {},
   "outputs": [
    {
     "data": {
      "text/plain": [
       "[<matplotlib.lines.Line2D at 0x7f848c9d1510>]"
      ]
     },
     "execution_count": 38,
     "metadata": {},
     "output_type": "execute_result"
    }
   ],
   "source": [
    "plt.plot(raw.times[start:stop], data.T)"
   ]
  },
  {
   "cell_type": "markdown",
   "metadata": {},
   "source": [
    "## Define and read epochs"
   ]
  },
  {
   "cell_type": "markdown",
   "metadata": {},
   "source": [
    "First extract events:"
   ]
  },
  {
   "cell_type": "code",
   "execution_count": 39,
   "metadata": {},
   "outputs": [
    {
     "name": "stdout",
     "output_type": "stream",
     "text": [
      "259 events found\n",
      "Event IDs: [   5    6    7   13   14   15   17   18   19  256  261  262  263  269\n",
      "  270  271  273  274  275 4096 4101 4102 4103 4109 4110 4111 4113 4114\n",
      " 4115 4352]\n"
     ]
    }
   ],
   "source": [
    "events = mne.find_events(raw, stim_channel='STI101', verbose=True)"
   ]
  },
  {
   "cell_type": "markdown",
   "metadata": {},
   "source": [
    "<div class=\"alert alert-success\">\n",
    "    <b>Exercise</b>:\n",
    "     <ul>\n",
    "    <li>What is the type of the variable events?</li>\n",
    "    <li>What is the meaning of the 3 columnes of events?</li>\n",
    "    <li>How many events of type 5 do you see?</li>\n",
    "    </ul>\n",
    "</div>"
   ]
  },
  {
   "cell_type": "code",
   "execution_count": 40,
   "metadata": {},
   "outputs": [
    {
     "data": {
      "text/plain": [
       "array([[ 75052,      0,     13],\n",
       "       [ 75336,      0,    256],\n",
       "       [ 75964,      0,     14],\n",
       "       [ 76158,     14,    270],\n",
       "       [ 76896,      0,     13],\n",
       "       [ 77798,      0,     13],\n",
       "       [ 78755,      0,      5],\n",
       "       [ 78984,      5,   4101],\n",
       "       [ 79662,      0,     13],\n",
       "       [ 80629,      0,      5],\n",
       "       [ 80854,      5,   4101],\n",
       "       [ 81602,      0,     17],\n",
       "       [ 82529,      0,     15],\n",
       "       [ 83506,      0,      5],\n",
       "       [ 83720,      5,   4101],\n",
       "       [ 84453,      0,     15],\n",
       "       [ 85430,      0,     13],\n",
       "       [ 85652,     13,    269],\n",
       "       [ 86363,      0,     14],\n",
       "       [ 86645,     14,    270],\n",
       "       [ 87320,      0,      7],\n",
       "       [ 87529,      7,   4103],\n",
       "       [ 88317,      0,      5],\n",
       "       [ 88593,      5,   4101],\n",
       "       [ 89269,      0,     15],\n",
       "       [ 89488,     15,   4111],\n",
       "       [ 90217,      0,     17],\n",
       "       [ 90499,     17,    273],\n",
       "       [ 91209,      0,     18],\n",
       "       [ 91433,     18,    274],\n",
       "       [ 92146,      0,      7],\n",
       "       [ 92342,      7,   4103],\n",
       "       [ 93138,      0,     17],\n",
       "       [ 93474,      0,    256],\n",
       "       [ 94115,      0,     18],\n",
       "       [ 95058,      0,     19],\n",
       "       [ 95955,      0,      5],\n",
       "       [ 96232,      0,    256],\n",
       "       [ 96912,      0,      7],\n",
       "       [ 97090,      7,   4103],\n",
       "       [ 97854,      0,      5],\n",
       "       [ 98072,      5,   4101],\n",
       "       [ 98826,      0,      6],\n",
       "       [ 99012,      6,   4102],\n",
       "       [ 99758,      0,     17],\n",
       "       [100013,      0,    256],\n",
       "       [100711,      0,      7],\n",
       "       [100947,      7,    263],\n",
       "       [101688,      0,     13],\n",
       "       [101913,     13,    269],\n",
       "       [102630,      0,     13],\n",
       "       [103572,      0,     14],\n",
       "       [103758,     14,    270],\n",
       "       [104479,      0,     17],\n",
       "       [104730,     17,    273],\n",
       "       [105412,      0,      7],\n",
       "       [105615,      7,   4103],\n",
       "       [106364,      0,     17],\n",
       "       [106722,      0,   4096],\n",
       "       [107316,      0,     18],\n",
       "       [107623,      0,    256],\n",
       "       [108313,      0,     13],\n",
       "       [108571,      0,   4096],\n",
       "       [109250,      0,     14],\n",
       "       [109526,      0,   4096],\n",
       "       [110218,      0,     19],\n",
       "       [110485,      0,    256],\n",
       "       [111175,      0,     17],\n",
       "       [111424,     17,   4113],\n",
       "       [112112,      0,     18],\n",
       "       [112412,      0,   4096],\n",
       "       [113059,      0,     15],\n",
       "       [113350,     15,   4111],\n",
       "       [113382,   4096,   4352],\n",
       "       [114067,      0,     13],\n",
       "       [114339,      0,    256],\n",
       "       [115019,      0,     14],\n",
       "       [115186,     14,    270],\n",
       "       [115941,      0,     17],\n",
       "       [116188,     17,    273],\n",
       "       [116913,      0,     18],\n",
       "       [117134,     18,   4114],\n",
       "       [117880,      0,     19],\n",
       "       [118243,      0,    256],\n",
       "       [118858,      0,     17],\n",
       "       [119208,      0,   4096],\n",
       "       [119765,      0,     13],\n",
       "       [120030,     13,   4109],\n",
       "       [120737,      0,     14],\n",
       "       [121010,      0,   4096],\n",
       "       [121679,      0,      5],\n",
       "       [121988,      0,    256],\n",
       "       [122591,      0,     17],\n",
       "       [122838,     17,   4096],\n",
       "       [123488,      0,      5],\n",
       "       [123699,      5,   4101],\n",
       "       [124465,      0,     13],\n",
       "       [124748,     13,    269],\n",
       "       [125458,      0,     19],\n",
       "       [125682,     19,   4115],\n",
       "       [126405,      0,     17],\n",
       "       [126642,     17,   4113],\n",
       "       [127372,      0,     18],\n",
       "       [127649,     18,   4096],\n",
       "       [128299,      0,      5],\n",
       "       [128521,      5,   4101],\n",
       "       [129201,      0,      6],\n",
       "       [129382,      6,   4102],\n",
       "       [130129,      0,      7],\n",
       "       [130418,      7,    256],\n",
       "       [131091,      0,     13],\n",
       "       [131325,     13,   4109],\n",
       "       [132078,      0,     14],\n",
       "       [132261,     14,   4110],\n",
       "       [133010,      0,     19],\n",
       "       [133255,     19,    275],\n",
       "       [133962,      0,     17],\n",
       "       [134234,      0,    256],\n",
       "       [134924,      0,      7],\n",
       "       [135123,      7,   4103],\n",
       "       [135842,      0,     13],\n",
       "       [136066,     13,    269],\n",
       "       [136774,      0,     14],\n",
       "       [136947,     14,    270],\n",
       "       [137711,      0,     15],\n",
       "       [138648,      0,      5],\n",
       "       [138904,      5,    261],\n",
       "       [139590,      0,     17],\n",
       "       [139796,     17,    273],\n",
       "       [140567,      0,      5],\n",
       "       [140762,      5,   4101],\n",
       "       [141525,      0,      5],\n",
       "       [141713,      5,    261],\n",
       "       [142452,      0,      6],\n",
       "       [142683,      6,    262],\n",
       "       [143459,      0,     19],\n",
       "       [144402,      0,     17],\n",
       "       [144639,     17,   4113],\n",
       "       [145303,      0,     18],\n",
       "       [146221,      0,     13],\n",
       "       [146513,      0,   4096],\n",
       "       [147173,      0,      7],\n",
       "       [148090,      0,     13],\n",
       "       [148283,     13,   4109],\n",
       "       [149012,      0,     14],\n",
       "       [149979,      0,     19],\n",
       "       [150946,      0,     17],\n",
       "       [151200,     17,   4113],\n",
       "       [151904,      0,     18],\n",
       "       [152130,     18,   4114],\n",
       "       [152816,      0,      7],\n",
       "       [153036,      7,   4103],\n",
       "       [153763,      0,      5],\n",
       "       [153980,      5,   4101],\n",
       "       [154680,      0,     17],\n",
       "       [155657,      0,     18],\n",
       "       [156599,      0,     17],\n",
       "       [157527,      0,     15],\n",
       "       [158519,      0,     17],\n",
       "       [158737,     17,    273],\n",
       "       [159466,      0,     18],\n",
       "       [159657,     18,    274],\n",
       "       [160418,      0,      5],\n",
       "       [160604,      5,   4101],\n",
       "       [161405,      0,      6],\n",
       "       [161582,      6,   4102],\n",
       "       [162383,      0,      5],\n",
       "       [162574,      5,   4101],\n",
       "       [163345,      0,      7],\n",
       "       [163559,      7,   4103],\n",
       "       [164302,      0,      5],\n",
       "       [165259,      0,      6],\n",
       "       [165496,      6,   4102],\n",
       "       [166212,      0,     17],\n",
       "       [166637,      0,   4096],\n",
       "       [167214,      0,     19],\n",
       "       [168166,      0,     17],\n",
       "       [169093,      0,     18],\n",
       "       [169361,     18,    274],\n",
       "       [170086,      0,     13],\n",
       "       [170285,     13,    269],\n",
       "       [171038,      0,     17],\n",
       "       [171274,     17,   4113],\n",
       "       [171338,      0,   4096],\n",
       "       [172005,      0,      7],\n",
       "       [172204,      7,   4103],\n",
       "       [172912,      0,     17],\n",
       "       [173157,     17,   4113],\n",
       "       [173869,      0,      5],\n",
       "       [174094,      5,   4101],\n",
       "       [174806,      0,      6],\n",
       "       [175023,      6,   4102],\n",
       "       [175779,      0,     19],\n",
       "       [176039,     19,    275],\n",
       "       [176776,      0,      5],\n",
       "       [177016,      5,   4101],\n",
       "       [177713,      0,     13],\n",
       "       [177979,     13,    269],\n",
       "       [178670,      0,     15],\n",
       "       [178878,     15,    271],\n",
       "       [179618,      0,     13],\n",
       "       [179844,     13,   4109],\n",
       "       [180515,      0,     19],\n",
       "       [180770,     19,    256],\n",
       "       [181437,      0,      5],\n",
       "       [181651,      5,    261],\n",
       "       [182389,      0,      6],\n",
       "       [182537,      6,    262],\n",
       "       [183321,      0,     19],\n",
       "       [183541,     19,   4115],\n",
       "       [184243,      0,     13],\n",
       "       [185215,      0,     14],\n",
       "       [186133,      0,     17],\n",
       "       [186394,      0,   4096],\n",
       "       [187070,      0,     18],\n",
       "       [187279,     18,   4114],\n",
       "       [188022,      0,      7],\n",
       "       [188223,      7,   4103],\n",
       "       [188989,      0,      5],\n",
       "       [189206,      5,    261],\n",
       "       [189931,      0,      6],\n",
       "       [190904,      0,     15],\n",
       "       [191195,      0,   4096],\n",
       "       [191856,      0,      5],\n",
       "       [192107,      5,   4096],\n",
       "       [192758,      0,     15],\n",
       "       [193058,      0,   4096],\n",
       "       [193730,      0,     13],\n",
       "       [193930,     13,    269],\n",
       "       [194692,      0,     14],\n",
       "       [194852,     14,    270],\n",
       "       [195604,      0,      5],\n",
       "       [195809,      5,   4101],\n",
       "       [196537,      0,      6],\n",
       "       [196709,      6,   4102],\n",
       "       [197514,      0,      5],\n",
       "       [198436,      0,      6],\n",
       "       [199393,      0,     17],\n",
       "       [200320,      0,     18],\n",
       "       [201268,      0,     17],\n",
       "       [201492,     17,   4113],\n",
       "       [202230,      0,     18],\n",
       "       [202433,     18,   4114],\n",
       "       [203212,      0,      7],\n",
       "       [203420,      7,   4103],\n",
       "       [204149,      0,     13],\n",
       "       [205076,      0,      5],\n",
       "       [206013,      0,     13],\n",
       "       [206960,      0,     13],\n",
       "       [207147,     13,   4109],\n",
       "       [207918,      0,     14],\n",
       "       [208083,     14,   4110],\n",
       "       [208820,      0,      5],\n",
       "       [209090,      0,   4096],\n",
       "       [209782,      0,     13],\n",
       "       [210031,     13,   4109],\n",
       "       [210719,      0,     15],\n",
       "       [211687,      0,     13],\n",
       "       [212649,      0,      7]])"
      ]
     },
     "execution_count": 40,
     "metadata": {},
     "output_type": "execute_result"
    }
   ],
   "source": [
    "events"
   ]
  },
  {
   "cell_type": "markdown",
   "metadata": {},
   "source": [
    "There was a time offset of 34.5ms in the stimulus presentation. We need to correct events accordingly."
   ]
  },
  {
   "cell_type": "code",
   "execution_count": 41,
   "metadata": {},
   "outputs": [],
   "source": [
    "delay = int(round(0.0345 * raw.info['sfreq']))\n",
    "events[:, 0] = events[:, 0] + delay"
   ]
  },
  {
   "cell_type": "markdown",
   "metadata": {},
   "source": [
    "Let's visualize the paradigm:"
   ]
  },
  {
   "cell_type": "code",
   "execution_count": 42,
   "metadata": {},
   "outputs": [],
   "source": [
    "events = events[events[:, 2] < 20] # take only events with code less than 20"
   ]
  },
  {
   "cell_type": "code",
   "execution_count": 43,
   "metadata": {},
   "outputs": [],
   "source": [
    "fig = mne.viz.plot_events(events, raw.info['sfreq']);"
   ]
  },
  {
   "cell_type": "markdown",
   "metadata": {},
   "source": [
    "For event trigger and conditions we use a Python dictionary with keys that contain \"/\" for grouping sub-conditions"
   ]
  },
  {
   "cell_type": "code",
   "execution_count": 44,
   "metadata": {},
   "outputs": [],
   "source": [
    "event_id = {\n",
    "    'face/famous/first': 5,\n",
    "    'face/famous/immediate': 6,\n",
    "    'face/famous/long': 7,\n",
    "    'face/unfamiliar/first': 13,\n",
    "    'face/unfamiliar/immediate': 14,\n",
    "    'face/unfamiliar/long': 15,\n",
    "    'scrambled/first': 17,\n",
    "    'scrambled/immediate': 18,\n",
    "    'scrambled/long': 19,\n",
    "}"
   ]
  },
  {
   "cell_type": "code",
   "execution_count": 45,
   "metadata": {},
   "outputs": [],
   "source": [
    "fig = mne.viz.plot_events(events, sfreq=raw.info['sfreq'],\n",
    "                          event_id=event_id);"
   ]
  },
  {
   "cell_type": "code",
   "execution_count": 46,
   "metadata": {},
   "outputs": [],
   "source": [
    "raw.plot(event_id=event_id, events=events);"
   ]
  },
  {
   "cell_type": "markdown",
   "metadata": {},
   "source": [
    "Define epochs parameters:"
   ]
  },
  {
   "cell_type": "code",
   "execution_count": 47,
   "metadata": {},
   "outputs": [],
   "source": [
    "tmin = -0.5  # start of each epoch (500ms before the trigger)\n",
    "tmax = 2.0  # end of each epoch (2000ms after the trigger)"
   ]
  },
  {
   "cell_type": "markdown",
   "metadata": {},
   "source": [
    "Define the baseline period:"
   ]
  },
  {
   "cell_type": "code",
   "execution_count": 48,
   "metadata": {},
   "outputs": [],
   "source": [
    "baseline = (-0.2, 0)  # means from 200ms before to stim onset (t = 0)"
   ]
  },
  {
   "cell_type": "markdown",
   "metadata": {},
   "source": [
    "Define peak-to-peak (amplitude range) rejection parameters for gradiometers, magnetometers and EOG:"
   ]
  },
  {
   "cell_type": "code",
   "execution_count": 49,
   "metadata": {},
   "outputs": [],
   "source": [
    "reject = dict(grad=4000e-13, mag=4e-12, eog=150e-6)  # this can be highly data dependent"
   ]
  },
  {
   "cell_type": "markdown",
   "metadata": {},
   "source": [
    "<div class=\"alert alert-info\">\n",
    "    <b>REMARK</b>:\n",
    "     <ul>\n",
    "    <li>The <a href=\"https://autoreject.github.io/\">autoreject</a> project aims to solve this problem of reject parameter setting. See the <a href=\"https://www.sciencedirect.com/science/article/pii/S1053811917305013\">paper</a>.</li>\n",
    "    </ul>\n",
    "</div>"
   ]
  },
  {
   "cell_type": "code",
   "execution_count": 50,
   "metadata": {},
   "outputs": [],
   "source": [
    "# we are picky again, this time with EOG\n",
    "picks = mne.pick_types(raw.info, meg=True, eeg=True, eog=True,\n",
    "                       stim=False, exclude='bads')"
   ]
  },
  {
   "cell_type": "code",
   "execution_count": 51,
   "metadata": {},
   "outputs": [
    {
     "data": {
      "text/plain": [
       "array([  0,   1,   2,   3,   4,   5,   6,   7,   8,   9,  10,  11,  12,\n",
       "        13,  14,  15,  16,  17,  18,  19,  20,  21,  22,  23,  24,  25,\n",
       "        26,  27,  28,  29,  30,  31,  32,  33,  34,  35,  36,  37,  38,\n",
       "        39,  40,  41,  42,  43,  44,  45,  46,  47,  48,  49,  50,  51,\n",
       "        52,  53,  54,  55,  56,  57,  58,  59,  60,  61,  62,  63,  64,\n",
       "        65,  66,  67,  68,  69,  70,  71,  72,  73,  74,  75,  76,  77,\n",
       "        78,  79,  80,  81,  82,  83,  84,  85,  86,  87,  88,  89,  90,\n",
       "        91,  92,  93,  94,  95,  96,  97,  98,  99, 100, 101, 102, 103,\n",
       "       104, 105, 106, 107, 108, 109, 110, 111, 112, 113, 114, 115, 116,\n",
       "       117, 118, 119, 120, 121, 122, 123, 124, 125, 126, 127, 128, 129,\n",
       "       130, 131, 132, 133, 134, 135, 136, 137, 138, 139, 140, 141, 142,\n",
       "       143, 144, 145, 146, 147, 148, 149, 150, 151, 152, 153, 154, 155,\n",
       "       156, 157, 158, 159, 160, 161, 162, 163, 164, 165, 166, 167, 168,\n",
       "       169, 170, 171, 172, 173, 174, 175, 176, 177, 178, 179, 180, 181,\n",
       "       182, 183, 184, 185, 186, 187, 188, 189, 190, 191, 192, 193, 194,\n",
       "       195, 196, 197, 198, 199, 200, 201, 202, 203, 204, 205, 206, 207,\n",
       "       208, 209, 210, 211, 212, 213, 214, 215, 216, 217, 218, 219, 220,\n",
       "       221, 222, 223, 224, 225, 226, 227, 228, 229, 230, 231, 232, 233,\n",
       "       234, 235, 236, 237, 238, 239, 240, 241, 242, 243, 244, 245, 246,\n",
       "       247, 248, 249, 250, 251, 252, 253, 254, 255, 256, 257, 258, 259,\n",
       "       260, 261, 262, 263, 264, 265, 266, 267, 268, 269, 270, 271, 272,\n",
       "       273, 274, 275, 276, 277, 278, 279, 280, 281, 282, 283, 284, 285,\n",
       "       286, 287, 288, 289, 290, 291, 292, 293, 294, 295, 296, 297, 298,\n",
       "       299, 300, 301, 302, 303, 304, 305, 306, 307, 308, 309, 310, 311,\n",
       "       312, 313, 314, 315, 316, 317, 318, 319, 320, 321, 322, 323, 324,\n",
       "       325, 326, 327, 328, 329, 330, 331, 332, 333, 334, 335, 336, 337,\n",
       "       338, 339, 340, 341, 342, 343, 344, 345, 346, 347, 348, 349, 350,\n",
       "       351, 352, 353, 354, 355, 356, 357, 358, 359, 360, 361, 362, 363,\n",
       "       364, 365, 366, 367, 370, 371, 372, 373, 374, 375, 376, 377, 378,\n",
       "       379])"
      ]
     },
     "execution_count": 51,
     "metadata": {},
     "output_type": "execute_result"
    }
   ],
   "source": [
    "picks"
   ]
  },
  {
   "cell_type": "markdown",
   "metadata": {},
   "source": [
    "Extract epochs:"
   ]
  },
  {
   "cell_type": "code",
   "execution_count": 52,
   "metadata": {},
   "outputs": [],
   "source": [
    "epochs = mne.Epochs(raw, events, event_id, tmin, tmax, proj=True,\n",
    "                    picks=picks, baseline=baseline,\n",
    "                    reject=reject)"
   ]
  },
  {
   "cell_type": "code",
   "execution_count": 66,
   "metadata": {},
   "outputs": [
    {
     "name": "stdout",
     "output_type": "stream",
     "text": [
      "<Epochs  |   79 events (all good), -0.5 - 2 sec, baseline [-0.2, 0], ~178.4 MB, data loaded,\n",
      " 'face/famous/first': 13\n",
      " 'face/famous/immediate': 3\n",
      " 'face/famous/long': 6\n",
      " 'face/unfamiliar/first': 17\n",
      " 'face/unfamiliar/immediate': 4\n",
      " 'face/unfamiliar/long': 6\n",
      " 'scrambled/first': 15\n",
      " 'scrambled/immediate': 9\n",
      " 'scrambled/long': 6>\n"
     ]
    }
   ],
   "source": [
    "print(epochs)"
   ]
  },
  {
   "cell_type": "code",
   "execution_count": 54,
   "metadata": {},
   "outputs": [
    {
     "data": {
      "text/plain": [
       "<Epochs  |   79 events (all good), -0.5 - 2 sec, baseline [-0.2, 0], ~7.3 MB, data not loaded,\n",
       " 'face/famous/first': 13\n",
       " 'face/famous/immediate': 3\n",
       " 'face/famous/long': 6\n",
       " 'face/unfamiliar/first': 17\n",
       " 'face/unfamiliar/immediate': 4\n",
       " 'face/unfamiliar/long': 6\n",
       " 'scrambled/first': 15\n",
       " 'scrambled/immediate': 9\n",
       " 'scrambled/long': 6>"
      ]
     },
     "execution_count": 54,
     "metadata": {},
     "output_type": "execute_result"
    }
   ],
   "source": [
    "epochs.drop_bad()  # remove bad epochs based on reject"
   ]
  },
  {
   "cell_type": "code",
   "execution_count": 55,
   "metadata": {},
   "outputs": [
    {
     "data": {
      "text/plain": [
       "<Epochs  |   79 events (all good), -0.5 - 2 sec, baseline [-0.2, 0], ~178.4 MB, data loaded,\n",
       " 'face/famous/first': 13\n",
       " 'face/famous/immediate': 3\n",
       " 'face/famous/long': 6\n",
       " 'face/unfamiliar/first': 17\n",
       " 'face/unfamiliar/immediate': 4\n",
       " 'face/unfamiliar/long': 6\n",
       " 'scrambled/first': 15\n",
       " 'scrambled/immediate': 9\n",
       " 'scrambled/long': 6>"
      ]
     },
     "execution_count": 55,
     "metadata": {},
     "output_type": "execute_result"
    }
   ],
   "source": [
    "epochs.load_data()  # load data in memory"
   ]
  },
  {
   "cell_type": "markdown",
   "metadata": {},
   "source": [
    "Explore the epochs namespace\n",
    "\n",
    "Hit ``epochs.<TAB>``"
   ]
  },
  {
   "cell_type": "code",
   "execution_count": 69,
   "metadata": {},
   "outputs": [
    {
     "data": {
      "text/plain": [
       "array([[ True,  True,  True],\n",
       "       [ True,  True,  True],\n",
       "       [ True,  True,  True],\n",
       "       [ True,  True,  True],\n",
       "       [ True,  True,  True],\n",
       "       [ True,  True,  True],\n",
       "       [ True,  True,  True],\n",
       "       [ True,  True,  True],\n",
       "       [ True,  True,  True],\n",
       "       [ True,  True,  True],\n",
       "       [ True,  True,  True],\n",
       "       [ True,  True,  True],\n",
       "       [ True,  True,  True],\n",
       "       [ True,  True,  True],\n",
       "       [ True,  True,  True],\n",
       "       [ True,  True,  True],\n",
       "       [ True,  True,  True],\n",
       "       [ True,  True,  True],\n",
       "       [ True,  True,  True],\n",
       "       [ True,  True,  True],\n",
       "       [ True,  True,  True],\n",
       "       [ True,  True,  True],\n",
       "       [ True,  True,  True],\n",
       "       [ True,  True,  True],\n",
       "       [ True,  True,  True],\n",
       "       [ True,  True,  True],\n",
       "       [ True,  True,  True],\n",
       "       [ True,  True,  True],\n",
       "       [ True,  True,  True],\n",
       "       [ True,  True,  True],\n",
       "       [ True,  True,  True],\n",
       "       [ True,  True,  True],\n",
       "       [ True,  True,  True],\n",
       "       [ True,  True,  True],\n",
       "       [ True,  True,  True],\n",
       "       [ True,  True,  True],\n",
       "       [ True,  True,  True],\n",
       "       [ True,  True,  True],\n",
       "       [ True,  True,  True],\n",
       "       [ True,  True,  True],\n",
       "       [ True,  True,  True],\n",
       "       [ True,  True,  True],\n",
       "       [ True,  True,  True],\n",
       "       [ True,  True,  True],\n",
       "       [ True,  True,  True],\n",
       "       [ True,  True,  True],\n",
       "       [ True,  True,  True],\n",
       "       [ True,  True,  True],\n",
       "       [ True,  True,  True],\n",
       "       [ True,  True,  True],\n",
       "       [ True,  True,  True],\n",
       "       [ True,  True,  True],\n",
       "       [ True,  True,  True],\n",
       "       [ True,  True,  True],\n",
       "       [ True,  True,  True],\n",
       "       [ True,  True,  True],\n",
       "       [ True,  True,  True],\n",
       "       [ True,  True,  True],\n",
       "       [ True,  True,  True],\n",
       "       [ True,  True,  True],\n",
       "       [ True,  True,  True],\n",
       "       [ True,  True,  True],\n",
       "       [ True,  True,  True],\n",
       "       [ True,  True,  True],\n",
       "       [ True,  True,  True],\n",
       "       [ True,  True,  True],\n",
       "       [ True,  True,  True],\n",
       "       [ True,  True,  True],\n",
       "       [ True,  True,  True],\n",
       "       [ True,  True,  True],\n",
       "       [ True,  True,  True],\n",
       "       [ True,  True,  True],\n",
       "       [ True,  True,  True],\n",
       "       [ True,  True,  True],\n",
       "       [ True,  True,  True],\n",
       "       [ True,  True,  True],\n",
       "       [ True,  True,  True],\n",
       "       [ True,  True,  True],\n",
       "       [ True,  True,  True]])"
      ]
     },
     "execution_count": 69,
     "metadata": {},
     "output_type": "execute_result"
    }
   ],
   "source": [
    "events[epochs.selection] == epochs.events"
   ]
  },
  {
   "cell_type": "markdown",
   "metadata": {},
   "source": [
    "See how epochs were dropped"
   ]
  },
  {
   "cell_type": "code",
   "execution_count": 67,
   "metadata": {},
   "outputs": [],
   "source": [
    "epochs.plot_drop_log();"
   ]
  },
  {
   "cell_type": "code",
   "execution_count": 63,
   "metadata": {},
   "outputs": [
    {
     "name": "stdout",
     "output_type": "stream",
     "text": [
      "[]\n",
      "[]\n",
      "[]\n",
      "[]\n",
      "[]\n",
      "[]\n",
      "[]\n",
      "['EOG062']\n",
      "['EOG062']\n",
      "[]\n",
      "['EOG062']\n",
      "[]\n",
      "[]\n",
      "['EOG062']\n",
      "[]\n",
      "[]\n",
      "[]\n",
      "[]\n",
      "[]\n",
      "[]\n"
     ]
    }
   ],
   "source": [
    "for drop_log in epochs.drop_log[:20]:\n",
    "    print(drop_log)"
   ]
  },
  {
   "cell_type": "code",
   "execution_count": 65,
   "metadata": {},
   "outputs": [],
   "source": [
    "epochs.copy().drop(10, reason=\"I don't like this one\").plot_drop_log();"
   ]
  },
  {
   "cell_type": "markdown",
   "metadata": {},
   "source": [
    "### Wait a second, did we just loose half of our epochs due to EOG???\n",
    "\n",
    "We can probably do better. Let's use the PCA-based signal space projection (SSP) to regress out spatial patterns related to EOG and other offenders, ie., ECG.\n",
    "\n",
    "Here is the workflow, we'll first detect EOG artifacts and visualize their impact. Then we'll compute related spatial patterns to mitigate these artifacts."
   ]
  },
  {
   "cell_type": "code",
   "execution_count": 70,
   "metadata": {},
   "outputs": [
    {
     "data": {
      "text/plain": [
       "[<Figure size 800x420 with 7 Axes>,\n",
       " <Figure size 800x420 with 7 Axes>,\n",
       " <Figure size 800x420 with 7 Axes>]"
      ]
     },
     "execution_count": 70,
     "metadata": {},
     "output_type": "execute_result"
    }
   ],
   "source": [
    "# We can use a convenience function\n",
    "eog_epochs = mne.preprocessing.create_eog_epochs(raw.copy().filter(1, None))\n",
    "# finding the maxima associated with the blinks\n",
    "eog_epochs.average().plot_joint()"
   ]
  },
  {
   "cell_type": "markdown",
   "metadata": {},
   "source": [
    "Compare the y axes to the ERF/ERPs we just saw. We face important degrees of contamination!"
   ]
  },
  {
   "cell_type": "code",
   "execution_count": 75,
   "metadata": {},
   "outputs": [],
   "source": [
    "projs_eog, _ = mne.preprocessing.compute_proj_eog(\n",
    "    raw, n_mag=4, n_grad=4, n_eeg=4, average=True)"
   ]
  },
  {
   "cell_type": "code",
   "execution_count": 76,
   "metadata": {},
   "outputs": [
    {
     "data": {
      "text/plain": [
       "[<Projection  |  EOG-planar--0.200-0.200-PCA-01, active : False, n_channels : 204>,\n",
       " <Projection  |  EOG-planar--0.200-0.200-PCA-02, active : False, n_channels : 204>,\n",
       " <Projection  |  EOG-planar--0.200-0.200-PCA-03, active : False, n_channels : 204>,\n",
       " <Projection  |  EOG-planar--0.200-0.200-PCA-04, active : False, n_channels : 204>,\n",
       " <Projection  |  EOG-axial--0.200-0.200-PCA-01, active : False, n_channels : 102>,\n",
       " <Projection  |  EOG-axial--0.200-0.200-PCA-02, active : False, n_channels : 102>,\n",
       " <Projection  |  EOG-axial--0.200-0.200-PCA-03, active : False, n_channels : 102>,\n",
       " <Projection  |  EOG-axial--0.200-0.200-PCA-04, active : False, n_channels : 102>,\n",
       " <Projection  |  EOG-eeg--0.200-0.200-PCA-01, active : False, n_channels : 70>,\n",
       " <Projection  |  EOG-eeg--0.200-0.200-PCA-02, active : False, n_channels : 70>,\n",
       " <Projection  |  EOG-eeg--0.200-0.200-PCA-03, active : False, n_channels : 70>,\n",
       " <Projection  |  EOG-eeg--0.200-0.200-PCA-04, active : False, n_channels : 70>]"
      ]
     },
     "execution_count": 76,
     "metadata": {},
     "output_type": "execute_result"
    }
   ],
   "source": [
    "projs_eog"
   ]
  },
  {
   "cell_type": "code",
   "execution_count": 77,
   "metadata": {},
   "outputs": [],
   "source": [
    "layouts = [mne.find_layout(raw.info, ch_type=ch) for ch in (\"eeg\", \"mag\", \"grad\")]\n",
    "mne.viz.plot_projs_topomap(projs_eog, layout=layouts);"
   ]
  },
  {
   "cell_type": "markdown",
   "metadata": {},
   "source": [
    "Now the important question is how many components one should keep? Pro-tip: some of them don't look like clear artifact patterns. The good news is that we don't need to decide __*right*__ now."
   ]
  },
  {
   "cell_type": "code",
   "execution_count": 78,
   "metadata": {},
   "outputs": [
    {
     "data": {
      "text/plain": [
       "[<Figure size 800x420 with 7 Axes>,\n",
       " <Figure size 800x420 with 7 Axes>,\n",
       " <Figure size 800x420 with 7 Axes>]"
      ]
     },
     "execution_count": 78,
     "metadata": {},
     "output_type": "execute_result"
    }
   ],
   "source": [
    "# same business, same issue for ECG\n",
    "ecg_epochs = mne.preprocessing.create_ecg_epochs(raw.copy().filter(1, None))\n",
    "ecg_epochs.average().plot_joint()"
   ]
  },
  {
   "cell_type": "markdown",
   "metadata": {},
   "source": [
    "We also face important insults from the cardiac signal... we'll project that out."
   ]
  },
  {
   "cell_type": "code",
   "execution_count": 79,
   "metadata": {},
   "outputs": [],
   "source": [
    "projs_ecg, _ = mne.preprocessing.compute_proj_ecg(\n",
    "    raw, n_mag=3, n_grad=3, n_eeg=3, average=True)\n",
    "mne.viz.plot_projs_topomap(projs_ecg, layout=layouts);"
   ]
  },
  {
   "cell_type": "code",
   "execution_count": 83,
   "metadata": {},
   "outputs": [],
   "source": [
    "# now let's see how that would theoretically improve data preservation\n",
    "reject2 = dict(mag=reject['mag'], grad=reject['grad']) \n",
    "\n",
    "epochs_clean = mne.Epochs(raw, events, event_id, tmin, tmax, proj=False,  # best to apply projects to a copy\n",
    "                          picks=picks, baseline=baseline,\n",
    "                          preload=False,\n",
    "                          reject=reject2)\n",
    "\n",
    "epochs_clean.add_proj(projs_eog + projs_ecg)\n",
    "#epochs_clean.copy().apply_proj().average().plot(proj='interactive', spatial_colors=True);  # apply projs on a copy\n",
    "epochs_clean.copy().average().plot(proj='interactive', spatial_colors=True);  # apply projs on a copy"
   ]
  },
  {
   "cell_type": "markdown",
   "metadata": {},
   "source": [
    "now we keep all trials, probably we also removed some good signals.\n",
    "we will postpone the selection of SSP vectors to later study the impact on\n",
    "source localization"
   ]
  },
  {
   "cell_type": "markdown",
   "metadata": {},
   "source": [
    "<div class=\"alert alert-info\">\n",
    "    <b>REMARK</b>:\n",
    "     <ul>\n",
    "    <li>MNE keeps SSP projections inside the info and allows to apply them later.</li>\n",
    "    </ul>\n",
    "</div>"
   ]
  },
  {
   "cell_type": "code",
   "execution_count": 84,
   "metadata": {},
   "outputs": [],
   "source": [
    "# let's overwrite\n",
    "epochs = epochs_clean"
   ]
  },
  {
   "cell_type": "markdown",
   "metadata": {},
   "source": [
    "<div class=\"alert alert-success\">\n",
    "    <b>Exercise</b>:\n",
    "     <ul>\n",
    "    <li>Use ICA instead of SSP to remove artifacts</li>\n",
    "    <li>What are potential benefits or disadvantages?</li>\n",
    "    </ul>\n",
    "</div>"
   ]
  },
  {
   "cell_type": "markdown",
   "metadata": {},
   "source": [
    "### Visualization Epochs\n",
    "\n",
    "See [this page](https://mne.tools/stable/auto_tutorials/epochs/plot_visualize_epochs.html) for options on how to visualize epochs.\n",
    "\n",
    "Here is just an illustration to make a so-called ERP/ERF image:"
   ]
  },
  {
   "cell_type": "code",
   "execution_count": 85,
   "metadata": {},
   "outputs": [],
   "source": [
    "raw.plot_psd(fmax=40);"
   ]
  },
  {
   "cell_type": "code",
   "execution_count": 86,
   "metadata": {},
   "outputs": [],
   "source": [
    "epochs.plot_image(picks='EEG065', sigma=1.);"
   ]
  },
  {
   "cell_type": "code",
   "execution_count": 87,
   "metadata": {},
   "outputs": [],
   "source": [
    "import matplotlib.pyplot as plt\n",
    "plt.close('all')"
   ]
  },
  {
   "cell_type": "code",
   "execution_count": 88,
   "metadata": {},
   "outputs": [],
   "source": [
    "epochs.plot();\n",
    "## Press \"B\" to bring up the butterfly part"
   ]
  },
  {
   "cell_type": "markdown",
   "metadata": {},
   "source": [
    "### The epochs object is your MNE swiss army knife for processing segmented data!\n",
    "\n",
    "- specialized methods for diagnostic plotting of data\n",
    "- averaging\n",
    "- saving\n",
    "- manipulating data, e.g., rearranging or deleting single trials, resampling"
   ]
  },
  {
   "cell_type": "markdown",
   "metadata": {},
   "source": [
    "<div class=\"alert alert-success\">\n",
    "    <b>Exercise</b>:\n",
    "     <ul>\n",
    "    <li>How could you get the epochs corresponding to face?</li>\n",
    "    <li>How could you get the epochs corresponding to a familiar face?</li>\n",
    "    <li>How could you get the epochs corresponding to a scrambled face?</li>\n",
    "    </ul>\n",
    "</div>"
   ]
  },
  {
   "cell_type": "code",
   "execution_count": 89,
   "metadata": {},
   "outputs": [
    {
     "data": {
      "text/plain": [
       "{'face/famous/first': 5,\n",
       " 'face/famous/immediate': 6,\n",
       " 'face/famous/long': 7,\n",
       " 'face/unfamiliar/first': 13,\n",
       " 'face/unfamiliar/immediate': 14,\n",
       " 'face/unfamiliar/long': 15,\n",
       " 'scrambled/first': 17,\n",
       " 'scrambled/immediate': 18,\n",
       " 'scrambled/long': 19}"
      ]
     },
     "execution_count": 89,
     "metadata": {},
     "output_type": "execute_result"
    }
   ],
   "source": [
    "epochs.event_id"
   ]
  },
  {
   "cell_type": "code",
   "execution_count": 92,
   "metadata": {},
   "outputs": [
    {
     "data": {
      "text/plain": [
       "<Epochs  |   92 events (all good), -0.5 - 2 sec, baseline [-0.2, 0], ~7.6 MB, data not loaded,\n",
       " 'face/unfamiliar/first': 24\n",
       " 'face/unfamiliar/immediate': 9\n",
       " 'face/unfamiliar/long': 10\n",
       " 'scrambled/first': 25\n",
       " 'scrambled/immediate': 13\n",
       " 'scrambled/long': 11>"
      ]
     },
     "execution_count": 92,
     "metadata": {},
     "output_type": "execute_result"
    }
   ],
   "source": [
    "epochs[['unfamiliar', 'scrambled']]  # the \"OR\" syntax"
   ]
  },
  {
   "cell_type": "markdown",
   "metadata": {},
   "source": [
    "## basic IO "
   ]
  },
  {
   "cell_type": "markdown",
   "metadata": {},
   "source": [
    "The standard scenario is saving the epochs into .fif file together with all the header data."
   ]
  },
  {
   "cell_type": "code",
   "execution_count": 93,
   "metadata": {},
   "outputs": [
    {
     "data": {
      "text/plain": [
       "'/mnt/c/Users/Egor/Downloads/MEEG/ds000117-practical/derivatives/meg_derivatives/sub-01/ses-meg/meg/sub-01_ses-meg_task-facerecognition_run-01_proc-sss-epo.fif'"
      ]
     },
     "execution_count": 93,
     "metadata": {},
     "output_type": "execute_result"
    }
   ],
   "source": [
    "epochs_fname = raw_fname.replace('_meg.fif', '-epo.fif')\n",
    "epochs_fname"
   ]
  },
  {
   "cell_type": "code",
   "execution_count": 94,
   "metadata": {},
   "outputs": [
    {
     "name": "stdout",
     "output_type": "stream",
     "text": [
      "Loading data for 1 events and 751 original time points ...\n",
      "Loading data for 140 events and 751 original time points ...\n"
     ]
    }
   ],
   "source": [
    "epochs.save(epochs_fname, overwrite=True)  # note that epochs are save in files ending with -epo.fif"
   ]
  },
  {
   "cell_type": "code",
   "execution_count": 95,
   "metadata": {},
   "outputs": [
    {
     "data": {
      "text/plain": [
       "(140, 378, 751)"
      ]
     },
     "execution_count": 95,
     "metadata": {},
     "output_type": "execute_result"
    }
   ],
   "source": [
    "data = epochs.get_data()\n",
    "data.shape"
   ]
  },
  {
   "cell_type": "markdown",
   "metadata": {},
   "source": [
    "Scipy also supports reading and writing of matlab files. You can save your single trials with:"
   ]
  },
  {
   "cell_type": "code",
   "execution_count": 96,
   "metadata": {},
   "outputs": [
    {
     "name": "stdout",
     "output_type": "stream",
     "text": [
      "(140, 378, 751)\n"
     ]
    }
   ],
   "source": [
    "from scipy import io\n",
    "epochs_data = epochs.get_data()\n",
    "print(epochs_data.shape)\n",
    "io.savemat('epochs_data.mat', dict(epochs_data=epochs_data),\n",
    "           oned_as='row')"
   ]
  },
  {
   "cell_type": "markdown",
   "metadata": {},
   "source": [
    "## Average the epochs to get ERF/ERP and plot it!"
   ]
  },
  {
   "cell_type": "code",
   "execution_count": 99,
   "metadata": {},
   "outputs": [
    {
     "data": {
      "text/plain": [
       "<Evoked  |  '0.17 * face/famous/first + 0.07 * face/famous/immediate + 0.10 * face/famous/long + 0.17 * face/unfamiliar/first + 0.06 * face/unfamiliar/immediate + 0.07 * face/unfamiliar/long + 0.18 * scrambled/first + 0.09 * scrambled/immediate + 0.08 * scrambled/long' (average, N=140), [-0.5, 2] sec, 376 ch, ~9.6 MB>"
      ]
     },
     "execution_count": 99,
     "metadata": {},
     "output_type": "execute_result"
    }
   ],
   "source": [
    "# For example, let's say that we want to keep the first projs for now\n",
    "\n",
    "# refresh evoked\n",
    "evoked = epochs.average()\n",
    "evoked.del_proj()  # delete previous proj\n",
    "# take first for each sensor type\n",
    "evoked.add_proj(projs_eog[::3] + projs_ecg[::3])\n",
    "evoked.apply_proj()  # apply"
   ]
  },
  {
   "cell_type": "code",
   "execution_count": 100,
   "metadata": {},
   "outputs": [
    {
     "name": "stdout",
     "output_type": "stream",
     "text": [
      "<Evoked  |  '0.17 * face/famous/first + 0.07 * face/famous/immediate + 0.10 * face/famous/long + 0.17 * face/unfamiliar/first + 0.06 * face/unfamiliar/immediate + 0.07 * face/unfamiliar/long + 0.18 * scrambled/first + 0.09 * scrambled/immediate + 0.08 * scrambled/long' (average, N=140), [-0.5, 2] sec, 376 ch, ~9.6 MB>\n"
     ]
    }
   ],
   "source": [
    "#evoked = epochs.average()\n",
    "print(evoked)"
   ]
  },
  {
   "cell_type": "code",
   "execution_count": 101,
   "metadata": {},
   "outputs": [],
   "source": [
    "plt.close('all')\n",
    "evoked.plot(proj=True);"
   ]
  },
  {
   "cell_type": "markdown",
   "metadata": {},
   "source": [
    "We can also show sensor position as line color:"
   ]
  },
  {
   "cell_type": "code",
   "execution_count": 102,
   "metadata": {},
   "outputs": [],
   "source": [
    "evoked.plot(spatial_colors=True, proj=True);  # note the legend"
   ]
  },
  {
   "cell_type": "code",
   "execution_count": 103,
   "metadata": {},
   "outputs": [],
   "source": [
    "times = [0.0, 0.1, 0.18]\n",
    "evoked.plot_topomap(ch_type='mag', times=times, proj=True);\n",
    "evoked.plot_topomap(ch_type='grad', times=times, proj=True);\n",
    "evoked.plot_topomap(ch_type='eeg', times=times, proj=True);"
   ]
  },
  {
   "cell_type": "code",
   "execution_count": null,
   "metadata": {},
   "outputs": [],
   "source": [
    "import numpy as np\n",
    "# pure topography plots called topomap in the MNE jargon\n",
    "for ch_type in ('mag', 'grad', 'eeg'):\n",
    "    evoked.plot_topomap(times=np.linspace(0.05, 0.45, 8),\n",
    "                        ch_type=ch_type, proj=True);"
   ]
  },
  {
   "cell_type": "markdown",
   "metadata": {},
   "source": [
    "<div class=\"alert alert-success\">\n",
    "    <b>Exercise</b>:\n",
    "     <ul>\n",
    "    <li>How does SSP impact the evoked responses? Use proj=\"interactive\" to explore</li>\n",
    "    </ul>\n",
    "</div>"
   ]
  },
  {
   "cell_type": "markdown",
   "metadata": {},
   "source": [
    "Topoplot and time series can also be shown in one single plot:"
   ]
  },
  {
   "cell_type": "code",
   "execution_count": null,
   "metadata": {},
   "outputs": [],
   "source": [
    "evoked.plot_joint(times=[0.17]);"
   ]
  },
  {
   "cell_type": "markdown",
   "metadata": {},
   "source": [
    "## Accessing and indexing epochs by condition\n",
    "\n",
    "Epochs can be indexed by integers or slices to select a subset of epochs but also with strings to select by conditions `epochs[condition]`"
   ]
  },
  {
   "cell_type": "code",
   "execution_count": 104,
   "metadata": {},
   "outputs": [
    {
     "data": {
      "text/plain": [
       "<Epochs  |   1 events (all good), -0.5 - 2 sec, baseline [-0.2, 0], ~7.6 MB, data not loaded,\n",
       " 'face/unfamiliar/first': 1>"
      ]
     },
     "execution_count": 104,
     "metadata": {},
     "output_type": "execute_result"
    }
   ],
   "source": [
    "epochs[0]  # first epoch"
   ]
  },
  {
   "cell_type": "code",
   "execution_count": 105,
   "metadata": {},
   "outputs": [
    {
     "data": {
      "text/plain": [
       "<Epochs  |   10 events (all good), -0.5 - 2 sec, baseline [-0.2, 0], ~7.6 MB, data not loaded,\n",
       " 'face/famous/first': 3\n",
       " 'face/unfamiliar/first': 4\n",
       " 'face/unfamiliar/immediate': 1\n",
       " 'face/unfamiliar/long': 1\n",
       " 'scrambled/first': 1>"
      ]
     },
     "execution_count": 105,
     "metadata": {},
     "output_type": "execute_result"
    }
   ],
   "source": [
    "epochs[:10]  # first 10 epochs"
   ]
  },
  {
   "cell_type": "code",
   "execution_count": 106,
   "metadata": {},
   "outputs": [
    {
     "data": {
      "text/plain": [
       "<Epochs  |   91 events (all good), -0.5 - 2 sec, baseline [-0.2, 0], ~7.6 MB, data not loaded,\n",
       " 'face/famous/first': 24\n",
       " 'face/famous/immediate': 10\n",
       " 'face/famous/long': 14\n",
       " 'face/unfamiliar/first': 24\n",
       " 'face/unfamiliar/immediate': 9\n",
       " 'face/unfamiliar/long': 10>"
      ]
     },
     "execution_count": 106,
     "metadata": {},
     "output_type": "execute_result"
    }
   ],
   "source": [
    "epochs['face']  # epochs for a face"
   ]
  },
  {
   "cell_type": "markdown",
   "metadata": {},
   "source": [
    "In event_id, \"/\" selects conditions in a hierarchical way, e.g. here, \"face\" vs. \"scrambled\", \"famous\" vs. \"unfamiliar\", and MNE can select them individually"
   ]
  },
  {
   "cell_type": "code",
   "execution_count": 107,
   "metadata": {},
   "outputs": [],
   "source": [
    "epochs['face'].average().\\\n",
    "    pick_types(meg='grad').crop(-0.1, 0.25).plot(spatial_colors=True);"
   ]
  },
  {
   "cell_type": "markdown",
   "metadata": {},
   "source": [
    "Apply this to visualize all the conditions in `event_id`"
   ]
  },
  {
   "cell_type": "code",
   "execution_count": 108,
   "metadata": {},
   "outputs": [],
   "source": [
    "plt.close('all')\n",
    "for condition in ['face', 'scrambled']:\n",
    "    epochs[condition].average().plot_topomap(times=[0.1, 0.15], title=condition);"
   ]
  },
  {
   "cell_type": "markdown",
   "metadata": {},
   "source": [
    "## Write evoked data to disk"
   ]
  },
  {
   "cell_type": "code",
   "execution_count": 109,
   "metadata": {},
   "outputs": [
    {
     "data": {
      "text/plain": [
       "'/mnt/c/Users/Egor/Downloads/MEEG/ds000117-practical/derivatives/meg_derivatives/sub-01/ses-meg/meg/sub-01_ses-meg_task-facerecognition_run-01_proc-sss-ave.fif'"
      ]
     },
     "execution_count": 109,
     "metadata": {},
     "output_type": "execute_result"
    }
   ],
   "source": [
    "evoked_fname = raw_fname.replace('_meg.fif', '-ave.fif')\n",
    "evoked_fname"
   ]
  },
  {
   "cell_type": "code",
   "execution_count": 110,
   "metadata": {},
   "outputs": [],
   "source": [
    "evoked.save(evoked_fname)  # note that the file for evoked ends with -ave.fif"
   ]
  },
  {
   "cell_type": "markdown",
   "metadata": {},
   "source": [
    "or to write multiple conditions in 1 file"
   ]
  },
  {
   "cell_type": "code",
   "execution_count": 111,
   "metadata": {},
   "outputs": [],
   "source": [
    "evokeds_list = [epochs[k].average() for k in event_id]  # get evokeds\n",
    "mne.write_evokeds(evoked_fname, evokeds_list)"
   ]
  },
  {
   "cell_type": "markdown",
   "metadata": {},
   "source": [
    "### Reading evoked from disk\n",
    "\n",
    "It is also possible to read evoked data stored in a fif file:"
   ]
  },
  {
   "cell_type": "code",
   "execution_count": 112,
   "metadata": {},
   "outputs": [],
   "source": [
    "evokeds_list = mne.read_evokeds(evoked_fname, baseline=(None, 0), proj=True)"
   ]
  },
  {
   "cell_type": "markdown",
   "metadata": {},
   "source": [
    "Or give the explicit name of the averaged condition:"
   ]
  },
  {
   "cell_type": "code",
   "execution_count": 113,
   "metadata": {},
   "outputs": [],
   "source": [
    "evoked1 = mne.read_evokeds(evoked_fname, condition=\"face/famous/first\",\n",
    "                           baseline=(None, 0), proj=True)"
   ]
  },
  {
   "cell_type": "markdown",
   "metadata": {},
   "source": [
    "**Remark:** Did you notice that you can apply some preprocessing on reading the evokeds from disk?"
   ]
  },
  {
   "cell_type": "markdown",
   "metadata": {},
   "source": [
    "### Compute a contrast:"
   ]
  },
  {
   "cell_type": "code",
   "execution_count": 114,
   "metadata": {},
   "outputs": [],
   "source": [
    "evoked_face = epochs['face'].average()\n",
    "evoked_scrambled = epochs['scrambled'].average()"
   ]
  },
  {
   "cell_type": "code",
   "execution_count": 115,
   "metadata": {},
   "outputs": [],
   "source": [
    "contrast = mne.combine_evoked([evoked_face, evoked_scrambled], [0.5, -0.5])"
   ]
  },
  {
   "cell_type": "markdown",
   "metadata": {},
   "source": [
    "Note that this combines evokeds taking into account the number of averaged epochs (to scale the noise variance)"
   ]
  },
  {
   "cell_type": "code",
   "execution_count": 116,
   "metadata": {},
   "outputs": [
    {
     "name": "stdout",
     "output_type": "stream",
     "text": [
      "24\n",
      "127.4\n"
     ]
    }
   ],
   "source": [
    "print(evoked1.nave)  # average of 12 epochs\n",
    "print(contrast.nave)  # average of 116 epochs"
   ]
  },
  {
   "cell_type": "code",
   "execution_count": 117,
   "metadata": {},
   "outputs": [
    {
     "name": "stdout",
     "output_type": "stream",
     "text": [
      "<Evoked  |  '0.500 * 0.26 * face/famous/first + 0.11 * face/famous/immediate + 0.15 * face/famous/long + 0.26 * face/unfamiliar/first + 0.10 * face/unfamiliar/immediate + 0.11 * face/unfamiliar/long + -0.500 * 0.51 * scrambled/first + 0.27 * scrambled/immediate + 0.22 * scrambled/long' (average, N=127.4), [-0.5, 2] sec, 376 ch, ~9.8 MB>\n"
     ]
    }
   ],
   "source": [
    "print(contrast)"
   ]
  },
  {
   "cell_type": "code",
   "execution_count": 118,
   "metadata": {},
   "outputs": [],
   "source": [
    "fig = contrast.copy().pick('grad').crop(-0.1, 0.3).plot_joint()"
   ]
  },
  {
   "cell_type": "code",
   "execution_count": 126,
   "metadata": {},
   "outputs": [
    {
     "data": {
      "text/plain": [
       "<Evoked  |  '0.26 * face/famous/first + 0.11 * face/famous/immediate + 0.15 * face/famous/long + 0.26 * face/unfamiliar/first + 0.10 * face/unfamiliar/immediate + 0.11 * face/unfamiliar/long' (average, N=91), [-0.5, 2] sec, 376 ch, ~9.8 MB>"
      ]
     },
     "execution_count": 126,
     "metadata": {},
     "output_type": "execute_result"
    }
   ],
   "source": [
    "evoked_face"
   ]
  },
  {
   "cell_type": "code",
   "execution_count": 127,
   "metadata": {},
   "outputs": [
    {
     "data": {
      "text/plain": [
       "<Evoked  |  '0.51 * scrambled/first + 0.27 * scrambled/immediate + 0.22 * scrambled/long' (average, N=49), [-0.1, 0.4] sec, 376 ch, ~8.1 MB>"
      ]
     },
     "execution_count": 127,
     "metadata": {},
     "output_type": "execute_result"
    }
   ],
   "source": [
    "evoked_scrambled"
   ]
  },
  {
   "cell_type": "markdown",
   "metadata": {},
   "source": [
    "### Save your figure as pdf"
   ]
  },
  {
   "cell_type": "code",
   "execution_count": 119,
   "metadata": {},
   "outputs": [
    {
     "name": "stdout",
     "output_type": "stream",
     "text": [
      "Couldn't get a file descriptor referring to the console\r\n"
     ]
    }
   ],
   "source": [
    "%matplotlib qt\n",
    "import numpy as np\n",
    "contrast.plot_topomap(times=np.linspace(0.05, 0.15, 5), ch_type='mag')\n",
    "plt.savefig('toto.pdf')\n",
    "#!open toto.pdf  # works only on a mac"
   ]
  },
  {
   "cell_type": "markdown",
   "metadata": {},
   "source": [
    "<div class=\"alert alert-success\">\n",
    "    <b>EXERCISE</b>:\n",
    "     <ul>\n",
    "      <li>Compute the evoked data for 'famous', 'unfamiliar', 'scrambled' faces</li>\n",
    "      <li>Crop the data between -0.2s and 0.4s</li>     \n",
    "      <li>Plot the channel EEG065 in all 3 conditions using mne.viz.plot_compare_evokeds function</li>\n",
    "    </ul>\n",
    "</div>\n",
    "\n",
    "See: https://mne.tools/stable/generated/mne.viz.plot_compare_evokeds.html"
   ]
  },
  {
   "cell_type": "code",
   "execution_count": 120,
   "metadata": {},
   "outputs": [],
   "source": [
    "evoked_famous = epochs['famous'].average().crop(-0.1, 0.4)\n",
    "evoked_scrambled = epochs['scrambled'].average().crop(-0.1, 0.4)\n",
    "evoked_unfamiliar = epochs['unfamiliar'].average().crop(-0.1, 0.4)"
   ]
  },
  {
   "cell_type": "code",
   "execution_count": 125,
   "metadata": {},
   "outputs": [],
   "source": [
    "plt.close('all')\n",
    "mne.viz.plot_evoked_topo([evoked_famous, evoked_scrambled, evoked_unfamiliar]);"
   ]
  },
  {
   "cell_type": "code",
   "execution_count": 122,
   "metadata": {},
   "outputs": [],
   "source": [
    "evokeds = {k:epochs[k].average().crop(-0.1, 0.4)\n",
    "           for k in ['famous', 'unfamiliar', 'scrambled']}"
   ]
  },
  {
   "cell_type": "code",
   "execution_count": 123,
   "metadata": {},
   "outputs": [],
   "source": [
    "plt.close('all')\n",
    "mne.viz.plot_compare_evokeds(evokeds, picks='EEG065');"
   ]
  },
  {
   "cell_type": "markdown",
   "metadata": {},
   "source": [
    "## ADVANCED: Customize your plots\n",
    "\n",
    "Want to have every text in blue?"
   ]
  },
  {
   "cell_type": "code",
   "execution_count": 124,
   "metadata": {},
   "outputs": [],
   "source": [
    "import matplotlib as mpl\n",
    "fig = evoked1.plot(show=False)  # butterfly plots\n",
    "fig.subplots_adjust(hspace=1.0)\n",
    "for text in fig.findobj(mpl.text.Text):\n",
    "    text.set_fontsize(18)\n",
    "    text.set_color('blue')\n",
    "for ax in fig.get_axes():\n",
    "    ax.axvline(0., color='red', linestyle='--')\n",
    "fig.savefig('plot_erf.pdf');"
   ]
  }
 ],
 "metadata": {
  "kernelspec": {
   "display_name": "Python 3",
   "language": "python",
   "name": "python3"
  },
  "language_info": {
   "codemirror_mode": {
    "name": "ipython",
    "version": 3
   },
   "file_extension": ".py",
   "mimetype": "text/x-python",
   "name": "python",
   "nbconvert_exporter": "python",
   "pygments_lexer": "ipython3",
   "version": "3.7.5"
  },
  "widgets": {
   "state": {},
   "version": "1.1.2"
  }
 },
 "nbformat": 4,
 "nbformat_minor": 1
}
