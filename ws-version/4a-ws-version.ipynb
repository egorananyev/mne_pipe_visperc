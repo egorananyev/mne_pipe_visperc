{
 "cells": [
  {
   "cell_type": "markdown",
   "metadata": {},
   "source": [
    "\n",
    "# Source localization with single dipole fit\n",
    "\n",
    "\n",
    "The aim of this lecture is to show you how to do sequential and\n",
    "fixed dipole fitting with MNE-Python."
   ]
  },
  {
   "cell_type": "code",
   "execution_count": 1,
   "metadata": {},
   "outputs": [],
   "source": [
    "%matplotlib qt\n",
    "import matplotlib.pyplot as plt\n",
    "\n",
    "import os\n",
    "import numpy as np\n",
    "import mne\n",
    "\n",
    "mne.set_log_level('WARNING')\n",
    "\n",
    "# Change the following path to where the folder ds000117-practical is on your disk\n",
    "data_path = os.path.expanduser(\"/mnt/c/Users/Egor/Downloads/MEEG/ds000117-practical/\")\n",
    "\n",
    "raw_fname = os.path.join(data_path,\n",
    "    'derivatives/meg_derivatives/sub-01/ses-meg/meg/sub-01_ses-meg_task-facerecognition_run-01_proc-sss_meg.fif')\n",
    "\n",
    "epochs_fname = raw_fname.replace('_meg.fif', '-epo.fif')"
   ]
  },
  {
   "cell_type": "code",
   "execution_count": 2,
   "metadata": {},
   "outputs": [],
   "source": [
    "subjects_dir = os.path.join(data_path, 'derivatives/freesurfer-reconall/')\n",
    "subject = 'sub-01'\n",
    "trans_fname = os.path.join(data_path,\n",
    "    'derivatives/meg_derivatives/sub-01/ses-meg/meg/sub-01-trans.fif')\n",
    "bem_fname = os.path.join(data_path,\n",
    "    'derivatives/meg_derivatives/sub-01/ses-meg/meg/sub-01-bem.fif')\n",
    "fname_surf_lh = os.path.join(subjects_dir, subject, 'surf', 'lh.white')"
   ]
  },
  {
   "cell_type": "markdown",
   "metadata": {},
   "source": [
    "<div class=\"alert alert-success\">\n",
    "    <b>EXERCISE</b>:\n",
    "     <ul>\n",
    "      <li>Check that the head geometry and sensor alignment is correct</li>\n",
    "    </ul>\n",
    "</div>\n",
    "\n",
    "You will need to use the `mne.viz.plot_alignment` function that can take as input a `bem` parameter of type `ConductorModel`"
   ]
  },
  {
   "cell_type": "code",
   "execution_count": 3,
   "metadata": {},
   "outputs": [],
   "source": [
    "mne.viz.plot_alignment?"
   ]
  },
  {
   "cell_type": "code",
   "execution_count": 4,
   "metadata": {},
   "outputs": [
    {
     "data": {
      "text/plain": [
       "<ConductorModel  |  BEM (1 layer)>"
      ]
     },
     "execution_count": 4,
     "metadata": {},
     "output_type": "execute_result"
    }
   ],
   "source": [
    "bem = mne.bem.read_bem_solution(bem_fname)\n",
    "bem"
   ]
  },
  {
   "cell_type": "code",
   "execution_count": 5,
   "metadata": {},
   "outputs": [
    {
     "name": "stdout",
     "output_type": "stream",
     "text": [
      "Could not find the surface for head in the provided BEM model, looking in the subject directory.\n",
      "Using outer_skin.surf for head surface.\n",
      "Getting helmet for system 306m\n"
     ]
    }
   ],
   "source": [
    "# TODO\n",
    "info = mne.io.read_info(epochs_fname)\n",
    "fig = mne.viz.plot_alignment(info, trans_fname, subject=subject, dig=True,\n",
    "                             subjects_dir=subjects_dir, bem=bem, verbose=True);"
   ]
  },
  {
   "cell_type": "markdown",
   "metadata": {},
   "source": [
    "## Let's localize the N170m (using MEG only) using dipole fitting"
   ]
  },
  {
   "cell_type": "code",
   "execution_count": 6,
   "metadata": {},
   "outputs": [],
   "source": [
    "epochs = mne.read_epochs(epochs_fname, proj=False)\n",
    "epochs.info['projs'] = epochs.info['projs'][::3]"
   ]
  },
  {
   "cell_type": "code",
   "execution_count": 7,
   "metadata": {},
   "outputs": [
    {
     "data": {
      "text/plain": [
       "<EpochsFIF  |   140 events (all good), -0.5 - 2 sec, baseline [-0.2, 0], ~252.8 MB, data loaded,\n",
       " 'face/famous/first': 24\n",
       " 'face/famous/immediate': 10\n",
       " 'face/famous/long': 14\n",
       " 'face/unfamiliar/first': 24\n",
       " 'face/unfamiliar/immediate': 9\n",
       " 'face/unfamiliar/long': 10\n",
       " 'scrambled/first': 25\n",
       " 'scrambled/immediate': 13\n",
       " 'scrambled/long': 11>"
      ]
     },
     "execution_count": 7,
     "metadata": {},
     "output_type": "execute_result"
    }
   ],
   "source": [
    "epochs.pick_types(meg=True, eeg=False)"
   ]
  },
  {
   "cell_type": "code",
   "execution_count": 8,
   "metadata": {},
   "outputs": [
    {
     "name": "stdout",
     "output_type": "stream",
     "text": [
      "Computing data rank from raw with rank='info'\n",
      "    MEG: rank 63 after 5 projectors applied to 306 channels\n",
      "    Created an SSP operator (subspace dimension = 5)\n",
      "    Setting small MEG eigenvalues to zero (without PCA)\n",
      "Reducing data rank from 306 -> 63\n",
      "Estimating covariance using EMPIRICAL\n",
      "Done.\n",
      "Number of samples used : 21140\n",
      "[done]\n"
     ]
    }
   ],
   "source": [
    "cov = mne.compute_covariance(epochs, rank='info', tmax=0, verbose=True)"
   ]
  },
  {
   "cell_type": "markdown",
   "metadata": {},
   "source": [
    "EA: Degrees of freedom should be 64..."
   ]
  },
  {
   "cell_type": "markdown",
   "metadata": {},
   "source": [
    "TODO: look into the empty room method."
   ]
  },
  {
   "cell_type": "code",
   "execution_count": 9,
   "metadata": {},
   "outputs": [
    {
     "data": {
      "text/plain": [
       "(<Figure size 760x370 with 4 Axes>, <Figure size 760x370 with 2 Axes>)"
      ]
     },
     "execution_count": 9,
     "metadata": {},
     "output_type": "execute_result"
    }
   ],
   "source": [
    "cov.plot(epochs.info)"
   ]
  },
  {
   "cell_type": "markdown",
   "metadata": {},
   "source": [
    "Gradiometers cancel out a lot of noise, so it should give a lot less noise.\n",
    "\n",
    "We have a rank deficiency.\n",
    "\n",
    "When you do SSS, you're combining gradiometers and magnetometers... They will become highly dependent. This can be seen that both types of sensors now have the same rank. We can't do more than 64 dipoles."
   ]
  },
  {
   "cell_type": "code",
   "execution_count": 27,
   "metadata": {},
   "outputs": [
    {
     "data": {
      "text/plain": [
       "<EpochsFIF  |   140 events (all good), -0.5 - 2 sec, baseline [-0.2, 0], ~252.8 MB, data loaded,\n",
       " 'face/famous/first': 24\n",
       " 'face/famous/immediate': 10\n",
       " 'face/famous/long': 14\n",
       " 'face/unfamiliar/first': 24\n",
       " 'face/unfamiliar/immediate': 9\n",
       " 'face/unfamiliar/long': 10\n",
       " 'scrambled/first': 25\n",
       " 'scrambled/immediate': 13\n",
       " 'scrambled/long': 11>"
      ]
     },
     "execution_count": 27,
     "metadata": {},
     "output_type": "execute_result"
    }
   ],
   "source": [
    "epochs.pick_types(meg=True, eeg=False)"
   ]
  },
  {
   "cell_type": "code",
   "execution_count": 10,
   "metadata": {},
   "outputs": [],
   "source": [
    "evoked_face = epochs['face'].average()\n",
    "evoked_scrambled = epochs['scrambled'].average()"
   ]
  },
  {
   "cell_type": "code",
   "execution_count": 13,
   "metadata": {},
   "outputs": [],
   "source": [
    "contrast = mne.combine_evoked([evoked_face, evoked_scrambled], [0.5, -0.5])\n",
    "contrast.crop(None, 0.2)\n",
    "contrast.plot_joint();"
   ]
  },
  {
   "cell_type": "code",
   "execution_count": 19,
   "metadata": {},
   "outputs": [],
   "source": [
    "contrast.plot_white(cov);"
   ]
  },
  {
   "cell_type": "code",
   "execution_count": 32,
   "metadata": {},
   "outputs": [
    {
     "name": "stdout",
     "output_type": "stream",
     "text": [
      "<Dipole  |  n_times : 7, tmin : 0.150, tmax : 0.170>\n"
     ]
    }
   ],
   "source": [
    "# Fit a dipole using a sequential (time-varying position and orientation) fit\n",
    "contrast_crop = contrast.copy().crop(0.150, 0.170)\n",
    "dip, residual = mne.fit_dipole(contrast_crop, cov, bem_fname,\n",
    "                               trans_fname)\n",
    "print(dip)"
   ]
  },
  {
   "cell_type": "code",
   "execution_count": 33,
   "metadata": {
    "scrolled": true
   },
   "outputs": [
    {
     "name": "stdout",
     "output_type": "stream",
     "text": [
      "[36.34234788 37.48998902 32.86427922 34.41853191 39.88987071 42.26846419\n",
      " 26.15036641]\n"
     ]
    }
   ],
   "source": [
    "# Look at our result\n",
    "print(dip.gof)"
   ]
  },
  {
   "cell_type": "markdown",
   "metadata": {},
   "source": [
    "This is not a very good fit. Can be improved by using fewer sensors."
   ]
  },
  {
   "cell_type": "code",
   "execution_count": 34,
   "metadata": {},
   "outputs": [],
   "source": [
    "dip.plot_locations(subject=subject, trans=trans_fname,\n",
    "                   subjects_dir=subjects_dir, mode='orthoview');"
   ]
  },
  {
   "cell_type": "markdown",
   "metadata": {},
   "source": [
    "<div class=\"alert alert-success\">\n",
    "    <b>EXERCISE</b>:\n",
    "     <ul>\n",
    "      <li>Try to improve the dipole fit by using a subselection of channels [0] </li>\n",
    "      <li>What is the improvement in max GOF from using a subselection of channels?</li>     \n",
    "      <li>Should you also try to maximize GOF?</li>\n",
    "    </ul>\n",
    "</div>\n",
    "\n",
    "Tips and tricks:\n",
    "\n",
    "   - [0] Subselect channels (think about ``mne.read_selection(...)``, ``evoked.pick_channels(...)``)"
   ]
  },
  {
   "cell_type": "code",
   "execution_count": 36,
   "metadata": {},
   "outputs": [
    {
     "name": "stderr",
     "output_type": "stream",
     "text": [
      "<ipython-input-36-c2b3e9e0f626>:8: RuntimeWarning: Projection vector \"EOG-planar--0.200-0.200-PCA-01\" has magnitude 0.71 (should be unity), applying projector with 102/204 of the original channels available may be dangerous, consider recomputing and adding projection vectors for channels that are eventually used. If this is intentional, consider using info.normalize_proj()\n",
      "  cov, bem_fname, trans_fname)\n",
      "<ipython-input-36-c2b3e9e0f626>:8: RuntimeWarning: Projection vector \"EOG-planar--0.200-0.200-PCA-04\" has magnitude 0.79 (should be unity), applying projector with 102/204 of the original channels available may be dangerous, consider recomputing and adding projection vectors for channels that are eventually used. If this is intentional, consider using info.normalize_proj()\n",
      "  cov, bem_fname, trans_fname)\n",
      "<ipython-input-36-c2b3e9e0f626>:8: RuntimeWarning: Projection vector \"EOG-axial--0.200-0.200-PCA-03\" has magnitude 0.89 (should be unity), applying projector with 51/102 of the original channels available may be dangerous, consider recomputing and adding projection vectors for channels that are eventually used. If this is intentional, consider using info.normalize_proj()\n",
      "  cov, bem_fname, trans_fname)\n",
      "<ipython-input-36-c2b3e9e0f626>:8: RuntimeWarning: Projection vector \"ECG-planar--0.200-0.400-PCA-01\" has magnitude 0.82 (should be unity), applying projector with 102/204 of the original channels available may be dangerous, consider recomputing and adding projection vectors for channels that are eventually used. If this is intentional, consider using info.normalize_proj()\n",
      "  cov, bem_fname, trans_fname)\n",
      "<ipython-input-36-c2b3e9e0f626>:8: RuntimeWarning: Projection vector \"ECG-axial--0.200-0.400-PCA-01\" has magnitude 0.63 (should be unity), applying projector with 51/102 of the original channels available may be dangerous, consider recomputing and adding projection vectors for channels that are eventually used. If this is intentional, consider using info.normalize_proj()\n",
      "  cov, bem_fname, trans_fname)\n",
      "<ipython-input-36-c2b3e9e0f626>:8: RuntimeWarning: Projection vector \"EOG-planar--0.200-0.200-PCA-01\" has magnitude 0.71 (should be unity), applying projector with 102/204 of the original channels available may be dangerous, consider recomputing and adding projection vectors for channels that are eventually used. If this is intentional, consider using info.normalize_proj()\n",
      "  cov, bem_fname, trans_fname)\n",
      "<ipython-input-36-c2b3e9e0f626>:8: RuntimeWarning: Projection vector \"EOG-planar--0.200-0.200-PCA-04\" has magnitude 0.79 (should be unity), applying projector with 102/204 of the original channels available may be dangerous, consider recomputing and adding projection vectors for channels that are eventually used. If this is intentional, consider using info.normalize_proj()\n",
      "  cov, bem_fname, trans_fname)\n",
      "<ipython-input-36-c2b3e9e0f626>:8: RuntimeWarning: Projection vector \"EOG-axial--0.200-0.200-PCA-03\" has magnitude 0.89 (should be unity), applying projector with 51/102 of the original channels available may be dangerous, consider recomputing and adding projection vectors for channels that are eventually used. If this is intentional, consider using info.normalize_proj()\n",
      "  cov, bem_fname, trans_fname)\n",
      "<ipython-input-36-c2b3e9e0f626>:8: RuntimeWarning: Projection vector \"ECG-planar--0.200-0.400-PCA-01\" has magnitude 0.82 (should be unity), applying projector with 102/204 of the original channels available may be dangerous, consider recomputing and adding projection vectors for channels that are eventually used. If this is intentional, consider using info.normalize_proj()\n",
      "  cov, bem_fname, trans_fname)\n",
      "<ipython-input-36-c2b3e9e0f626>:8: RuntimeWarning: Projection vector \"ECG-axial--0.200-0.400-PCA-01\" has magnitude 0.63 (should be unity), applying projector with 51/102 of the original channels available may be dangerous, consider recomputing and adding projection vectors for channels that are eventually used. If this is intentional, consider using info.normalize_proj()\n",
      "  cov, bem_fname, trans_fname)\n",
      "<ipython-input-36-c2b3e9e0f626>:8: RuntimeWarning: Projection vector \"EOG-planar--0.200-0.200-PCA-01\" has magnitude 0.71 (should be unity), applying projector with 102/204 of the original channels available may be dangerous, consider recomputing and adding projection vectors for channels that are eventually used. If this is intentional, consider using info.normalize_proj()\n",
      "  cov, bem_fname, trans_fname)\n",
      "<ipython-input-36-c2b3e9e0f626>:8: RuntimeWarning: Projection vector \"EOG-planar--0.200-0.200-PCA-04\" has magnitude 0.79 (should be unity), applying projector with 102/204 of the original channels available may be dangerous, consider recomputing and adding projection vectors for channels that are eventually used. If this is intentional, consider using info.normalize_proj()\n",
      "  cov, bem_fname, trans_fname)\n",
      "<ipython-input-36-c2b3e9e0f626>:8: RuntimeWarning: Projection vector \"EOG-axial--0.200-0.200-PCA-03\" has magnitude 0.89 (should be unity), applying projector with 51/102 of the original channels available may be dangerous, consider recomputing and adding projection vectors for channels that are eventually used. If this is intentional, consider using info.normalize_proj()\n",
      "  cov, bem_fname, trans_fname)\n",
      "<ipython-input-36-c2b3e9e0f626>:8: RuntimeWarning: Projection vector \"ECG-planar--0.200-0.400-PCA-01\" has magnitude 0.82 (should be unity), applying projector with 102/204 of the original channels available may be dangerous, consider recomputing and adding projection vectors for channels that are eventually used. If this is intentional, consider using info.normalize_proj()\n",
      "  cov, bem_fname, trans_fname)\n",
      "<ipython-input-36-c2b3e9e0f626>:8: RuntimeWarning: Projection vector \"ECG-axial--0.200-0.400-PCA-01\" has magnitude 0.63 (should be unity), applying projector with 51/102 of the original channels available may be dangerous, consider recomputing and adding projection vectors for channels that are eventually used. If this is intentional, consider using info.normalize_proj()\n",
      "  cov, bem_fname, trans_fname)\n",
      "<ipython-input-36-c2b3e9e0f626>:8: RuntimeWarning: Projection vector \"EOG-planar--0.200-0.200-PCA-01\" has magnitude 0.71 (should be unity), applying projector with 102/204 of the original channels available may be dangerous, consider recomputing and adding projection vectors for channels that are eventually used. If this is intentional, consider using info.normalize_proj()\n",
      "  cov, bem_fname, trans_fname)\n",
      "<ipython-input-36-c2b3e9e0f626>:8: RuntimeWarning: Projection vector \"EOG-planar--0.200-0.200-PCA-04\" has magnitude 0.79 (should be unity), applying projector with 102/204 of the original channels available may be dangerous, consider recomputing and adding projection vectors for channels that are eventually used. If this is intentional, consider using info.normalize_proj()\n",
      "  cov, bem_fname, trans_fname)\n",
      "<ipython-input-36-c2b3e9e0f626>:8: RuntimeWarning: Projection vector \"EOG-axial--0.200-0.200-PCA-03\" has magnitude 0.89 (should be unity), applying projector with 51/102 of the original channels available may be dangerous, consider recomputing and adding projection vectors for channels that are eventually used. If this is intentional, consider using info.normalize_proj()\n",
      "  cov, bem_fname, trans_fname)\n",
      "<ipython-input-36-c2b3e9e0f626>:8: RuntimeWarning: Projection vector \"ECG-planar--0.200-0.400-PCA-01\" has magnitude 0.82 (should be unity), applying projector with 102/204 of the original channels available may be dangerous, consider recomputing and adding projection vectors for channels that are eventually used. If this is intentional, consider using info.normalize_proj()\n",
      "  cov, bem_fname, trans_fname)\n",
      "<ipython-input-36-c2b3e9e0f626>:8: RuntimeWarning: Projection vector \"ECG-axial--0.200-0.400-PCA-01\" has magnitude 0.63 (should be unity), applying projector with 51/102 of the original channels available may be dangerous, consider recomputing and adding projection vectors for channels that are eventually used. If this is intentional, consider using info.normalize_proj()\n",
      "  cov, bem_fname, trans_fname)\n"
     ]
    },
    {
     "name": "stdout",
     "output_type": "stream",
     "text": [
      "<Dipole  |  n_times : 7, tmin : 0.150, tmax : 0.170>\n"
     ]
    },
    {
     "name": "stderr",
     "output_type": "stream",
     "text": [
      "<ipython-input-36-c2b3e9e0f626>:8: RuntimeWarning: Projection vector \"EOG-planar--0.200-0.200-PCA-01\" has magnitude 0.71 (should be unity), applying projector with 102/204 of the original channels available may be dangerous, consider recomputing and adding projection vectors for channels that are eventually used. If this is intentional, consider using info.normalize_proj()\n",
      "  cov, bem_fname, trans_fname)\n",
      "<ipython-input-36-c2b3e9e0f626>:8: RuntimeWarning: Projection vector \"EOG-planar--0.200-0.200-PCA-04\" has magnitude 0.79 (should be unity), applying projector with 102/204 of the original channels available may be dangerous, consider recomputing and adding projection vectors for channels that are eventually used. If this is intentional, consider using info.normalize_proj()\n",
      "  cov, bem_fname, trans_fname)\n",
      "<ipython-input-36-c2b3e9e0f626>:8: RuntimeWarning: Projection vector \"EOG-axial--0.200-0.200-PCA-03\" has magnitude 0.89 (should be unity), applying projector with 51/102 of the original channels available may be dangerous, consider recomputing and adding projection vectors for channels that are eventually used. If this is intentional, consider using info.normalize_proj()\n",
      "  cov, bem_fname, trans_fname)\n",
      "<ipython-input-36-c2b3e9e0f626>:8: RuntimeWarning: Projection vector \"ECG-planar--0.200-0.400-PCA-01\" has magnitude 0.82 (should be unity), applying projector with 102/204 of the original channels available may be dangerous, consider recomputing and adding projection vectors for channels that are eventually used. If this is intentional, consider using info.normalize_proj()\n",
      "  cov, bem_fname, trans_fname)\n",
      "<ipython-input-36-c2b3e9e0f626>:8: RuntimeWarning: Projection vector \"ECG-axial--0.200-0.400-PCA-01\" has magnitude 0.63 (should be unity), applying projector with 51/102 of the original channels available may be dangerous, consider recomputing and adding projection vectors for channels that are eventually used. If this is intentional, consider using info.normalize_proj()\n",
      "  cov, bem_fname, trans_fname)\n"
     ]
    }
   ],
   "source": [
    "# TODO\n",
    "selection = mne.read_selection('Left', info=contrast.info)\n",
    "# selection is just a list of channels\n",
    "\n",
    "# Fit a dipole using a sequential (time-varying position and orientation) fit\n",
    "dip, residual = \\\n",
    "    mne.fit_dipole(contrast_crop.copy().pick_channels(selection),\n",
    "                   cov, bem_fname, trans_fname)\n",
    "print(dip)"
   ]
  },
  {
   "cell_type": "code",
   "execution_count": 37,
   "metadata": {},
   "outputs": [
    {
     "name": "stdout",
     "output_type": "stream",
     "text": [
      "[67.71724856 56.68556272 52.21442333 61.40300611 77.45784748 80.58329749\n",
      " 71.65020871]\n"
     ]
    }
   ],
   "source": [
    "print(dip.gof)"
   ]
  },
  {
   "cell_type": "code",
   "execution_count": 38,
   "metadata": {},
   "outputs": [],
   "source": [
    "dip.plot_locations(subject=subject, trans=trans_fname,\n",
    "                   subjects_dir=subjects_dir, mode='orthoview');"
   ]
  },
  {
   "cell_type": "code",
   "execution_count": null,
   "metadata": {},
   "outputs": [],
   "source": []
  }
 ],
 "metadata": {
  "kernelspec": {
   "display_name": "Python 3",
   "language": "python",
   "name": "python3"
  },
  "language_info": {
   "codemirror_mode": {
    "name": "ipython",
    "version": 3
   },
   "file_extension": ".py",
   "mimetype": "text/x-python",
   "name": "python",
   "nbconvert_exporter": "python",
   "pygments_lexer": "ipython3",
   "version": "3.7.5"
  }
 },
 "nbformat": 4,
 "nbformat_minor": 1
}
