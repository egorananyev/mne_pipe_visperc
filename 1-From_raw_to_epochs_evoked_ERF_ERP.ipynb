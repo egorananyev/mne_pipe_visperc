{
 "cells": [
  {
   "cell_type": "markdown",
   "metadata": {},
   "source": [
    "# MNE : From raw data to epochs and evoked responses (ERF/ERP)\n",
    "\n",
    "`\n",
    "Authors:\n",
    "Alexandre Gramfort\n",
    "Denis A. Engemann\n",
    "`\n",
    "\n",
    "`\n",
    "Modified by:\n",
    "Egor Ananyev\n",
    "Jit Wei Ang Aaron\n",
    "`"
   ]
  },
  {
   "cell_type": "code",
   "execution_count": 1,
   "metadata": {},
   "outputs": [],
   "source": [
    "%matplotlib qt\n",
    "import numpy as np\n",
    "import matplotlib as mpl\n",
    "import matplotlib.pyplot as plt"
   ]
  },
  {
   "cell_type": "markdown",
   "metadata": {},
   "source": [
    "First, load the _mne_ package:"
   ]
  },
  {
   "cell_type": "code",
   "execution_count": 2,
   "metadata": {},
   "outputs": [],
   "source": [
    "import mne"
   ]
  },
  {
   "cell_type": "markdown",
   "metadata": {},
   "source": [
    "We set the log-level to 'warning' so the output is less verbose"
   ]
  },
  {
   "cell_type": "code",
   "execution_count": 3,
   "metadata": {},
   "outputs": [],
   "source": [
    "mne.set_log_level('warning')"
   ]
  },
  {
   "cell_type": "markdown",
   "metadata": {},
   "source": [
    "### Remember if you need help just ask... the machine"
   ]
  },
  {
   "cell_type": "code",
   "execution_count": 4,
   "metadata": {},
   "outputs": [
    {
     "data": {
      "text/plain": [
       "\u001b[1;31mSignature:\u001b[0m\n",
       "\u001b[0mmne\u001b[0m\u001b[1;33m.\u001b[0m\u001b[0mpick_types\u001b[0m\u001b[1;33m(\u001b[0m\u001b[1;33m\n",
       "\u001b[0m    \u001b[0minfo\u001b[0m\u001b[1;33m,\u001b[0m\u001b[1;33m\n",
       "\u001b[0m    \u001b[0mmeg\u001b[0m\u001b[1;33m=\u001b[0m\u001b[1;32mTrue\u001b[0m\u001b[1;33m,\u001b[0m\u001b[1;33m\n",
       "\u001b[0m    \u001b[0meeg\u001b[0m\u001b[1;33m=\u001b[0m\u001b[1;32mFalse\u001b[0m\u001b[1;33m,\u001b[0m\u001b[1;33m\n",
       "\u001b[0m    \u001b[0mstim\u001b[0m\u001b[1;33m=\u001b[0m\u001b[1;32mFalse\u001b[0m\u001b[1;33m,\u001b[0m\u001b[1;33m\n",
       "\u001b[0m    \u001b[0meog\u001b[0m\u001b[1;33m=\u001b[0m\u001b[1;32mFalse\u001b[0m\u001b[1;33m,\u001b[0m\u001b[1;33m\n",
       "\u001b[0m    \u001b[0mecg\u001b[0m\u001b[1;33m=\u001b[0m\u001b[1;32mFalse\u001b[0m\u001b[1;33m,\u001b[0m\u001b[1;33m\n",
       "\u001b[0m    \u001b[0memg\u001b[0m\u001b[1;33m=\u001b[0m\u001b[1;32mFalse\u001b[0m\u001b[1;33m,\u001b[0m\u001b[1;33m\n",
       "\u001b[0m    \u001b[0mref_meg\u001b[0m\u001b[1;33m=\u001b[0m\u001b[1;34m'auto'\u001b[0m\u001b[1;33m,\u001b[0m\u001b[1;33m\n",
       "\u001b[0m    \u001b[0mmisc\u001b[0m\u001b[1;33m=\u001b[0m\u001b[1;32mFalse\u001b[0m\u001b[1;33m,\u001b[0m\u001b[1;33m\n",
       "\u001b[0m    \u001b[0mresp\u001b[0m\u001b[1;33m=\u001b[0m\u001b[1;32mFalse\u001b[0m\u001b[1;33m,\u001b[0m\u001b[1;33m\n",
       "\u001b[0m    \u001b[0mchpi\u001b[0m\u001b[1;33m=\u001b[0m\u001b[1;32mFalse\u001b[0m\u001b[1;33m,\u001b[0m\u001b[1;33m\n",
       "\u001b[0m    \u001b[0mexci\u001b[0m\u001b[1;33m=\u001b[0m\u001b[1;32mFalse\u001b[0m\u001b[1;33m,\u001b[0m\u001b[1;33m\n",
       "\u001b[0m    \u001b[0mias\u001b[0m\u001b[1;33m=\u001b[0m\u001b[1;32mFalse\u001b[0m\u001b[1;33m,\u001b[0m\u001b[1;33m\n",
       "\u001b[0m    \u001b[0msyst\u001b[0m\u001b[1;33m=\u001b[0m\u001b[1;32mFalse\u001b[0m\u001b[1;33m,\u001b[0m\u001b[1;33m\n",
       "\u001b[0m    \u001b[0mseeg\u001b[0m\u001b[1;33m=\u001b[0m\u001b[1;32mFalse\u001b[0m\u001b[1;33m,\u001b[0m\u001b[1;33m\n",
       "\u001b[0m    \u001b[0mdipole\u001b[0m\u001b[1;33m=\u001b[0m\u001b[1;32mFalse\u001b[0m\u001b[1;33m,\u001b[0m\u001b[1;33m\n",
       "\u001b[0m    \u001b[0mgof\u001b[0m\u001b[1;33m=\u001b[0m\u001b[1;32mFalse\u001b[0m\u001b[1;33m,\u001b[0m\u001b[1;33m\n",
       "\u001b[0m    \u001b[0mbio\u001b[0m\u001b[1;33m=\u001b[0m\u001b[1;32mFalse\u001b[0m\u001b[1;33m,\u001b[0m\u001b[1;33m\n",
       "\u001b[0m    \u001b[0mecog\u001b[0m\u001b[1;33m=\u001b[0m\u001b[1;32mFalse\u001b[0m\u001b[1;33m,\u001b[0m\u001b[1;33m\n",
       "\u001b[0m    \u001b[0mfnirs\u001b[0m\u001b[1;33m=\u001b[0m\u001b[1;32mFalse\u001b[0m\u001b[1;33m,\u001b[0m\u001b[1;33m\n",
       "\u001b[0m    \u001b[0minclude\u001b[0m\u001b[1;33m=\u001b[0m\u001b[1;33m(\u001b[0m\u001b[1;33m)\u001b[0m\u001b[1;33m,\u001b[0m\u001b[1;33m\n",
       "\u001b[0m    \u001b[0mexclude\u001b[0m\u001b[1;33m=\u001b[0m\u001b[1;34m'bads'\u001b[0m\u001b[1;33m,\u001b[0m\u001b[1;33m\n",
       "\u001b[0m    \u001b[0mselection\u001b[0m\u001b[1;33m=\u001b[0m\u001b[1;32mNone\u001b[0m\u001b[1;33m,\u001b[0m\u001b[1;33m\n",
       "\u001b[0m\u001b[1;33m)\u001b[0m\u001b[1;33m\u001b[0m\u001b[1;33m\u001b[0m\u001b[0m\n",
       "\u001b[1;31mDocstring:\u001b[0m\n",
       "Pick channels by type and names.\n",
       "\n",
       "Parameters\n",
       "----------\n",
       "info : dict\n",
       "    The measurement info.\n",
       "meg : bool | str\n",
       "    If True include all MEG channels. If False include None\n",
       "    If string it can be 'mag', 'grad', 'planar1' or 'planar2' to select\n",
       "    only magnetometers, all gradiometers, or a specific type of\n",
       "    gradiometer.\n",
       "eeg : bool\n",
       "    If True include EEG channels.\n",
       "stim : bool\n",
       "    If True include stimulus channels.\n",
       "eog : bool\n",
       "    If True include EOG channels.\n",
       "ecg : bool\n",
       "    If True include ECG channels.\n",
       "emg : bool\n",
       "    If True include EMG channels.\n",
       "ref_meg : bool | str\n",
       "    If True include CTF / 4D reference channels. If 'auto', the\n",
       "    reference channels included if compensations are present\n",
       "    and ``meg`` is not False. Can also be the string options allowed\n",
       "    for the ``meg`` parameter.\n",
       "misc : bool\n",
       "    If True include miscellaneous analog channels.\n",
       "resp : bool\n",
       "    If True include response-trigger channel. For some MEG systems this\n",
       "    is separate from the stim channel.\n",
       "chpi : bool\n",
       "    If True include continuous HPI coil channels.\n",
       "exci : bool\n",
       "    Flux excitation channel used to be a stimulus channel.\n",
       "ias : bool\n",
       "    Internal Active Shielding data (maybe on Triux only).\n",
       "syst : bool\n",
       "    System status channel information (on Triux systems only).\n",
       "seeg : bool\n",
       "    Stereotactic EEG channels.\n",
       "dipole : bool\n",
       "    Dipole time course channels.\n",
       "gof : bool\n",
       "    Dipole goodness of fit channels.\n",
       "bio : bool\n",
       "    Bio channels.\n",
       "ecog : bool\n",
       "    Electrocorticography channels.\n",
       "fnirs : bool | str\n",
       "    Functional near-infrared spectroscopy channels. If True include all\n",
       "    fNIRS channels. If False (default) include none. If string it can be\n",
       "    'hbo' (to include channels measuring oxyhemoglobin) or 'hbr' (to\n",
       "    include channels measuring deoxyhemoglobin).\n",
       "include : list of string\n",
       "    List of additional channels to include. If empty do not include any.\n",
       "exclude : list of string | str\n",
       "    List of channels to exclude. If 'bads' (default), exclude channels\n",
       "    in ``info['bads']``.\n",
       "selection : list of string\n",
       "    Restrict sensor channels (MEG, EEG) to this list of channel names.\n",
       "\n",
       "Returns\n",
       "-------\n",
       "sel : array of int\n",
       "    Indices of good channels.\n",
       "\u001b[1;31mFile:\u001b[0m      c:\\users\\egora\\anaconda3\\envs\\mne\\lib\\site-packages\\mne\\io\\pick.py\n",
       "\u001b[1;31mType:\u001b[0m      function\n"
      ]
     },
     "metadata": {},
     "output_type": "display_data"
    }
   ],
   "source": [
    "mne.pick_types?"
   ]
  },
  {
   "cell_type": "markdown",
   "metadata": {},
   "source": [
    "## Access raw data"
   ]
  },
  {
   "cell_type": "markdown",
   "metadata": {},
   "source": [
    "You should have downloaded the `ds000117-practical` folder."
   ]
  },
  {
   "cell_type": "code",
   "execution_count": 5,
   "metadata": {},
   "outputs": [],
   "source": [
    "import os\n",
    "\n",
    "# Change the following path to where the folder ds000117-practical is on your disk\n",
    "# data_path = os.path.expanduser(\"~/work/data/ds000117-practical/\")  # original path\n",
    "# data_path = os.path.expanduser(\"~/Downloads/meeg/ds000117-practical/\")  # this results in error for <ls $raw_fname>\n",
    "# data_path = os.path.expanduser(\"C:/Users/egora/Downloads/meeg/ds000117-practical/\")  # this results in error for <ls $raw_fname>\n",
    "# data_path = os.path.expanduser(\"C:\\\\Users\\\\egora\\\\Downloads\\\\meeg\\\\ds000117-practical\\\\\")  # this works\n",
    "data_path = os.path.expanduser(\"~\\\\Downloads\\\\meeg\\\\ds000117-practical\\\\\")  # this works and is user-independent\n",
    "\n",
    "raw_fname = os.path.join(data_path,\n",
    "    'derivatives\\\\meg_derivatives\\\\sub-01\\\\ses-meg\\\\meg\\\\sub-01_ses-meg_task-facerecognition_run-01_proc-sss_meg.fif')"
   ]
  },
  {
   "cell_type": "code",
   "execution_count": 6,
   "metadata": {},
   "outputs": [
    {
     "name": "stdout",
     "output_type": "stream",
     "text": [
      "C:\\Users\\egora\\Downloads\\meeg\\ds000117-practical\\derivatives\\meg_derivatives\\sub-01\\ses-meg\\meg\\sub-01_ses-meg_task-facerecognition_run-01_proc-sss_meg.fif\n"
     ]
    }
   ],
   "source": [
    "print(raw_fname)"
   ]
  },
  {
   "cell_type": "code",
   "execution_count": 7,
   "metadata": {},
   "outputs": [
    {
     "name": "stdout",
     "output_type": "stream",
     "text": [
      " Volume in drive C is Acer\n",
      " Volume Serial Number is FAD5-0445\n",
      "\n",
      " Directory of C:\\Users\\egora\\Downloads\\meeg\\ds000117-practical\\derivatives\\meg_derivatives\\sub-01\\ses-meg\\meg\n",
      "\n",
      "2019-12-12  08:27       879,788,831 sub-01_ses-meg_task-facerecognition_run-01_proc-sss_meg.fif\n",
      "               1 File(s)    879,788,831 bytes\n",
      "               0 Dir(s)  88,336,199,680 bytes free\n"
     ]
    }
   ],
   "source": [
    "ls $raw_fname"
   ]
  },
  {
   "cell_type": "markdown",
   "metadata": {},
   "source": [
    "Read data from file:"
   ]
  },
  {
   "cell_type": "code",
   "execution_count": 8,
   "metadata": {},
   "outputs": [
    {
     "data": {
      "text/plain": [
       "\u001b[1;31mSignature:\u001b[0m\n",
       "\u001b[0mmne\u001b[0m\u001b[1;33m.\u001b[0m\u001b[0mio\u001b[0m\u001b[1;33m.\u001b[0m\u001b[0mread_raw_fif\u001b[0m\u001b[1;33m(\u001b[0m\u001b[1;33m\n",
       "\u001b[0m    \u001b[0mfname\u001b[0m\u001b[1;33m,\u001b[0m\u001b[1;33m\n",
       "\u001b[0m    \u001b[0mallow_maxshield\u001b[0m\u001b[1;33m=\u001b[0m\u001b[1;32mFalse\u001b[0m\u001b[1;33m,\u001b[0m\u001b[1;33m\n",
       "\u001b[0m    \u001b[0mpreload\u001b[0m\u001b[1;33m=\u001b[0m\u001b[1;32mFalse\u001b[0m\u001b[1;33m,\u001b[0m\u001b[1;33m\n",
       "\u001b[0m    \u001b[0mverbose\u001b[0m\u001b[1;33m=\u001b[0m\u001b[1;32mNone\u001b[0m\u001b[1;33m,\u001b[0m\u001b[1;33m\n",
       "\u001b[0m\u001b[1;33m)\u001b[0m\u001b[1;33m\u001b[0m\u001b[1;33m\u001b[0m\u001b[0m\n",
       "\u001b[1;31mDocstring:\u001b[0m\n",
       "Reader function for Raw FIF data.\n",
       "\n",
       "Parameters\n",
       "----------\n",
       "fname : str | file-like\n",
       "    The raw filename to load. For files that have automatically been split,\n",
       "    the split part will be automatically loaded. Filenames should end\n",
       "    with raw.fif, raw.fif.gz, raw_sss.fif, raw_sss.fif.gz, raw_tsss.fif,\n",
       "    raw_tsss.fif.gz, or _meg.fif. If a file-like object is provided,\n",
       "    preloading must be used.\n",
       "\n",
       "    .. versionchanged:: 0.18\n",
       "       Support for file-like objects.\n",
       "allow_maxshield : bool | str (default False)\n",
       "    If True, allow loading of data that has been recorded with internal\n",
       "    active compensation (MaxShield). Data recorded with MaxShield should\n",
       "    generally not be loaded directly, but should first be processed using\n",
       "    SSS/tSSS to remove the compensation signals that may also affect brain\n",
       "    activity. Can also be \"yes\" to load without eliciting a warning.\n",
       "\n",
       "preload : bool or str (default False)\n",
       "    Preload data into memory for data manipulation and faster indexing.\n",
       "    If True, the data will be preloaded into memory (fast, requires\n",
       "    large amount of memory). If preload is a string, preload is the\n",
       "    file name of a memory-mapped file which is used to store the data\n",
       "    on the hard drive (slower, requires less memory).\n",
       "\n",
       "verbose : bool, str, int, or None\n",
       "    If not None, override default verbose level (see :func:`mne.verbose`\n",
       "    and :ref:`Logging documentation <tut_logging>` for more).\n",
       "\n",
       "Returns\n",
       "-------\n",
       "raw : instance of Raw\n",
       "    A Raw object containing FIF data.\n",
       "\n",
       "Notes\n",
       "-----\n",
       ".. versionadded:: 0.9.0\n",
       "\u001b[1;31mFile:\u001b[0m      c:\\users\\egora\\anaconda3\\envs\\mne\\lib\\site-packages\\mne\\io\\fiff\\raw.py\n",
       "\u001b[1;31mType:\u001b[0m      function\n"
      ]
     },
     "metadata": {},
     "output_type": "display_data"
    }
   ],
   "source": [
    "mne.io.read_raw_fif?"
   ]
  },
  {
   "cell_type": "code",
   "execution_count": 9,
   "metadata": {},
   "outputs": [
    {
     "name": "stdout",
     "output_type": "stream",
     "text": [
      "<Raw  |  sub-01_ses-meg_task-facerecognition_run-01_proc-sss_meg.fif, n_channels x n_times : 404 x 540100 (491.0 sec), ~7.4 MB, data not loaded>\n"
     ]
    }
   ],
   "source": [
    "raw = mne.io.read_raw_fif(raw_fname, preload=False)\n",
    "print(raw)"
   ]
  },
  {
   "cell_type": "markdown",
   "metadata": {},
   "source": [
    "Note the `preload=False` which states that no data is actually in memory.\n",
    "\n",
    "For general info on importing MEG see:\n",
    "https://mne.tools/stable/auto_tutorials/io/plot_10_reading_meg_data.html\n",
    "or EEG see:\n",
    "https://mne.tools/stable/auto_tutorials/io/plot_20_reading_eeg_data.html\n",
    "\n",
    "Now let's look at the measurement info. It will give details about:\n",
    "\n",
    "   - sampling rate\n",
    "   - filtering parameters\n",
    "   - available channel types\n",
    "   - bad channels\n",
    "   - etc."
   ]
  },
  {
   "cell_type": "code",
   "execution_count": 10,
   "metadata": {},
   "outputs": [
    {
     "data": {
      "text/plain": [
       "'0.19.2'"
      ]
     },
     "execution_count": 10,
     "metadata": {},
     "output_type": "execute_result"
    }
   ],
   "source": [
    "mne.__version__"
   ]
  },
  {
   "cell_type": "code",
   "execution_count": 11,
   "metadata": {},
   "outputs": [
    {
     "name": "stdout",
     "output_type": "stream",
     "text": [
      "dict_keys(['file_id', 'events', 'hpi_results', 'hpi_meas', 'subject_info', 'device_info', 'helium_info', 'hpi_subsystem', 'proc_history', 'meas_id', 'experimenter', 'description', 'proj_id', 'proj_name', 'meas_date', 'utc_offset', 'sfreq', 'highpass', 'lowpass', 'line_freq', 'gantry_angle', 'chs', 'dev_head_t', 'ctf_head_t', 'dev_ctf_t', 'dig', 'bads', 'ch_names', 'nchan', 'projs', 'comps', 'acq_pars', 'acq_stim', 'custom_ref_applied', 'xplotter_layout', 'kit_system_id'])\n"
     ]
    }
   ],
   "source": [
    "print(raw.info.keys())"
   ]
  },
  {
   "cell_type": "code",
   "execution_count": 12,
   "metadata": {},
   "outputs": [
    {
     "name": "stdout",
     "output_type": "stream",
     "text": [
      "(-908196946, 988669)\n"
     ]
    }
   ],
   "source": [
    "print(raw.info['meas_date'])  # EA: some sort of issue with dates, possibly with this field"
   ]
  },
  {
   "cell_type": "code",
   "execution_count": 13,
   "metadata": {},
   "outputs": [
    {
     "name": "stdout",
     "output_type": "stream",
     "text": [
      "-908196946\n",
      "<Info | 27 non-empty fields\n",
      "    acq_pars : str | 21833 items\n",
      "    bads : list | 0 items\n",
      "    ch_names : list | MEG0113, MEG0112, MEG0111, MEG0122, MEG0123, MEG0121, ...\n",
      "    chs : list | 404 items (GRAD: 204, MAG: 102, EEG: 74, STIM: 3, MISC: 12, CHPI: 9)\n",
      "    comps : list | 0 items\n",
      "    custom_ref_applied : bool | False\n",
      "    description : str | 36 items\n",
      "    dev_head_t : Transform | 3 items\n",
      "    dig : Digitization | 137 items (3 Cardinal, 5 HPI, 75 EEG, 54 Extra)\n",
      "    events : list | 1 items\n",
      "    experimenter : str | 3 items\n",
      "    file_id : dict | 4 items\n",
      "    highpass : float | 0.0 Hz\n",
      "    hpi_meas : list | 1 items\n",
      "    hpi_results : list | 1 items\n",
      "    hpi_subsystem : dict | 2 items\n",
      "    line_freq : float | 50.0\n",
      "    lowpass : float | 356.3999938964844 Hz\n",
      "    meas_date : tuple | 1970-01-01 00:00:00 GMT\n",
      "    meas_id : dict | 4 items\n",
      "    nchan : int | 404\n",
      "    proc_history : list | 1 items\n",
      "    proj_id : ndarray | 1 items\n",
      "    proj_name : str | 11 items\n",
      "    projs : list | 0 items\n",
      "    sfreq : float | 1100.0 Hz\n",
      "    subject_info : dict | 2 items\n",
      "    acq_stim : NoneType\n",
      "    ctf_head_t : NoneType\n",
      "    dev_ctf_t : NoneType\n",
      "    device_info : NoneType\n",
      "    gantry_angle : NoneType\n",
      "    helium_info : NoneType\n",
      "    kit_system_id : NoneType\n",
      "    utc_offset : NoneType\n",
      "    xplotter_layout : NoneType\n",
      ">\n"
     ]
    }
   ],
   "source": [
    "print(raw.info)"
   ]
  },
  {
   "cell_type": "markdown",
   "metadata": {},
   "source": [
    "<div class=\"alert alert-success\">\n",
    "    <b>Exercise</b>:\n",
    "     <ul>\n",
    "    <li>How many channels do you have for each type of sensors?</li>\n",
    "    <li>What is the sampling frequency?</li>\n",
    "    <li>Have the data been filtered?</li>\n",
    "    <li>What is the frequency of the line noise?</li>\n",
    "    <li>Is there any bad channel?</li>\n",
    "    </ul>\n",
    "</div>"
   ]
  },
  {
   "cell_type": "markdown",
   "metadata": {},
   "source": [
    "INSERT ANSWERS HERE"
   ]
  },
  {
   "cell_type": "markdown",
   "metadata": {},
   "source": [
    "raw.info is just a dictionary:"
   ]
  },
  {
   "cell_type": "code",
   "execution_count": 14,
   "metadata": {},
   "outputs": [
    {
     "data": {
      "text/plain": [
       "True"
      ]
     },
     "execution_count": 14,
     "metadata": {},
     "output_type": "execute_result"
    }
   ],
   "source": [
    "isinstance(raw.info, dict)"
   ]
  },
  {
   "cell_type": "markdown",
   "metadata": {},
   "source": [
    "So we can access its elements this way:"
   ]
  },
  {
   "cell_type": "code",
   "execution_count": 15,
   "metadata": {},
   "outputs": [
    {
     "data": {
      "text/plain": [
       "1100.0"
      ]
     },
     "execution_count": 15,
     "metadata": {},
     "output_type": "execute_result"
    }
   ],
   "source": [
    "raw.info['sfreq']  # Sampling frequency"
   ]
  },
  {
   "cell_type": "code",
   "execution_count": 16,
   "metadata": {},
   "outputs": [
    {
     "data": {
      "text/plain": [
       "[]"
      ]
     },
     "execution_count": 16,
     "metadata": {},
     "output_type": "execute_result"
    }
   ],
   "source": [
    "raw.info['bads']  # list of marked bad channels"
   ]
  },
  {
   "cell_type": "code",
   "execution_count": 17,
   "metadata": {},
   "outputs": [
    {
     "data": {
      "text/plain": [
       "50.0"
      ]
     },
     "execution_count": 17,
     "metadata": {},
     "output_type": "execute_result"
    }
   ],
   "source": [
    "raw.info['line_freq']"
   ]
  },
  {
   "cell_type": "markdown",
   "metadata": {},
   "source": [
    "The powerline frequency. 50 Hz in Sg; 60 Hz in Taiwan."
   ]
  },
  {
   "cell_type": "markdown",
   "metadata": {},
   "source": [
    "Next let's see what channels are present. It is available via the `raw.ch_names` attribute."
   ]
  },
  {
   "cell_type": "code",
   "execution_count": 18,
   "metadata": {},
   "outputs": [
    {
     "data": {
      "text/plain": [
       "list"
      ]
     },
     "execution_count": 18,
     "metadata": {},
     "output_type": "execute_result"
    }
   ],
   "source": [
    "type(raw.ch_names)"
   ]
  },
  {
   "cell_type": "code",
   "execution_count": 19,
   "metadata": {},
   "outputs": [
    {
     "data": {
      "text/plain": [
       "['MEG0113',\n",
       " 'MEG0112',\n",
       " 'MEG0111',\n",
       " 'MEG0122',\n",
       " 'MEG0123',\n",
       " 'MEG0121',\n",
       " 'MEG0132',\n",
       " 'MEG0133',\n",
       " 'MEG0131',\n",
       " 'MEG0143']"
      ]
     },
     "execution_count": 19,
     "metadata": {},
     "output_type": "execute_result"
    }
   ],
   "source": [
    "raw.ch_names[:10]"
   ]
  },
  {
   "cell_type": "markdown",
   "metadata": {},
   "source": [
    "You can index it as a list"
   ]
  },
  {
   "cell_type": "code",
   "execution_count": 20,
   "metadata": {},
   "outputs": [
    {
     "data": {
      "text/plain": [
       "'MEG0432'"
      ]
     },
     "execution_count": 20,
     "metadata": {},
     "output_type": "execute_result"
    }
   ],
   "source": [
    "raw.ch_names[42]"
   ]
  },
  {
   "cell_type": "code",
   "execution_count": 21,
   "metadata": {},
   "outputs": [
    {
     "data": {
      "text/plain": [
       "['MEG0113', 'MEG0112', 'MEG0111']"
      ]
     },
     "execution_count": 21,
     "metadata": {},
     "output_type": "execute_result"
    }
   ],
   "source": [
    "raw.ch_names[:3]"
   ]
  },
  {
   "cell_type": "markdown",
   "metadata": {},
   "source": [
    "Channel type of a specific channel"
   ]
  },
  {
   "cell_type": "code",
   "execution_count": 22,
   "metadata": {},
   "outputs": [
    {
     "name": "stdout",
     "output_type": "stream",
     "text": [
      "Channel #75 is of type: grad\n",
      "Channel #320 is of type: eeg\n"
     ]
    }
   ],
   "source": [
    "channel_type = mne.io.pick.channel_type(raw.info, 75)\n",
    "print('Channel #75 is of type:', channel_type)\n",
    "\n",
    "channel_type = mne.io.pick.channel_type(raw.info, 320)\n",
    "print('Channel #320 is of type:', channel_type)"
   ]
  },
  {
   "cell_type": "markdown",
   "metadata": {},
   "source": [
    "Info contains all the details about the sensors (type, locations, coordinate frame etc.)"
   ]
  },
  {
   "cell_type": "code",
   "execution_count": 23,
   "metadata": {},
   "outputs": [
    {
     "data": {
      "text/plain": [
       "404"
      ]
     },
     "execution_count": 23,
     "metadata": {},
     "output_type": "execute_result"
    }
   ],
   "source": [
    "len(raw.info['chs'])"
   ]
  },
  {
   "cell_type": "code",
   "execution_count": 24,
   "metadata": {},
   "outputs": [
    {
     "data": {
      "text/plain": [
       "list"
      ]
     },
     "execution_count": 24,
     "metadata": {},
     "output_type": "execute_result"
    }
   ],
   "source": [
    "type(raw.info['chs'])"
   ]
  },
  {
   "cell_type": "code",
   "execution_count": 25,
   "metadata": {},
   "outputs": [
    {
     "data": {
      "text/plain": [
       "{'scanno': 1,\n",
       " 'logno': 113,\n",
       " 'kind': 1,\n",
       " 'range': 1.9073486328125e-05,\n",
       " 'cal': 3.250000046861601e-09,\n",
       " 'coil_type': 3012,\n",
       " 'loc': array([-0.1066    ,  0.0464    , -0.0604    , -0.01532829,  0.00619847,\n",
       "        -0.99986327, -0.18597366, -0.98255992, -0.00331254, -0.98243302,\n",
       "         0.185894  ,  0.016216  ]),\n",
       " 'unit': 201,\n",
       " 'unit_mul': 0,\n",
       " 'ch_name': 'MEG0113',\n",
       " 'coord_frame': 1 (FIFFV_COORD_DEVICE)}"
      ]
     },
     "execution_count": 25,
     "metadata": {},
     "output_type": "execute_result"
    }
   ],
   "source": [
    "raw.info['chs'][0]"
   ]
  },
  {
   "cell_type": "code",
   "execution_count": 26,
   "metadata": {},
   "outputs": [
    {
     "data": {
      "text/plain": [
       "{'scanno': 76,\n",
       " 'logno': 723,\n",
       " 'kind': 1,\n",
       " 'range': 1.9073486328125e-05,\n",
       " 'cal': 3.250000046861601e-09,\n",
       " 'coil_type': 3012,\n",
       " 'loc': array([ 0.0186    ,  0.0105    ,  0.1096    ,  0.98852772, -0.00725508,\n",
       "        -0.15086725,  0.00208091,  0.99939197, -0.03435012,  0.151026  ,\n",
       "         0.033647  ,  0.98795599]),\n",
       " 'unit': 201,\n",
       " 'unit_mul': 0,\n",
       " 'ch_name': 'MEG0723',\n",
       " 'coord_frame': 1 (FIFFV_COORD_DEVICE)}"
      ]
     },
     "execution_count": 26,
     "metadata": {},
     "output_type": "execute_result"
    }
   ],
   "source": [
    "raw.info['chs'][75]  # gradiometer"
   ]
  },
  {
   "cell_type": "code",
   "execution_count": 27,
   "metadata": {},
   "outputs": [
    {
     "data": {
      "text/plain": [
       "{'scanno': 331,\n",
       " 'logno': 25,\n",
       " 'kind': 2,\n",
       " 'range': 0.00030517578125,\n",
       " 'cal': 0.00019999999494757503,\n",
       " 'coil_type': 1,\n",
       " 'loc': array([ 5.63842431e-02,  3.68367434e-02,  9.40217227e-02,  8.26010015e-04,\n",
       "         1.14762366e-01, -2.10680366e-02,  0.00000000e+00,  1.00000000e+00,\n",
       "         0.00000000e+00,  0.00000000e+00,  0.00000000e+00,  1.00000000e+00]),\n",
       " 'unit': 107,\n",
       " 'unit_mul': 0,\n",
       " 'ch_name': 'EEG025',\n",
       " 'coord_frame': 4 (FIFFV_COORD_HEAD)}"
      ]
     },
     "execution_count": 27,
     "metadata": {},
     "output_type": "execute_result"
    }
   ],
   "source": [
    "raw.info['chs'][330]"
   ]
  },
  {
   "cell_type": "code",
   "execution_count": 28,
   "metadata": {},
   "outputs": [],
   "source": [
    "%matplotlib qt\n",
    "raw.plot_sensors(kind='topomap', ch_type='grad');"
   ]
  },
  {
   "cell_type": "code",
   "execution_count": 29,
   "metadata": {},
   "outputs": [],
   "source": [
    "#%matplotlib inline\n",
    "raw.plot_sensors(kind='topomap', ch_type='mag');"
   ]
  },
  {
   "cell_type": "code",
   "execution_count": 30,
   "metadata": {},
   "outputs": [],
   "source": [
    "raw.plot_sensors(kind='topomap', ch_type='eeg');"
   ]
  },
  {
   "cell_type": "markdown",
   "metadata": {},
   "source": [
    "### Setting channel types\n",
    "\n",
    "Some channels are wrongly defined as EEG in the file. 2 of these are EOG (EEG061 and EEG062) and EEG063 is actually an ECG channel. EEG064 was recording but not connected to anything, so we'll [not] make it `'misc'`. We will now set the channel types. This will be useful for automatic artifact rejection."
   ]
  },
  {
   "cell_type": "code",
   "execution_count": 31,
   "metadata": {},
   "outputs": [
    {
     "data": {
      "text/plain": [
       "\u001b[1;31mSignature:\u001b[0m \u001b[0mraw\u001b[0m\u001b[1;33m.\u001b[0m\u001b[0mset_channel_types\u001b[0m\u001b[1;33m(\u001b[0m\u001b[0mmapping\u001b[0m\u001b[1;33m)\u001b[0m\u001b[1;33m\u001b[0m\u001b[1;33m\u001b[0m\u001b[0m\n",
       "\u001b[1;31mDocstring:\u001b[0m\n",
       "Define the sensor type of channels.\n",
       "\n",
       "Note: The following sensor types are accepted:\n",
       "    ecg, eeg, emg, eog, exci, ias, misc, resp, seeg, stim, syst, ecog,\n",
       "    hbo, hbr\n",
       "\n",
       "Parameters\n",
       "----------\n",
       "mapping : dict\n",
       "    a dictionary mapping a channel to a sensor type (str)\n",
       "    {'EEG061': 'eog'}.\n",
       "\n",
       "Notes\n",
       "-----\n",
       ".. versionadded:: 0.9.0\n",
       "\u001b[1;31mFile:\u001b[0m      c:\\users\\egora\\anaconda3\\envs\\mne\\lib\\site-packages\\mne\\channels\\channels.py\n",
       "\u001b[1;31mType:\u001b[0m      method\n"
      ]
     },
     "metadata": {},
     "output_type": "display_data"
    }
   ],
   "source": [
    "raw.set_channel_types?"
   ]
  },
  {
   "cell_type": "code",
   "execution_count": 32,
   "metadata": {},
   "outputs": [],
   "source": [
    "raw.set_channel_types({'EEG061': 'eog',\n",
    "                       'EEG062': 'eog',\n",
    "                       'EEG063': 'ecg',\n",
    "                       'EEG064': 'misc'})  # EEG064 free-floating el.\n",
    "\n",
    "raw.rename_channels({'EEG061': 'EOG061',\n",
    "                     'EEG062': 'EOG062',\n",
    "                     'EEG063': 'ECG063'})"
   ]
  },
  {
   "cell_type": "code",
   "execution_count": 33,
   "metadata": {},
   "outputs": [
    {
     "data": {
      "text/plain": [
       "[366]"
      ]
     },
     "execution_count": 33,
     "metadata": {},
     "output_type": "execute_result"
    }
   ],
   "source": [
    "indices = [i for i, s in enumerate(raw.info['ch_names']) if 'EOG061' in s]\n",
    "indices"
   ]
  },
  {
   "cell_type": "code",
   "execution_count": 34,
   "metadata": {},
   "outputs": [
    {
     "name": "stdout",
     "output_type": "stream",
     "text": [
      "-908196946\n"
     ]
    },
    {
     "data": {
      "text/plain": [
       "<Info | 27 non-empty fields\n",
       "    acq_pars : str | 21833 items\n",
       "    bads : list | 0 items\n",
       "    ch_names : list | MEG0113, MEG0112, MEG0111, MEG0122, MEG0123, MEG0121, ...\n",
       "    chs : list | 404 items (GRAD: 204, MAG: 102, EEG: 70, EOG: 2, ECG: 1, MISC: 13, STIM: 3, CHPI: 9)\n",
       "    comps : list | 0 items\n",
       "    custom_ref_applied : bool | False\n",
       "    description : str | 36 items\n",
       "    dev_head_t : Transform | 3 items\n",
       "    dig : Digitization | 137 items (3 Cardinal, 5 HPI, 75 EEG, 54 Extra)\n",
       "    events : list | 1 items\n",
       "    experimenter : str | 3 items\n",
       "    file_id : dict | 4 items\n",
       "    highpass : float | 0.0 Hz\n",
       "    hpi_meas : list | 1 items\n",
       "    hpi_results : list | 1 items\n",
       "    hpi_subsystem : dict | 2 items\n",
       "    line_freq : float | 50.0\n",
       "    lowpass : float | 356.3999938964844 Hz\n",
       "    meas_date : tuple | 1970-01-01 00:00:00 GMT\n",
       "    meas_id : dict | 4 items\n",
       "    nchan : int | 404\n",
       "    proc_history : list | 1 items\n",
       "    proj_id : ndarray | 1 items\n",
       "    proj_name : str | 11 items\n",
       "    projs : list | 0 items\n",
       "    sfreq : float | 1100.0 Hz\n",
       "    subject_info : dict | 2 items\n",
       "    acq_stim : NoneType\n",
       "    ctf_head_t : NoneType\n",
       "    dev_ctf_t : NoneType\n",
       "    device_info : NoneType\n",
       "    gantry_angle : NoneType\n",
       "    helium_info : NoneType\n",
       "    kit_system_id : NoneType\n",
       "    utc_offset : NoneType\n",
       "    xplotter_layout : NoneType\n",
       ">"
      ]
     },
     "execution_count": 34,
     "metadata": {},
     "output_type": "execute_result"
    }
   ],
   "source": [
    "raw.info"
   ]
  },
  {
   "cell_type": "code",
   "execution_count": 35,
   "metadata": {},
   "outputs": [],
   "source": [
    "raw.plot_sensors(kind='topomap', ch_type='eeg');"
   ]
  },
  {
   "cell_type": "markdown",
   "metadata": {},
   "source": [
    "## Accessing the data\n",
    "\n",
    "To access the data just use the [] syntax as to access any element of a list, dict etc."
   ]
  },
  {
   "cell_type": "code",
   "execution_count": 36,
   "metadata": {},
   "outputs": [
    {
     "name": "stdout",
     "output_type": "stream",
     "text": [
      "(404, 10)\n",
      "(10,)\n"
     ]
    }
   ],
   "source": [
    "start, stop = 0, 10\n",
    "data, times = raw[:, start:stop]  # fetch all channels and the first 10 time points\n",
    "print(data.shape)\n",
    "print(times.shape)"
   ]
  },
  {
   "cell_type": "code",
   "execution_count": 37,
   "metadata": {},
   "outputs": [
    {
     "data": {
      "text/plain": [
       "array([0.        , 0.00090909, 0.00181818, 0.00272727, 0.00363636,\n",
       "       0.00454545, 0.00545455, 0.00636364, 0.00727273, 0.00818182])"
      ]
     },
     "execution_count": 37,
     "metadata": {},
     "output_type": "execute_result"
    }
   ],
   "source": [
    "times  # always starts at 0 by convention"
   ]
  },
  {
   "cell_type": "markdown",
   "metadata": {},
   "source": [
    "Note that `raw[]` returns both the data and the times array."
   ]
  },
  {
   "cell_type": "markdown",
   "metadata": {},
   "source": [
    "# Resampling the data\n",
    "\n",
    "We will now change the sampling frequency of the data to speed up the computations."
   ]
  },
  {
   "cell_type": "code",
   "execution_count": 38,
   "metadata": {},
   "outputs": [
    {
     "data": {
      "text/plain": [
       "\u001b[1;31mSignature:\u001b[0m\n",
       "\u001b[0mraw\u001b[0m\u001b[1;33m.\u001b[0m\u001b[0mresample\u001b[0m\u001b[1;33m(\u001b[0m\u001b[1;33m\n",
       "\u001b[0m    \u001b[0msfreq\u001b[0m\u001b[1;33m,\u001b[0m\u001b[1;33m\n",
       "\u001b[0m    \u001b[0mnpad\u001b[0m\u001b[1;33m=\u001b[0m\u001b[1;34m'auto'\u001b[0m\u001b[1;33m,\u001b[0m\u001b[1;33m\n",
       "\u001b[0m    \u001b[0mwindow\u001b[0m\u001b[1;33m=\u001b[0m\u001b[1;34m'boxcar'\u001b[0m\u001b[1;33m,\u001b[0m\u001b[1;33m\n",
       "\u001b[0m    \u001b[0mstim_picks\u001b[0m\u001b[1;33m=\u001b[0m\u001b[1;32mNone\u001b[0m\u001b[1;33m,\u001b[0m\u001b[1;33m\n",
       "\u001b[0m    \u001b[0mn_jobs\u001b[0m\u001b[1;33m=\u001b[0m\u001b[1;36m1\u001b[0m\u001b[1;33m,\u001b[0m\u001b[1;33m\n",
       "\u001b[0m    \u001b[0mevents\u001b[0m\u001b[1;33m=\u001b[0m\u001b[1;32mNone\u001b[0m\u001b[1;33m,\u001b[0m\u001b[1;33m\n",
       "\u001b[0m    \u001b[0mpad\u001b[0m\u001b[1;33m=\u001b[0m\u001b[1;34m'reflect_limited'\u001b[0m\u001b[1;33m,\u001b[0m\u001b[1;33m\n",
       "\u001b[0m    \u001b[0mverbose\u001b[0m\u001b[1;33m=\u001b[0m\u001b[1;32mNone\u001b[0m\u001b[1;33m,\u001b[0m\u001b[1;33m\n",
       "\u001b[0m\u001b[1;33m)\u001b[0m\u001b[1;33m\u001b[0m\u001b[1;33m\u001b[0m\u001b[0m\n",
       "\u001b[1;31mDocstring:\u001b[0m\n",
       "Resample all channels.\n",
       "\n",
       "The Raw object has to have the data loaded e.g. with ``preload=True``\n",
       "or ``self.load_data()``.\n",
       "\n",
       ".. warning:: The intended purpose of this function is primarily to\n",
       "             speed up computations (e.g., projection calculation) when\n",
       "             precise timing of events is not required, as downsampling\n",
       "             raw data effectively jitters trigger timings. It is\n",
       "             generally recommended not to epoch downsampled data,\n",
       "             but instead epoch and then downsample, as epoching\n",
       "             downsampled data jitters triggers.\n",
       "             For more, see\n",
       "             `this illustrative gist\n",
       "             <https://gist.github.com/larsoner/01642cb3789992fbca59>`_.\n",
       "\n",
       "             If resampling the continuous data is desired, it is\n",
       "             recommended to construct events using the original data.\n",
       "             The event onsets can be jointly resampled with the raw\n",
       "             data using the 'events' parameter (a resampled copy is\n",
       "             returned).\n",
       "\n",
       "Parameters\n",
       "----------\n",
       "sfreq : float\n",
       "    New sample rate to use.\n",
       "\n",
       "npad : int | str\n",
       "    Amount to pad the start and end of the data.\n",
       "    Can also be \"auto\" to use a padding that will result in\n",
       "    a power-of-two size (can be much faster).\n",
       "\n",
       "window : str | tuple\n",
       "    Frequency-domain window to use in resampling.\n",
       "    See :func:`scipy.signal.resample`.\n",
       "stim_picks : list of int | None\n",
       "    Stim channels. These channels are simply subsampled or\n",
       "    supersampled (without applying any filtering). This reduces\n",
       "    resampling artifacts in stim channels, but may lead to missing\n",
       "    triggers. If None, stim channels are automatically chosen using\n",
       "    :func:`mne.pick_types`.\n",
       "\n",
       "n_jobs : int | str\n",
       "    Number of jobs to run in parallel. Can be 'cuda' if ``cupy``\n",
       "    is installed properly.\n",
       "events : 2D array, shape (n_events, 3) | None\n",
       "    An optional event matrix. When specified, the onsets of the events\n",
       "    are resampled jointly with the data. NB: The input events are not\n",
       "    modified, but a new array is returned with the raw instead.\n",
       "\n",
       "pad : str\n",
       "    The type of padding to use. Supports all :func:`numpy.pad` ``mode``\n",
       "    options. Can also be \"reflect_limited\", which pads with a\n",
       "    reflected version of each vector mirrored on the first and last\n",
       "    values of the vector, followed by zeros. Only used for ``method='fir'``.\n",
       "    The default is ``'reflect_limited'``.\n",
       "\n",
       "    .. versionadded:: 0.15\n",
       "\n",
       "verbose : bool, str, int, or None\n",
       "    If not None, override default verbose level (see :func:`mne.verbose`\n",
       "    and :ref:`Logging documentation <tut_logging>` for more). Defaults to self.verbose.\n",
       "\n",
       "Returns\n",
       "-------\n",
       "raw : instance of Raw\n",
       "    The resampled version of the raw object.\n",
       "events : array, shape (n_events, 3) | None\n",
       "    If events are jointly resampled, these are returned with the raw.\n",
       "\n",
       "See Also\n",
       "--------\n",
       "mne.io.Raw.filter\n",
       "mne.Epochs.resample\n",
       "\n",
       "Notes\n",
       "-----\n",
       "For some data, it may be more accurate to use ``npad=0`` to reduce\n",
       "artifacts. This is dataset dependent -- check your data!\n",
       "\u001b[1;31mFile:\u001b[0m      c:\\users\\egora\\anaconda3\\envs\\mne\\lib\\site-packages\\mne\\io\\base.py\n",
       "\u001b[1;31mType:\u001b[0m      method\n"
      ]
     },
     "metadata": {},
     "output_type": "display_data"
    }
   ],
   "source": [
    "raw.resample?"
   ]
  },
  {
   "cell_type": "markdown",
   "metadata": {},
   "source": [
    "And let's remove the unecessary channels"
   ]
  },
  {
   "cell_type": "code",
   "execution_count": 39,
   "metadata": {},
   "outputs": [
    {
     "data": {
      "text/plain": [
       "<Raw  |  sub-01_ses-meg_task-facerecognition_run-01_proc-sss_meg.fif, n_channels x n_times : 404 x 147300 (491.0 sec), ~461.4 MB, data loaded>"
      ]
     },
     "execution_count": 39,
     "metadata": {},
     "output_type": "execute_result"
    }
   ],
   "source": [
    "raw.load_data()  # it is required to load data in memory\n",
    "raw.resample(300)"
   ]
  },
  {
   "cell_type": "code",
   "execution_count": 40,
   "metadata": {},
   "outputs": [
    {
     "data": {
      "text/plain": [
       "\u001b[1;31mSignature:\u001b[0m \u001b[0mraw\u001b[0m\u001b[1;33m.\u001b[0m\u001b[0mdrop_channels\u001b[0m\u001b[1;33m(\u001b[0m\u001b[0mch_names\u001b[0m\u001b[1;33m)\u001b[0m\u001b[1;33m\u001b[0m\u001b[1;33m\u001b[0m\u001b[0m\n",
       "\u001b[1;31mDocstring:\u001b[0m\n",
       "Drop channel(s).\n",
       "\n",
       "Parameters\n",
       "----------\n",
       "ch_names : iterable or str\n",
       "    Iterable (e.g. list) of channel name(s) or channel name to remove.\n",
       "\n",
       "Returns\n",
       "-------\n",
       "inst : instance of Raw, Epochs, or Evoked\n",
       "    The modified instance.\n",
       "\n",
       "See Also\n",
       "--------\n",
       "reorder_channels\n",
       "pick_channels\n",
       "pick_types\n",
       "\n",
       "Notes\n",
       "-----\n",
       ".. versionadded:: 0.9.0\n",
       "\u001b[1;31mFile:\u001b[0m      c:\\users\\egora\\anaconda3\\envs\\mne\\lib\\site-packages\\mne\\channels\\channels.py\n",
       "\u001b[1;31mType:\u001b[0m      method\n"
      ]
     },
     "metadata": {},
     "output_type": "display_data"
    }
   ],
   "source": [
    "raw.drop_channels?"
   ]
  },
  {
   "cell_type": "code",
   "execution_count": 41,
   "metadata": {},
   "outputs": [],
   "source": [
    "to_drop = ['STI201', 'STI301', 'MISC201', 'MISC202', 'MISC203',\n",
    "           'MISC204', 'MISC205', 'MISC206', 'MISC301', 'MISC302',\n",
    "           'MISC303', 'MISC304', 'MISC305', 'MISC306', 'CHPI001',\n",
    "           'CHPI002', 'CHPI003', 'CHPI004', 'CHPI005', 'CHPI006',\n",
    "           'CHPI007', 'CHPI008', 'CHPI009']"
   ]
  },
  {
   "cell_type": "code",
   "execution_count": 42,
   "metadata": {},
   "outputs": [
    {
     "data": {
      "text/plain": [
       "<Raw  |  sub-01_ses-meg_task-facerecognition_run-01_proc-sss_meg.fif, n_channels x n_times : 381 x 147300 (491.0 sec), ~435.5 MB, data loaded>"
      ]
     },
     "execution_count": 42,
     "metadata": {},
     "output_type": "execute_result"
    }
   ],
   "source": [
    "raw.drop_channels(to_drop)"
   ]
  },
  {
   "cell_type": "code",
   "execution_count": 43,
   "metadata": {},
   "outputs": [
    {
     "name": "stdout",
     "output_type": "stream",
     "text": [
      "-908196946\n"
     ]
    },
    {
     "data": {
      "text/plain": [
       "<Info | 27 non-empty fields\n",
       "    acq_pars : str | 21833 items\n",
       "    bads : list | 0 items\n",
       "    ch_names : list | MEG0113, MEG0112, MEG0111, MEG0122, MEG0123, MEG0121, ...\n",
       "    chs : list | 381 items (GRAD: 204, MAG: 102, EEG: 70, EOG: 2, ECG: 1, MISC: 1, STIM: 1)\n",
       "    comps : list | 0 items\n",
       "    custom_ref_applied : bool | False\n",
       "    description : str | 36 items\n",
       "    dev_head_t : Transform | 3 items\n",
       "    dig : Digitization | 137 items (3 Cardinal, 5 HPI, 75 EEG, 54 Extra)\n",
       "    events : list | 1 items\n",
       "    experimenter : str | 3 items\n",
       "    file_id : dict | 4 items\n",
       "    highpass : float | 0.0 Hz\n",
       "    hpi_meas : list | 1 items\n",
       "    hpi_results : list | 1 items\n",
       "    hpi_subsystem : dict | 2 items\n",
       "    line_freq : float | 50.0\n",
       "    lowpass : float | 150.0 Hz\n",
       "    meas_date : tuple | 1970-01-01 00:00:00 GMT\n",
       "    meas_id : dict | 4 items\n",
       "    nchan : int | 381\n",
       "    proc_history : list | 1 items\n",
       "    proj_id : ndarray | 1 items\n",
       "    proj_name : str | 11 items\n",
       "    projs : list | 0 items\n",
       "    sfreq : float | 300.0 Hz\n",
       "    subject_info : dict | 2 items\n",
       "    acq_stim : NoneType\n",
       "    ctf_head_t : NoneType\n",
       "    dev_ctf_t : NoneType\n",
       "    device_info : NoneType\n",
       "    gantry_angle : NoneType\n",
       "    helium_info : NoneType\n",
       "    kit_system_id : NoneType\n",
       "    utc_offset : NoneType\n",
       "    xplotter_layout : NoneType\n",
       ">"
      ]
     },
     "execution_count": 43,
     "metadata": {},
     "output_type": "execute_result"
    }
   ],
   "source": [
    "raw.info"
   ]
  },
  {
   "cell_type": "markdown",
   "metadata": {},
   "source": [
    "# Visualizing raw data\n",
    "\n",
    "See https://mne.tools/0.16/auto_tutorials/plot_visualize_raw.html\n",
    "for more details.\n",
    "\n",
    "Let's look at how to:\n",
    "- browse data\n",
    "- turn On/Off the PCA/SSP projections\n",
    "- mark bad segments to obtained annotations\n",
    "- group channel by types\n",
    "- group channel by location"
   ]
  },
  {
   "cell_type": "code",
   "execution_count": 44,
   "metadata": {},
   "outputs": [
    {
     "data": {
      "text/plain": [
       "\u001b[1;31mSignature:\u001b[0m\n",
       "\u001b[0mraw\u001b[0m\u001b[1;33m.\u001b[0m\u001b[0mplot\u001b[0m\u001b[1;33m(\u001b[0m\u001b[1;33m\n",
       "\u001b[0m    \u001b[0mevents\u001b[0m\u001b[1;33m=\u001b[0m\u001b[1;32mNone\u001b[0m\u001b[1;33m,\u001b[0m\u001b[1;33m\n",
       "\u001b[0m    \u001b[0mduration\u001b[0m\u001b[1;33m=\u001b[0m\u001b[1;36m10.0\u001b[0m\u001b[1;33m,\u001b[0m\u001b[1;33m\n",
       "\u001b[0m    \u001b[0mstart\u001b[0m\u001b[1;33m=\u001b[0m\u001b[1;36m0.0\u001b[0m\u001b[1;33m,\u001b[0m\u001b[1;33m\n",
       "\u001b[0m    \u001b[0mn_channels\u001b[0m\u001b[1;33m=\u001b[0m\u001b[1;36m20\u001b[0m\u001b[1;33m,\u001b[0m\u001b[1;33m\n",
       "\u001b[0m    \u001b[0mbgcolor\u001b[0m\u001b[1;33m=\u001b[0m\u001b[1;34m'w'\u001b[0m\u001b[1;33m,\u001b[0m\u001b[1;33m\n",
       "\u001b[0m    \u001b[0mcolor\u001b[0m\u001b[1;33m=\u001b[0m\u001b[1;32mNone\u001b[0m\u001b[1;33m,\u001b[0m\u001b[1;33m\n",
       "\u001b[0m    \u001b[0mbad_color\u001b[0m\u001b[1;33m=\u001b[0m\u001b[1;33m(\u001b[0m\u001b[1;36m0.8\u001b[0m\u001b[1;33m,\u001b[0m \u001b[1;36m0.8\u001b[0m\u001b[1;33m,\u001b[0m \u001b[1;36m0.8\u001b[0m\u001b[1;33m)\u001b[0m\u001b[1;33m,\u001b[0m\u001b[1;33m\n",
       "\u001b[0m    \u001b[0mevent_color\u001b[0m\u001b[1;33m=\u001b[0m\u001b[1;34m'cyan'\u001b[0m\u001b[1;33m,\u001b[0m\u001b[1;33m\n",
       "\u001b[0m    \u001b[0mscalings\u001b[0m\u001b[1;33m=\u001b[0m\u001b[1;32mNone\u001b[0m\u001b[1;33m,\u001b[0m\u001b[1;33m\n",
       "\u001b[0m    \u001b[0mremove_dc\u001b[0m\u001b[1;33m=\u001b[0m\u001b[1;32mTrue\u001b[0m\u001b[1;33m,\u001b[0m\u001b[1;33m\n",
       "\u001b[0m    \u001b[0morder\u001b[0m\u001b[1;33m=\u001b[0m\u001b[1;32mNone\u001b[0m\u001b[1;33m,\u001b[0m\u001b[1;33m\n",
       "\u001b[0m    \u001b[0mshow_options\u001b[0m\u001b[1;33m=\u001b[0m\u001b[1;32mFalse\u001b[0m\u001b[1;33m,\u001b[0m\u001b[1;33m\n",
       "\u001b[0m    \u001b[0mtitle\u001b[0m\u001b[1;33m=\u001b[0m\u001b[1;32mNone\u001b[0m\u001b[1;33m,\u001b[0m\u001b[1;33m\n",
       "\u001b[0m    \u001b[0mshow\u001b[0m\u001b[1;33m=\u001b[0m\u001b[1;32mTrue\u001b[0m\u001b[1;33m,\u001b[0m\u001b[1;33m\n",
       "\u001b[0m    \u001b[0mblock\u001b[0m\u001b[1;33m=\u001b[0m\u001b[1;32mFalse\u001b[0m\u001b[1;33m,\u001b[0m\u001b[1;33m\n",
       "\u001b[0m    \u001b[0mhighpass\u001b[0m\u001b[1;33m=\u001b[0m\u001b[1;32mNone\u001b[0m\u001b[1;33m,\u001b[0m\u001b[1;33m\n",
       "\u001b[0m    \u001b[0mlowpass\u001b[0m\u001b[1;33m=\u001b[0m\u001b[1;32mNone\u001b[0m\u001b[1;33m,\u001b[0m\u001b[1;33m\n",
       "\u001b[0m    \u001b[0mfiltorder\u001b[0m\u001b[1;33m=\u001b[0m\u001b[1;36m4\u001b[0m\u001b[1;33m,\u001b[0m\u001b[1;33m\n",
       "\u001b[0m    \u001b[0mclipping\u001b[0m\u001b[1;33m=\u001b[0m\u001b[1;32mNone\u001b[0m\u001b[1;33m,\u001b[0m\u001b[1;33m\n",
       "\u001b[0m    \u001b[0mshow_first_samp\u001b[0m\u001b[1;33m=\u001b[0m\u001b[1;32mFalse\u001b[0m\u001b[1;33m,\u001b[0m\u001b[1;33m\n",
       "\u001b[0m    \u001b[0mproj\u001b[0m\u001b[1;33m=\u001b[0m\u001b[1;32mTrue\u001b[0m\u001b[1;33m,\u001b[0m\u001b[1;33m\n",
       "\u001b[0m    \u001b[0mgroup_by\u001b[0m\u001b[1;33m=\u001b[0m\u001b[1;34m'type'\u001b[0m\u001b[1;33m,\u001b[0m\u001b[1;33m\n",
       "\u001b[0m    \u001b[0mbutterfly\u001b[0m\u001b[1;33m=\u001b[0m\u001b[1;32mFalse\u001b[0m\u001b[1;33m,\u001b[0m\u001b[1;33m\n",
       "\u001b[0m    \u001b[0mdecim\u001b[0m\u001b[1;33m=\u001b[0m\u001b[1;34m'auto'\u001b[0m\u001b[1;33m,\u001b[0m\u001b[1;33m\n",
       "\u001b[0m    \u001b[0mnoise_cov\u001b[0m\u001b[1;33m=\u001b[0m\u001b[1;32mNone\u001b[0m\u001b[1;33m,\u001b[0m\u001b[1;33m\n",
       "\u001b[0m    \u001b[0mevent_id\u001b[0m\u001b[1;33m=\u001b[0m\u001b[1;32mNone\u001b[0m\u001b[1;33m,\u001b[0m\u001b[1;33m\n",
       "\u001b[0m    \u001b[0mshow_scrollbars\u001b[0m\u001b[1;33m=\u001b[0m\u001b[1;32mTrue\u001b[0m\u001b[1;33m,\u001b[0m\u001b[1;33m\n",
       "\u001b[0m    \u001b[0mverbose\u001b[0m\u001b[1;33m=\u001b[0m\u001b[1;32mNone\u001b[0m\u001b[1;33m,\u001b[0m\u001b[1;33m\n",
       "\u001b[0m\u001b[1;33m)\u001b[0m\u001b[1;33m\u001b[0m\u001b[1;33m\u001b[0m\u001b[0m\n",
       "\u001b[1;31mDocstring:\u001b[0m\n",
       "Plot raw data.\n",
       "\n",
       "Parameters\n",
       "----------\n",
       "events : array | None\n",
       "    Events to show with vertical bars.\n",
       "duration : float\n",
       "    Time window (s) to plot. The lesser of this value and the duration\n",
       "    of the raw file will be used.\n",
       "start : float\n",
       "    Initial time to show (can be changed dynamically once plotted). If\n",
       "    show_first_samp is True, then it is taken relative to\n",
       "    ``raw.first_samp``.\n",
       "n_channels : int\n",
       "    Number of channels to plot at once. Defaults to 20. The lesser of\n",
       "    ``n_channels`` and ``len(raw.ch_names)`` will be shown.\n",
       "    Has no effect if ``order`` is 'position', 'selection' or 'butterfly'.\n",
       "bgcolor : color object\n",
       "    Color of the background.\n",
       "color : dict | color object | None\n",
       "    Color for the data traces. If None, defaults to::\n",
       "\n",
       "        dict(mag='darkblue', grad='b', eeg='k', eog='k', ecg='m',\n",
       "             emg='k', ref_meg='steelblue', misc='k', stim='k',\n",
       "             resp='k', chpi='k')\n",
       "\n",
       "bad_color : color object\n",
       "    Color to make bad channels.\n",
       "event_color : color object | dict\n",
       "    Color to use for events. Can also be a dict with\n",
       "    ``{event_number: color}`` pairings. Use ``event_number==-1`` for\n",
       "    any event numbers in the events list that are not in the dictionary.\n",
       "scalings : dict | None\n",
       "    Scaling factors for the traces. If any fields in scalings are 'auto',\n",
       "    the scaling factor is set to match the 99.5th percentile of a subset of\n",
       "    the corresponding data. If scalings == 'auto', all scalings fields are\n",
       "    set to 'auto'. If any fields are 'auto' and data is not preloaded, a\n",
       "    subset of times up to 100mb will be loaded. If None, defaults to::\n",
       "\n",
       "        dict(mag=1e-12, grad=4e-11, eeg=20e-6, eog=150e-6, ecg=5e-4,\n",
       "             emg=1e-3, ref_meg=1e-12, misc=1e-3, stim=1,\n",
       "             resp=1, chpi=1e-4, whitened=1e2)\n",
       "\n",
       "remove_dc : bool\n",
       "    If True remove DC component when plotting data.\n",
       "order : array of int | None\n",
       "    Order in which to plot data. If the array is shorter than the number of\n",
       "    channels, only the given channels are plotted. If None (default), all\n",
       "    channels are plotted. If ``group_by`` is ``'position'`` or\n",
       "    ``'selection'``, the ``order`` parameter is used only for selecting the\n",
       "    channels to be plotted.\n",
       "show_options : bool\n",
       "    If True, a dialog for options related to projection is shown.\n",
       "title : str | None\n",
       "    The title of the window. If None, and either the filename of the\n",
       "    raw object or '<unknown>' will be displayed as title.\n",
       "show : bool\n",
       "    Show figure if True.\n",
       "block : bool\n",
       "    Whether to halt program execution until the figure is closed.\n",
       "    Useful for setting bad channels on the fly by clicking on a line.\n",
       "    May not work on all systems / platforms.\n",
       "highpass : float | None\n",
       "    Highpass to apply when displaying data.\n",
       "lowpass : float | None\n",
       "    Lowpass to apply when displaying data.\n",
       "    If highpass > lowpass, a bandstop rather than bandpass filter\n",
       "    will be applied.\n",
       "filtorder : int\n",
       "    Filtering order. 0 will use FIR filtering with MNE defaults.\n",
       "    Other values will construct an IIR filter of the given order\n",
       "    and apply it with :func:`~scipy.signal.filtfilt` (making the effective\n",
       "    order twice ``filtorder``). Filtering may produce some edge artifacts\n",
       "    (at the left and right edges) of the signals during display.\n",
       "\n",
       "    .. versionchanged:: 0.18\n",
       "       Support for ``filtorder=0`` to use FIR filtering.\n",
       "clipping : str | None\n",
       "    If None, channels are allowed to exceed their designated bounds in\n",
       "    the plot. If \"clamp\", then values are clamped to the appropriate\n",
       "    range for display, creating step-like artifacts. If \"transparent\",\n",
       "    then excessive values are not shown, creating gaps in the traces.\n",
       "show_first_samp : bool\n",
       "    If True, show time axis relative to the ``raw.first_samp``.\n",
       "proj : bool\n",
       "    Whether to apply projectors prior to plotting (default is ``True``).\n",
       "    Individual projectors can be enabled/disabled interactively (see\n",
       "    Notes). This argument only affects the plot; use ``raw.apply_proj()``\n",
       "    to modify the data stored in the Raw object.\n",
       "group_by : str\n",
       "    How to group channels. ``'type'`` groups by channel type,\n",
       "    ``'original'`` plots in the order of ch_names, ``'selection'`` uses\n",
       "    Elekta's channel groupings (only works for Neuromag data),\n",
       "    ``'position'`` groups the channels by the positions of the sensors.\n",
       "    ``'selection'`` and ``'position'`` modes allow custom selections by\n",
       "    using lasso selector on the topomap. Pressing ``ctrl`` key while\n",
       "    selecting allows appending to the current selection. Channels marked as\n",
       "    bad appear with red edges on the topomap. ``'type'`` and ``'original'``\n",
       "    groups the channels by type in butterfly mode whereas ``'selection'``\n",
       "    and ``'position'`` use regional grouping. ``'type'`` and ``'original'``\n",
       "    modes are overridden with ``order`` keyword.\n",
       "butterfly : bool\n",
       "    Whether to start in butterfly mode. Defaults to False.\n",
       "decim : int | 'auto'\n",
       "    Amount to decimate the data during display for speed purposes.\n",
       "    You should only decimate if the data are sufficiently low-passed,\n",
       "    otherwise aliasing can occur. The 'auto' mode (default) uses\n",
       "    the decimation that results in a sampling rate least three times\n",
       "    larger than ``min(info['lowpass'], lowpass)`` (e.g., a 40 Hz lowpass\n",
       "    will result in at least a 120 Hz displayed sample rate).\n",
       "noise_cov : instance of Covariance | str | None\n",
       "    Noise covariance used to whiten the data while plotting.\n",
       "    Whitened data channels are scaled by ``scalings['whitened']``,\n",
       "    and their channel names are shown in italic.\n",
       "    Can be a string to load a covariance from disk.\n",
       "    See also :meth:`mne.Evoked.plot_white` for additional inspection\n",
       "    of noise covariance properties when whitening evoked data.\n",
       "    For data processed with SSS, the effective dependence between\n",
       "    magnetometers and gradiometers may introduce differences in scaling,\n",
       "    consider using :meth:`mne.Evoked.plot_white`.\n",
       "\n",
       "    .. versionadded:: 0.16.0\n",
       "event_id : dict | None\n",
       "    Event IDs used to show at event markers (default None shows\n",
       "    theh event numbers).\n",
       "\n",
       "    .. versionadded:: 0.16.0\n",
       "\n",
       "show_scrollbars : bool\n",
       "    Whether to show scrollbars when the plot is initialized. Can be toggled\n",
       "    after initialization by pressing :kbd:`z` (\"zen mode\") while the plot\n",
       "    window is focused. Default is ``True``.\n",
       "\n",
       "    .. versionadded:: 0.19.0\n",
       "\n",
       "verbose : bool, str, int, or None\n",
       "    If not None, override default verbose level (see :func:`mne.verbose`\n",
       "    and :ref:`Logging documentation <tut_logging>` for more).\n",
       "\n",
       "Returns\n",
       "-------\n",
       "fig : instance of matplotlib.figure.Figure\n",
       "    Raw traces.\n",
       "\n",
       "Notes\n",
       "-----\n",
       "The arrow keys (up/down/left/right) can typically be used to navigate\n",
       "between channels and time ranges, but this depends on the backend\n",
       "matplotlib is configured to use (e.g., mpl.use('TkAgg') should work). The\n",
       "left/right arrows will scroll by 25% of ``duration``, whereas\n",
       "shift+left/shift+right will scroll by 100% of ``duration``. The scaling\n",
       "can be adjusted with - and + (or =) keys. The viewport dimensions can be\n",
       "adjusted with page up/page down and home/end keys. Full screen mode can be\n",
       "toggled with the F11 key. To mark or un-mark a channel as bad, click on a\n",
       "channel label or a channel trace. The changes will be reflected immediately\n",
       "in the raw object's ``raw.info['bads']`` entry.\n",
       "\n",
       "If projectors are present, a button labelled \"Proj\" in the lower right\n",
       "corner of the plot window opens a secondary control window, which allows\n",
       "enabling/disabling specific projectors individually. This provides a means\n",
       "of interactively observing how each projector would affect the raw data if\n",
       "it were applied.\n",
       "\n",
       "Annotation mode is toggled by pressing 'a', butterfly mode by pressing\n",
       "'b', and whitening mode (when ``noise_cov is not None``) by pressing 'w'.\n",
       "By default, the channel means are removed when ``remove_dc`` is set to\n",
       "``True``. This flag can be toggled by pressing 'd'.\n",
       "\u001b[1;31mFile:\u001b[0m      c:\\users\\egora\\anaconda3\\envs\\mne\\lib\\site-packages\\mne\\io\\base.py\n",
       "\u001b[1;31mType:\u001b[0m      method\n"
      ]
     },
     "metadata": {},
     "output_type": "display_data"
    }
   ],
   "source": [
    "raw.plot?"
   ]
  },
  {
   "cell_type": "code",
   "execution_count": 45,
   "metadata": {},
   "outputs": [],
   "source": [
    "#%matplotlib qt\n",
    "raw.plot();"
   ]
  },
  {
   "cell_type": "markdown",
   "metadata": {},
   "source": [
    "'a' for annotation to mark bad timepoints\n",
    "'b' for butterfly plot"
   ]
  },
  {
   "cell_type": "markdown",
   "metadata": {},
   "source": [
    "<div class=\"alert alert-success\">\n",
    "    <b>Exercise</b>:\n",
    "     <ul>\n",
    "    <li>Do you see any bad channel?</li>\n",
    "    <li>Do you see any bad segment of data?</li>\n",
    "    <li>Do you see any more then EOG blinks?</li>\n",
    "    </ul>\n",
    "</div>"
   ]
  },
  {
   "cell_type": "code",
   "execution_count": 46,
   "metadata": {},
   "outputs": [],
   "source": [
    "#raw.annotations"
   ]
  },
  {
   "cell_type": "code",
   "execution_count": 47,
   "metadata": {},
   "outputs": [],
   "source": [
    "#raw.annotations.save('annot.csv')"
   ]
  },
  {
   "cell_type": "code",
   "execution_count": 48,
   "metadata": {},
   "outputs": [],
   "source": [
    "#!cat annot.csv"
   ]
  },
  {
   "cell_type": "markdown",
   "metadata": {},
   "source": [
    "### Filtering"
   ]
  },
  {
   "cell_type": "code",
   "execution_count": 49,
   "metadata": {},
   "outputs": [
    {
     "data": {
      "text/plain": [
       "\u001b[1;31mSignature:\u001b[0m\n",
       "\u001b[0mraw\u001b[0m\u001b[1;33m.\u001b[0m\u001b[0mfilter\u001b[0m\u001b[1;33m(\u001b[0m\u001b[1;33m\n",
       "\u001b[0m    \u001b[0ml_freq\u001b[0m\u001b[1;33m,\u001b[0m\u001b[1;33m\n",
       "\u001b[0m    \u001b[0mh_freq\u001b[0m\u001b[1;33m,\u001b[0m\u001b[1;33m\n",
       "\u001b[0m    \u001b[0mpicks\u001b[0m\u001b[1;33m=\u001b[0m\u001b[1;32mNone\u001b[0m\u001b[1;33m,\u001b[0m\u001b[1;33m\n",
       "\u001b[0m    \u001b[0mfilter_length\u001b[0m\u001b[1;33m=\u001b[0m\u001b[1;34m'auto'\u001b[0m\u001b[1;33m,\u001b[0m\u001b[1;33m\n",
       "\u001b[0m    \u001b[0ml_trans_bandwidth\u001b[0m\u001b[1;33m=\u001b[0m\u001b[1;34m'auto'\u001b[0m\u001b[1;33m,\u001b[0m\u001b[1;33m\n",
       "\u001b[0m    \u001b[0mh_trans_bandwidth\u001b[0m\u001b[1;33m=\u001b[0m\u001b[1;34m'auto'\u001b[0m\u001b[1;33m,\u001b[0m\u001b[1;33m\n",
       "\u001b[0m    \u001b[0mn_jobs\u001b[0m\u001b[1;33m=\u001b[0m\u001b[1;36m1\u001b[0m\u001b[1;33m,\u001b[0m\u001b[1;33m\n",
       "\u001b[0m    \u001b[0mmethod\u001b[0m\u001b[1;33m=\u001b[0m\u001b[1;34m'fir'\u001b[0m\u001b[1;33m,\u001b[0m\u001b[1;33m\n",
       "\u001b[0m    \u001b[0miir_params\u001b[0m\u001b[1;33m=\u001b[0m\u001b[1;32mNone\u001b[0m\u001b[1;33m,\u001b[0m\u001b[1;33m\n",
       "\u001b[0m    \u001b[0mphase\u001b[0m\u001b[1;33m=\u001b[0m\u001b[1;34m'zero'\u001b[0m\u001b[1;33m,\u001b[0m\u001b[1;33m\n",
       "\u001b[0m    \u001b[0mfir_window\u001b[0m\u001b[1;33m=\u001b[0m\u001b[1;34m'hamming'\u001b[0m\u001b[1;33m,\u001b[0m\u001b[1;33m\n",
       "\u001b[0m    \u001b[0mfir_design\u001b[0m\u001b[1;33m=\u001b[0m\u001b[1;34m'firwin'\u001b[0m\u001b[1;33m,\u001b[0m\u001b[1;33m\n",
       "\u001b[0m    \u001b[0mskip_by_annotation\u001b[0m\u001b[1;33m=\u001b[0m\u001b[1;33m(\u001b[0m\u001b[1;34m'edge'\u001b[0m\u001b[1;33m,\u001b[0m \u001b[1;34m'bad_acq_skip'\u001b[0m\u001b[1;33m)\u001b[0m\u001b[1;33m,\u001b[0m\u001b[1;33m\n",
       "\u001b[0m    \u001b[0mpad\u001b[0m\u001b[1;33m=\u001b[0m\u001b[1;34m'reflect_limited'\u001b[0m\u001b[1;33m,\u001b[0m\u001b[1;33m\n",
       "\u001b[0m    \u001b[0mverbose\u001b[0m\u001b[1;33m=\u001b[0m\u001b[1;32mNone\u001b[0m\u001b[1;33m,\u001b[0m\u001b[1;33m\n",
       "\u001b[0m\u001b[1;33m)\u001b[0m\u001b[1;33m\u001b[0m\u001b[1;33m\u001b[0m\u001b[0m\n",
       "\u001b[1;31mDocstring:\u001b[0m\n",
       "Filter a subset of channels.\n",
       "\n",
       "Parameters\n",
       "----------\n",
       "\n",
       "l_freq : float | None\n",
       "    For FIR filters, the lower pass-band edge; for IIR filters, the upper\n",
       "    cutoff frequency. If None the data are only low-passed.\n",
       "\n",
       "h_freq : float | None\n",
       "    For FIR filters, the upper pass-band edge; for IIR filters, the upper\n",
       "    cutoff frequency. If None the data are only low-passed.\n",
       "picks : str | list | slice | None\n",
       "    Channels to include. Slices and lists of integers will be\n",
       "    interpreted as channel indices. In lists, channel *type* strings\n",
       "    (e.g., ``['meg', 'eeg']``) will pick channels of those\n",
       "    types, channel *name* strings (e.g., ``['MEG0111', 'MEG2623']``\n",
       "    will pick the given channels. Can also be the string values\n",
       "    \"all\" to pick all channels, or \"data\" to pick data channels.\n",
       "    None (default) will pick all data channels.\n",
       "\n",
       "filter_length : str | int\n",
       "    Length of the FIR filter to use (if applicable):\n",
       "\n",
       "    * **'auto' (default)**: The filter length is chosen based\n",
       "      on the size of the transition regions (6.6 times the reciprocal\n",
       "      of the shortest transition band for fir_window='hamming'\n",
       "      and fir_design=\"firwin2\", and half that for \"firwin\").\n",
       "    * **str**: A human-readable time in\n",
       "      units of \"s\" or \"ms\" (e.g., \"10s\" or \"5500ms\") will be\n",
       "      converted to that number of samples if ``phase=\"zero\"``, or\n",
       "      the shortest power-of-two length at least that duration for\n",
       "      ``phase=\"zero-double\"``.\n",
       "    * **int**: Specified length in samples. For fir_design=\"firwin\",\n",
       "      this should not be used.\n",
       "\n",
       "\n",
       "l_trans_bandwidth : float | str\n",
       "    Width of the transition band at the low cut-off frequency in Hz\n",
       "    (high pass or cutoff 1 in bandpass). Can be \"auto\"\n",
       "    (default) to use a multiple of ``l_freq``::\n",
       "\n",
       "        min(max(l_freq * 0.25, 2), l_freq)\n",
       "\n",
       "    Only used for ``method='fir'``.\n",
       "\n",
       "h_trans_bandwidth : float | str\n",
       "    Width of the transition band at the high cut-off frequency in Hz\n",
       "    (low pass or cutoff 2 in bandpass). Can be \"auto\"\n",
       "    (default in 0.14) to use a multiple of ``h_freq``::\n",
       "\n",
       "        min(max(h_freq * 0.25, 2.), info['sfreq'] / 2. - h_freq)\n",
       "\n",
       "    Only used for ``method='fir'``.\n",
       "\n",
       "n_jobs : int | str\n",
       "    Number of jobs to run in parallel. Can be 'cuda' if ``cupy``\n",
       "    is installed properly and method='fir'.\n",
       "\n",
       "method : str\n",
       "    'fir' will use overlap-add FIR filtering, 'iir' will use IIR\n",
       "    forward-backward filtering (via filtfilt).\n",
       "\n",
       "iir_params : dict | None\n",
       "    Dictionary of parameters to use for IIR filtering.\n",
       "    If iir_params is None and method=\"iir\", 4th order Butterworth will be used.\n",
       "    For more information, see :func:`mne.filter.construct_iir_filter`.\n",
       "\n",
       "phase : str\n",
       "    Phase of the filter, only used if ``method='fir'``.\n",
       "    Symmetric linear-phase FIR filters are constructed, and if ``phase='zero'``\n",
       "    (default), the delay of this filter is compensated for, making it\n",
       "    non-causal. If ``phase=='zero-double'``,\n",
       "    then this filter is applied twice, once forward, and once backward\n",
       "    (also making it non-causal). If 'minimum', then a minimum-phase filter will\n",
       "    be constricted and applied, which is causal but has weaker stop-band\n",
       "    suppression.\n",
       "\n",
       "    .. versionadded:: 0.13\n",
       "\n",
       "fir_window : str\n",
       "    The window to use in FIR design, can be \"hamming\" (default),\n",
       "    \"hann\" (default in 0.13), or \"blackman\".\n",
       "\n",
       "    .. versionadded:: 0.15\n",
       "\n",
       "fir_design : str\n",
       "    Can be \"firwin\" (default) to use :func:`scipy.signal.firwin`,\n",
       "    or \"firwin2\" to use :func:`scipy.signal.firwin2`. \"firwin\" uses\n",
       "    a time-domain design technique that generally gives improved\n",
       "    attenuation using fewer samples than \"firwin2\".\n",
       "\n",
       "    .. versionadded:: 0.15\n",
       "skip_by_annotation : str | list of str\n",
       "    If a string (or list of str), any annotation segment that begins\n",
       "    with the given string will not be included in filtering, and\n",
       "    segments on either side of the given excluded annotated segment\n",
       "    will be filtered separately (i.e., as independent signals).\n",
       "    The default (``('edge', 'bad_acq_skip')`` will separately filter\n",
       "    any segments that were concatenated by :func:`mne.concatenate_raws`\n",
       "    or :meth:`mne.io.Raw.append`, or separated during acquisition.\n",
       "    To disable, provide an empty list. Only used if ``inst`` is raw.\n",
       "\n",
       "    .. versionadded:: 0.16.\n",
       "\n",
       "pad : str\n",
       "    The type of padding to use. Supports all :func:`numpy.pad` ``mode``\n",
       "    options. Can also be \"reflect_limited\", which pads with a\n",
       "    reflected version of each vector mirrored on the first and last\n",
       "    values of the vector, followed by zeros. Only used for ``method='fir'``.\n",
       "\n",
       "verbose : bool, str, int, or None\n",
       "    If not None, override default verbose level (see :func:`mne.verbose`\n",
       "    and :ref:`Logging documentation <tut_logging>` for more). Defaults to self.verbose.\n",
       "\n",
       "Returns\n",
       "-------\n",
       "inst : instance of Epochs, Evoked, or Raw\n",
       "    The filtered data.\n",
       "\n",
       "See Also\n",
       "--------\n",
       "mne.filter.create_filter\n",
       "mne.Evoked.savgol_filter\n",
       "mne.io.Raw.notch_filter\n",
       "mne.io.Raw.resample\n",
       "mne.filter.create_filter\n",
       "mne.filter.filter_data\n",
       "mne.filter.construct_iir_filter\n",
       "\n",
       "Notes\n",
       "-----\n",
       "Applies a zero-phase low-pass, high-pass, band-pass, or band-stop\n",
       "filter to the channels selected by ``picks``.\n",
       "The data are modified inplace.\n",
       "\n",
       "The object has to have the data loaded e.g. with ``preload=True``\n",
       "or ``self.load_data()``.\n",
       "\n",
       "``l_freq`` and ``h_freq`` are the frequencies below which and above\n",
       "which, respectively, to filter out of the data. Thus the uses are:\n",
       "\n",
       "    * ``l_freq < h_freq``: band-pass filter\n",
       "    * ``l_freq > h_freq``: band-stop filter\n",
       "    * ``l_freq is not None and h_freq is None``: high-pass filter\n",
       "    * ``l_freq is None and h_freq is not None``: low-pass filter\n",
       "\n",
       "``self.info['lowpass']`` and ``self.info['highpass']`` are only\n",
       "updated with picks=None.\n",
       "\n",
       ".. note:: If n_jobs > 1, more memory is required as\n",
       "          ``len(picks) * n_times`` additional time points need to\n",
       "          be temporaily stored in memory.\n",
       "\n",
       "For more information, see the tutorials\n",
       ":ref:`disc-filtering` and :ref:`tut-filter-resample` and\n",
       ":func:`mne.filter.create_filter`.\n",
       "\n",
       ".. versionadded:: 0.15\n",
       "\u001b[1;31mFile:\u001b[0m      c:\\users\\egora\\anaconda3\\envs\\mne\\lib\\site-packages\\mne\\io\\base.py\n",
       "\u001b[1;31mType:\u001b[0m      method\n"
      ]
     },
     "metadata": {},
     "output_type": "display_data"
    }
   ],
   "source": [
    "raw.filter?"
   ]
  },
  {
   "cell_type": "markdown",
   "metadata": {},
   "source": [
    "<div class=\"alert alert-success\">\n",
    "    <b>Exercise</b>:\n",
    "     <ul>\n",
    "    <li>Filter the raw data between 0Hz and 40Hz.</li>\n",
    "    </ul>\n",
    "</div>"
   ]
  },
  {
   "cell_type": "code",
   "execution_count": 50,
   "metadata": {},
   "outputs": [
    {
     "data": {
      "text/plain": [
       "<Raw  |  sub-01_ses-meg_task-facerecognition_run-01_proc-sss_meg.fif, n_channels x n_times : 381 x 147300 (491.0 sec), ~435.5 MB, data loaded>"
      ]
     },
     "execution_count": 50,
     "metadata": {},
     "output_type": "execute_result"
    }
   ],
   "source": [
    "raw.filter(0, 40)"
   ]
  },
  {
   "cell_type": "markdown",
   "metadata": {},
   "source": [
    "<div class=\"alert alert-success\">\n",
    "    <b>Exercise</b>:\n",
    "     <ul>\n",
    "    <li>Plot the 10 first seconds of stimulation channel just using matplotlib.</li>\n",
    "    </ul>\n",
    "</div>\n",
    "\n",
    "Tips:\n",
    "\n",
    "- Pick the stim channel using `mne.pick_types`\n",
    "- Get the data for this channel\n",
    "- Plot it using `plt.plot`"
   ]
  },
  {
   "cell_type": "code",
   "execution_count": 51,
   "metadata": {},
   "outputs": [
    {
     "data": {
      "text/plain": [
       "300.0"
      ]
     },
     "execution_count": 51,
     "metadata": {},
     "output_type": "execute_result"
    }
   ],
   "source": [
    "raw.info['sfreq']"
   ]
  },
  {
   "cell_type": "code",
   "execution_count": 52,
   "metadata": {},
   "outputs": [],
   "source": [
    "data = raw.get_data('stim', start=0, stop=int(50 * raw.info['sfreq']))"
   ]
  },
  {
   "cell_type": "code",
   "execution_count": 53,
   "metadata": {},
   "outputs": [
    {
     "data": {
      "text/plain": [
       "2.385637307611378e-10"
      ]
     },
     "execution_count": 53,
     "metadata": {},
     "output_type": "execute_result"
    }
   ],
   "source": [
    "# d = raw.get_data(picks=['EEG001', 'EEG002'])\n",
    "# d = raw.get_data(picks=('eeg', 'mag'))\n",
    "d = raw.get_data(picks=('grad',))\n",
    "np.max(d)"
   ]
  },
  {
   "cell_type": "code",
   "execution_count": 54,
   "metadata": {},
   "outputs": [
    {
     "data": {
      "text/plain": [
       "(1, 15000)"
      ]
     },
     "execution_count": 54,
     "metadata": {},
     "output_type": "execute_result"
    }
   ],
   "source": [
    "#### TODO\n",
    "start = 0\n",
    "stop = int(50 * raw.info['sfreq'])\n",
    "data = raw.get_data('STI101', start=start, stop=stop)\n",
    "data.shape"
   ]
  },
  {
   "cell_type": "markdown",
   "metadata": {},
   "source": [
    "This yields 50, not 10, seconds."
   ]
  },
  {
   "cell_type": "code",
   "execution_count": 55,
   "metadata": {},
   "outputs": [
    {
     "data": {
      "text/plain": [
       "(15000,)"
      ]
     },
     "execution_count": 55,
     "metadata": {},
     "output_type": "execute_result"
    }
   ],
   "source": [
    "raw.times[start:stop].shape"
   ]
  },
  {
   "cell_type": "code",
   "execution_count": 56,
   "metadata": {},
   "outputs": [
    {
     "data": {
      "text/plain": [
       "[<matplotlib.lines.Line2D at 0x14727de4188>]"
      ]
     },
     "execution_count": 56,
     "metadata": {},
     "output_type": "execute_result"
    }
   ],
   "source": [
    "#%matplotlib inline\n",
    "\n",
    "plt.plot(raw.times[start:stop], data.T)"
   ]
  },
  {
   "cell_type": "code",
   "execution_count": 57,
   "metadata": {},
   "outputs": [
    {
     "data": {
      "text/plain": [
       "4101.0"
      ]
     },
     "execution_count": 57,
     "metadata": {},
     "output_type": "execute_result"
    }
   ],
   "source": [
    "np.max(data)"
   ]
  },
  {
   "cell_type": "markdown",
   "metadata": {},
   "source": [
    "## Define and read epochs"
   ]
  },
  {
   "cell_type": "markdown",
   "metadata": {},
   "source": [
    "First extract events:"
   ]
  },
  {
   "cell_type": "code",
   "execution_count": 58,
   "metadata": {},
   "outputs": [
    {
     "name": "stdout",
     "output_type": "stream",
     "text": [
      "259 events found\n",
      "Event IDs: [   5    6    7   13   14   15   17   18   19  256  261  262  263  269\n",
      "  270  271  273  274  275 4096 4101 4102 4103 4109 4110 4111 4113 4114\n",
      " 4115 4352]\n"
     ]
    }
   ],
   "source": [
    "events = mne.find_events(raw, stim_channel='STI101', verbose=True)"
   ]
  },
  {
   "cell_type": "markdown",
   "metadata": {},
   "source": [
    "<div class=\"alert alert-success\">\n",
    "    <b>Exercise</b>:\n",
    "     <ul>\n",
    "    <li>What is the type of the variable events?</li>\n",
    "    <li>What is the meaning of the 3 columnes of events?</li>\n",
    "    <li>How many events of type 5 do you see?</li>\n",
    "    </ul>\n",
    "</div>"
   ]
  },
  {
   "cell_type": "code",
   "execution_count": 59,
   "metadata": {},
   "outputs": [
    {
     "data": {
      "text/plain": [
       "array([[75052,     0,    13],\n",
       "       [75336,     0,   256],\n",
       "       [75964,     0,    14],\n",
       "       [76158,    14,   270],\n",
       "       [76896,     0,    13]], dtype=int64)"
      ]
     },
     "execution_count": 59,
     "metadata": {},
     "output_type": "execute_result"
    }
   ],
   "source": [
    "events[0:5, :]"
   ]
  },
  {
   "cell_type": "code",
   "execution_count": 60,
   "metadata": {},
   "outputs": [
    {
     "data": {
      "text/plain": [
       "\u001b[1;31mSignature:\u001b[0m\n",
       "\u001b[0mmne\u001b[0m\u001b[1;33m.\u001b[0m\u001b[0mfind_events\u001b[0m\u001b[1;33m(\u001b[0m\u001b[1;33m\n",
       "\u001b[0m    \u001b[0mraw\u001b[0m\u001b[1;33m,\u001b[0m\u001b[1;33m\n",
       "\u001b[0m    \u001b[0mstim_channel\u001b[0m\u001b[1;33m=\u001b[0m\u001b[1;32mNone\u001b[0m\u001b[1;33m,\u001b[0m\u001b[1;33m\n",
       "\u001b[0m    \u001b[0moutput\u001b[0m\u001b[1;33m=\u001b[0m\u001b[1;34m'onset'\u001b[0m\u001b[1;33m,\u001b[0m\u001b[1;33m\n",
       "\u001b[0m    \u001b[0mconsecutive\u001b[0m\u001b[1;33m=\u001b[0m\u001b[1;34m'increasing'\u001b[0m\u001b[1;33m,\u001b[0m\u001b[1;33m\n",
       "\u001b[0m    \u001b[0mmin_duration\u001b[0m\u001b[1;33m=\u001b[0m\u001b[1;36m0\u001b[0m\u001b[1;33m,\u001b[0m\u001b[1;33m\n",
       "\u001b[0m    \u001b[0mshortest_event\u001b[0m\u001b[1;33m=\u001b[0m\u001b[1;36m2\u001b[0m\u001b[1;33m,\u001b[0m\u001b[1;33m\n",
       "\u001b[0m    \u001b[0mmask\u001b[0m\u001b[1;33m=\u001b[0m\u001b[1;32mNone\u001b[0m\u001b[1;33m,\u001b[0m\u001b[1;33m\n",
       "\u001b[0m    \u001b[0muint_cast\u001b[0m\u001b[1;33m=\u001b[0m\u001b[1;32mFalse\u001b[0m\u001b[1;33m,\u001b[0m\u001b[1;33m\n",
       "\u001b[0m    \u001b[0mmask_type\u001b[0m\u001b[1;33m=\u001b[0m\u001b[1;34m'and'\u001b[0m\u001b[1;33m,\u001b[0m\u001b[1;33m\n",
       "\u001b[0m    \u001b[0minitial_event\u001b[0m\u001b[1;33m=\u001b[0m\u001b[1;32mFalse\u001b[0m\u001b[1;33m,\u001b[0m\u001b[1;33m\n",
       "\u001b[0m    \u001b[0mverbose\u001b[0m\u001b[1;33m=\u001b[0m\u001b[1;32mNone\u001b[0m\u001b[1;33m,\u001b[0m\u001b[1;33m\n",
       "\u001b[0m\u001b[1;33m)\u001b[0m\u001b[1;33m\u001b[0m\u001b[1;33m\u001b[0m\u001b[0m\n",
       "\u001b[1;31mDocstring:\u001b[0m\n",
       "Find events from raw file.\n",
       "\n",
       "See :ref:`tut_epoching_and_averaging` as well as :ref:`ex-read-events`\n",
       "for more information about events.\n",
       "\n",
       "Parameters\n",
       "----------\n",
       "raw : Raw object\n",
       "    The raw data.\n",
       "stim_channel : None | string | list of string\n",
       "    Name of the stim channel or all the stim channels\n",
       "    affected by triggers. If None, the config variables\n",
       "    'MNE_STIM_CHANNEL', 'MNE_STIM_CHANNEL_1', 'MNE_STIM_CHANNEL_2',\n",
       "    etc. are read. If these are not found, it will fall back to\n",
       "    'STI 014' if present, then fall back to the first channel of type\n",
       "    'stim', if present. If multiple channels are provided\n",
       "    then the returned events are the union of all the events\n",
       "    extracted from individual stim channels.\n",
       "output : 'onset' | 'offset' | 'step'\n",
       "    Whether to report when events start, when events end, or both.\n",
       "consecutive : bool | 'increasing'\n",
       "    If True, consider instances where the value of the events\n",
       "    channel changes without first returning to zero as multiple\n",
       "    events. If False, report only instances where the value of the\n",
       "    events channel changes from/to zero. If 'increasing', report\n",
       "    adjacent events only when the second event code is greater than\n",
       "    the first.\n",
       "min_duration : float\n",
       "    The minimum duration of a change in the events channel required\n",
       "    to consider it as an event (in seconds).\n",
       "shortest_event : int\n",
       "    Minimum number of samples an event must last (default is 2). If the\n",
       "    duration is less than this an exception will be raised.\n",
       "mask : int | None\n",
       "    The value of the digital mask to apply to the stim channel values.\n",
       "    If None (default), no masking is performed.\n",
       "uint_cast : bool\n",
       "    If True (default False), do a cast to ``uint16`` on the channel\n",
       "    data. This can be used to fix a bug with STI101 and STI014 in\n",
       "    Neuromag acquisition setups that use channel STI016 (channel 16\n",
       "    turns data into e.g. -32768), similar to ``mne_fix_stim14 --32``\n",
       "    in MNE-C.\n",
       "\n",
       "    .. versionadded:: 0.12\n",
       "mask_type: 'and' | 'not_and'\n",
       "    The type of operation between the mask and the trigger.\n",
       "    Choose 'and' (default) for MNE-C masking behavior.\n",
       "\n",
       "    .. versionadded:: 0.13\n",
       "initial_event : bool\n",
       "    If True (default False), an event is created if the stim channel has a\n",
       "    value different from 0 as its first sample. This is useful if an event\n",
       "    at t=0s is present.\n",
       "\n",
       "    .. versionadded:: 0.16\n",
       "\n",
       "verbose : bool, str, int, or None\n",
       "    If not None, override default verbose level (see :func:`mne.verbose`\n",
       "    and :ref:`Logging documentation <tut_logging>` for more).\n",
       "\n",
       "Returns\n",
       "-------\n",
       "events : array, shape = (n_events, 3)\n",
       "    All events that were found. The first column contains the event time\n",
       "    in samples and the third column contains the event id. For output =\n",
       "    'onset' or 'step', the second column contains the value of the stim\n",
       "    channel immediately before the event/step. For output = 'offset',\n",
       "    the second column contains the value of the stim channel after the\n",
       "    event offset.\n",
       "\n",
       "See Also\n",
       "--------\n",
       "find_stim_steps : Find all the steps in the stim channel.\n",
       "read_events : Read events from disk.\n",
       "write_events : Write events to disk.\n",
       "\n",
       "Notes\n",
       "-----\n",
       ".. warning:: If you are working with downsampled data, events computed\n",
       "             before decimation are no longer valid. Please recompute\n",
       "             your events after decimation, but note this reduces the\n",
       "             precision of event timing.\n",
       "\n",
       "Examples\n",
       "--------\n",
       "Consider data with a stim channel that looks like::\n",
       "\n",
       "    [0, 32, 32, 33, 32, 0]\n",
       "\n",
       "By default, find_events returns all samples at which the value of the\n",
       "stim channel increases::\n",
       "\n",
       "    >>> print(find_events(raw)) # doctest: +SKIP\n",
       "    [[ 1  0 32]\n",
       "     [ 3 32 33]]\n",
       "\n",
       "If consecutive is False, find_events only returns the samples at which\n",
       "the stim channel changes from zero to a non-zero value::\n",
       "\n",
       "    >>> print(find_events(raw, consecutive=False)) # doctest: +SKIP\n",
       "    [[ 1  0 32]]\n",
       "\n",
       "If consecutive is True, find_events returns samples at which the\n",
       "event changes, regardless of whether it first returns to zero::\n",
       "\n",
       "    >>> print(find_events(raw, consecutive=True)) # doctest: +SKIP\n",
       "    [[ 1  0 32]\n",
       "     [ 3 32 33]\n",
       "     [ 4 33 32]]\n",
       "\n",
       "If output is 'offset', find_events returns the last sample of each event\n",
       "instead of the first one::\n",
       "\n",
       "    >>> print(find_events(raw, consecutive=True, # doctest: +SKIP\n",
       "    ...                   output='offset'))\n",
       "    [[ 2 33 32]\n",
       "     [ 3 32 33]\n",
       "     [ 4  0 32]]\n",
       "\n",
       "If output is 'step', find_events returns the samples at which an event\n",
       "starts or ends::\n",
       "\n",
       "    >>> print(find_events(raw, consecutive=True, # doctest: +SKIP\n",
       "    ...                   output='step'))\n",
       "    [[ 1  0 32]\n",
       "     [ 3 32 33]\n",
       "     [ 4 33 32]\n",
       "     [ 5 32  0]]\n",
       "\n",
       "To ignore spurious events, it is also possible to specify a minimum\n",
       "event duration. Assuming our events channel has a sample rate of\n",
       "1000 Hz::\n",
       "\n",
       "    >>> print(find_events(raw, consecutive=True, # doctest: +SKIP\n",
       "    ...                   min_duration=0.002))\n",
       "    [[ 1  0 32]]\n",
       "\n",
       "For the digital mask, if mask_type is set to 'and' it will take the\n",
       "binary representation of the digital mask, e.g. 5 -> '00000101', and will\n",
       "allow the values to pass where mask is one, e.g.::\n",
       "\n",
       "          7 '0000111' <- trigger value\n",
       "         37 '0100101' <- mask\n",
       "     ----------------\n",
       "          5 '0000101'\n",
       "\n",
       "For the digital mask, if mask_type is set to 'not_and' it will take the\n",
       "binary representation of the digital mask, e.g. 5 -> '00000101', and will\n",
       "block the values where mask is one, e.g.::\n",
       "\n",
       "          7 '0000111' <- trigger value\n",
       "         37 '0100101' <- mask\n",
       "     ----------------\n",
       "          2 '0000010'\n",
       "\u001b[1;31mFile:\u001b[0m      c:\\users\\egora\\anaconda3\\envs\\mne\\lib\\site-packages\\mne\\event.py\n",
       "\u001b[1;31mType:\u001b[0m      function\n"
      ]
     },
     "metadata": {},
     "output_type": "display_data"
    }
   ],
   "source": [
    "mne.find_events?"
   ]
  },
  {
   "cell_type": "code",
   "execution_count": 61,
   "metadata": {},
   "outputs": [
    {
     "data": {
      "text/plain": [
       "25"
      ]
     },
     "execution_count": 61,
     "metadata": {},
     "output_type": "execute_result"
    }
   ],
   "source": [
    "# events(:, 3) == 5 # matlab\n",
    "np.sum(events[:, 2] == 5)"
   ]
  },
  {
   "cell_type": "markdown",
   "metadata": {},
   "source": [
    "There was a time offset of 34.5ms in the stimulus presentation. We need to correct events accordingly."
   ]
  },
  {
   "cell_type": "code",
   "execution_count": 62,
   "metadata": {},
   "outputs": [],
   "source": [
    "delay = int(round(0.0345 * raw.info['sfreq']))\n",
    "events[:, 0] = events[:, 0] + delay"
   ]
  },
  {
   "cell_type": "markdown",
   "metadata": {},
   "source": [
    "Let's visualize the paradigm:"
   ]
  },
  {
   "cell_type": "code",
   "execution_count": 63,
   "metadata": {},
   "outputs": [],
   "source": [
    "events = events[events[:, 2] < 20] # take only events with code less than 20"
   ]
  },
  {
   "cell_type": "code",
   "execution_count": 64,
   "metadata": {},
   "outputs": [],
   "source": [
    "fig = mne.viz.plot_events(events, raw.info['sfreq']);"
   ]
  },
  {
   "cell_type": "markdown",
   "metadata": {},
   "source": [
    "For event trigger and conditions we use a Python dictionary with keys that contain \"/\" for grouping sub-conditions"
   ]
  },
  {
   "cell_type": "code",
   "execution_count": 65,
   "metadata": {},
   "outputs": [],
   "source": [
    "event_id = {\n",
    "    'face/famous/first': 5,\n",
    "    'face/famous/immediate': 6,\n",
    "    'face/famous/long': 7,\n",
    "    'face/unfamiliar/first': 13,\n",
    "    'face/unfamiliar/immediate': 14,\n",
    "    'face/unfamiliar/long': 15,\n",
    "    'scrambled/first': 17,\n",
    "    'scrambled/immediate': 18,\n",
    "    'scrambled/long': 19,\n",
    "}"
   ]
  },
  {
   "cell_type": "code",
   "execution_count": 66,
   "metadata": {},
   "outputs": [],
   "source": [
    "fig = mne.viz.plot_events(events, sfreq=raw.info['sfreq'],\n",
    "                          event_id=event_id);"
   ]
  },
  {
   "cell_type": "code",
   "execution_count": 67,
   "metadata": {},
   "outputs": [],
   "source": [
    "%matplotlib qt\n",
    "\n",
    "raw.plot(event_id=event_id, events=events);"
   ]
  },
  {
   "cell_type": "markdown",
   "metadata": {},
   "source": [
    "Define epochs parameters:"
   ]
  },
  {
   "cell_type": "code",
   "execution_count": 68,
   "metadata": {},
   "outputs": [],
   "source": [
    "tmin = -0.5  # start of each epoch (500ms before the trigger)\n",
    "tmax = 2.0  # end of each epoch (2000ms after the trigger)"
   ]
  },
  {
   "cell_type": "markdown",
   "metadata": {},
   "source": [
    "Define the baseline period:"
   ]
  },
  {
   "cell_type": "code",
   "execution_count": 69,
   "metadata": {},
   "outputs": [],
   "source": [
    "baseline = (-0.2, 0)  # means from 200ms before to stim onset (t = 0)"
   ]
  },
  {
   "cell_type": "markdown",
   "metadata": {},
   "source": [
    "Define peak-to-peak (amplitude range) rejection parameters for gradiometers, magnetometers and EOG:"
   ]
  },
  {
   "cell_type": "code",
   "execution_count": 70,
   "metadata": {},
   "outputs": [],
   "source": [
    "reject = dict(grad=4000e-13, mag=4e-12, eog=150e-6)  # this can be highly data dependent"
   ]
  },
  {
   "cell_type": "markdown",
   "metadata": {},
   "source": [
    "<div class=\"alert alert-info\">\n",
    "    <b>REMARK</b>:\n",
    "     <ul>\n",
    "    <li>The <a href=\"https://autoreject.github.io/\">autoreject</a> project aims to solve this problem of reject parameter setting. See the <a href=\"https://www.sciencedirect.com/science/article/pii/S1053811917305013\">paper</a>.</li>\n",
    "    </ul>\n",
    "</div>"
   ]
  },
  {
   "cell_type": "code",
   "execution_count": 71,
   "metadata": {},
   "outputs": [
    {
     "data": {
      "text/plain": [
       "[380]"
      ]
     },
     "execution_count": 71,
     "metadata": {},
     "output_type": "execute_result"
    }
   ],
   "source": [
    "indices = [i for i, s in enumerate(raw.info['ch_names']) if 'STI101' in s]\n",
    "indices"
   ]
  },
  {
   "cell_type": "code",
   "execution_count": 72,
   "metadata": {},
   "outputs": [],
   "source": [
    "# we are picky again, this time with EOG\n",
    "picks = mne.pick_types(raw.info, meg=True, eeg=True, eog=True,\n",
    "                       stim=False, exclude='bads')"
   ]
  },
  {
   "cell_type": "code",
   "execution_count": 73,
   "metadata": {},
   "outputs": [
    {
     "data": {
      "text/plain": [
       "array([  0,   1,   2,   3,   4,   5,   6,   7,   8,   9,  10,  11,  12,\n",
       "        13,  14,  15,  16,  17,  18,  19,  20,  21,  22,  23,  24,  25,\n",
       "        26,  27,  28,  29,  30,  31,  32,  33,  34,  35,  36,  37,  38,\n",
       "        39,  40,  41,  42,  43,  44,  45,  46,  47,  48,  49,  50,  51,\n",
       "        52,  53,  54,  55,  56,  57,  58,  59,  60,  61,  62,  63,  64,\n",
       "        65,  66,  67,  68,  69,  70,  71,  72,  73,  74,  75,  76,  77,\n",
       "        78,  79,  80,  81,  82,  83,  84,  85,  86,  87,  88,  89,  90,\n",
       "        91,  92,  93,  94,  95,  96,  97,  98,  99, 100, 101, 102, 103,\n",
       "       104, 105, 106, 107, 108, 109, 110, 111, 112, 113, 114, 115, 116,\n",
       "       117, 118, 119, 120, 121, 122, 123, 124, 125, 126, 127, 128, 129,\n",
       "       130, 131, 132, 133, 134, 135, 136, 137, 138, 139, 140, 141, 142,\n",
       "       143, 144, 145, 146, 147, 148, 149, 150, 151, 152, 153, 154, 155,\n",
       "       156, 157, 158, 159, 160, 161, 162, 163, 164, 165, 166, 167, 168,\n",
       "       169, 170, 171, 172, 173, 174, 175, 176, 177, 178, 179, 180, 181,\n",
       "       182, 183, 184, 185, 186, 187, 188, 189, 190, 191, 192, 193, 194,\n",
       "       195, 196, 197, 198, 199, 200, 201, 202, 203, 204, 205, 206, 207,\n",
       "       208, 209, 210, 211, 212, 213, 214, 215, 216, 217, 218, 219, 220,\n",
       "       221, 222, 223, 224, 225, 226, 227, 228, 229, 230, 231, 232, 233,\n",
       "       234, 235, 236, 237, 238, 239, 240, 241, 242, 243, 244, 245, 246,\n",
       "       247, 248, 249, 250, 251, 252, 253, 254, 255, 256, 257, 258, 259,\n",
       "       260, 261, 262, 263, 264, 265, 266, 267, 268, 269, 270, 271, 272,\n",
       "       273, 274, 275, 276, 277, 278, 279, 280, 281, 282, 283, 284, 285,\n",
       "       286, 287, 288, 289, 290, 291, 292, 293, 294, 295, 296, 297, 298,\n",
       "       299, 300, 301, 302, 303, 304, 305, 306, 307, 308, 309, 310, 311,\n",
       "       312, 313, 314, 315, 316, 317, 318, 319, 320, 321, 322, 323, 324,\n",
       "       325, 326, 327, 328, 329, 330, 331, 332, 333, 334, 335, 336, 337,\n",
       "       338, 339, 340, 341, 342, 343, 344, 345, 346, 347, 348, 349, 350,\n",
       "       351, 352, 353, 354, 355, 356, 357, 358, 359, 360, 361, 362, 363,\n",
       "       364, 365, 366, 367, 370, 371, 372, 373, 374, 375, 376, 377, 378,\n",
       "       379])"
      ]
     },
     "execution_count": 73,
     "metadata": {},
     "output_type": "execute_result"
    }
   ],
   "source": [
    "picks"
   ]
  },
  {
   "cell_type": "markdown",
   "metadata": {},
   "source": [
    "Extract epochs:"
   ]
  },
  {
   "cell_type": "code",
   "execution_count": 74,
   "metadata": {},
   "outputs": [],
   "source": [
    "epochs = mne.Epochs(raw, events, event_id, tmin, tmax, proj=True,\n",
    "                    picks=picks, baseline=baseline,\n",
    "                    reject=reject)"
   ]
  },
  {
   "cell_type": "code",
   "execution_count": 75,
   "metadata": {},
   "outputs": [
    {
     "name": "stdout",
     "output_type": "stream",
     "text": [
      "<Epochs  |   146 events (good & bad), -0.5 - 2 sec, baseline [-0.2, 0], ~7.3 MB, data not loaded,\n",
      " 'face/famous/first': 25\n",
      " 'face/famous/immediate': 10\n",
      " 'face/famous/long': 14\n",
      " 'face/unfamiliar/first': 25\n",
      " 'face/unfamiliar/immediate': 12\n",
      " 'face/unfamiliar/long': 10\n",
      " 'scrambled/first': 25\n",
      " 'scrambled/immediate': 14\n",
      " 'scrambled/long': 11>\n"
     ]
    }
   ],
   "source": [
    "print(epochs)"
   ]
  },
  {
   "cell_type": "code",
   "execution_count": 76,
   "metadata": {},
   "outputs": [
    {
     "data": {
      "text/plain": [
       "<Epochs  |   79 events (all good), -0.5 - 2 sec, baseline [-0.2, 0], ~7.3 MB, data not loaded,\n",
       " 'face/famous/first': 13\n",
       " 'face/famous/immediate': 3\n",
       " 'face/famous/long': 6\n",
       " 'face/unfamiliar/first': 17\n",
       " 'face/unfamiliar/immediate': 4\n",
       " 'face/unfamiliar/long': 6\n",
       " 'scrambled/first': 15\n",
       " 'scrambled/immediate': 9\n",
       " 'scrambled/long': 6>"
      ]
     },
     "execution_count": 76,
     "metadata": {},
     "output_type": "execute_result"
    }
   ],
   "source": [
    "epochs.drop_bad()  # remove bad epochs based on reject"
   ]
  },
  {
   "cell_type": "code",
   "execution_count": 77,
   "metadata": {},
   "outputs": [
    {
     "data": {
      "text/plain": [
       "\u001b[1;31mSignature:\u001b[0m \u001b[0mepochs\u001b[0m\u001b[1;33m.\u001b[0m\u001b[0mdrop_bad\u001b[0m\u001b[1;33m(\u001b[0m\u001b[0mreject\u001b[0m\u001b[1;33m=\u001b[0m\u001b[1;34m'existing'\u001b[0m\u001b[1;33m,\u001b[0m \u001b[0mflat\u001b[0m\u001b[1;33m=\u001b[0m\u001b[1;34m'existing'\u001b[0m\u001b[1;33m,\u001b[0m \u001b[0mverbose\u001b[0m\u001b[1;33m=\u001b[0m\u001b[1;32mNone\u001b[0m\u001b[1;33m)\u001b[0m\u001b[1;33m\u001b[0m\u001b[1;33m\u001b[0m\u001b[0m\n",
       "\u001b[1;31mDocstring:\u001b[0m\n",
       "Drop bad epochs without retaining the epochs data.\n",
       "\n",
       "Should be used before slicing operations.\n",
       "\n",
       ".. warning:: This operation is slow since all epochs have to be read\n",
       "             from disk. To avoid reading epochs from disk multiple\n",
       "             times, use :meth:`mne.Epochs.load_data()`.\n",
       "\n",
       "Parameters\n",
       "----------\n",
       "reject : dict | str | None\n",
       "    Rejection parameters based on peak-to-peak amplitude.\n",
       "    Valid keys are 'grad' | 'mag' | 'eeg' | 'eog' | 'ecg'.\n",
       "    If reject is None then no rejection is done. If 'existing',\n",
       "    then the rejection parameters set at instantiation are used.\n",
       "flat : dict | str | None\n",
       "    Rejection parameters based on flatness of signal.\n",
       "    Valid keys are 'grad' | 'mag' | 'eeg' | 'eog' | 'ecg', and values\n",
       "    are floats that set the minimum acceptable peak-to-peak amplitude.\n",
       "    If flat is None then no rejection is done. If 'existing',\n",
       "    then the flat parameters set at instantiation are used.\n",
       "\n",
       "verbose : bool, str, int, or None\n",
       "    If not None, override default verbose level (see :func:`mne.verbose`\n",
       "    and :ref:`Logging documentation <tut_logging>` for more). Defaults to self.verbose.\n",
       "\n",
       "Returns\n",
       "-------\n",
       "epochs : instance of Epochs\n",
       "    The epochs with bad epochs dropped. Operates in-place.\n",
       "\n",
       "Notes\n",
       "-----\n",
       "Dropping bad epochs can be done multiple times with different\n",
       "``reject`` and ``flat`` parameters. However, once an epoch is\n",
       "dropped, it is dropped forever, so if more lenient thresholds may\n",
       "subsequently be applied, `epochs.copy <mne.Epochs.copy>` should be\n",
       "used.\n",
       "\u001b[1;31mFile:\u001b[0m      c:\\users\\egora\\anaconda3\\envs\\mne\\lib\\site-packages\\mne\\epochs.py\n",
       "\u001b[1;31mType:\u001b[0m      method\n"
      ]
     },
     "metadata": {},
     "output_type": "display_data"
    }
   ],
   "source": [
    "epochs.drop_bad?"
   ]
  },
  {
   "cell_type": "code",
   "execution_count": 78,
   "metadata": {},
   "outputs": [
    {
     "data": {
      "text/plain": [
       "<Epochs  |   79 events (all good), -0.5 - 2 sec, baseline [-0.2, 0], ~178.4 MB, data loaded,\n",
       " 'face/famous/first': 13\n",
       " 'face/famous/immediate': 3\n",
       " 'face/famous/long': 6\n",
       " 'face/unfamiliar/first': 17\n",
       " 'face/unfamiliar/immediate': 4\n",
       " 'face/unfamiliar/long': 6\n",
       " 'scrambled/first': 15\n",
       " 'scrambled/immediate': 9\n",
       " 'scrambled/long': 6>"
      ]
     },
     "execution_count": 78,
     "metadata": {},
     "output_type": "execute_result"
    }
   ],
   "source": [
    "epochs.load_data()  # load data in memory"
   ]
  },
  {
   "cell_type": "markdown",
   "metadata": {},
   "source": [
    "Explore the epochs namespace\n",
    "\n",
    "Hit ``epochs.<TAB>``"
   ]
  },
  {
   "cell_type": "code",
   "execution_count": 79,
   "metadata": {},
   "outputs": [],
   "source": [
    "# epochs."
   ]
  },
  {
   "cell_type": "markdown",
   "metadata": {},
   "source": [
    "See how many epochs were dropped"
   ]
  },
  {
   "cell_type": "markdown",
   "metadata": {},
   "source": [
    "CAUTION!\n",
    "It's important to *keep* EOG channels despite their impact on rejection rate (almost half). (2020-01-03)"
   ]
  },
  {
   "cell_type": "code",
   "execution_count": 144,
   "metadata": {},
   "outputs": [],
   "source": [
    "#%matplotlib inline\n",
    "\n",
    "epochs.plot_drop_log();"
   ]
  },
  {
   "cell_type": "code",
   "execution_count": 81,
   "metadata": {},
   "outputs": [
    {
     "name": "stdout",
     "output_type": "stream",
     "text": [
      "[]\n",
      "[]\n",
      "[]\n",
      "[]\n",
      "[]\n",
      "[]\n",
      "[]\n",
      "['EOG062']\n",
      "['EOG062']\n",
      "[]\n",
      "['EOG062']\n",
      "[]\n",
      "[]\n",
      "['EOG062']\n",
      "[]\n",
      "[]\n",
      "[]\n",
      "[]\n",
      "[]\n",
      "[]\n"
     ]
    }
   ],
   "source": [
    "for drop_log in epochs.drop_log[:20]:\n",
    "    print(drop_log)"
   ]
  },
  {
   "cell_type": "code",
   "execution_count": 82,
   "metadata": {},
   "outputs": [],
   "source": [
    "epochs.copy().drop(10, reason=\"I don't like this one\").plot_drop_log();"
   ]
  },
  {
   "cell_type": "code",
   "execution_count": 83,
   "metadata": {},
   "outputs": [
    {
     "data": {
      "text/plain": [
       "[[],\n",
       " [],\n",
       " [],\n",
       " [],\n",
       " [],\n",
       " [],\n",
       " [],\n",
       " ['EOG062'],\n",
       " ['EOG062'],\n",
       " [],\n",
       " ['EOG062'],\n",
       " [],\n",
       " [],\n",
       " ['EOG062'],\n",
       " [\"I don't like this one\"],\n",
       " [],\n",
       " [],\n",
       " [],\n",
       " [],\n",
       " []]"
      ]
     },
     "execution_count": 83,
     "metadata": {},
     "output_type": "execute_result"
    }
   ],
   "source": [
    "epochs.copy().drop(10, reason=\"I don't like this one\").drop_log[:20]"
   ]
  },
  {
   "cell_type": "code",
   "execution_count": 84,
   "metadata": {},
   "outputs": [
    {
     "data": {
      "text/plain": [
       "<Raw  |  sub-01_ses-meg_task-facerecognition_run-01_proc-sss_meg.fif, n_channels x n_times : 381 x 147300 (491.0 sec), ~435.5 MB, data loaded>"
      ]
     },
     "execution_count": 84,
     "metadata": {},
     "output_type": "execute_result"
    }
   ],
   "source": [
    "raw.filter(0, 80)"
   ]
  },
  {
   "cell_type": "code",
   "execution_count": 85,
   "metadata": {},
   "outputs": [
    {
     "data": {
      "text/plain": [
       "(146, 3)"
      ]
     },
     "execution_count": 85,
     "metadata": {},
     "output_type": "execute_result"
    }
   ],
   "source": [
    "events.shape"
   ]
  },
  {
   "cell_type": "code",
   "execution_count": 86,
   "metadata": {},
   "outputs": [
    {
     "data": {
      "text/plain": [
       "(79, 3)"
      ]
     },
     "execution_count": 86,
     "metadata": {},
     "output_type": "execute_result"
    }
   ],
   "source": [
    "epochs.events.shape"
   ]
  },
  {
   "cell_type": "code",
   "execution_count": 87,
   "metadata": {},
   "outputs": [
    {
     "data": {
      "text/plain": [
       "array([[ True,  True,  True],\n",
       "       [ True,  True,  True],\n",
       "       [ True,  True,  True],\n",
       "       [ True,  True,  True],\n",
       "       [ True,  True,  True],\n",
       "       [ True,  True,  True],\n",
       "       [ True,  True,  True],\n",
       "       [ True,  True,  True],\n",
       "       [ True,  True,  True],\n",
       "       [ True,  True,  True],\n",
       "       [ True,  True,  True],\n",
       "       [ True,  True,  True],\n",
       "       [ True,  True,  True],\n",
       "       [ True,  True,  True],\n",
       "       [ True,  True,  True],\n",
       "       [ True,  True,  True],\n",
       "       [ True,  True,  True],\n",
       "       [ True,  True,  True],\n",
       "       [ True,  True,  True],\n",
       "       [ True,  True,  True],\n",
       "       [ True,  True,  True],\n",
       "       [ True,  True,  True],\n",
       "       [ True,  True,  True],\n",
       "       [ True,  True,  True],\n",
       "       [ True,  True,  True],\n",
       "       [ True,  True,  True],\n",
       "       [ True,  True,  True],\n",
       "       [ True,  True,  True],\n",
       "       [ True,  True,  True],\n",
       "       [ True,  True,  True],\n",
       "       [ True,  True,  True],\n",
       "       [ True,  True,  True],\n",
       "       [ True,  True,  True],\n",
       "       [ True,  True,  True],\n",
       "       [ True,  True,  True],\n",
       "       [ True,  True,  True],\n",
       "       [ True,  True,  True],\n",
       "       [ True,  True,  True],\n",
       "       [ True,  True,  True],\n",
       "       [ True,  True,  True],\n",
       "       [ True,  True,  True],\n",
       "       [ True,  True,  True],\n",
       "       [ True,  True,  True],\n",
       "       [ True,  True,  True],\n",
       "       [ True,  True,  True],\n",
       "       [ True,  True,  True],\n",
       "       [ True,  True,  True],\n",
       "       [ True,  True,  True],\n",
       "       [ True,  True,  True],\n",
       "       [ True,  True,  True],\n",
       "       [ True,  True,  True],\n",
       "       [ True,  True,  True],\n",
       "       [ True,  True,  True],\n",
       "       [ True,  True,  True],\n",
       "       [ True,  True,  True],\n",
       "       [ True,  True,  True],\n",
       "       [ True,  True,  True],\n",
       "       [ True,  True,  True],\n",
       "       [ True,  True,  True],\n",
       "       [ True,  True,  True],\n",
       "       [ True,  True,  True],\n",
       "       [ True,  True,  True],\n",
       "       [ True,  True,  True],\n",
       "       [ True,  True,  True],\n",
       "       [ True,  True,  True],\n",
       "       [ True,  True,  True],\n",
       "       [ True,  True,  True],\n",
       "       [ True,  True,  True],\n",
       "       [ True,  True,  True],\n",
       "       [ True,  True,  True],\n",
       "       [ True,  True,  True],\n",
       "       [ True,  True,  True],\n",
       "       [ True,  True,  True],\n",
       "       [ True,  True,  True],\n",
       "       [ True,  True,  True],\n",
       "       [ True,  True,  True],\n",
       "       [ True,  True,  True],\n",
       "       [ True,  True,  True],\n",
       "       [ True,  True,  True]])"
      ]
     },
     "execution_count": 87,
     "metadata": {},
     "output_type": "execute_result"
    }
   ],
   "source": [
    "events[epochs.selection] == epochs.events  # iow, epochs.events contains the kept epochs (post-rejection)"
   ]
  },
  {
   "cell_type": "markdown",
   "metadata": {},
   "source": [
    "### Wait a second, did we just loose half of our epochs due to EOG???\n",
    "\n",
    "We can probably do better. Let's use the PCA-based signal space projection (SSP) to regress out spatial patterns related to EOG and other offenders, ie., ECG.\n",
    "\n",
    "Here is the workflow, we'll first detect EOG artifacts and visualize their impact. Then we'll compute related spatial patterns to mitigate these artifacts."
   ]
  },
  {
   "cell_type": "code",
   "execution_count": 88,
   "metadata": {},
   "outputs": [
    {
     "data": {
      "text/plain": [
       "\u001b[1;31mSignature:\u001b[0m\n",
       "\u001b[0mmne\u001b[0m\u001b[1;33m.\u001b[0m\u001b[0mpreprocessing\u001b[0m\u001b[1;33m.\u001b[0m\u001b[0mcreate_eog_epochs\u001b[0m\u001b[1;33m(\u001b[0m\u001b[1;33m\n",
       "\u001b[0m    \u001b[0mraw\u001b[0m\u001b[1;33m,\u001b[0m\u001b[1;33m\n",
       "\u001b[0m    \u001b[0mch_name\u001b[0m\u001b[1;33m=\u001b[0m\u001b[1;32mNone\u001b[0m\u001b[1;33m,\u001b[0m\u001b[1;33m\n",
       "\u001b[0m    \u001b[0mevent_id\u001b[0m\u001b[1;33m=\u001b[0m\u001b[1;36m998\u001b[0m\u001b[1;33m,\u001b[0m\u001b[1;33m\n",
       "\u001b[0m    \u001b[0mpicks\u001b[0m\u001b[1;33m=\u001b[0m\u001b[1;32mNone\u001b[0m\u001b[1;33m,\u001b[0m\u001b[1;33m\n",
       "\u001b[0m    \u001b[0mtmin\u001b[0m\u001b[1;33m=\u001b[0m\u001b[1;33m-\u001b[0m\u001b[1;36m0.5\u001b[0m\u001b[1;33m,\u001b[0m\u001b[1;33m\n",
       "\u001b[0m    \u001b[0mtmax\u001b[0m\u001b[1;33m=\u001b[0m\u001b[1;36m0.5\u001b[0m\u001b[1;33m,\u001b[0m\u001b[1;33m\n",
       "\u001b[0m    \u001b[0ml_freq\u001b[0m\u001b[1;33m=\u001b[0m\u001b[1;36m1\u001b[0m\u001b[1;33m,\u001b[0m\u001b[1;33m\n",
       "\u001b[0m    \u001b[0mh_freq\u001b[0m\u001b[1;33m=\u001b[0m\u001b[1;36m10\u001b[0m\u001b[1;33m,\u001b[0m\u001b[1;33m\n",
       "\u001b[0m    \u001b[0mreject\u001b[0m\u001b[1;33m=\u001b[0m\u001b[1;32mNone\u001b[0m\u001b[1;33m,\u001b[0m\u001b[1;33m\n",
       "\u001b[0m    \u001b[0mflat\u001b[0m\u001b[1;33m=\u001b[0m\u001b[1;32mNone\u001b[0m\u001b[1;33m,\u001b[0m\u001b[1;33m\n",
       "\u001b[0m    \u001b[0mbaseline\u001b[0m\u001b[1;33m=\u001b[0m\u001b[1;32mNone\u001b[0m\u001b[1;33m,\u001b[0m\u001b[1;33m\n",
       "\u001b[0m    \u001b[0mpreload\u001b[0m\u001b[1;33m=\u001b[0m\u001b[1;32mTrue\u001b[0m\u001b[1;33m,\u001b[0m\u001b[1;33m\n",
       "\u001b[0m    \u001b[0mreject_by_annotation\u001b[0m\u001b[1;33m=\u001b[0m\u001b[1;32mTrue\u001b[0m\u001b[1;33m,\u001b[0m\u001b[1;33m\n",
       "\u001b[0m    \u001b[0mthresh\u001b[0m\u001b[1;33m=\u001b[0m\u001b[1;32mNone\u001b[0m\u001b[1;33m,\u001b[0m\u001b[1;33m\n",
       "\u001b[0m    \u001b[0mverbose\u001b[0m\u001b[1;33m=\u001b[0m\u001b[1;32mNone\u001b[0m\u001b[1;33m,\u001b[0m\u001b[1;33m\n",
       "\u001b[0m\u001b[1;33m)\u001b[0m\u001b[1;33m\u001b[0m\u001b[1;33m\u001b[0m\u001b[0m\n",
       "\u001b[1;31mDocstring:\u001b[0m\n",
       "Conveniently generate epochs around EOG artifact events.\n",
       "\n",
       "Parameters\n",
       "----------\n",
       "raw : instance of Raw\n",
       "    The raw data\n",
       "ch_name : str\n",
       "    The name of the channel to use for EOG peak detection.\n",
       "    The argument is mandatory if the dataset contains no EOG channels.\n",
       "event_id : int\n",
       "    The index to assign to found events\n",
       "picks : str | list | slice | None\n",
       "    Channels to include. Slices and lists of integers will be\n",
       "    interpreted as channel indices. In lists, channel *type* strings\n",
       "    (e.g., ``['meg', 'eeg']``) will pick channels of those\n",
       "    types, channel *name* strings (e.g., ``['MEG0111', 'MEG2623']``\n",
       "    will pick the given channels. Can also be the string values\n",
       "    \"all\" to pick all channels, or \"data\" to pick data channels.\n",
       "    None (default) will pick all channels.\n",
       "tmin : float\n",
       "    Start time before event.\n",
       "tmax : float\n",
       "    End time after event.\n",
       "l_freq : float\n",
       "    Low pass frequency to apply to the EOG channel while finding events.\n",
       "h_freq : float\n",
       "    High pass frequency to apply to the EOG channel while finding events.\n",
       "reject : dict | None\n",
       "    Rejection parameters based on peak-to-peak amplitude.\n",
       "    Valid keys are 'grad' | 'mag' | 'eeg' | 'eog' | 'ecg'.\n",
       "    If reject is None then no rejection is done. Example::\n",
       "\n",
       "        reject = dict(grad=4000e-13, # T / m (gradiometers)\n",
       "                      mag=4e-12, # T (magnetometers)\n",
       "                      eeg=40e-6, # V (EEG channels)\n",
       "                      eog=250e-6 # V (EOG channels)\n",
       "                      )\n",
       "\n",
       "flat : dict | None\n",
       "    Rejection parameters based on flatness of signal.\n",
       "    Valid keys are 'grad' | 'mag' | 'eeg' | 'eog' | 'ecg', and values\n",
       "    are floats that set the minimum acceptable peak-to-peak amplitude.\n",
       "    If flat is None then no rejection is done.\n",
       "baseline : tuple or list of length 2, or None\n",
       "    The time interval to apply rescaling / baseline correction.\n",
       "    If None do not apply it. If baseline is (a, b)\n",
       "    the interval is between \"a (s)\" and \"b (s)\".\n",
       "    If a is None the beginning of the data is used\n",
       "    and if b is None then b is set to the end of the interval.\n",
       "    If baseline is equal to (None, None) all the time\n",
       "    interval is used. If None, no correction is applied.\n",
       "preload : bool\n",
       "    Preload epochs or not.\n",
       "reject_by_annotation : bool\n",
       "    Whether to reject based on annotations. If True (default), segments\n",
       "    whose description begins with ``'bad'`` are not used for finding\n",
       "    artifacts and epochs overlapping with them are rejected. If False, no\n",
       "    rejection based on annotations is performed.\n",
       "\n",
       "    .. versionadded:: 0.14.0\n",
       "thresh : float\n",
       "    Threshold to trigger EOG event.\n",
       "\n",
       "verbose : bool, str, int, or None\n",
       "    If not None, override default verbose level (see :func:`mne.verbose`\n",
       "    and :ref:`Logging documentation <tut_logging>` for more).\n",
       "\n",
       "Returns\n",
       "-------\n",
       "eog_epochs : instance of Epochs\n",
       "    Data epoched around EOG events.\n",
       "\n",
       "See Also\n",
       "--------\n",
       "find_eog_events\n",
       "compute_proj_eog\n",
       "\n",
       "Notes\n",
       "-----\n",
       "Filtering is only applied to the EOG channel while finding events.\n",
       "The resulting ``eog_epochs`` will have no filtering applied (i.e., have\n",
       "the same filter properties as the input ``raw`` instance).\n",
       "\u001b[1;31mFile:\u001b[0m      c:\\users\\egora\\anaconda3\\envs\\mne\\lib\\site-packages\\mne\\preprocessing\\eog.py\n",
       "\u001b[1;31mType:\u001b[0m      function\n"
      ]
     },
     "metadata": {},
     "output_type": "display_data"
    }
   ],
   "source": [
    "mne.preprocessing.create_eog_epochs?"
   ]
  },
  {
   "cell_type": "code",
   "execution_count": 89,
   "metadata": {},
   "outputs": [
    {
     "data": {
      "text/plain": [
       "[<Figure size 800x420 with 7 Axes>,\n",
       " <Figure size 800x420 with 7 Axes>,\n",
       " <Figure size 800x420 with 7 Axes>]"
      ]
     },
     "execution_count": 89,
     "metadata": {},
     "output_type": "execute_result"
    }
   ],
   "source": [
    "#%matplotlib inline\n",
    "\n",
    "# We can use a convenience function\n",
    "eog_epochs = mne.preprocessing.create_eog_epochs(raw.copy().filter(1, None))\n",
    "eog_epochs.average().plot_joint()"
   ]
  },
  {
   "cell_type": "code",
   "execution_count": 90,
   "metadata": {},
   "outputs": [],
   "source": [
    "raw.plot(events=eog_epochs.events);"
   ]
  },
  {
   "cell_type": "markdown",
   "metadata": {},
   "source": [
    "Compare the y axes to the ERF/ERPs we just saw. We face important degrees of contamination!"
   ]
  },
  {
   "cell_type": "code",
   "execution_count": 91,
   "metadata": {},
   "outputs": [],
   "source": [
    "projs_eog, _ = mne.preprocessing.compute_proj_eog(\n",
    "    raw, n_mag=3, n_grad=3, n_eeg=3, average=True)"
   ]
  },
  {
   "cell_type": "code",
   "execution_count": 93,
   "metadata": {},
   "outputs": [
    {
     "data": {
      "text/plain": [
       "[<Projection  |  EOG-planar--0.200-0.200-PCA-01, active : False, n_channels : 204>,\n",
       " <Projection  |  EOG-planar--0.200-0.200-PCA-02, active : False, n_channels : 204>,\n",
       " <Projection  |  EOG-planar--0.200-0.200-PCA-03, active : False, n_channels : 204>,\n",
       " <Projection  |  EOG-axial--0.200-0.200-PCA-01, active : False, n_channels : 102>,\n",
       " <Projection  |  EOG-axial--0.200-0.200-PCA-02, active : False, n_channels : 102>,\n",
       " <Projection  |  EOG-axial--0.200-0.200-PCA-03, active : False, n_channels : 102>,\n",
       " <Projection  |  EOG-eeg--0.200-0.200-PCA-01, active : False, n_channels : 70>,\n",
       " <Projection  |  EOG-eeg--0.200-0.200-PCA-02, active : False, n_channels : 70>,\n",
       " <Projection  |  EOG-eeg--0.200-0.200-PCA-03, active : False, n_channels : 70>]"
      ]
     },
     "execution_count": 93,
     "metadata": {},
     "output_type": "execute_result"
    }
   ],
   "source": [
    "projs_eog"
   ]
  },
  {
   "cell_type": "code",
   "execution_count": 94,
   "metadata": {},
   "outputs": [],
   "source": [
    "#%matplotlib inline\n",
    "\n",
    "layouts = [mne.find_layout(raw.info, ch_type=ch) for ch in (\"eeg\", \"mag\", \"grad\")]\n",
    "mne.viz.plot_projs_topomap(projs_eog, layout=layouts);"
   ]
  },
  {
   "cell_type": "markdown",
   "metadata": {},
   "source": [
    "Now the important question is how many components one should keep? Pro-tip: some of them don't look like clear artifact patterns. The good news is that we don't need to decide __*right*__ now."
   ]
  },
  {
   "cell_type": "code",
   "execution_count": 95,
   "metadata": {},
   "outputs": [
    {
     "data": {
      "text/plain": [
       "[<Figure size 800x420 with 7 Axes>,\n",
       " <Figure size 800x420 with 7 Axes>,\n",
       " <Figure size 800x420 with 7 Axes>]"
      ]
     },
     "execution_count": 95,
     "metadata": {},
     "output_type": "execute_result"
    }
   ],
   "source": [
    "# same business, same issue for ECG\n",
    "ecg_epochs = mne.preprocessing.create_ecg_epochs(raw.copy().filter(1, None))\n",
    "ecg_epochs.average().plot_joint()"
   ]
  },
  {
   "cell_type": "markdown",
   "metadata": {},
   "source": [
    "We also face important insults from the cardiac signal... we'll project that out."
   ]
  },
  {
   "cell_type": "code",
   "execution_count": 96,
   "metadata": {},
   "outputs": [],
   "source": [
    "#%matplotlib inline\n",
    "\n",
    "projs_ecg, _ = mne.preprocessing.compute_proj_ecg(\n",
    "    raw, n_mag=3, n_grad=3, n_eeg=3, average=True)\n",
    "mne.viz.plot_projs_topomap(projs_ecg, layout=layouts);"
   ]
  },
  {
   "cell_type": "code",
   "execution_count": 132,
   "metadata": {},
   "outputs": [
    {
     "data": {
      "text/plain": [
       "<Epochs  |   146 events (good & bad), -0.5 - 2 sec, baseline [-0.2, 0], ~7.5 MB, data not loaded,\n",
       " 'face/famous/first': 25\n",
       " 'face/famous/immediate': 10\n",
       " 'face/famous/long': 14\n",
       " 'face/unfamiliar/first': 25\n",
       " 'face/unfamiliar/immediate': 12\n",
       " 'face/unfamiliar/long': 10\n",
       " 'scrambled/first': 25\n",
       " 'scrambled/immediate': 14\n",
       " 'scrambled/long': 11>"
      ]
     },
     "execution_count": 132,
     "metadata": {},
     "output_type": "execute_result"
    }
   ],
   "source": [
    "# now let's see how that would theoretically improve data preservation\n",
    "reject2 = dict(mag=reject['mag'], grad=reject['grad']) \n",
    "\n",
    "epochs_clean = mne.Epochs(raw, events, event_id, tmin, tmax, proj=False,\n",
    "                          picks=picks, baseline=baseline,\n",
    "                          preload=False,\n",
    "                          reject=reject2)\n",
    "\n",
    "epochs_clean.add_proj(projs_eog + projs_ecg)\n",
    "#epochs_clean.copy().apply_proj().average().plot(spatial_colors=True);  # apply projs on a copy"
   ]
  },
  {
   "cell_type": "code",
   "execution_count": 133,
   "metadata": {},
   "outputs": [],
   "source": [
    "#%matplotlib inline\n",
    "\n",
    "epochs_clean.copy().average().plot(spatial_colors=True);"
   ]
  },
  {
   "cell_type": "code",
   "execution_count": 134,
   "metadata": {},
   "outputs": [],
   "source": [
    "#%matplotlib qt\n",
    "\n",
    "epochs_clean.copy().average().plot(proj='interactive', spatial_colors=True);  # apply projs on a copy"
   ]
  },
  {
   "cell_type": "markdown",
   "metadata": {},
   "source": [
    "now we keep all trials, probably we also removed some good signals.\n",
    "we will postpone the selection of SSP vectors to later study the impact on\n",
    "source localization"
   ]
  },
  {
   "cell_type": "code",
   "execution_count": 161,
   "metadata": {},
   "outputs": [],
   "source": [
    "#%matplotlib inline\n",
    "\n",
    "epochs_clean.average().plot(proj=True, spatial_colors=True);"
   ]
  },
  {
   "cell_type": "markdown",
   "metadata": {},
   "source": [
    "<div class=\"alert alert-info\">\n",
    "    <b>REMARK</b>:\n",
    "     <ul>\n",
    "    <li>MNE keeps SSP projections inside the info and allows to apply them later.</li>\n",
    "    </ul>\n",
    "</div>"
   ]
  },
  {
   "cell_type": "code",
   "execution_count": 136,
   "metadata": {},
   "outputs": [],
   "source": [
    "# let's overwrite\n",
    "epochs = epochs_clean"
   ]
  },
  {
   "cell_type": "markdown",
   "metadata": {},
   "source": [
    "<div class=\"alert alert-success\">\n",
    "    <b>Exercise</b>:\n",
    "     <ul>\n",
    "    <li>Use ICA instead of SSP to remove artifacts</li>\n",
    "    <li>What are potential benefits or disadvantages?</li>\n",
    "    </ul>\n",
    "</div>"
   ]
  },
  {
   "cell_type": "markdown",
   "metadata": {},
   "source": [
    "### Visualization Epochs\n",
    "\n",
    "See [this page](https://mne.tools/stable/auto_tutorials/epochs/plot_visualize_epochs.html) for options on how to visualize epochs.\n",
    "\n",
    "Here is just an illustration to make a so-called ERP/ERF image:"
   ]
  },
  {
   "cell_type": "code",
   "execution_count": 137,
   "metadata": {},
   "outputs": [],
   "source": [
    "raw.plot_psd(fmax=40);"
   ]
  },
  {
   "cell_type": "code",
   "execution_count": 138,
   "metadata": {},
   "outputs": [],
   "source": [
    "epochs.plot_image(picks='EEG065', sigma=1.);"
   ]
  },
  {
   "cell_type": "code",
   "execution_count": 139,
   "metadata": {},
   "outputs": [],
   "source": [
    "import matplotlib.pyplot as plt\n",
    "plt.close('all')"
   ]
  },
  {
   "cell_type": "code",
   "execution_count": 142,
   "metadata": {},
   "outputs": [],
   "source": [
    "epochs.plot();"
   ]
  },
  {
   "cell_type": "code",
   "execution_count": 143,
   "metadata": {},
   "outputs": [
    {
     "name": "stdout",
     "output_type": "stream",
     "text": [
      "[[], ['USER'], [], [], [], [], [], [], [], [], [], [], [], [], [], [], [], [], [], [], [], [], [], [], [], [], [], [], [], [], [], [], [], [], [], [], [], [], [], [], [], [], [], [], [], [], [], [], [], [], [], [], [], [], [], [], [], [], [], [], [], [], [], [], [], [], [], [], [], [], [], [], [], [], [], [], [], [], [], [], [], [], [], [], [], [], [], [], [], [], [], [], [], [], [], [], [], [], [], [], [], [], [], [], [], [], [], [], [], [], [], [], [], [], [], [], [], [], [], [], [], [], [], [], [], [], [], ['MEG0121'], [], [], [], [], [], [], [], [], [], [], [], [], [], [], [], [], [], []]\n"
     ]
    }
   ],
   "source": [
    "print(epochs.drop_log)"
   ]
  },
  {
   "cell_type": "markdown",
   "metadata": {},
   "source": [
    "### The epochs object is your MNE swiss army knife for processing segmented data!\n",
    "\n",
    "- specialized methods for diagnostic plotting of data\n",
    "- averaging\n",
    "- saving\n",
    "- manipulating data, e.g., rearranging or deleting single trials, resampling"
   ]
  },
  {
   "cell_type": "markdown",
   "metadata": {},
   "source": [
    "<div class=\"alert alert-success\">\n",
    "    <b>Exercise</b>:\n",
    "     <ul>\n",
    "    <li>How could you get the epochs corresponding to face?</li>\n",
    "    <li>How could you get the epochs corresponding to a familiar face?</li>\n",
    "    <li>How could you get the epochs corresponding to a scrambled face?</li>\n",
    "    </ul>\n",
    "</div>"
   ]
  },
  {
   "cell_type": "code",
   "execution_count": 107,
   "metadata": {},
   "outputs": [
    {
     "data": {
      "text/plain": [
       "{'face/famous/first': 5,\n",
       " 'face/famous/immediate': 6,\n",
       " 'face/famous/long': 7,\n",
       " 'face/unfamiliar/first': 13,\n",
       " 'face/unfamiliar/immediate': 14,\n",
       " 'face/unfamiliar/long': 15,\n",
       " 'scrambled/first': 17,\n",
       " 'scrambled/immediate': 18,\n",
       " 'scrambled/long': 19}"
      ]
     },
     "execution_count": 107,
     "metadata": {},
     "output_type": "execute_result"
    }
   ],
   "source": [
    "epochs.event_id"
   ]
  },
  {
   "cell_type": "code",
   "execution_count": 108,
   "metadata": {},
   "outputs": [
    {
     "data": {
      "text/plain": [
       "<Epochs  |   96 events (all good), -0.5 - 2 sec, baseline [-0.2, 0], ~7.5 MB, data not loaded,\n",
       " 'face/unfamiliar/first': 25\n",
       " 'face/unfamiliar/immediate': 12\n",
       " 'face/unfamiliar/long': 10\n",
       " 'scrambled/first': 25\n",
       " 'scrambled/immediate': 14\n",
       " 'scrambled/long': 10>"
      ]
     },
     "execution_count": 108,
     "metadata": {},
     "output_type": "execute_result"
    }
   ],
   "source": [
    "epochs[['unfamiliar', 'scrambled']]"
   ]
  },
  {
   "cell_type": "markdown",
   "metadata": {},
   "source": [
    "## basic IO "
   ]
  },
  {
   "cell_type": "markdown",
   "metadata": {},
   "source": [
    "The standard scenario is saving the epochs into .fif file together with all the header data."
   ]
  },
  {
   "cell_type": "code",
   "execution_count": 145,
   "metadata": {},
   "outputs": [
    {
     "data": {
      "text/plain": [
       "'C:\\\\Users\\\\egora\\\\Downloads\\\\meeg\\\\ds000117-practical\\\\derivatives\\\\meg_derivatives\\\\sub-01\\\\ses-meg\\\\meg\\\\sub-01_ses-meg_task-facerecognition_run-01_proc-sss-epo.fif'"
      ]
     },
     "execution_count": 145,
     "metadata": {},
     "output_type": "execute_result"
    }
   ],
   "source": [
    "epochs_fname = raw_fname.replace('_meg.fif', '-epo.fif')\n",
    "epochs_fname"
   ]
  },
  {
   "cell_type": "code",
   "execution_count": 146,
   "metadata": {},
   "outputs": [
    {
     "name": "stdout",
     "output_type": "stream",
     "text": [
      "Overwriting existing file.\n",
      "Loading data for 1 events and 751 original time points ...\n",
      "Loading data for 144 events and 751 original time points ...\n"
     ]
    }
   ],
   "source": [
    "epochs.save(epochs_fname, overwrite=True)  # note that epochs are save in files ending with -epo.fif"
   ]
  },
  {
   "cell_type": "code",
   "execution_count": 148,
   "metadata": {},
   "outputs": [
    {
     "data": {
      "text/plain": [
       "(144, 378, 751)"
      ]
     },
     "execution_count": 148,
     "metadata": {},
     "output_type": "execute_result"
    }
   ],
   "source": [
    "data = epochs.get_data()\n",
    "data.shape # chn, epo, samples"
   ]
  },
  {
   "cell_type": "markdown",
   "metadata": {},
   "source": [
    "Scipy also supports reading and writing of matlab files. You can save your single trials with:"
   ]
  },
  {
   "cell_type": "code",
   "execution_count": 149,
   "metadata": {},
   "outputs": [
    {
     "name": "stdout",
     "output_type": "stream",
     "text": [
      "(144, 378, 751)\n"
     ]
    }
   ],
   "source": [
    "from scipy import io\n",
    "epochs_data = epochs.get_data()\n",
    "print(epochs_data.shape)\n",
    "io.savemat('epochs_data.mat', dict(epochs_data=epochs_data),\n",
    "           oned_as='row')"
   ]
  },
  {
   "cell_type": "markdown",
   "metadata": {},
   "source": [
    "## Average the epochs to get ERF/ERP and plot it!"
   ]
  },
  {
   "cell_type": "code",
   "execution_count": 181,
   "metadata": {},
   "outputs": [
    {
     "name": "stdout",
     "output_type": "stream",
     "text": [
      "<Evoked  |  '0.17 * face/famous/first + 0.07 * face/famous/immediate + 0.10 * face/famous/long + 0.17 * face/unfamiliar/first + 0.08 * face/unfamiliar/immediate + 0.07 * face/unfamiliar/long + 0.17 * scrambled/first + 0.10 * scrambled/immediate + 0.08 * scrambled/long' (average, N=144), [-0.5, 2] sec, 376 ch, ~9.7 MB>\n"
     ]
    }
   ],
   "source": [
    "evoked = epochs.average()\n",
    "print(evoked)"
   ]
  },
  {
   "cell_type": "code",
   "execution_count": 183,
   "metadata": {},
   "outputs": [],
   "source": [
    "times = [0.0, 0.1, 0.18]  ## this is before the exclusion of the first PCA component from all three sensor types (compare to after; see below)\n",
    "evoked.plot_topomap(ch_type='mag', times=times, proj=True);\n",
    "evoked.plot_topomap(ch_type='grad', times=times, proj=True);\n",
    "evoked.plot_topomap(ch_type='eeg', times=times, proj=True);"
   ]
  },
  {
   "cell_type": "code",
   "execution_count": 176,
   "metadata": {},
   "outputs": [
    {
     "data": {
      "text/plain": [
       "[<Projection  |  EOG-planar--0.200-0.200-PCA-01, active : False, n_channels : 204>,\n",
       " <Projection  |  EOG-axial--0.200-0.200-PCA-01, active : False, n_channels : 102>,\n",
       " <Projection  |  EOG-eeg--0.200-0.200-PCA-01, active : False, n_channels : 70>]"
      ]
     },
     "execution_count": 176,
     "metadata": {},
     "output_type": "execute_result"
    }
   ],
   "source": [
    "projs_eog[::3]"
   ]
  },
  {
   "cell_type": "code",
   "execution_count": 177,
   "metadata": {},
   "outputs": [
    {
     "data": {
      "text/plain": [
       "[<Projection  |  EOG-planar--0.200-0.200-PCA-01, active : False, n_channels : 204>,\n",
       " <Projection  |  EOG-planar--0.200-0.200-PCA-02, active : False, n_channels : 204>,\n",
       " <Projection  |  EOG-axial--0.200-0.200-PCA-01, active : False, n_channels : 102>,\n",
       " <Projection  |  EOG-axial--0.200-0.200-PCA-02, active : False, n_channels : 102>,\n",
       " <Projection  |  EOG-eeg--0.200-0.200-PCA-01, active : False, n_channels : 70>,\n",
       " <Projection  |  EOG-eeg--0.200-0.200-PCA-02, active : False, n_channels : 70>]"
      ]
     },
     "execution_count": 177,
     "metadata": {},
     "output_type": "execute_result"
    }
   ],
   "source": [
    "list(projs_eog[i] for i in [0, 1, 3, 4, 6, 7])  # allows a custom selection of PCA components for exclusion"
   ]
  },
  {
   "cell_type": "code",
   "execution_count": 192,
   "metadata": {},
   "outputs": [
    {
     "data": {
      "text/plain": [
       "<Evoked  |  '0.17 * face/famous/first + 0.07 * face/famous/immediate + 0.10 * face/famous/long + 0.17 * face/unfamiliar/first + 0.08 * face/unfamiliar/immediate + 0.07 * face/unfamiliar/long + 0.17 * scrambled/first + 0.10 * scrambled/immediate + 0.08 * scrambled/long' (average, N=144), [-0.5, 2] sec, 376 ch, ~9.6 MB>"
      ]
     },
     "execution_count": 192,
     "metadata": {},
     "output_type": "execute_result"
    }
   ],
   "source": [
    "# refresh evoked\n",
    "evoked = epochs.average()\n",
    "evoked.del_proj()  # delete previous proj\n",
    "# take first for each sensor type\n",
    "evoked.add_proj(projs_eog[::3] + projs_ecg[::3])  # selecting every third PCA component, starting with the first one\n",
    "evoked.apply_proj()  # apply"
   ]
  },
  {
   "cell_type": "code",
   "execution_count": null,
   "metadata": {},
   "outputs": [],
   "source": []
  },
  {
   "cell_type": "code",
   "execution_count": 193,
   "metadata": {},
   "outputs": [],
   "source": [
    "#plt.close('all')\n",
    "evoked.plot(proj=True);"
   ]
  },
  {
   "cell_type": "markdown",
   "metadata": {},
   "source": [
    "We can also show sensor position as line color:"
   ]
  },
  {
   "cell_type": "code",
   "execution_count": 194,
   "metadata": {},
   "outputs": [],
   "source": [
    "evoked.plot(spatial_colors=True, proj=True);  # note the legend"
   ]
  },
  {
   "cell_type": "code",
   "execution_count": 195,
   "metadata": {},
   "outputs": [],
   "source": [
    "times = [0.0, 0.1, 0.18]\n",
    "evoked.plot_topomap(ch_type='mag', times=times, proj=True);\n",
    "evoked.plot_topomap(ch_type='grad', times=times, proj=True);\n",
    "evoked.plot_topomap(ch_type='eeg', times=times, proj=True);"
   ]
  },
  {
   "cell_type": "code",
   "execution_count": 196,
   "metadata": {},
   "outputs": [],
   "source": [
    "import numpy as np\n",
    "# pure topography plots called topomap in the MNE jargon"
   ]
  },
  {
   "cell_type": "markdown",
   "metadata": {},
   "source": [
    "The following plots only react to commands related to the channel type imaged by the topomap -- tick-marking the other channel PCA components does nothing."
   ]
  },
  {
   "cell_type": "code",
   "execution_count": 188,
   "metadata": {},
   "outputs": [],
   "source": [
    "#for ch_type in ('mag', 'grad', 'eeg'):\n",
    "    #evoked.plot_topomap(times=np.linspace(0.05, 0.45, 8),\n",
    "                        #ch_type=ch_type, proj=True);"
   ]
  },
  {
   "cell_type": "code",
   "execution_count": 187,
   "metadata": {},
   "outputs": [],
   "source": [
    "evoked.plot_topomap(times=np.linspace(0.05, 0.45, 8),\n",
    "                        ch_type='mag', proj='interactive');  ## changed from 'True' to 'interactive'"
   ]
  },
  {
   "cell_type": "code",
   "execution_count": null,
   "metadata": {},
   "outputs": [],
   "source": [
    "evoked.plot_topomap(times=np.linspace(0.05, 0.45, 8),\n",
    "                        ch_type='grad', proj='interactive');"
   ]
  },
  {
   "cell_type": "code",
   "execution_count": null,
   "metadata": {},
   "outputs": [],
   "source": [
    "evoked.plot_topomap(times=np.linspace(0.05, 0.45, 8),\n",
    "                        ch_type='eeg', proj='interactive');"
   ]
  },
  {
   "cell_type": "markdown",
   "metadata": {},
   "source": [
    "<div class=\"alert alert-success\">\n",
    "    <b>Exercise</b>:\n",
    "     <ul>\n",
    "    <li>How does SSP impact the evoked responses? Use proj=\"interactive\" to explore</li>\n",
    "    </ul>\n",
    "</div>"
   ]
  },
  {
   "cell_type": "markdown",
   "metadata": {},
   "source": [
    "Topoplot and time series can also be shown in one single plot:"
   ]
  },
  {
   "cell_type": "code",
   "execution_count": 200,
   "metadata": {},
   "outputs": [],
   "source": [
    "evoked.plot_joint(times=[0.17]);"
   ]
  },
  {
   "cell_type": "markdown",
   "metadata": {},
   "source": [
    "## Accessing and indexing epochs by condition\n",
    "\n",
    "Epochs can be indexed by integers or slices to select a subset of epochs but also with strings to select by conditions `epochs[condition]`"
   ]
  },
  {
   "cell_type": "code",
   "execution_count": 201,
   "metadata": {},
   "outputs": [
    {
     "data": {
      "text/plain": [
       "<Epochs  |   1 events (all good), -0.5 - 2 sec, baseline [-0.2, 0], ~7.5 MB, data not loaded,\n",
       " 'face/unfamiliar/first': 1>"
      ]
     },
     "execution_count": 201,
     "metadata": {},
     "output_type": "execute_result"
    }
   ],
   "source": [
    "epochs[0]  # first epoch"
   ]
  },
  {
   "cell_type": "code",
   "execution_count": 202,
   "metadata": {},
   "outputs": [
    {
     "data": {
      "text/plain": [
       "<Epochs  |   10 events (all good), -0.5 - 2 sec, baseline [-0.2, 0], ~7.5 MB, data not loaded,\n",
       " 'face/famous/first': 3\n",
       " 'face/unfamiliar/first': 4\n",
       " 'face/unfamiliar/long': 2\n",
       " 'scrambled/first': 1>"
      ]
     },
     "execution_count": 202,
     "metadata": {},
     "output_type": "execute_result"
    }
   ],
   "source": [
    "epochs[:10]  # first 10 epochs"
   ]
  },
  {
   "cell_type": "code",
   "execution_count": 203,
   "metadata": {},
   "outputs": [
    {
     "data": {
      "text/plain": [
       "<Epochs  |   94 events (all good), -0.5 - 2 sec, baseline [-0.2, 0], ~7.5 MB, data not loaded,\n",
       " 'face/famous/first': 24\n",
       " 'face/famous/immediate': 10\n",
       " 'face/famous/long': 14\n",
       " 'face/unfamiliar/first': 25\n",
       " 'face/unfamiliar/immediate': 11\n",
       " 'face/unfamiliar/long': 10>"
      ]
     },
     "execution_count": 203,
     "metadata": {},
     "output_type": "execute_result"
    }
   ],
   "source": [
    "epochs['face']  # epochs for a face"
   ]
  },
  {
   "cell_type": "markdown",
   "metadata": {},
   "source": [
    "In event_id, \"/\" selects conditions in a hierarchical way, e.g. here, \"face\" vs. \"scrambled\", \"famous\" vs. \"unfamiliar\", and MNE can select them individually"
   ]
  },
  {
   "cell_type": "code",
   "execution_count": 204,
   "metadata": {},
   "outputs": [],
   "source": [
    "epochs['face'].average().\\\n",
    "    pick_types(meg='grad').crop(-0.1, 0.25).plot(spatial_colors=True);"
   ]
  },
  {
   "cell_type": "markdown",
   "metadata": {},
   "source": [
    "Apply this to visualize all the conditions in `event_id`"
   ]
  },
  {
   "cell_type": "code",
   "execution_count": 205,
   "metadata": {},
   "outputs": [],
   "source": [
    "plt.close('all')\n",
    "for condition in ['face', 'scrambled']:\n",
    "    epochs[condition].average().plot_topomap(times=[0.1, 0.15], title=condition);"
   ]
  },
  {
   "cell_type": "markdown",
   "metadata": {},
   "source": [
    "## Write evoked data to disk"
   ]
  },
  {
   "cell_type": "code",
   "execution_count": 206,
   "metadata": {},
   "outputs": [
    {
     "data": {
      "text/plain": [
       "'C:\\\\Users\\\\egora\\\\Downloads\\\\meeg\\\\ds000117-practical\\\\derivatives\\\\meg_derivatives\\\\sub-01\\\\ses-meg\\\\meg\\\\sub-01_ses-meg_task-facerecognition_run-01_proc-sss-ave.fif'"
      ]
     },
     "execution_count": 206,
     "metadata": {},
     "output_type": "execute_result"
    }
   ],
   "source": [
    "evoked_fname = raw_fname.replace('_meg.fif', '-ave.fif')\n",
    "evoked_fname"
   ]
  },
  {
   "cell_type": "code",
   "execution_count": 215,
   "metadata": {},
   "outputs": [],
   "source": [
    "evoked.save(evoked_fname)  # note that the file for evoked ends with -ave.fif"
   ]
  },
  {
   "cell_type": "markdown",
   "metadata": {},
   "source": [
    "or to write multiple conditions in 1 file"
   ]
  },
  {
   "cell_type": "code",
   "execution_count": 216,
   "metadata": {},
   "outputs": [
    {
     "data": {
      "text/plain": [
       "[<Evoked  |  '0.17 * face/famous/first + 0.07 * face/famous/immediate + 0.10 * face/famous/long + 0.17 * face/unfamiliar/first + 0.08 * face/unfamiliar/immediate + 0.07 * face/unfamiliar/long + 0.17 * scrambled/first + 0.10 * scrambled/immediate + 0.08 * scrambled/long' (average, N=144), [-0.5, 2] sec, 376 ch, ~9.5 MB>]"
      ]
     },
     "execution_count": 216,
     "metadata": {},
     "output_type": "execute_result"
    }
   ],
   "source": [
    "evokeds_list = mne.read_evokeds(evoked_fname, baseline=(None, 0), proj=True)\n",
    "evokeds_list"
   ]
  },
  {
   "cell_type": "markdown",
   "metadata": {},
   "source": [
    "A single list is written/read."
   ]
  },
  {
   "cell_type": "markdown",
   "metadata": {},
   "source": [
    "A separate list is created per condition (compare to the above):"
   ]
  },
  {
   "cell_type": "code",
   "execution_count": 217,
   "metadata": {},
   "outputs": [],
   "source": [
    "evokeds_list = [epochs[k].average() for k in event_id]  # get evokeds\n",
    "mne.write_evokeds(evoked_fname, evokeds_list)"
   ]
  },
  {
   "cell_type": "code",
   "execution_count": 218,
   "metadata": {},
   "outputs": [
    {
     "data": {
      "text/plain": [
       "[<Evoked  |  'face/famous/first' (average, N=24), [-0.5, 2] sec, 376 ch, ~9.7 MB>,\n",
       " <Evoked  |  'face/famous/immediate' (average, N=10), [-0.5, 2] sec, 376 ch, ~9.7 MB>,\n",
       " <Evoked  |  'face/famous/long' (average, N=14), [-0.5, 2] sec, 376 ch, ~9.7 MB>,\n",
       " <Evoked  |  'face/unfamiliar/first' (average, N=25), [-0.5, 2] sec, 376 ch, ~9.7 MB>,\n",
       " <Evoked  |  'face/unfamiliar/immediate' (average, N=11), [-0.5, 2] sec, 376 ch, ~9.7 MB>,\n",
       " <Evoked  |  'face/unfamiliar/long' (average, N=10), [-0.5, 2] sec, 376 ch, ~9.7 MB>,\n",
       " <Evoked  |  'scrambled/first' (average, N=25), [-0.5, 2] sec, 376 ch, ~9.7 MB>,\n",
       " <Evoked  |  'scrambled/immediate' (average, N=14), [-0.5, 2] sec, 376 ch, ~9.7 MB>,\n",
       " <Evoked  |  'scrambled/long' (average, N=11), [-0.5, 2] sec, 376 ch, ~9.7 MB>]"
      ]
     },
     "execution_count": 218,
     "metadata": {},
     "output_type": "execute_result"
    }
   ],
   "source": [
    "evokeds_list"
   ]
  },
  {
   "cell_type": "code",
   "execution_count": 219,
   "metadata": {},
   "outputs": [
    {
     "data": {
      "text/plain": [
       "[<Evoked  |  'face/famous/first' (average, N=24), [-0.5, 2] sec, 376 ch, ~9.7 MB>,\n",
       " <Evoked  |  'face/famous/immediate' (average, N=10), [-0.5, 2] sec, 376 ch, ~9.7 MB>,\n",
       " <Evoked  |  'face/famous/long' (average, N=14), [-0.5, 2] sec, 376 ch, ~9.7 MB>,\n",
       " <Evoked  |  'face/unfamiliar/first' (average, N=25), [-0.5, 2] sec, 376 ch, ~9.7 MB>,\n",
       " <Evoked  |  'face/unfamiliar/immediate' (average, N=11), [-0.5, 2] sec, 376 ch, ~9.7 MB>,\n",
       " <Evoked  |  'face/unfamiliar/long' (average, N=10), [-0.5, 2] sec, 376 ch, ~9.7 MB>,\n",
       " <Evoked  |  'scrambled/first' (average, N=25), [-0.5, 2] sec, 376 ch, ~9.7 MB>,\n",
       " <Evoked  |  'scrambled/immediate' (average, N=14), [-0.5, 2] sec, 376 ch, ~9.7 MB>,\n",
       " <Evoked  |  'scrambled/long' (average, N=11), [-0.5, 2] sec, 376 ch, ~9.7 MB>]"
      ]
     },
     "execution_count": 219,
     "metadata": {},
     "output_type": "execute_result"
    }
   ],
   "source": [
    "evokeds_list = mne.read_evokeds(evoked_fname, baseline=(None, 0), proj=True)\n",
    "evokeds_list"
   ]
  },
  {
   "cell_type": "markdown",
   "metadata": {},
   "source": [
    "### Reading evoked from disk\n",
    "\n",
    "It is also possible to read evoked data stored in a fif file (see above)."
   ]
  },
  {
   "cell_type": "markdown",
   "metadata": {},
   "source": [
    "Or give the explicit name of the averaged condition:"
   ]
  },
  {
   "cell_type": "code",
   "execution_count": 220,
   "metadata": {},
   "outputs": [],
   "source": [
    "evoked1 = mne.read_evokeds(evoked_fname, condition=\"face/famous/first\",\n",
    "                           baseline=(None, 0), proj=True)"
   ]
  },
  {
   "cell_type": "code",
   "execution_count": 221,
   "metadata": {},
   "outputs": [
    {
     "data": {
      "text/plain": [
       "<Evoked  |  'face/famous/first' (average, N=24), [-0.5, 2] sec, 376 ch, ~9.7 MB>"
      ]
     },
     "execution_count": 221,
     "metadata": {},
     "output_type": "execute_result"
    }
   ],
   "source": [
    "evoked1"
   ]
  },
  {
   "cell_type": "markdown",
   "metadata": {},
   "source": [
    "**Remark:** Did you notice that you can apply some preprocessing on reading the evokeds from disk?"
   ]
  },
  {
   "cell_type": "markdown",
   "metadata": {},
   "source": [
    "### Compute a contrast:"
   ]
  },
  {
   "cell_type": "code",
   "execution_count": 222,
   "metadata": {},
   "outputs": [],
   "source": [
    "evoked_face = epochs['face'].average()\n",
    "evoked_scrambled = epochs['scrambled'].average()"
   ]
  },
  {
   "cell_type": "code",
   "execution_count": 223,
   "metadata": {},
   "outputs": [],
   "source": [
    "contrast = mne.combine_evoked([evoked_face, evoked_scrambled], [0.5, -0.5])"
   ]
  },
  {
   "cell_type": "markdown",
   "metadata": {},
   "source": [
    "Note that this combines evokeds taking into account the number of averaged epochs (to scale the noise variance)"
   ]
  },
  {
   "cell_type": "code",
   "execution_count": 224,
   "metadata": {},
   "outputs": [
    {
     "name": "stdout",
     "output_type": "stream",
     "text": [
      "24\n",
      "130.55555555555557\n"
     ]
    }
   ],
   "source": [
    "print(evoked1.nave)  # average of 12 epochs\n",
    "print(contrast.nave)  # average of 116 epochs"
   ]
  },
  {
   "cell_type": "code",
   "execution_count": 225,
   "metadata": {},
   "outputs": [
    {
     "name": "stdout",
     "output_type": "stream",
     "text": [
      "<Evoked  |  '0.500 * 0.26 * face/famous/first + 0.11 * face/famous/immediate + 0.15 * face/famous/long + 0.27 * face/unfamiliar/first + 0.12 * face/unfamiliar/immediate + 0.11 * face/unfamiliar/long + -0.500 * 0.50 * scrambled/first + 0.28 * scrambled/immediate + 0.22 * scrambled/long' (average, N=130.55555555555557), [-0.5, 2] sec, 376 ch, ~9.7 MB>\n"
     ]
    }
   ],
   "source": [
    "print(contrast)"
   ]
  },
  {
   "cell_type": "code",
   "execution_count": 226,
   "metadata": {},
   "outputs": [],
   "source": [
    "fig = contrast.copy().pick('grad').crop(-0.1, 0.3).plot_joint()"
   ]
  },
  {
   "cell_type": "code",
   "execution_count": 227,
   "metadata": {},
   "outputs": [],
   "source": [
    "fig = contrast.copy().pick('mag').crop(-0.1, 0.3).plot_joint()"
   ]
  },
  {
   "cell_type": "code",
   "execution_count": 228,
   "metadata": {},
   "outputs": [],
   "source": [
    "fig = contrast.copy().pick('eeg').crop(-0.1, 0.3).plot_joint()"
   ]
  },
  {
   "cell_type": "code",
   "execution_count": 229,
   "metadata": {},
   "outputs": [
    {
     "data": {
      "text/plain": [
       "<Evoked  |  '0.26 * face/famous/first + 0.11 * face/famous/immediate + 0.15 * face/famous/long + 0.27 * face/unfamiliar/first + 0.12 * face/unfamiliar/immediate + 0.11 * face/unfamiliar/long' (average, N=94), [-0.5, 2] sec, 376 ch, ~9.7 MB>"
      ]
     },
     "execution_count": 229,
     "metadata": {},
     "output_type": "execute_result"
    }
   ],
   "source": [
    "evoked_face"
   ]
  },
  {
   "cell_type": "code",
   "execution_count": 230,
   "metadata": {},
   "outputs": [
    {
     "data": {
      "text/plain": [
       "<Evoked  |  '0.50 * scrambled/first + 0.28 * scrambled/immediate + 0.22 * scrambled/long' (average, N=50), [-0.5, 2] sec, 376 ch, ~9.7 MB>"
      ]
     },
     "execution_count": 230,
     "metadata": {},
     "output_type": "execute_result"
    }
   ],
   "source": [
    "evoked_scrambled"
   ]
  },
  {
   "cell_type": "markdown",
   "metadata": {},
   "source": [
    "### Save your figure as pdf"
   ]
  },
  {
   "cell_type": "code",
   "execution_count": 232,
   "metadata": {},
   "outputs": [],
   "source": [
    "%matplotlib qt\n",
    "import numpy as np\n",
    "contrast.plot_topomap(times=np.linspace(0.05, 0.15, 5), ch_type='mag')\n",
    "plt.savefig('toto.pdf')\n",
    "#!open toto.pdf  # works only on a mac"
   ]
  },
  {
   "cell_type": "markdown",
   "metadata": {},
   "source": [
    "<div class=\"alert alert-success\">\n",
    "    <b>EXERCISE</b>:\n",
    "     <ul>\n",
    "      <li>Compute the evoked data for 'famous', 'unfamiliar', 'scrambled' faces</li>\n",
    "      <li>Crop the data between -0.2s and 0.4s</li>     \n",
    "      <li>Plot the channel EEG065 in all 3 conditions using mne.viz.plot_compare_evokeds function</li>\n",
    "    </ul>\n",
    "</div>\n",
    "\n",
    "See: https://mne.tools/stable/generated/mne.viz.plot_compare_evokeds.html"
   ]
  },
  {
   "cell_type": "code",
   "execution_count": 233,
   "metadata": {},
   "outputs": [],
   "source": [
    "evoked_famous = epochs['famous'].average().crop(-0.1, 0.4)\n",
    "evoked_scrambled = epochs['scrambled'].average().crop(-0.1, 0.4)\n",
    "evoked_unfamiliar = epochs['unfamiliar'].average().crop(-0.1, 0.4)"
   ]
  },
  {
   "cell_type": "code",
   "execution_count": 235,
   "metadata": {},
   "outputs": [],
   "source": [
    "plt.close('all')\n",
    "mne.viz.plot_evoked_topo([evoked_famous, evoked_scrambled, evoked_unfamiliar]);"
   ]
  },
  {
   "cell_type": "code",
   "execution_count": 237,
   "metadata": {},
   "outputs": [],
   "source": [
    "evokeds = {k:epochs[k].average().crop(-0.1, 0.4)\n",
    "           for k in ['famous', 'unfamiliar', 'scrambled']}"
   ]
  },
  {
   "cell_type": "code",
   "execution_count": 238,
   "metadata": {},
   "outputs": [],
   "source": [
    "plt.close('all')\n",
    "mne.viz.plot_compare_evokeds(evokeds, picks='EEG065');"
   ]
  },
  {
   "cell_type": "markdown",
   "metadata": {},
   "source": [
    "## ADVANCED: Customize your plots\n",
    "\n",
    "Want to have every text in blue?"
   ]
  },
  {
   "cell_type": "code",
   "execution_count": null,
   "metadata": {},
   "outputs": [],
   "source": [
    "import matplotlib as mpl\n",
    "fig = evoked1.plot(show=False)  # butterfly plots\n",
    "fig.subplots_adjust(hspace=1.0)\n",
    "for text in fig.findobj(mpl.text.Text):\n",
    "    text.set_fontsize(18)\n",
    "    text.set_color('blue')\n",
    "for ax in fig.get_axes():\n",
    "    ax.axvline(0., color='red', linestyle='--')\n",
    "plt.tight_layout()\n",
    "fig.savefig('plot_erf.pdf');"
   ]
  },
  {
   "cell_type": "code",
   "execution_count": null,
   "metadata": {},
   "outputs": [],
   "source": []
  }
 ],
 "metadata": {
  "kernelspec": {
   "display_name": "Python 3",
   "language": "python",
   "name": "python3"
  },
  "language_info": {
   "codemirror_mode": {
    "name": "ipython",
    "version": 3
   },
   "file_extension": ".py",
   "mimetype": "text/x-python",
   "name": "python",
   "nbconvert_exporter": "python",
   "pygments_lexer": "ipython3",
   "version": "3.7.5"
  },
  "widgets": {
   "state": {},
   "version": "1.1.2"
  }
 },
 "nbformat": 4,
 "nbformat_minor": 4
}
