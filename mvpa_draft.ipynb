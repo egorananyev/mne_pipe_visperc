{
 "cells": [
  {
   "cell_type": "markdown",
   "metadata": {},
   "source": [
    "<font size=\"+12\"><center>\n",
    "    MVPA analysis: SVM\n",
    "</font></center>\n",
    "\n",
    "Author:\n",
    "Egor Ananyev"
   ]
  },
  {
   "cell_type": "markdown",
   "metadata": {
    "toc-hr-collapsed": true
   },
   "source": [
    "# Preparation"
   ]
  },
  {
   "cell_type": "markdown",
   "metadata": {},
   "source": [
    "## Loading packages"
   ]
  },
  {
   "cell_type": "code",
   "execution_count": 2,
   "metadata": {},
   "outputs": [],
   "source": [
    "%matplotlib qt\n",
    "import numpy as np\n",
    "import matplotlib.pyplot as plt\n",
    "import mne\n",
    "import pandas as pd\n",
    "import os"
   ]
  },
  {
   "cell_type": "code",
   "execution_count": 3,
   "metadata": {},
   "outputs": [],
   "source": [
    "mne.set_log_level('warning')  # less verbose output"
   ]
  },
  {
   "cell_type": "markdown",
   "metadata": {},
   "source": [
    "## Setting parameters"
   ]
  },
  {
   "cell_type": "code",
   "execution_count": 4,
   "metadata": {},
   "outputs": [],
   "source": [
    "interactive = False  # Whether to render interactive figures such as channel plots\n",
    "# ...should be set to True on first pass\n",
    "\n",
    "debug = False\n",
    "\n",
    "cur_subj = 1\n",
    "numof_runs = 7"
   ]
  },
  {
   "cell_type": "markdown",
   "metadata": {},
   "source": [
    "## Loading evoked data"
   ]
  },
  {
   "cell_type": "code",
   "execution_count": 5,
   "metadata": {},
   "outputs": [
    {
     "name": "stdout",
     "output_type": "stream",
     "text": [
      "E:\\meg\\derivatives\\meg_derivatives\\sub-01\\ses-meg\\meg\\sub-01_ses-meg_experimental_run-01_proc-sss_epo.fif\n",
      "E:\\meg\\derivatives\\meg_derivatives\\sub-01\\ses-meg\\meg\\sub-01_ses-meg_experimental_run-02_proc-sss_epo.fif\n",
      "E:\\meg\\derivatives\\meg_derivatives\\sub-01\\ses-meg\\meg\\sub-01_ses-meg_experimental_run-03_proc-sss_epo.fif\n",
      "E:\\meg\\derivatives\\meg_derivatives\\sub-01\\ses-meg\\meg\\sub-01_ses-meg_experimental_run-04_proc-sss_epo.fif\n",
      "E:\\meg\\derivatives\\meg_derivatives\\sub-01\\ses-meg\\meg\\sub-01_ses-meg_experimental_run-05_proc-sss_epo.fif\n",
      "E:\\meg\\derivatives\\meg_derivatives\\sub-01\\ses-meg\\meg\\sub-01_ses-meg_experimental_run-06_proc-sss_epo.fif\n",
      "E:\\meg\\derivatives\\meg_derivatives\\sub-01\\ses-meg\\meg\\sub-01_ses-meg_experimental_run-07_proc-sss_epo.fif\n"
     ]
    }
   ],
   "source": [
    "# data_path = os.path.expanduser(\"C:\\\\Users\\\\egora\\\\Downloads\\\\meg\\\\\")\n",
    "data_path = os.path.expanduser('E:\\\\meg\\\\')\n",
    "\n",
    "cur_subj_str = str(cur_subj).zfill(2)\n",
    "\n",
    "epochs_list = []\n",
    "\n",
    "for cur_run in range(numof_runs):\n",
    "    cur_run_str = str(cur_run+1).zfill(2)\n",
    "    fname = os.path.join(data_path,\n",
    "                             'derivatives\\\\meg_derivatives\\\\sub-' + cur_subj_str + '\\\\ses-meg\\\\meg\\\\sub-' + \\\n",
    "                             cur_subj_str + '_ses-meg_experimental_run-' + cur_run_str + '_proc-sss_epo.fif')\n",
    "    print(fname)\n",
    "    epochs_run = mne.read_epochs(fname)\n",
    "    # example append: https://www.programcreek.com/python/example/92634/mne.Epochs\n",
    "    epochs_list.append(epochs_run)"
   ]
  },
  {
   "cell_type": "code",
   "execution_count": 6,
   "metadata": {},
   "outputs": [
    {
     "name": "stdout",
     "output_type": "stream",
     "text": [
      "<Transform  |  MEG device->head>\n",
      "[[ 0.99762779 -0.05008168 -0.04722238  0.00244267]\n",
      " [ 0.04592873  0.99529868 -0.08526584 -0.02767636]\n",
      " [ 0.05127066  0.08289474  0.99523813  0.04869793]\n",
      " [ 0.          0.          0.          1.        ]]\n",
      "<Transform  |  MEG device->head>\n",
      "[[ 0.99810284 -0.04287035 -0.0441924   0.0025069 ]\n",
      " [ 0.04004742  0.99721628 -0.06289711 -0.02748199]\n",
      " [ 0.0467658   0.06100798  0.99704117  0.05019899]\n",
      " [ 0.          0.          0.          1.        ]]\n",
      "<Transform  |  MEG device->head>\n",
      "[[ 0.99834144 -0.03760644 -0.04358925  0.00234504]\n",
      " [ 0.03564318  0.99835205 -0.04497451 -0.02764969]\n",
      " [ 0.04520874  0.04334626  0.99803674  0.05217394]\n",
      " [ 0.          0.          0.          1.        ]]\n",
      "<Transform  |  MEG device->head>\n",
      "[[ 0.99837339 -0.03827842 -0.04224655  0.00280504]\n",
      " [ 0.03683717  0.99872935 -0.03438213 -0.02761227]\n",
      " [ 0.04350897  0.03276998  0.99851513  0.05331092]\n",
      " [ 0.          0.          0.          1.        ]]\n",
      "<Transform  |  MEG device->head>\n",
      "[[ 0.99817234 -0.0388386  -0.04629396  0.00263781]\n",
      " [ 0.03757726  0.99890643 -0.02781229 -0.02745434]\n",
      " [ 0.04732353  0.02602187  0.99854046  0.0538833 ]\n",
      " [ 0.          0.          0.          1.        ]]\n",
      "<Transform  |  MEG device->head>\n",
      "[[ 0.99820471 -0.0393086  -0.04519101  0.002793  ]\n",
      " [ 0.0381976   0.99895275 -0.02519105 -0.02741794]\n",
      " [ 0.0461339   0.02341964  0.9986608   0.05414942]\n",
      " [ 0.          0.          0.          1.        ]]\n",
      "<Transform  |  MEG device->head>\n",
      "[[ 0.99855602 -0.03288364 -0.0424805   0.00265998]\n",
      " [ 0.03193986  0.99923182 -0.02270794 -0.02764696]\n",
      " [ 0.04319458  0.02131832  0.99883926  0.05456957]\n",
      " [ 0.          0.          0.          1.        ]]\n"
     ]
    }
   ],
   "source": [
    "for i in range(len(epochs_list)):\n",
    "    print(epochs_list[i].info['dev_head_t'])"
   ]
  },
  {
   "cell_type": "code",
   "execution_count": 18,
   "metadata": {},
   "outputs": [
    {
     "data": {
      "text/plain": [
       "<Info | 28 non-empty fields\n",
       "    acq_pars : str | 25272 items\n",
       "    bads : list | 0 items\n",
       "    ch_names : list | EOG001, EOG002, MEG0111, MEG0112, MEG0113, MEG0121, ...\n",
       "    chs : list | 308 items (EOG: 2, MAG: 102, GRAD: 204)\n",
       "    comps : list | 0 items\n",
       "    custom_ref_applied : bool | False\n",
       "    description : str | 34 items\n",
       "    dev_head_t : Transform | 3 items\n",
       "    dig : Digitization | 149 items (3 Cardinal, 4 HPI, 142 Extra)\n",
       "    events : list | 2 items\n",
       "    experimenter : str | 17 items\n",
       "    file_id : dict | 4 items\n",
       "    gantry_angle : float | 68.0\n",
       "    highpass : float | 0.10000000149011612 Hz\n",
       "    hpi_meas : list | 1 items\n",
       "    hpi_results : list | 1 items\n",
       "    hpi_subsystem : dict | 2 items\n",
       "    line_freq : float | 50.0\n",
       "    lowpass : float | 80.0 Hz\n",
       "    meas_date : tuple | 2020-02-05 07:22:14 GMT\n",
       "    meas_id : dict | 4 items\n",
       "    nchan : int | 308\n",
       "    proc_history : list | 2 items\n",
       "    proj_id : ndarray | 1 items\n",
       "    proj_name : str | 24 items\n",
       "    projs : list | 0 items\n",
       "    sfreq : float | 300.0 Hz\n",
       "    subject_info : dict | 8 items\n",
       "    acq_stim : NoneType\n",
       "    ctf_head_t : NoneType\n",
       "    dev_ctf_t : NoneType\n",
       "    device_info : NoneType\n",
       "    helium_info : NoneType\n",
       "    kit_system_id : NoneType\n",
       "    utc_offset : NoneType\n",
       "    xplotter_layout : NoneType\n",
       ">"
      ]
     },
     "execution_count": 18,
     "metadata": {},
     "output_type": "execute_result"
    }
   ],
   "source": [
    "epochs_list[0].info"
   ]
  },
  {
   "cell_type": "code",
   "execution_count": 13,
   "metadata": {},
   "outputs": [
    {
     "ename": "ValueError",
     "evalue": "epochs[0]['info']['dev_head_t'] must match. The epochs probably come from different runs, and are therefore associated with different head positions. Manually change info['dev_head_t'] to avoid this message but beware that this means the MEG sensors will not be properly spatially aligned. See mne.preprocessing.maxwell_filter to realign the runs to a common head position.",
     "output_type": "error",
     "traceback": [
      "\u001b[1;31m---------------------------------------------------------------------------\u001b[0m",
      "\u001b[1;31mValueError\u001b[0m                                Traceback (most recent call last)",
      "\u001b[1;32m<ipython-input-13-bc9713556303>\u001b[0m in \u001b[0;36m<module>\u001b[1;34m\u001b[0m\n\u001b[1;32m----> 1\u001b[1;33m \u001b[0mepochs\u001b[0m \u001b[1;33m=\u001b[0m \u001b[0mmne\u001b[0m\u001b[1;33m.\u001b[0m\u001b[0mepochs\u001b[0m\u001b[1;33m.\u001b[0m\u001b[0mconcatenate_epochs\u001b[0m\u001b[1;33m(\u001b[0m\u001b[0mepochs_list\u001b[0m\u001b[1;33m)\u001b[0m\u001b[1;33m\u001b[0m\u001b[1;33m\u001b[0m\u001b[0m\n\u001b[0m",
      "\u001b[1;32m~\\Anaconda3\\envs\\mne\\lib\\site-packages\\mne\\epochs.py\u001b[0m in \u001b[0;36mconcatenate_epochs\u001b[1;34m(epochs_list, add_offset)\u001b[0m\n\u001b[0;32m   2876\u001b[0m     \u001b[1;33m.\u001b[0m\u001b[1;33m.\u001b[0m \u001b[0mversionadded\u001b[0m\u001b[1;33m:\u001b[0m\u001b[1;33m:\u001b[0m \u001b[1;36m0.9\u001b[0m\u001b[1;36m.0\u001b[0m\u001b[1;33m\u001b[0m\u001b[1;33m\u001b[0m\u001b[0m\n\u001b[0;32m   2877\u001b[0m     \"\"\"\n\u001b[1;32m-> 2878\u001b[1;33m     return _finish_concat(*_concatenate_epochs(epochs_list,\n\u001b[0m\u001b[0;32m   2879\u001b[0m                                                add_offset=add_offset))\n\u001b[0;32m   2880\u001b[0m \u001b[1;33m\u001b[0m\u001b[0m\n",
      "\u001b[1;32m~\\Anaconda3\\envs\\mne\\lib\\site-packages\\mne\\epochs.py\u001b[0m in \u001b[0;36m_concatenate_epochs\u001b[1;34m(epochs_list, with_data, add_offset)\u001b[0m\n\u001b[0;32m   2788\u001b[0m                      int((10 + tmax) * epochs.info['sfreq']))\n\u001b[0;32m   2789\u001b[0m     \u001b[1;32mfor\u001b[0m \u001b[0mii\u001b[0m\u001b[1;33m,\u001b[0m \u001b[0mepochs\u001b[0m \u001b[1;32min\u001b[0m \u001b[0menumerate\u001b[0m\u001b[1;33m(\u001b[0m\u001b[0mepochs_list\u001b[0m\u001b[1;33m[\u001b[0m\u001b[1;36m1\u001b[0m\u001b[1;33m:\u001b[0m\u001b[1;33m]\u001b[0m\u001b[1;33m)\u001b[0m\u001b[1;33m:\u001b[0m\u001b[1;33m\u001b[0m\u001b[1;33m\u001b[0m\u001b[0m\n\u001b[1;32m-> 2790\u001b[1;33m         \u001b[0m_compare_epochs_infos\u001b[0m\u001b[1;33m(\u001b[0m\u001b[0mepochs\u001b[0m\u001b[1;33m.\u001b[0m\u001b[0minfo\u001b[0m\u001b[1;33m,\u001b[0m \u001b[0minfo\u001b[0m\u001b[1;33m,\u001b[0m \u001b[0mii\u001b[0m\u001b[1;33m)\u001b[0m\u001b[1;33m\u001b[0m\u001b[1;33m\u001b[0m\u001b[0m\n\u001b[0m\u001b[0;32m   2791\u001b[0m         \u001b[1;32mif\u001b[0m \u001b[1;32mnot\u001b[0m \u001b[0mnp\u001b[0m\u001b[1;33m.\u001b[0m\u001b[0mallclose\u001b[0m\u001b[1;33m(\u001b[0m\u001b[0mepochs\u001b[0m\u001b[1;33m.\u001b[0m\u001b[0mtimes\u001b[0m\u001b[1;33m,\u001b[0m \u001b[0mepochs_list\u001b[0m\u001b[1;33m[\u001b[0m\u001b[1;36m0\u001b[0m\u001b[1;33m]\u001b[0m\u001b[1;33m.\u001b[0m\u001b[0mtimes\u001b[0m\u001b[1;33m)\u001b[0m\u001b[1;33m:\u001b[0m\u001b[1;33m\u001b[0m\u001b[1;33m\u001b[0m\u001b[0m\n\u001b[0;32m   2792\u001b[0m             \u001b[1;32mraise\u001b[0m \u001b[0mValueError\u001b[0m\u001b[1;33m(\u001b[0m\u001b[1;34m'Epochs must have same times'\u001b[0m\u001b[1;33m)\u001b[0m\u001b[1;33m\u001b[0m\u001b[1;33m\u001b[0m\u001b[0m\n",
      "\u001b[1;32m~\\Anaconda3\\envs\\mne\\lib\\site-packages\\mne\\epochs.py\u001b[0m in \u001b[0;36m_compare_epochs_infos\u001b[1;34m(info1, info2, ind)\u001b[0m\n\u001b[0;32m   2755\u001b[0m              np.allclose(info1['dev_head_t']['trans'],\n\u001b[0;32m   2756\u001b[0m                          info2['dev_head_t']['trans'], rtol=1e-6)):\n\u001b[1;32m-> 2757\u001b[1;33m         raise ValueError('epochs[%d][\\'info\\'][\\'dev_head_t\\'] must match. '\n\u001b[0m\u001b[0;32m   2758\u001b[0m                          \u001b[1;34m'The epochs probably come from different runs, and '\u001b[0m\u001b[1;33m\u001b[0m\u001b[1;33m\u001b[0m\u001b[0m\n\u001b[0;32m   2759\u001b[0m                          \u001b[1;34m'are therefore associated with different head '\u001b[0m\u001b[1;33m\u001b[0m\u001b[1;33m\u001b[0m\u001b[0m\n",
      "\u001b[1;31mValueError\u001b[0m: epochs[0]['info']['dev_head_t'] must match. The epochs probably come from different runs, and are therefore associated with different head positions. Manually change info['dev_head_t'] to avoid this message but beware that this means the MEG sensors will not be properly spatially aligned. See mne.preprocessing.maxwell_filter to realign the runs to a common head position."
     ]
    }
   ],
   "source": [
    "# epochs = mne.epochs.concatenate_epochs(epochs_list)  # this won't work until the epochs have the same head position coordinates"
   ]
  },
  {
   "cell_type": "markdown",
   "metadata": {},
   "source": [
    "The path to store MVPA-related data and visualization."
   ]
  },
  {
   "cell_type": "code",
   "execution_count": 19,
   "metadata": {},
   "outputs": [],
   "source": [
    "mvpa_path = os.path.join(data_path, 'derivatives\\\\meg_derivatives\\\\sub-' + cur_subj_str + '\\\\ses-meg\\\\meg-mvpa\\\\')\n",
    "mvpa_fname = os.path.join(mvpa_path, 'sub-' + cur_subj_str + '_run-' + cur_run_str)"
   ]
  },
  {
   "cell_type": "markdown",
   "metadata": {},
   "source": [
    "## Examining raw data"
   ]
  },
  {
   "cell_type": "code",
   "execution_count": 20,
   "metadata": {},
   "outputs": [],
   "source": [
    "%matplotlib qt\n",
    "if interactive:\n",
    "    raw.plot()"
   ]
  },
  {
   "cell_type": "code",
   "execution_count": 24,
   "metadata": {},
   "outputs": [
    {
     "data": {
      "image/png": "[encoded data removed]",
      "text/plain": [
       "<Figure size 432x288 with 1 Axes>"
      ]
     },
     "metadata": {
      "needs_background": "light"
     },
     "output_type": "display_data"
    }
   ],
   "source": [
    "%matplotlib inline\n",
    "epochs_list[0].plot_drop_log();"
   ]
  },
  {
   "cell_type": "markdown",
   "metadata": {},
   "source": [
    "# Support Vector Machines"
   ]
  },
  {
   "cell_type": "code",
   "execution_count": 25,
   "metadata": {},
   "outputs": [],
   "source": [
    "from sklearn import svm"
   ]
  },
  {
   "cell_type": "markdown",
   "metadata": {},
   "source": [
    "## Logic of SVM-based classification"
   ]
  },
  {
   "cell_type": "code",
   "execution_count": 26,
   "metadata": {},
   "outputs": [
    {
     "data": {
      "text/plain": [
       "array([1])"
      ]
     },
     "execution_count": 26,
     "metadata": {},
     "output_type": "execute_result"
    }
   ],
   "source": [
    "## In principle (from https://scikit-learn.org/stable/modules/svm.html):\n",
    "X = [[0, 0], [1, 1], [2, 2]]  # channel measurements [n_features] on all but one trial [n_samples] at time t\n",
    "y = [0, 1, 1]                 # stimulus orientation with length [n_samples]\n",
    "clf = svm.LinearSVC()         # linear Support Vector Classification\n",
    "clf.fit(X, y)                 # model fitting\n",
    "clf.predict([[3, 3]])         # model testing on the remaining trial at time t"
   ]
  },
  {
   "cell_type": "code",
   "execution_count": 27,
   "metadata": {},
   "outputs": [
    {
     "data": {
      "text/plain": [
       "(3, 2)"
      ]
     },
     "execution_count": 27,
     "metadata": {},
     "output_type": "execute_result"
    }
   ],
   "source": [
    "np.shape(X)  # array of size [n_samples, n_features]"
   ]
  },
  {
   "cell_type": "markdown",
   "metadata": {},
   "source": [
    "## Assuming independent _t_"
   ]
  },
  {
   "cell_type": "markdown",
   "metadata": {},
   "source": [
    "## Setting up routine for time _t_"
   ]
  },
  {
   "cell_type": "code",
   "execution_count": 29,
   "metadata": {},
   "outputs": [
    {
     "data": {
      "text/plain": [
       "<EpochsFIF  |   134 events (all good), -0.3 - 0.6 sec, baseline [-0.2, 0], ~90.8 MB, data loaded,\n",
       " 'left/dur1/cont017': 5\n",
       " 'left/dur1/cont033': 5\n",
       " 'left/dur1/cont050': 2\n",
       " 'left/dur1/cont100': 6\n",
       " 'left/dur2/cont017': 3\n",
       " 'left/dur2/cont033': 2\n",
       " 'left/dur2/cont050': 4\n",
       " 'left/dur2/cont100': 5\n",
       " 'left/dur3/cont017': 4\n",
       " 'left/dur3/cont033': 4\n",
       " 'left/dur3/cont050': 5\n",
       " 'left/dur3/cont100': 4\n",
       " 'left/dur4/cont017': 4\n",
       " 'left/dur4/cont033': 5\n",
       " 'left/dur4/cont050': 5\n",
       " 'left/dur4/cont100': 3\n",
       " 'right/dur1/cont017': 4\n",
       " 'right/dur1/cont033': 4\n",
       " 'right/dur1/cont050': 3\n",
       " 'right/dur1/cont100': 5\n",
       " 'right/dur2/cont017': 5\n",
       " 'right/dur2/cont033': 5\n",
       " 'right/dur2/cont050': 4\n",
       " 'right/dur2/cont100': 4\n",
       " 'right/dur3/cont017': 3\n",
       " 'right/dur3/cont033': 6\n",
       " 'right/dur3/cont050': 6\n",
       " 'right/dur3/cont100': 5\n",
       " 'right/dur4/cont017': 3\n",
       " 'right/dur4/cont033': 3\n",
       " 'right/dur4/cont050': 6\n",
       " 'right/dur4/cont100': 2>"
      ]
     },
     "execution_count": 29,
     "metadata": {},
     "output_type": "execute_result"
    }
   ],
   "source": [
    "epochs = epochs_list[0]  # TEMP\n",
    "epochs"
   ]
  },
  {
   "cell_type": "code",
   "execution_count": 192,
   "metadata": {},
   "outputs": [],
   "source": [
    "all_durs = [1, 2, 3, 4]\n",
    "all_conts = [17, 33, 50, 100]"
   ]
  },
  {
   "cell_type": "code",
   "execution_count": 195,
   "metadata": {},
   "outputs": [
    {
     "name": "stdout",
     "output_type": "stream",
     "text": [
      "dur1/cont017\n",
      "<EpochsFIF  |   9 events (all good), -0.3 - 0.6 sec, baseline [-0.2, 0], ~11.2 MB, data loaded,\n",
      " 'left/dur1/cont017': 5\n",
      " 'right/dur1/cont017': 4>\n"
     ]
    }
   ],
   "source": [
    "cur_cond_str = 'dur' + str(all_durs[0]) + '/' + 'cont' + str(all_conts[0]).zfill(3)\n",
    "print(cur_cond_str)\n",
    "epochs_subset = epochs[cur_cond_str]\n",
    "print(epochs_subset)"
   ]
  },
  {
   "cell_type": "code",
   "execution_count": 39,
   "metadata": {},
   "outputs": [
    {
     "data": {
      "text/plain": [
       "<EpochsFIF  |   11 events (all good), -0.3 - 0.6 sec, baseline [-0.2, 0], ~12.5 MB, data loaded,\n",
       " 'left/dur1/cont100': 6\n",
       " 'right/dur1/cont100': 5>"
      ]
     },
     "execution_count": 39,
     "metadata": {},
     "output_type": "execute_result"
    }
   ],
   "source": [
    "epochs_subset.pick_types(meg=True)"
   ]
  },
  {
   "cell_type": "code",
   "execution_count": 80,
   "metadata": {},
   "outputs": [
    {
     "name": "stdout",
     "output_type": "stream",
     "text": [
      "11\n"
     ]
    }
   ],
   "source": [
    "numof_epochs = len(epochs_subset)\n",
    "print(numof_epochs)"
   ]
  },
  {
   "cell_type": "code",
   "execution_count": 187,
   "metadata": {},
   "outputs": [
    {
     "name": "stdout",
     "output_type": "stream",
     "text": [
      "channel                           MEG0111    MEG0112    MEG0113     MEG0121\n",
      "condition          epoch time                                              \n",
      "right/dur1/cont100 0     -300  201.295778  50.719486 -21.640064   80.596221\n",
      "                         -297  141.378977  67.954471 -24.376182   60.121343\n",
      "                         -293  193.228826  73.471652   1.081352   62.122191\n",
      "                         -290  268.493123  71.581542 -17.437494  124.938844\n",
      "                         -287  338.802847  62.683617 -78.063713  257.800539\n"
     ]
    }
   ],
   "source": [
    "epochs_df = epochs_subset.to_data_frame()\n",
    "print(epochs_df.iloc[:,0:4].head());"
   ]
  },
  {
   "cell_type": "code",
   "execution_count": 188,
   "metadata": {},
   "outputs": [],
   "source": [
    "# epochs_df.reset_index(inplace=True);"
   ]
  },
  {
   "cell_type": "code",
   "execution_count": 189,
   "metadata": {},
   "outputs": [],
   "source": [
    "# epochs_df.reset_index(inplace=True)\n",
    "# df_info = epochs_df.loc[:, ('condition', 'epoch', 'time')]\n",
    "# df_info['stim_ori'] = 'right'\n",
    "# df_info.loc[df_info['condition'].str.contains('left'), 'stim_ori'] = 'left'\n",
    "# df_info['dur_frames'] = 1\n",
    "# df_info.loc[df_info['condition'].str.contains('dur2'), 'dur_frames'] = 2\n",
    "# df_info.loc[df_info['condition'].str.contains('dur3'), 'dur_frames'] = 3\n",
    "# df_info.loc[df_info['condition'].str.contains('dur4'), 'dur_frames'] = 4\n",
    "# df_info['cont'] = 1\n",
    "# df_info.loc[df_info['condition'].str.contains('cont017'), 'cont'] = .17\n",
    "# df_info.loc[df_info['condition'].str.contains('cont033'), 'cont'] = .33\n",
    "# df_info.loc[df_info['condition'].str.contains('cont050'), 'cont'] = .50"
   ]
  },
  {
   "cell_type": "code",
   "execution_count": 190,
   "metadata": {},
   "outputs": [],
   "source": [
    "# df_info.head()"
   ]
  },
  {
   "cell_type": "code",
   "execution_count": 191,
   "metadata": {},
   "outputs": [],
   "source": [
    "# df_info.tail()"
   ]
  },
  {
   "cell_type": "code",
   "execution_count": 59,
   "metadata": {},
   "outputs": [
    {
     "name": "stdout",
     "output_type": "stream",
     "text": [
      "['MEG0111' 'MEG0112' 'MEG0113' 'MEG0121' 'MEG0122' 'MEG0123' 'MEG0131'\n",
      " 'MEG0132' 'MEG0133' 'MEG0141' 'MEG0142' 'MEG0143' 'MEG0211' 'MEG0212'\n",
      " 'MEG0213' 'MEG0221' 'MEG0222' 'MEG0223' 'MEG0231' 'MEG0232' 'MEG0233']\n"
     ]
    }
   ],
   "source": [
    "print(epochs_df.columns.values[0:21])"
   ]
  },
  {
   "cell_type": "code",
   "execution_count": 118,
   "metadata": {},
   "outputs": [],
   "source": [
    "t = 100"
   ]
  },
  {
   "cell_type": "code",
   "execution_count": 119,
   "metadata": {},
   "outputs": [
    {
     "name": "stdout",
     "output_type": "stream",
     "text": [
      "[[  36.13831441   58.3120612    22.47588984 ...  -50.40907533\n",
      "   -43.6406868   -24.33343703]\n",
      " [  27.83398239  -55.85968167  -45.89182437 ...    1.92184782\n",
      "   -16.79187122  -41.24115485]\n",
      " [-282.58234335   80.5276084    51.54396065 ... -157.51119482\n",
      "     8.31654497  -24.7770052 ]\n",
      " [-319.16347449  -16.3122307    58.11697513 ... -241.85410438\n",
      "    22.74297479    5.5450833 ]\n",
      " [  59.53197322  143.11320492    3.46058972 ... -119.55543861\n",
      "    95.00892231  -65.54501875]]\n",
      "(5, 306)\n"
     ]
    }
   ],
   "source": [
    "X_right = epochs_df.loc[('right/dur1/cont100', slice(None), t), :].values\n",
    "print(X_right)\n",
    "print(np.shape(X_right))"
   ]
  },
  {
   "cell_type": "code",
   "execution_count": 120,
   "metadata": {},
   "outputs": [
    {
     "name": "stdout",
     "output_type": "stream",
     "text": [
      "[[-162.93342469  123.66760284   91.50989747 ...  -45.4647743\n",
      "    15.65298343  -10.27779564]\n",
      " [ 355.9375887   -38.17670591   51.43670372 ...  -97.79519557\n",
      "    27.5736111    -3.4157169 ]\n",
      " [ 135.12884303   41.94296762  -44.91928053 ...   67.85846369\n",
      "   114.434574    -52.49250081]\n",
      " [-142.40856598   39.41720673  135.82746359 ... -277.37629044\n",
      "     0.93165612  -20.1188201 ]\n",
      " [ 246.18057004  -56.46818395  -72.82657311 ... -124.86732719\n",
      "   -43.67751876   33.95147267]\n",
      " [-495.68728018   66.94981713  -60.18928836 ... -146.76822769\n",
      "    41.1417766     4.30323949]]\n",
      "(6, 306)\n"
     ]
    }
   ],
   "source": [
    "X_left = epochs_df.loc[('left/dur1/cont100', slice(None), t), :].values\n",
    "print(X_left)\n",
    "print(np.shape(X_left))"
   ]
  },
  {
   "cell_type": "code",
   "execution_count": 101,
   "metadata": {},
   "outputs": [
    {
     "data": {
      "text/plain": [
       "(11, 306)"
      ]
     },
     "execution_count": 101,
     "metadata": {},
     "output_type": "execute_result"
    }
   ],
   "source": [
    "X = np.concatenate((X_right, X_left))\n",
    "np.shape(X)"
   ]
  },
  {
   "cell_type": "code",
   "execution_count": 107,
   "metadata": {},
   "outputs": [
    {
     "name": "stdout",
     "output_type": "stream",
     "text": [
      "[1 1 1 1 1 0 0 0 0 0 0]\n"
     ]
    }
   ],
   "source": [
    "y = np.concatenate((np.repeat(1, len(X_right)), np.repeat(0, len(X_left))))\n",
    "print(y)"
   ]
  },
  {
   "cell_type": "code",
   "execution_count": 126,
   "metadata": {},
   "outputs": [
    {
     "data": {
      "text/plain": [
       "array([1])"
      ]
     },
     "execution_count": 126,
     "metadata": {},
     "output_type": "execute_result"
    }
   ],
   "source": [
    "clf = svm.LinearSVC()         # linear Support Vector Classification\n",
    "clf.fit(X, y)                 # model fitting\n",
    "clf.predict([X[4, :]])        # model testing on the remaining trial at time t"
   ]
  },
  {
   "cell_type": "code",
   "execution_count": 128,
   "metadata": {},
   "outputs": [
    {
     "data": {
      "text/plain": [
       "array([ True, False,  True,  True,  True,  True,  True,  True,  True,\n",
       "        True,  True])"
      ]
     },
     "execution_count": 128,
     "metadata": {},
     "output_type": "execute_result"
    }
   ],
   "source": [
    "cur_test_epoch = 1 \n",
    "np.arange(numof_epochs)!=cur_test_epoch"
   ]
  },
  {
   "cell_type": "code",
   "execution_count": 156,
   "metadata": {},
   "outputs": [
    {
     "name": "stdout",
     "output_type": "stream",
     "text": [
      "0.5454545454545454\n"
     ]
    }
   ],
   "source": [
    "preds = []\n",
    "for cur_test_epoch in range(numof_epochs):\n",
    "    test_epoch = [X[cur_test_epoch, :]]\n",
    "    test_class = y[cur_test_epoch]\n",
    "    train_epochs = X[np.arange(numof_epochs)!=cur_test_epoch, :]\n",
    "    train_classes = y[np.arange(numof_epochs)!=cur_test_epoch]\n",
    "    clf = svm.LinearSVC()         # linear Support Vector Classification\n",
    "    clf.fit(train_epochs, train_classes)                 # model fitting\n",
    "    prediction = clf.predict(test_epoch).item(0)        # model testing on the remaining trial at time t\n",
    "    preds.append(prediction)\n",
    "#     print('prediction = ' + str(prediction))\n",
    "#     print('actual value = ' + str(test_class))\n",
    "acc = sum(y == np.array(preds)) / numof_epochs\n",
    "print(acc)"
   ]
  },
  {
   "cell_type": "code",
   "execution_count": 151,
   "metadata": {},
   "outputs": [
    {
     "data": {
      "text/plain": [
       "[1, 1, 1, 0, 1, 1, 1, 1, 0, 1, 0]"
      ]
     },
     "execution_count": 151,
     "metadata": {},
     "output_type": "execute_result"
    }
   ],
   "source": [
    "preds"
   ]
  },
  {
   "cell_type": "code",
   "execution_count": null,
   "metadata": {},
   "outputs": [],
   "source": [
    "np"
   ]
  },
  {
   "cell_type": "markdown",
   "metadata": {},
   "source": [
    "## Applying the routine to all _t_"
   ]
  },
  {
   "cell_type": "code",
   "execution_count": null,
   "metadata": {},
   "outputs": [],
   "source": []
  },
  {
   "cell_type": "markdown",
   "metadata": {},
   "source": [
    "# P.S."
   ]
  },
  {
   "cell_type": "code",
   "execution_count": 62,
   "metadata": {},
   "outputs": [
    {
     "name": "stdout",
     "output_type": "stream",
     "text": [
      "Using matplotlib backend: Qt5Agg\n"
     ]
    }
   ],
   "source": [
    "%matplotlib\n",
    "%matplotlib qt"
   ]
  },
  {
   "cell_type": "code",
   "execution_count": 63,
   "metadata": {},
   "outputs": [],
   "source": [
    "interactive = True"
   ]
  },
  {
   "cell_type": "code",
   "execution_count": null,
   "metadata": {},
   "outputs": [],
   "source": []
  }
 ],
 "metadata": {
  "kernelspec": {
   "display_name": "Python 3",
   "language": "python",
   "name": "python3"
  },
  "language_info": {
   "codemirror_mode": {
    "name": "ipython",
    "version": 3
   },
   "file_extension": ".py",
   "mimetype": "text/x-python",
   "name": "python",
   "nbconvert_exporter": "python",
   "pygments_lexer": "ipython3",
   "version": "3.8.1"
  },
  "toc-autonumbering": true,
  "widgets": {
   "state": {},
   "version": "1.1.2"
  }
 },
 "nbformat": 4,
 "nbformat_minor": 4
}
